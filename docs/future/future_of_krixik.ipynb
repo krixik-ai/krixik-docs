{
 "cells": [
  {
   "cell_type": "markdown",
   "metadata": {},
   "source": [
    "## The Future of Krixik\n",
    "[🇨🇴 Spanish version of this document](https://krixik-docs.readthedocs.io/es-main/futuro/el_futuro_de_krixik/)\n",
    "\n",
    "Thanks for being with us at the beginning. We believe that Krixik is already a rich, fulfilling, and complete product. We also know that where we're going tomorrow is going to eclipse where we are today.\n",
    "\n",
    "Where does the road lead for Krixik? To greater and greater variety in parameters, models, modules, and pipeline structures. To AI companies and teams being able to instantly productionize their raw models through Krixik modules. To non-linear pipelines. To popular commercially available APIs in Krixik modules. To Krixik being the _de facto_ way for companies to consume open-source models after they've fine-tuned them on their own data—and, naturally, the _de facto_ way for developers to prototype in AI. To bespoke parameterization on cost vs. speed for every module while remaining the most cost effective alternative on the market.\n",
    "\n",
    "All of the above in a toolbox. A toolbox for everyone. A toolbox that you can pull modules out of and then connect them to each other as easily as if they were toy train tracks. A click here, another click there, and your pipeline is ready to go.\n",
    "\n",
    "You can build anything you want with Krixik today. What will you dream up to build with Krixik tomorrow?"
   ]
  }
 ],
 "metadata": {
  "language_info": {
   "name": "python"
  }
 },
 "nbformat": 4,
 "nbformat_minor": 2
}
