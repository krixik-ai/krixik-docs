{
 "cells": [
  {
   "cell_type": "markdown",
   "metadata": {},
   "source": [
    "## El Futuro de Krixik\n",
    "\n",
    "Gracias por acompañarnos desde hoy, desde el principio. Creemos que Krixik ya es un producto rico, gratificante y completo. También sabemos que a donde vamos mañana va a eclipsar donde estamos hoy.\n",
    "\n",
    "¿A qué lleva el camino de Krixik? A una variedad cada vez mayor de parámetros, modelos, módulos, y estructuras de *pipeline*. A empresas y equipos de IA pudiendo instantáneamente poner sus modelos \"crudos\" en producción a través de módulos de Krixik. A *pipelines* no-lineales. A APIs comercialmente disponibles y populares en módulos Krixik. A Krixik ser la opción _de facto_ con la que las empresas consumen modelos de código abierto tras hacerles *fine-tuning* con sus propios datos. A parametrización personalizada en costo vs velocidad para todo módulo sin dejar de ser la alternativa más costo-efectiva en el mercado.\n",
    "\n",
    "Todo lo arriba mencionado en una caja de herramientas. Una caja de herramientas para todos. Una caja de herramientas de la que puedes sacar módulos y conectarlos el uno al otro tan fácilmente como si fueran carrileras de juguete. Un clic aquí, otro allí, y tu *pipeline* está listo.\n",
    "\n",
    "Hoy con Krixik puedes ensamblar casi todo lo que quieras. ¿Qué extraordinaria idea te soñarás mañana para construir con Krixik?"
   ]
  }
 ],
 "metadata": {
  "language_info": {
   "name": "python"
  }
 },
 "nbformat": 4,
 "nbformat_minor": 2
}
