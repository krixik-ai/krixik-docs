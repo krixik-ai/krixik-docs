{
 "cells": [
  {
   "cell_type": "markdown",
   "metadata": {},
   "source": [
    "<a href=\"https://colab.research.google.com/github/krixik-ai/krixik-docs/blob/main/docs/system/convenience_methods/convenience_methods.ipynb\" target=\"_parent\"><img src=\"https://colab.research.google.com/assets/colab-badge.svg\" alt=\"Open In Colab\"/></a>"
   ]
  },
  {
   "cell_type": "code",
   "execution_count": 1,
   "metadata": {
    "tags": [
     "remove_cell",
     "remove_output"
    ]
   },
   "outputs": [
    {
     "name": "stdout",
     "output_type": "stream",
     "text": [
      "SUCCESS: You are now authenticated.\n"
     ]
    }
   ],
   "source": [
    "import os\n",
    "import sys\n",
    "import json\n",
    "import importlib\n",
    "from pathlib import Path\n",
    "\n",
    "# demo setup - including secrets instantiation, requirements installation, and path setting\n",
    "if os.getenv(\"COLAB_RELEASE_TAG\"):\n",
    "    # if running this notebook in Google Colab - make sure to enter your secrets\n",
    "    MY_API_KEY = \"YOUR_API_KEY_HERE\"\n",
    "    MY_API_URL = \"YOUR_API_URL_HERE\"\n",
    "\n",
    "    # if running this notebook on Google Colab - install requirements and pull required subdirectories\n",
    "    # install Krixik python client\n",
    "    !pip install krixik\n",
    "\n",
    "    # install github clone - allows for easy cloning of subdirectories from docs repo: https://github.com/krixik-ai/krixik-docs\n",
    "    !pip install github-clone\n",
    "\n",
    "    # clone datasets\n",
    "    if not Path(\"data\").is_dir():\n",
    "        !ghclone https://github.com/krixik-ai/krixik-docs/tree/main/data\n",
    "    else:\n",
    "        print(\"docs datasets already cloned!\")\n",
    "\n",
    "    # define data dir\n",
    "    data_dir = \"./data/\"\n",
    "\n",
    "    # create output dir\n",
    "    from pathlib import Path\n",
    "\n",
    "    Path(data_dir + \"/output\").mkdir(parents=True, exist_ok=True)\n",
    "\n",
    "    # pull utilities\n",
    "    if not Path(\"utilities\").is_dir():\n",
    "        !ghclone https://github.com/krixik-ai/krixik-docs/tree/main/utilities\n",
    "    else:\n",
    "        print(\"docs utilities already cloned!\")\n",
    "else:\n",
    "    # if running local pull of docs - set paths relative to local docs structure\n",
    "    # import utilities\n",
    "    sys.path.append(\"../../../\")\n",
    "\n",
    "    # define data_dir\n",
    "    data_dir = \"../../../data/\"\n",
    "\n",
    "    # if running this notebook locally from Krixik docs repo - load secrets from a .env placed at the base of the docs repo\n",
    "    from dotenv import load_dotenv\n",
    "\n",
    "    load_dotenv(\"../../../.env\")\n",
    "\n",
    "    MY_API_KEY = os.getenv(\"MY_API_KEY\")\n",
    "    MY_API_URL = os.getenv(\"MY_API_URL\")\n",
    "\n",
    "\n",
    "# load in reset\n",
    "reset = importlib.import_module(\"utilities.reset\")\n",
    "reset_pipeline = reset.reset_pipeline\n",
    "\n",
    "\n",
    "# import Krixik and initialize it with your personal secrets\n",
    "from krixik import krixik\n",
    "\n",
    "krixik.init(api_key=MY_API_KEY, api_url=MY_API_URL)"
   ]
  },
  {
   "cell_type": "markdown",
   "metadata": {},
   "source": [
    "## Convenience Methods (and More!)\n",
    "[🇨🇴 Versión en español de este documento](https://krixik-docs.readthedocs.io/es-main/sistema/metodos_de_conveniencia/metodos_de_conveniencia/)\n",
    "\n",
    "This document introduces several useful properties of the main Krixik object and of Krixik pipelines that range from useful (advanced) metadata to convenience functions designed to facilitate input testing. All of these properties can be leveraged *without* necessarily having [initialized a session](../initialization/initialize_and_authenticate.md).\n",
    "\n",
    "The document is broken down as follows:\n",
    "\n",
    "- [View All Available Modules with the `available_modules` Property](#view-all-available-modules-with-the-available_modules-property)\n",
    "- [Examine Configuration of a Module with the `module_details` Method](#examine-configuration-of-a-module-with-the-module_details-method)\n",
    "- [View Pipeline Module Chain with the `module_chain` Property](#view-pipeline-module-chain-with-the-module_chain-property)\n",
    "- [Test Pipeline Input with the `test_input` Method](#test-pipeline-input-with-the-test_input-method)\n",
    "- [View Module Input and Output Examples](#view-module-input-and-output-examples)\n",
    "- [View Module Click Data with the `view_module_click_data` Method](#view-module-click-data-with-the-view_module_click_data-method)"
   ]
  },
  {
   "cell_type": "markdown",
   "metadata": {},
   "source": [
    "### View All Available Modules with the `available_modules` Property"
   ]
  },
  {
   "cell_type": "markdown",
   "metadata": {},
   "source": [
    "To view all available modules use the `available_modules` property.  This can be done locally and without [first initializing](../initialization/initialize_and_authenticate.md), as follows:"
   ]
  },
  {
   "cell_type": "code",
   "execution_count": 2,
   "metadata": {},
   "outputs": [
    {
     "data": {
      "text/plain": [
       "['caption',\n",
       " 'json-to-txt',\n",
       " 'keyword-db',\n",
       " 'ocr',\n",
       " 'parser',\n",
       " 'sentiment',\n",
       " 'summarize',\n",
       " 'text-embedder',\n",
       " 'transcribe',\n",
       " 'translate',\n",
       " 'vector-db']"
      ]
     },
     "execution_count": 2,
     "metadata": {},
     "output_type": "execute_result"
    }
   ],
   "source": [
    "# see all currently available modules\n",
    "krixik.available_modules"
   ]
  },
  {
   "cell_type": "markdown",
   "metadata": {},
   "source": [
    "The above is a list of the exact module names you would use when setting up a [new pipeline's](../pipeline_creation/create_pipeline.md) `module_chain`."
   ]
  },
  {
   "cell_type": "markdown",
   "metadata": {},
   "source": [
    "### Examine Configuration of a Module with the `module_details` Method"
   ]
  },
  {
   "cell_type": "markdown",
   "metadata": {},
   "source": [
    "Any module's [configuration](../pipeline_creation/pipeline_config.md) can be viewed by using the Krixik `module_details` method. Among other things, it lists all of the module's available models and indicates which of those is active by default. When viable, it also displays input and output examples. Using this method can be done locally and without [first initializing](../initialization/initialize_and_authenticate.md), as follows:"
   ]
  },
  {
   "cell_type": "code",
   "execution_count": 3,
   "metadata": {},
   "outputs": [
    {
     "data": {
      "text/plain": [
       "{'module_config': {'module': {'name': 'transcribe',\n",
       "   'models': [{'name': 'whisper-tiny'},\n",
       "    {'name': 'whisper-base'},\n",
       "    {'name': 'whisper-small'},\n",
       "    {'name': 'whisper-medium'},\n",
       "    {'name': 'whisper-large-v3'}],\n",
       "   'input': {'type': 'audio'},\n",
       "   'output': {'type': 'json'},\n",
       "   'defaults': {'model': 'whisper-tiny'}}},\n",
       " 'input_data_example': None,\n",
       " 'output_data_example': {'transcript': 'This is the full transcript.',\n",
       "  'segments': [{'id': 1,\n",
       "    'seek': 0,\n",
       "    'start': 0.0,\n",
       "    'end': 10.0,\n",
       "    'text': 'This is the',\n",
       "    'tokens': [20, 34],\n",
       "    'temperature': 0.0,\n",
       "    'avg_logprob': 0.0,\n",
       "    'compression_ratio': 0.0,\n",
       "    'no_speech_prob': 0.0,\n",
       "    'confidence': 0.0,\n",
       "    'words': [{'text': 'This', 'start': 0.0, 'end': 1.0, 'confidence': 0.5},\n",
       "     {'text': 'is the', 'start': 1.0, 'end': 2.0, 'confidence': 0.6}]},\n",
       "   {'id': 2,\n",
       "    'seek': 10,\n",
       "    'start': 10.0,\n",
       "    'end': 20.0,\n",
       "    'text': 'main text',\n",
       "    'tokens': [44, 101],\n",
       "    'temperature': 0.0,\n",
       "    'avg_logprob': 0.0,\n",
       "    'compression_ratio': 0.0,\n",
       "    'no_speech_prob': 0.0,\n",
       "    'confidence': 0.0,\n",
       "    'words': [{'text': 'main', 'start': 10.0, 'end': 11.0, 'confidence': 0.7},\n",
       "     {'text': 'text', 'start': 11.0, 'end': 12.0, 'confidence': 0.8}]}],\n",
       "  'language': 'English'}}"
      ]
     },
     "execution_count": 3,
     "metadata": {},
     "output_type": "execute_result"
    }
   ],
   "source": [
    "# view the configuration of a Krixik module - in this example, transcribe\n",
    "krixik.module_details(module_name=\"transcribe\")"
   ]
  },
  {
   "cell_type": "markdown",
   "metadata": {},
   "source": [
    "### View Pipeline Module Chain with the `module_chain` Property"
   ]
  },
  {
   "cell_type": "markdown",
   "metadata": {},
   "source": [
    "Sometimes you want to quickly view a pipeline's `module_chain` without having to resort to examining a [config](../pipeline_creation/pipeline_config.md) file. This is where the `module_chain` property comes in handy.\n",
    "\n",
    "Suppose we create a [multi-module pipeline](../../examples/pipeline_examples_overview.md) like the one below (discussed in further detail in examples like [this one](../../examples/search_pipeline_examples/multi_semantically_searchable_translation.md)):"
   ]
  },
  {
   "cell_type": "code",
   "execution_count": 4,
   "metadata": {},
   "outputs": [],
   "source": [
    "# create a multi-module pipeline\n",
    "pipeline = krixik.create_pipeline(\n",
    "    name=\"system-transcribe-semantic-multilingual-docs\",\n",
    "    module_chain=[\"transcribe\", \"translate\", \"json-to-txt\", \"parser\", \"text-embedder\", \"vector-db\"],\n",
    ")"
   ]
  },
  {
   "cell_type": "markdown",
   "metadata": {},
   "source": [
    "To view the module chain of this (or any pipeline), use the `module_chain` property. This can be done locally and without [first initializing](../initialization/initialize_and_authenticate.md), as follows:"
   ]
  },
  {
   "cell_type": "code",
   "execution_count": 5,
   "metadata": {},
   "outputs": [
    {
     "data": {
      "text/plain": [
       "['transcribe',\n",
       " 'translate',\n",
       " 'json-to-txt',\n",
       " 'parser',\n",
       " 'text-embedder',\n",
       " 'vector-db']"
      ]
     },
     "execution_count": 5,
     "metadata": {},
     "output_type": "execute_result"
    }
   ],
   "source": [
    "# view the module chain of your pipeline using the module_chain property\n",
    "pipeline.module_chain"
   ]
  },
  {
   "cell_type": "markdown",
   "metadata": {},
   "source": [
    "### Test Pipeline Input with the `test_input` Method"
   ]
  },
  {
   "cell_type": "markdown",
   "metadata": {},
   "source": [
    "You can test whether inputs to a pipeline will flow properly through it by using the `test_input` method. \n",
    "\n",
    "We illustrate this below for both valid and invalid files using the [pipeline we created above](#view-pipeline-module-chain-with-the-module_chain-property). \n",
    "\n",
    "Note that this test method does **not** execute your pipeline.  Nothing is sent server-side; it simply makes sure that your input file is consumable by the first module of your pipeline. Flow-through across the rest of your pipeline was already confirmed upon [pipeline instantiation](../pipeline_creation/create_pipeline.md).\n",
    "\n",
    "Let's first test with a file that is valid for this pipeline. Since the first module is a [`transcribe`](../../modules/ai_modules/transcribe_module.md) module, an MP3 with clear spoken English in it will do the trick. This can be done locally and without [first initializing](../initialization/initialize_and_authenticate.md), as follows:"
   ]
  },
  {
   "cell_type": "code",
   "execution_count": 6,
   "metadata": {},
   "outputs": [
    {
     "name": "stdout",
     "output_type": "stream",
     "text": [
      "SUCCESS: local file '../../../data/input/Interesting Facts About Colombia.mp3' passed pipeline input test passed\n"
     ]
    }
   ],
   "source": [
    "# use test_input on a valid file for this pipeline\n",
    "pipeline.test_input(local_file_path=data_dir + \"input/Interesting Facts About Colombia.mp3\")"
   ]
  },
  {
   "cell_type": "markdown",
   "metadata": {},
   "source": [
    "Now let's test with an input that won't work with this pipeline. The [`transcribe`](../../modules/ai_modules/transcribe_module.md) module that the pipeline begins with will **not** accept a TXT file, so the result of this test looks thus:"
   ]
  },
  {
   "cell_type": "code",
   "execution_count": 7,
   "metadata": {
    "tags": [
     "raises-exception"
    ]
   },
   "outputs": [
    {
     "ename": "Exception",
     "evalue": "file extension '.txt' does not match the expected input format audio",
     "output_type": "error",
     "traceback": [
      "\u001b[0;31m---------------------------------------------------------------------------\u001b[0m",
      "\u001b[0;31mTypeError\u001b[0m                                 Traceback (most recent call last)",
      "File \u001b[0;32m~/Desktop/krixik/code/krixik-docs/docs_venv/lib/python3.10/site-packages/krixik/utilities/validators/data/utilities/decorators.py:47\u001b[0m, in \u001b[0;36mdatatype_validator.<locals>.wrapper\u001b[0;34m(*args, **kwargs)\u001b[0m\n\u001b[1;32m     46\u001b[0m             \u001b[38;5;28;01mraise\u001b[39;00m \u001b[38;5;167;01mValueError\u001b[39;00m(\u001b[38;5;124mf\u001b[39m\u001b[38;5;124m\"\u001b[39m\u001b[38;5;124minvalid file extension: \u001b[39m\u001b[38;5;124m'\u001b[39m\u001b[38;5;132;01m{\u001b[39;00mextension\u001b[38;5;132;01m}\u001b[39;00m\u001b[38;5;124m'\u001b[39m\u001b[38;5;124m\"\u001b[39m)\n\u001b[0;32m---> 47\u001b[0m     \u001b[38;5;28;01mreturn\u001b[39;00m \u001b[43mfunc\u001b[49m\u001b[43m(\u001b[49m\u001b[38;5;241;43m*\u001b[39;49m\u001b[43margs\u001b[49m\u001b[43m,\u001b[49m\u001b[43m \u001b[49m\u001b[38;5;241;43m*\u001b[39;49m\u001b[38;5;241;43m*\u001b[39;49m\u001b[43mkwargs\u001b[49m\u001b[43m)\u001b[49m\n\u001b[1;32m     48\u001b[0m \u001b[38;5;28;01mexcept\u001b[39;00m \u001b[38;5;167;01mValueError\u001b[39;00m \u001b[38;5;28;01mas\u001b[39;00m e:\n",
      "File \u001b[0;32m~/Desktop/krixik/code/krixik-docs/docs_venv/lib/python3.10/site-packages/krixik/pipeline_builder/pipeline.py:130\u001b[0m, in \u001b[0;36mBuildPipeline.test_input\u001b[0;34m(self, local_file_path)\u001b[0m\n\u001b[1;32m    123\u001b[0m \u001b[38;5;250m\u001b[39m\u001b[38;5;124;03m\"\"\"test input file will flow through pipeline correctly via simulation (currently in beta)\u001b[39;00m\n\u001b[1;32m    124\u001b[0m \n\u001b[1;32m    125\u001b[0m \u001b[38;5;124;03mParameters\u001b[39;00m\n\u001b[0;32m   (...)\u001b[0m\n\u001b[1;32m    128\u001b[0m \u001b[38;5;124;03m    path to local file to test for pipeline threadthrough\u001b[39;00m\n\u001b[1;32m    129\u001b[0m \u001b[38;5;124;03m\"\"\"\u001b[39;00m\n\u001b[0;32m--> 130\u001b[0m \u001b[43minput_check\u001b[49m\u001b[43m(\u001b[49m\u001b[43mlocal_file_path\u001b[49m\u001b[43m,\u001b[49m\u001b[43m \u001b[49m\u001b[38;5;28;43mself\u001b[39;49m\u001b[38;5;241;43m.\u001b[39;49m\u001b[43m__module_chain\u001b[49m\u001b[43m)\u001b[49m\n\u001b[1;32m    131\u001b[0m \u001b[38;5;28mprint\u001b[39m(\u001b[38;5;124mf\u001b[39m\u001b[38;5;124m\"\u001b[39m\u001b[38;5;124mSUCCESS: local file \u001b[39m\u001b[38;5;124m'\u001b[39m\u001b[38;5;132;01m{\u001b[39;00mlocal_file_path\u001b[38;5;132;01m}\u001b[39;00m\u001b[38;5;124m'\u001b[39m\u001b[38;5;124m passed pipeline input test passed\u001b[39m\u001b[38;5;124m\"\u001b[39m)\n",
      "File \u001b[0;32m~/Desktop/krixik/code/krixik-docs/docs_venv/lib/python3.10/site-packages/krixik/pipeline_builder/utilities/input_checker.py:20\u001b[0m, in \u001b[0;36minput_check\u001b[0;34m(local_file_path, module_chain)\u001b[0m\n\u001b[1;32m     19\u001b[0m \u001b[38;5;28;01mif\u001b[39;00m file_ext_format \u001b[38;5;241m!=\u001b[39m first_module_input_format:\n\u001b[0;32m---> 20\u001b[0m     \u001b[38;5;28;01mraise\u001b[39;00m \u001b[38;5;167;01mTypeError\u001b[39;00m(\u001b[38;5;124mf\u001b[39m\u001b[38;5;124m\"\u001b[39m\u001b[38;5;124mfile extension \u001b[39m\u001b[38;5;124m'\u001b[39m\u001b[38;5;132;01m{\u001b[39;00mfile_ext\u001b[38;5;132;01m}\u001b[39;00m\u001b[38;5;124m'\u001b[39m\u001b[38;5;124m does not match the expected input format \u001b[39m\u001b[38;5;132;01m{\u001b[39;00mfirst_module_input_format\u001b[38;5;132;01m}\u001b[39;00m\u001b[38;5;124m\"\u001b[39m)\n\u001b[1;32m     21\u001b[0m is_valid(first_module\u001b[38;5;241m.\u001b[39mname, local_file_path)\n",
      "\u001b[0;31mTypeError\u001b[0m: file extension '.txt' does not match the expected input format audio",
      "\nDuring handling of the above exception, another exception occurred:\n",
      "\u001b[0;31mException\u001b[0m                                 Traceback (most recent call last)",
      "Cell \u001b[0;32mIn[7], line 2\u001b[0m\n\u001b[1;32m      1\u001b[0m \u001b[38;5;66;03m# use test_input on a file that won't work for this pipeline\u001b[39;00m\n\u001b[0;32m----> 2\u001b[0m \u001b[43mpipeline\u001b[49m\u001b[38;5;241;43m.\u001b[39;49m\u001b[43mtest_input\u001b[49m\u001b[43m(\u001b[49m\u001b[43mlocal_file_path\u001b[49m\u001b[38;5;241;43m=\u001b[39;49m\u001b[43mdata_dir\u001b[49m\u001b[43m \u001b[49m\u001b[38;5;241;43m+\u001b[39;49m\u001b[43m \u001b[49m\u001b[38;5;124;43m\"\u001b[39;49m\u001b[38;5;124;43minput/1984_very_short.txt\u001b[39;49m\u001b[38;5;124;43m\"\u001b[39;49m\u001b[43m)\u001b[49m\n",
      "File \u001b[0;32m~/Desktop/krixik/code/krixik-docs/docs_venv/lib/python3.10/site-packages/krixik/utilities/validators/data/utilities/decorators.py:51\u001b[0m, in \u001b[0;36mdatatype_validator.<locals>.wrapper\u001b[0;34m(*args, **kwargs)\u001b[0m\n\u001b[1;32m     49\u001b[0m     \u001b[38;5;28;01mraise\u001b[39;00m \u001b[38;5;167;01mValueError\u001b[39;00m(e)\n\u001b[1;32m     50\u001b[0m \u001b[38;5;28;01mexcept\u001b[39;00m \u001b[38;5;167;01mException\u001b[39;00m \u001b[38;5;28;01mas\u001b[39;00m e:\n\u001b[0;32m---> 51\u001b[0m     \u001b[38;5;28;01mraise\u001b[39;00m \u001b[38;5;167;01mException\u001b[39;00m(e)\n",
      "\u001b[0;31mException\u001b[0m: file extension '.txt' does not match the expected input format audio"
     ]
    }
   ],
   "source": [
    "# use test_input on a file that won't work for this pipeline\n",
    "pipeline.test_input(local_file_path=data_dir + \"input/1984_very_short.txt\")"
   ]
  },
  {
   "cell_type": "markdown",
   "metadata": {},
   "source": [
    "### View Module Input and Output Examples"
   ]
  },
  {
   "cell_type": "markdown",
   "metadata": {},
   "source": [
    "Examine the applicable data class of your starting module to ensure that your potential input satisfies required input structure requirements.\n",
    "\n",
    "You can get a quick sense of a module's input/output structure by looking at an example datapoint, like the one printed below the following code. This can be done for any [currently available module](../../modules/modules_overview.md), so we'll illustrate using the [`parser`](../../modules/support_function_modules/parser_module.md) module. This can be done locally and without [first initializing](../initialization/initialize_and_authenticate.md), as follows:"
   ]
  },
  {
   "cell_type": "code",
   "execution_count": 8,
   "metadata": {},
   "outputs": [
    {
     "name": "stdout",
     "output_type": "stream",
     "text": [
      "input data example\n",
      "-----\n",
      "sample text looks like this.\n",
      "\n",
      "\n",
      "output data example\n",
      "-----\n",
      "{\n",
      "  \"snippet\": \"This is the main text.\",\n",
      "  \"line_numbers\": [\n",
      "    1,\n",
      "    2,\n",
      "    3,\n",
      "    4\n",
      "  ],\n",
      "  \"other\": null\n",
      "}\n"
     ]
    }
   ],
   "source": [
    "# examine the required input/output data structure for the Parser module by printing an input and output examples for it\n",
    "from krixik.modules.parser import io\n",
    "import json\n",
    "\n",
    "print(\"input data example\")\n",
    "print(\"-----\")\n",
    "print(io.InputStructure().data_example)\n",
    "print(\"\\n\")\n",
    "print(\"output data example\")\n",
    "print(\"-----\")\n",
    "print(json.dumps(io.OutputStructure().data_example, indent=2))"
   ]
  },
  {
   "cell_type": "markdown",
   "metadata": {},
   "source": [
    "Here `\"other\"` denotes any other key in your input.  Its value is arbitrary because, as far as any model you connect the [`parser`](../../modules/support_function_modules/parser_module.md) module into is concerned, it's irrelevant. Only the snippet is passed through."
   ]
  },
  {
   "cell_type": "markdown",
   "metadata": {},
   "source": [
    "### View Module Click Data with the `view_module_click_data` Method"
   ]
  },
  {
   "cell_type": "markdown",
   "metadata": {},
   "source": [
    "The `view_module_click_data` method displays all the basic data required to know which modules can be \"clicked\" into which other modules.  This is the data referenced \"under the hood\" of Krixik when you build a pipeline with the [`create_pipeline`](../pipeline_creation/create_pipeline.md) method. Let's go through this piece by piece.\n",
    "\n",
    "First there's the module's input/output data format. A module like [`transcribe`](../../modules/ai_modules/transcribe_module.md) takes in audio and outputs `JSON`, while the [`text-embedder`](../../modules/ai_modules/text-embedder_module.md) module takes in `JSON` and outputs `NPY`.  \n",
    "\n",
    "Checking that the *output* format of a module matches the *input* format of another module is the *first* of two steps in determining if two modules can sequentially be clicked together. If the output format of \"Module A\"  matches the input format of \"Module B\", you'll likely be able to connect \"Module A\" → \"Module B\" in a pipeline. It's not a sure thing yet, though.\n",
    "\n",
    "The *second* step to determine module \"clickability\" is to make sure that the input/output `process_type`s match. For instance, a module might input a `JSON` format, but only *process* on certain key-value pairs of it. If there's a mismatch in the key-value pairs that are outputted vs inputted, the pipeline may not work after all.\n",
    "\n",
    "Checking `process_type` aligment thus confirms (or refutes) whether two modules can be connected.\n",
    "\n",
    "Lets take a look at the `click_data` of two modules and discuss what it says about their \"clickability\". This can be done locally and without [first initializing](../initialization/initialize_and_authenticate.md), as follows:"
   ]
  },
  {
   "cell_type": "code",
   "execution_count": 9,
   "metadata": {},
   "outputs": [
    {
     "data": {
      "text/plain": [
       "{'module_name': 'text-embedder',\n",
       " 'input_format': 'json',\n",
       " 'output_format': 'npy',\n",
       " 'input_process_key': 'snippet',\n",
       " 'input_process_type': \"<class 'str'>\",\n",
       " 'output_process_key': 'data',\n",
       " 'output_process_type': \"<class 'numpy.ndarray'>\"}"
      ]
     },
     "execution_count": 9,
     "metadata": {},
     "output_type": "execute_result"
    }
   ],
   "source": [
    "# examine a module's \"clickability\" data by using the view_module_click_data method\n",
    "krixik.view_module_click_data(module_name=\"text-embedder\")"
   ]
  },
  {
   "cell_type": "code",
   "execution_count": 10,
   "metadata": {},
   "outputs": [
    {
     "data": {
      "text/plain": [
       "{'module_name': 'vector-db',\n",
       " 'input_format': 'npy',\n",
       " 'output_format': 'faiss',\n",
       " 'input_process_key': 'data',\n",
       " 'input_process_type': \"<class 'numpy.ndarray'>\",\n",
       " 'output_process_key': None,\n",
       " 'output_process_type': None}"
      ]
     },
     "execution_count": 10,
     "metadata": {},
     "output_type": "execute_result"
    }
   ],
   "source": [
    "# examine a module's \"clickability\" data by using the view_module_click_data method\n",
    "krixik.view_module_click_data(module_name=\"vector-db\")"
   ]
  },
  {
   "cell_type": "markdown",
   "metadata": {},
   "source": [
    "This data suggests that we can \"click\" the modules together like this:\n",
    "\n",
    "`text-embedder` -> `vector-search`\n",
    "\n",
    "However, we can *not* click them together like this:\n",
    "\n",
    " `vector-search` -> `text-embedder`\n",
    "\n",
    "The former module connection, (`text-embedder` → `vector-search`), will work because in the `click_data` of both modules we can see that \n",
    "\n",
    "- `text-embedder` output_format (`npy`) == `vector-search` input_format (`npy`), and \n",
    "- `text-embedder` output_process_type (`<class 'numpy.ndarray'>`) == `vector-search` input_process_type (`<class 'numpy.ndarray'>`)\n",
    "\n",
    "\n",
    "The latter connection, (`vector-search` → `text-embedder`), will instead not work. We can see from the same data that\n",
    "\n",
    "- `vector-search` output_format (`faiss`) != `text-embedder` input_format (`json`)\n",
    "\n"
   ]
  },
  {
   "cell_type": "code",
   "execution_count": 11,
   "metadata": {
    "tags": [
     "remove_cell"
    ]
   },
   "outputs": [],
   "source": [
    "# delete all processed datapoints belonging to this pipeline\n",
    "reset_pipeline(pipeline)"
   ]
  }
 ],
 "metadata": {
  "kernelspec": {
   "display_name": "venv",
   "language": "python",
   "name": "python3"
  },
  "language_info": {
   "codemirror_mode": {
    "name": "ipython",
    "version": 3
   },
   "file_extension": ".py",
   "mimetype": "text/x-python",
   "name": "python",
   "nbconvert_exporter": "python",
   "pygments_lexer": "ipython3",
   "version": "3.10.13"
  }
 },
 "nbformat": 4,
 "nbformat_minor": 2
}
