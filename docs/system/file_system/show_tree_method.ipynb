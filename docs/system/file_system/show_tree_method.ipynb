{
 "cells": [
  {
   "cell_type": "markdown",
   "metadata": {},
   "source": [
    "<a href=\"https://colab.research.google.com/github/krixik-ai/krixik-docs/blob/main/docs/system/file_system/show_tree_method.ipynb\" target=\"_parent\"><img src=\"https://colab.research.google.com/assets/colab-badge.svg\" alt=\"Open In Colab\"/></a>"
   ]
  },
  {
   "cell_type": "code",
   "execution_count": 1,
   "metadata": {
    "tags": [
     "remove_cell",
     "remove_output"
    ]
   },
   "outputs": [
    {
     "name": "stdout",
     "output_type": "stream",
     "text": [
      "SUCCESS: You are now authenticated.\n"
     ]
    }
   ],
   "source": [
    "import os\n",
    "import sys\n",
    "import json\n",
    "from pathlib import Path\n",
    "\n",
    "# demo setup - including secrets instantiation, requirements installation, and path setting\n",
    "if os.getenv(\"COLAB_RELEASE_TAG\"):\n",
    "    # if running this notebook in Google Colab - make sure to enter your secrets\n",
    "    MY_API_KEY = \"YOUR_API_KEY_HERE\"\n",
    "    MY_API_URL = \"YOUR_API_URL_HERE\"\n",
    "\n",
    "    # if running this notebook on Google Colab - install requirements and pull required subdirectories\n",
    "    # install Krixik python client\n",
    "    !pip install krixik\n",
    "\n",
    "    # install github clone - allows for easy cloning of subdirectories from docs repo: https://github.com/krixik-ai/krixik-docs\n",
    "    !pip install github-clone\n",
    "\n",
    "    # clone datasets\n",
    "    if not Path(\"data\").is_dir():\n",
    "        !ghclone https://github.com/krixik-ai/krixik-docs/tree/main/data\n",
    "    else:\n",
    "        print(\"docs datasets already cloned!\")\n",
    "\n",
    "    # define data dir\n",
    "    data_dir = \"./data/\"\n",
    "\n",
    "    # create output dir\n",
    "    from pathlib import Path\n",
    "\n",
    "    Path(data_dir + \"/output\").mkdir(parents=True, exist_ok=True)\n",
    "\n",
    "else:\n",
    "    # if running local pull of docs - set paths relative to local docs structure\n",
    "    # import utilities\n",
    "    sys.path.append(\"../../../\")\n",
    "\n",
    "    # define data_dir\n",
    "    data_dir = \"../../../data/\"\n",
    "\n",
    "    # if running this notebook locally from Krixik docs repo - load secrets from a .env placed at the base of the docs repo\n",
    "    from dotenv import load_dotenv\n",
    "\n",
    "    load_dotenv(\"../../../.env\")\n",
    "\n",
    "    MY_API_KEY = os.getenv(\"MY_API_KEY\")\n",
    "    MY_API_URL = os.getenv(\"MY_API_URL\")\n",
    "\n",
    "# import Krixik and initialize it with your personal secrets\n",
    "from krixik import krixik\n",
    "\n",
    "krixik.init(api_key=MY_API_KEY, api_url=MY_API_URL)"
   ]
  },
  {
   "cell_type": "markdown",
   "metadata": {},
   "source": [
    "## The `show_tree` Method\n",
    "[🇨🇴 Versión en español de este documento](https://krixik-docs.readthedocs.io/es-main/sistema/sistema_de_archivos/metodo_show_tree_mostrar_arbol/)\n",
    "\n",
    "The `show_tree` method allows you to visualize—at your terminal or IDE output—all files currently in your pipeline.  It is designed as a simple analog to the standard UNIX [tree command](https://www.tecmint.com/linux-tree-command-examples/).\n",
    "\n",
    "This overview of the `show_tree` method is divided into the following sections:\n",
    "\n",
    "- [show_tree Method Arguments](#show_tree-method-arguments)\n",
    "- [show_tree Method Example](#show_tree-method-example)\n",
    "- [The Wildcard Operator and the Global Root](#the-wildcard-operator-and-the-global-root)"
   ]
  },
  {
   "cell_type": "markdown",
   "metadata": {},
   "source": [
    "### `show_tree` Method Arguments\n",
    "\n",
    "The `show_tree` method takes a single (required) argument:\n",
    "\n",
    "- `symbolic_directory_path` (str) - The `symbolic_directory_path` whose contents you wish to display. If the [wildcard operator](#the-wildcard-operator-and-the-global-root) is leveraged, this `symbolic_directory_path` will become the root(s) of the outputted tree, and all files at the root(s) or beneath will be displayed."
   ]
  },
  {
   "cell_type": "markdown",
   "metadata": {},
   "source": [
    "### `show_tree` Method Example"
   ]
  },
  {
   "cell_type": "markdown",
   "metadata": {},
   "source": [
    "For this document's example we will use a pipeline consisting of a single [`parser`](../../modules/support_function_modules/parser_module.md) module.  We use the [`create_pipeline`](../pipeline_creation/create_pipeline.md) method to instantiate the pipeline, and then [`process`](../parameters_processing_files_through_pipelines/process_method.md) a few files through it. Note the `symbolic_directory_path` structure we create:"
   ]
  },
  {
   "cell_type": "code",
   "execution_count": 2,
   "metadata": {},
   "outputs": [],
   "source": [
    "# create an example pipeline with a single module\n",
    "pipeline = krixik.create_pipeline(name=\"show_tree_method_1_parser\", module_chain=[\"parser\"])\n",
    "\n",
    "# define path to an input file from examples directory\n",
    "test_file = data_dir + \"input/1984_very_short.txt\"\n",
    "\n",
    "# process short input file with various metdata\n",
    "process_output = pipeline.process(\n",
    "    local_file_path=test_file,\n",
    "    local_save_directory=data_dir + \"output\",  # save output repo data output subdir\n",
    "    expire_time=60 * 30,  # set all process data to expire in 30 minutes\n",
    "    wait_for_process=True,  # wait for process to complete before regaining ide\n",
    "    verbose=False,\n",
    "    symbolic_directory_path=\"/my/custom/path\",\n",
    "    file_name=\"file_num_one.txt\",\n",
    ")\n",
    "\n",
    "process_output = pipeline.process(\n",
    "    local_file_path=test_file,\n",
    "    local_save_directory=data_dir + \"output\",  # save output repo data output subdir\n",
    "    expire_time=60 * 30,  # set all process data to expire in 30 minutes\n",
    "    wait_for_process=True,  # wait for process to complete before regaining ide\n",
    "    verbose=False,\n",
    "    symbolic_directory_path=\"/my/custom/path\",\n",
    "    file_name=\"file_num_two.txt\",\n",
    ")\n",
    "\n",
    "process_output = pipeline.process(\n",
    "    local_file_path=test_file,\n",
    "    local_save_directory=data_dir + \"output\",  # save output repo data output subdir\n",
    "    expire_time=60 * 30,  # set all process data to expire in 30 minutes\n",
    "    wait_for_process=True,  # wait for process to complete before regaining ide\n",
    "    verbose=False,\n",
    "    symbolic_directory_path=\"/my/custom/path/subpath\",\n",
    "    file_name=\"file_num_three.txt\",\n",
    ")"
   ]
  },
  {
   "cell_type": "markdown",
   "metadata": {},
   "source": [
    "Now you can visualize your pipeline's symbolic directory structure by using `show_tree`.\n",
    "\n",
    "This example will leverage the \"global root\" wildcard `symbolic_directory_path`, which will be explained momentarily."
   ]
  },
  {
   "cell_type": "code",
   "execution_count": 3,
   "metadata": {},
   "outputs": [
    {
     "name": "stdout",
     "output_type": "stream",
     "text": [
      "/\n",
      "└── /my\n",
      "    └── /custom\n",
      "        └── /path\n",
      "            ├── file_num_one.txt\n",
      "            ├── file_num_two.txt\n",
      "            └── /subpath\n",
      "                └── file_num_three.txt\n"
     ]
    }
   ],
   "source": [
    "# show the directory structure of a pipeline\n",
    "show_tree_output = pipeline.show_tree(symbolic_directory_path=\"/*\")"
   ]
  },
  {
   "cell_type": "markdown",
   "metadata": {},
   "source": [
    "Note that directory names are preceded by a forward slash (`/`) character and file names are not. This allows you to easily differentiate between them."
   ]
  },
  {
   "cell_type": "markdown",
   "metadata": {},
   "source": [
    "### The Wildcard Operator and the Global Root\n",
    "\n",
    "The wildcard operator is the asterisk: *\n",
    "\n",
    "As in the [`list`](list_method.md) method, the [`semantic_search`](../search_methods/semantic_search_method.md) method and the [`keyword_search`](../search_methods/keyword_search_method.md) method you can use the wildcard operator * in the `symbolic_directory_path` argument for the `show_tree` method.\n",
    "\n",
    "The wildcard operator * can be used as a suffix in the `show_tree` method if you wish to show the tree structure beneath a certain directory. Syntax might look like this:\n",
    "\n",
    "```python\n",
    "# symbolic_directory_path use of wildcard operator *\n",
    "symbolic_directory_path='/home/files/studies*'\n",
    "```\n",
    "\n",
    "Using this `symbolic_directory_path` in `show_tree` would generate a visualization of the directory structure under `/home/files/studies`.\n",
    "\n",
    "The maximum expression of using the wildcard operator in a `symbolic_directory_path` is what we call \"the global root\". It's simply a forward slash and a wildcard operator *, includes every single file in your pipeline, and looks like this:\n",
    "\n",
    "```python\n",
    "# example of the global root\n",
    "symbolic_directory_path='/*'\n",
    "```\n",
    "\n",
    "As seen in the above code output, using the global root with the `show_tree` method returns a visualization of your entire pipeline's directory structure."
   ]
  },
  {
   "cell_type": "code",
   "execution_count": 4,
   "metadata": {
    "tags": [
     "remove_cell"
    ]
   },
   "outputs": [],
   "source": [
    "# delete all processed datapoints belonging to this pipeline\n",
    "krixik.reset_pipeline(pipeline)"
   ]
  }
 ],
 "metadata": {
  "kernelspec": {
   "display_name": "Python 3",
   "language": "python",
   "name": "python3"
  },
  "language_info": {
   "codemirror_mode": {
    "name": "ipython",
    "version": 3
   },
   "file_extension": ".py",
   "mimetype": "text/x-python",
   "name": "python",
   "nbconvert_exporter": "python",
   "pygments_lexer": "ipython3",
   "version": "3.10.13"
  }
 },
 "nbformat": 4,
 "nbformat_minor": 2
}
