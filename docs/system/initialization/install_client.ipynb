{
 "cells": [
  {
   "cell_type": "markdown",
   "metadata": {},
   "source": [
    "## Installing the python client\n",
    "[🇨🇴 Spanish version of this document](https://krixik-docs.readthedocs.io/es-main/sistema/inicializacion/instalacion_del_cliente/)"
   ]
  },
  {
   "cell_type": "markdown",
   "metadata": {},
   "source": [
    "### Install the Krixik client Using `pip`\n",
    "\n",
    "Execute the following line of code at your terminal to `pip install` the Krixik Python client."
   ]
  },
  {
   "cell_type": "markdown",
   "metadata": {},
   "source": [
    "```python\n",
    "# pip install the krixik cli\n",
    "pip install krixik\n",
    "```"
   ]
  },
  {
   "cell_type": "markdown",
   "metadata": {},
   "source": [
    "Note: Python version 3.10 or higher is required to use the Krixik client.\n",
    "\n",
    "Once that's done, you can [initialize your session](initialize_and_authenticate.md)."
   ]
  }
 ],
 "metadata": {
  "language_info": {
   "name": "python"
  }
 },
 "nbformat": 4,
 "nbformat_minor": 2
}
