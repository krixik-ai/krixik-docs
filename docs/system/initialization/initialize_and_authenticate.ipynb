{
 "cells": [
  {
   "cell_type": "markdown",
   "metadata": {},
   "source": [
    "## Initialize and Authenticate To Get Started"
   ]
  },
  {
   "cell_type": "markdown",
   "metadata": {},
   "source": [
    "Once you've [installed the Python Client](install_client.md), import Krixik and initialize your session (performing the necessary authentication) to get started.\n",
    "\n",
    "You'll need two secrets for this:\n",
    "\n",
    "- Your API key\n",
    "- Your API URL\n",
    "\n",
    "If you're participating in our beta test and don't have your secrets, please reach out to Krixik admin.\n",
    "\n",
    "Instead of handling your secrets directly, we strongly recommend storing them in an `.env` file and loading them via [python-dotenv](https://pypi.org/project/python-dotenv/). This is best practice for storing/loading secrets, as it keeps them compartmentalized and reduces the odds of you accidentally pushing them to a repo.\n",
    "\n",
    "To do this, define your secrets in your `.env` file as:\n",
    "\n",
    "```ssh-config\n",
    "DEMO_API_KEY=EXAMPLE_API_KEY_45678\n",
    "DEMO_API_URL=EXAMPLE_API_URL_09123\n",
    "```\n",
    "\n",
    "Then load them with [python-dotenv](https://pypi.org/project/python-dotenv/) as follows:"
   ]
  },
  {
   "cell_type": "code",
   "execution_count": 1,
   "metadata": {},
   "outputs": [],
   "source": [
    "# load your secrets from an .env file using python-dotenv\n",
    "from dotenv import load_dotenv\n",
    "import os\n",
    "\n",
    "load_dotenv()\n",
    "MY_API_KEY = os.getenv(\"DEMO_API_KEY\")\n",
    "MY_API_URL = os.getenv(\"DEMO_API_URL\")"
   ]
  },
  {
   "cell_type": "markdown",
   "metadata": {},
   "source": [
    "Your secrets loaded, you can now import Krixik and initialize/authenticate to begin your session.\n",
    "\n",
    "These are two separate actions, so we'll do them separately. First import Krixik:"
   ]
  },
  {
   "cell_type": "code",
   "execution_count": 2,
   "metadata": {},
   "outputs": [],
   "source": [
    "# import krixik\n",
    "from krixik import krixik"
   ]
  },
  {
   "cell_type": "markdown",
   "metadata": {},
   "source": [
    "Now initialize your session with your secrets:"
   ]
  },
  {
   "cell_type": "code",
   "execution_count": 3,
   "metadata": {},
   "outputs": [
    {
     "name": "stdout",
     "output_type": "stream",
     "text": [
      "SUCCESS: You are now authenticated.\n"
     ]
    }
   ],
   "source": [
    "# initialize your session with your secrets\n",
    "krixik.init(api_key=MY_API_KEY, api_url=MY_API_URL)"
   ]
  },
  {
   "cell_type": "markdown",
   "metadata": {},
   "source": [
    "Alright, you're good to go! It's time to [assemble some pipelines](../pipeline_creation/create_pipeline.md)."
   ]
  }
 ],
 "metadata": {
  "kernelspec": {
   "display_name": "venv",
   "language": "python",
   "name": "python3"
  },
  "language_info": {
   "codemirror_mode": {
    "name": "ipython",
    "version": 3
   },
   "file_extension": ".py",
   "mimetype": "text/x-python",
   "name": "python",
   "nbconvert_exporter": "python",
   "pygments_lexer": "ipython3",
   "version": "3.12.0"
  }
 },
 "nbformat": 4,
 "nbformat_minor": 2
}
