{
 "cells": [
  {
   "cell_type": "markdown",
   "metadata": {},
   "source": [
    "## JSON Input Format\n",
    "[🇨🇴 Spanish version of this document](https://krixik-docs.readthedocs.io/es-main/sistema/parametros_y_procesar_archivos_a_traves_de_pipelines/formato_JSON_entrada/)"
   ]
  },
  {
   "cell_type": "markdown",
   "metadata": {},
   "source": [
    "### JSON Format Details\n",
    "\n",
    "JSON input files into pipelines that begin with JSON-input modules (e.g. the [`translate module`](../../modules/ai_modules/translate_module.md)) must be in a very specific format for the [`process`](../parameters_processing_files_through_pipelines/process_method.md) method to work. If the file doesn't follow this format, the [`process`](../parameters_processing_files_through_pipelines/process_method.md) attempt will fail.\n",
    "\n",
    "A description of the format follows:\n",
    "\n",
    "- The macro container in the JSON file must be a single list.\n",
    "\n",
    "- The list will hold a series of dictionaries.\n",
    "\n",
    "- Each text block that is to be processed must be in a separate dictionary. For instance, if you want to process 20 snippets of text, the list should hold 20 dictionaries.\n",
    "\n",
    "- In each dictionary, the text you wish Krixik to pass on to a following module (assuming you click that module into any other) sits as the value of a key-value pair. The key of this pair must be the string `\"snippet\"`. If it is anything else, it will fail or be ignored.\n",
    "\n",
    "- Any key-value pair in a dictionary whose key is not `\"snippet\"` will be ignored.\n",
    "\n",
    "- If more than one key-value pair has `\"snippet\"` for a key, all but one of them will be ignored."
   ]
  },
  {
   "cell_type": "markdown",
   "metadata": {},
   "source": [
    "### A JSON Input Example"
   ]
  },
  {
   "cell_type": "markdown",
   "metadata": {},
   "source": [
    "Here's an example of the above in action. The following list is what the contents of a JSON file should look like if you wanted to separately submit the first two sentences of George Orwell's <u>1984</u> to a Krixik pipeline:"
   ]
  },
  {
   "cell_type": "code",
   "execution_count": 1,
   "metadata": {
    "tags": [
     "skip-execution",
     "remove_output"
    ]
   },
   "outputs": [
    {
     "data": {
      "text/plain": [
       "[{'snippet': 'It was a bright cold day in April, and the clocks were striking thirteen.',\n",
       "  'line_numbers': [1]},\n",
       " {'snippet': 'Winston Smith, his chin nuzzled into his breast in an effort to escape the vile wind, slipped quickly through the glass doors of Victory Mansions, though not quickly enough to prevent a swirl of gritty dust from entering along with him.',\n",
       "  'line_numbers': [2, 3, 4, 5]}]"
      ]
     },
     "execution_count": 1,
     "metadata": {},
     "output_type": "execute_result"
    }
   ],
   "source": [
    "# example JSON content, two separate blocks of text\n",
    "[\n",
    "    {\"snippet\": \"It was a bright cold day in April, and the clocks were striking thirteen.\", \"line_numbers\": [1]},\n",
    "    {\n",
    "        \"snippet\": \"Winston Smith, his chin nuzzled into his breast in an effort to escape the vile wind, slipped quickly through the glass doors of Victory Mansions, though not quickly enough to prevent a swirl of gritty dust from entering along with him.\",\n",
    "        \"line_numbers\": [2, 3, 4, 5],\n",
    "    },\n",
    "]"
   ]
  },
  {
   "cell_type": "markdown",
   "metadata": {},
   "source": [
    "### Creating the JSON File"
   ]
  },
  {
   "cell_type": "markdown",
   "metadata": {},
   "source": [
    "We recommend using JSON functionality to create your JSON files. Directly creating your JSON files may lead to error. The following code is an example of how to do this (note the Python variable we introduced at the top):"
   ]
  },
  {
   "cell_type": "code",
   "execution_count": 2,
   "metadata": {},
   "outputs": [],
   "source": [
    "# creating and locally saving a JSON file\n",
    "my_data = [\n",
    "    {\"snippet\": \"It was a bright cold day in April, and the clocks were striking thirteen.\", \"line_numbers\": [1]},\n",
    "    {\n",
    "        \"snippet\": \"Winston Smith, his chin nuzzled into his breast in an effort to escape the vile wind, slipped quickly through the glass doors of Victory Mansions, though not quickly enough to prevent a swirl of gritty dust from entering along with him.\",\n",
    "        \"line_numbers\": [2, 3, 4, 5],\n",
    "    },\n",
    "]\n",
    "\n",
    "import json\n",
    "\n",
    "with open(\"demo_file_1.json\", \"w\") as f:\n",
    "    json.dump(my_data, f)"
   ]
  },
  {
   "cell_type": "markdown",
   "metadata": {},
   "source": [
    "The above will locally create a properly formatted JSON file named `demo_file_1.json` (with the contents above) in your current working directory."
   ]
  }
 ],
 "metadata": {
  "kernelspec": {
   "display_name": "venv",
   "language": "python",
   "name": "python3"
  },
  "language_info": {
   "codemirror_mode": {
    "name": "ipython",
    "version": 3
   },
   "file_extension": ".py",
   "mimetype": "text/x-python",
   "name": "python",
   "nbconvert_exporter": "python",
   "pygments_lexer": "ipython3",
   "version": "3.12.0"
  }
 },
 "nbformat": 4,
 "nbformat_minor": 2
}
