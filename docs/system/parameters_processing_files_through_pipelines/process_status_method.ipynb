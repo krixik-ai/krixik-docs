{
 "cells": [
  {
   "cell_type": "markdown",
   "metadata": {},
   "source": [
    "<a href=\"https://colab.research.google.com/github/krixik-ai/krixik-docs/blob/main/docs/system/parameters_processing_files_through_pipelines/process_status_method.ipynb\" target=\"_parent\"><img src=\"https://colab.research.google.com/assets/colab-badge.svg\" alt=\"Open In Colab\"/></a>"
   ]
  },
  {
   "cell_type": "code",
   "execution_count": 1,
   "metadata": {
    "tags": [
     "remove_cell",
     "remove_output"
    ]
   },
   "outputs": [
    {
     "name": "stdout",
     "output_type": "stream",
     "text": [
      "SUCCESS: You are now authenticated.\n"
     ]
    }
   ],
   "source": [
    "import os\n",
    "import sys\n",
    "import json\n",
    "from pathlib import Path\n",
    "\n",
    "# demo setup - including secrets instantiation, requirements installation, and path setting\n",
    "if os.getenv(\"COLAB_RELEASE_TAG\"):\n",
    "    # if running this notebook in Google Colab - make sure to enter your secrets\n",
    "    MY_API_KEY = \"YOUR_API_KEY_HERE\"\n",
    "    MY_API_URL = \"YOUR_API_URL_HERE\"\n",
    "\n",
    "    # if running this notebook on Google Colab - install requirements and pull required subdirectories\n",
    "    # install Krixik python client\n",
    "    !pip install krixik\n",
    "\n",
    "    # install github clone - allows for easy cloning of subdirectories from docs repo: https://github.com/krixik-ai/krixik-docs\n",
    "    !pip install github-clone\n",
    "\n",
    "    # clone datasets\n",
    "    if not Path(\"data\").is_dir():\n",
    "        !ghclone https://github.com/krixik-ai/krixik-docs/tree/main/data\n",
    "    else:\n",
    "        print(\"docs datasets already cloned!\")\n",
    "\n",
    "    # define data dir\n",
    "    data_dir = \"./data/\"\n",
    "\n",
    "    # create output dir\n",
    "    from pathlib import Path\n",
    "\n",
    "    Path(data_dir + \"/output\").mkdir(parents=True, exist_ok=True)\n",
    "\n",
    "else:\n",
    "    # if running local pull of docs - set paths relative to local docs structure\n",
    "    # import utilities\n",
    "    sys.path.append(\"../../../\")\n",
    "\n",
    "    # define data_dir\n",
    "    data_dir = \"../../../data/\"\n",
    "\n",
    "    # if running this notebook locally from Krixik docs repo - load secrets from a .env placed at the base of the docs repo\n",
    "    from dotenv import load_dotenv\n",
    "\n",
    "    load_dotenv(\"../../../.env\")\n",
    "\n",
    "    MY_API_KEY = os.getenv(\"MY_API_KEY\")\n",
    "    MY_API_URL = os.getenv(\"MY_API_URL\")\n",
    "\n",
    "# import Krixik and initialize it with your personal secrets\n",
    "from krixik import krixik\n",
    "\n",
    "krixik.init(api_key=MY_API_KEY, api_url=MY_API_URL)"
   ]
  },
  {
   "cell_type": "markdown",
   "metadata": {},
   "source": [
    "## The `process_status` Method\n",
    "[🇨🇴 Versión en español de este documento](https://krixik-docs.readthedocs.io/es-main/sistema/parametros_y_procesar_archivos_a_traves_de_pipelines/metodo_process_status_estado_de_proceso/)\n",
    "\n",
    "The `process_status` method is available on every Krixik pipeline. It is invoked whenever you want to check the status of files being processed through a pipeline.\n",
    "\n",
    "This method is especially useful when using the [`process`](process_method.md) method with `wait_for_process` set to `False`, for it gives you visibility into processes that have continued server-side after you regain control of your IDE.\n",
    "\n",
    "This overview of the `process_status` method is divided into the following sections:\n",
    "\n",
    "- [process_status Method Arguments](#process_status-method-arguments)\n",
    "- [process_status Example](#process_status-example)\n",
    "- [process_status Example with Deleted File](#process_status-example-with-deleted-file)"
   ]
  },
  {
   "cell_type": "markdown",
   "metadata": {},
   "source": [
    "### `process_status` Method Arguments\n",
    "\n",
    "The `process_status` method takes a single argument:\n",
    "\n",
    "- `request_id`: (required, str) The unique ID associated with the relevant execution instance of the [`process`](process_method.md) method."
   ]
  },
  {
   "cell_type": "markdown",
   "metadata": {},
   "source": [
    "### `process_status` Example\n",
    "\n",
    "Let's examine how the `process_status` method works when the [`process`](process_method.md) method succeeds. `wait_for_process` will be set to `False`.\n",
    "\n",
    "First we'll need to create a pipeline. We can use a single-module pipeline with a [`keyword-db`](../../modules/database_modules/keyword-db_module.md) module for this example:"
   ]
  },
  {
   "cell_type": "code",
   "execution_count": 2,
   "metadata": {},
   "outputs": [],
   "source": [
    "# create a pipeline with a single keyword-db module\n",
    "pipeline = krixik.create_pipeline(name=\"process_status_method_1_keyword-db\", module_chain=[\"keyword-db\"])"
   ]
  },
  {
   "cell_type": "markdown",
   "metadata": {},
   "source": [
    "Now we'll process a file through your pipeline. Let's use a text file holding Herman Melville's <u>Moby Dick</u>:"
   ]
  },
  {
   "cell_type": "code",
   "execution_count": 3,
   "metadata": {},
   "outputs": [],
   "source": [
    "# process text file through pipeline with wait_for_process on False\n",
    "process_output = pipeline.process(\n",
    "    local_file_path=data_dir + \"input/moby_dick_very_short.txt\",  # the initial local filepath where the input JSON file is stored\n",
    "    local_save_directory=data_dir + \"output\",  # the local directory that the output file will be saved to\n",
    "    expire_time=60 * 30,  # process data will be deleted from the Krixik system in 30 minutes\n",
    "    wait_for_process=False,  # do not wait for process to complete before returning IDE control to user\n",
    "    verbose=False,\n",
    ")  # do not display process update printouts upon running code"
   ]
  },
  {
   "cell_type": "markdown",
   "metadata": {},
   "source": [
    "What does immediate output for this process look like?"
   ]
  },
  {
   "cell_type": "code",
   "execution_count": 4,
   "metadata": {},
   "outputs": [
    {
     "name": "stdout",
     "output_type": "stream",
     "text": [
      "{\n",
      "  \"file_id\": \"596bf30e-c13d-41df-8cc8-b7e26709a468\",\n",
      "  \"request_id\": \"f948a6ad-0343-e743-2b3f-0df6bc732a3a\",\n",
      "  \"file_name\": \"krixik_generated_file_name_gewgneptrz.txt\",\n",
      "  \"symbolic_directory_path\": \"/etc\",\n",
      "  \"file_tags\": null,\n",
      "  \"file_description\": null\n",
      "}\n"
     ]
    }
   ],
   "source": [
    "# nicely print the output of this process\n",
    "print(json.dumps(process_output, indent=2))"
   ]
  },
  {
   "cell_type": "markdown",
   "metadata": {},
   "source": [
    "That's all you see because you retook control of the IDE as soon as the upload to Krixik was completed; the `process_output` variable doesn't know how the rest of the process went.\n",
    "\n",
    "You can check the status of the process by feeding the `request_id` (returned when you called the [`process`](process_method.md) method) to the `process_status` method, as follows:"
   ]
  },
  {
   "cell_type": "code",
   "execution_count": 5,
   "metadata": {},
   "outputs": [
    {
     "name": "stdout",
     "output_type": "stream",
     "text": [
      "{\n",
      "  \"status_code\": 200,\n",
      "  \"request_id\": \"8863f851-fa57-4ffa-98fd-31d9df31fcdc\",\n",
      "  \"file_id\": \"596bf30e-c13d-41df-8cc8-b7e26709a468\",\n",
      "  \"message\": \"SUCCESS: process_status found\",\n",
      "  \"pipeline\": \"process_status_method_1_keyword-db\",\n",
      "  \"process_status\": {\n",
      "    \"module_1\": false\n",
      "  },\n",
      "  \"overall_status\": \"ongoing\"\n",
      "}\n"
     ]
    }
   ],
   "source": [
    "# invoke process_status\n",
    "process_1_status = pipeline.process_status(request_id=process_output[\"request_id\"])\n",
    "\n",
    "# nicely print the output our process_status call\n",
    "print(json.dumps(process_1_status, indent=2))"
   ]
  },
  {
   "cell_type": "markdown",
   "metadata": {},
   "source": [
    "Here you can see that your process has not yet finalized; its `overall_status` shows as `\"ongoing\"`.\n",
    "\n",
    "If we wait a few moments and try again, you will see confirmation that the process completed successfully."
   ]
  },
  {
   "cell_type": "code",
   "execution_count": 6,
   "metadata": {
    "tags": [
     "remove_cell"
    ]
   },
   "outputs": [],
   "source": [
    "import time\n",
    "\n",
    "time.sleep(30)"
   ]
  },
  {
   "cell_type": "code",
   "execution_count": 7,
   "metadata": {},
   "outputs": [
    {
     "name": "stdout",
     "output_type": "stream",
     "text": [
      "{\n",
      "  \"status_code\": 200,\n",
      "  \"request_id\": \"4cf89f97-b82e-4104-929f-df49d928e345\",\n",
      "  \"file_id\": \"596bf30e-c13d-41df-8cc8-b7e26709a468\",\n",
      "  \"message\": \"SUCCESS: process_status found\",\n",
      "  \"pipeline\": \"process_status_method_1_keyword-db\",\n",
      "  \"process_status\": {\n",
      "    \"module_1\": true\n",
      "  },\n",
      "  \"overall_status\": \"complete\"\n",
      "}\n"
     ]
    }
   ],
   "source": [
    "# invoke process_status again\n",
    "process_status_output = pipeline.process_status(request_id=process_output[\"request_id\"])\n",
    "\n",
    "# nicely print the output our process_status call again\n",
    "print(json.dumps(process_status_output, indent=2))"
   ]
  },
  {
   "cell_type": "markdown",
   "metadata": {},
   "source": [
    "### `process_status` Example with Deleted File\n",
    "\n",
    "As you have just observed, `process_status` on a failed [`process`](process_method.md) attempt shows us that the process failed.\n",
    "\n",
    "What happens when the file `process_status` is run on [expires](process_method.md#core-process-method-arguments) or is manually [deleted](../file_system/delete_method.md) from the Krixik system?\n",
    "\n",
    "We take deletion seriously at Krixik—if a file is [deleted](../file_system/delete_method.md), it's entirely wiped from the system. Consequently, calling the `process_status` method on an [expired](process_method.md#core-process-method-arguments) or manually [deleted](../file_system/delete_method.md) file will tell you that the `request_id` you used as an argument was not found. The file is gone, as is any record of its having been processed in the first place."
   ]
  },
  {
   "cell_type": "code",
   "execution_count": 8,
   "metadata": {
    "tags": [
     "remove_cell"
    ]
   },
   "outputs": [],
   "source": [
    "# delete all processed datapoints belonging to this pipeline\n",
    "import time\n",
    "\n",
    "time.sleep(30)\n",
    "krixik.reset_pipeline(pipeline)"
   ]
  }
 ],
 "metadata": {
  "kernelspec": {
   "display_name": "venv",
   "language": "python",
   "name": "python3"
  },
  "language_info": {
   "codemirror_mode": {
    "name": "ipython",
    "version": 3
   },
   "file_extension": ".py",
   "mimetype": "text/x-python",
   "name": "python",
   "nbconvert_exporter": "python",
   "pygments_lexer": "ipython3",
   "version": "3.10.13"
  }
 },
 "nbformat": 4,
 "nbformat_minor": 2
}
