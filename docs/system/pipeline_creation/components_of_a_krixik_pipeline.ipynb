{
 "cells": [
  {
   "cell_type": "markdown",
   "metadata": {},
   "source": [
    "## Components of a Krixik Pipeline\n",
    "[🇨🇴 Spanish version of this document](https://krixik-docs.readthedocs.io/es-main/sistema/creacion_de_pipelines/componentes_de_un_pipeline_de_krixik/)\n",
    "\n",
    "Krixik [**pipelines**](create_pipeline.md) are composed of one or more sequentially connected [**modules**](../../modules/modules_overview.md). These modules are containers for a range of [**parameterizable**](../parameters_processing_files_through_pipelines/process_method.md#selecting-models-via-the-modules-argument) AI [**models**](../parameters_processing_files_through_pipelines/process_method.md#selecting-models-via-the-modules-argument) or support functions.\n",
    "\n",
    "Let's examine each of the key terms in the above sentence.\n",
    "\n",
    "A [**pipeline**](create_pipeline.md) is a self-contained sequence of one or more modules that is consumed via a serverless API.  \n",
    "\n",
    "A [**module**](../../modules/modules_overview.md) is a processing step with a unique input/output data footprint. Each module contains a parameterizable AI model or support function.\n",
    "\n",
    "A [**model**](../parameters_processing_files_through_pipelines/process_method.md#selecting-models-via-the-modules-argument) is a bespoke processing function contained within a module. Many of these are AI models, but some are simpler \"support functions\" for inter-pipeline data preparation or transformation.\n",
    "\n",
    "[**Parameters**](../parameters_processing_files_through_pipelines/process_method.md#selecting-models-via-the-modules-argument) can be set for each module when a pipeline is run and allow for further customization. Each has a default value, so setting them is optional. For instance, one parameterizable item is which specific AI model you want active within a given module.\n",
    "\n",
    "--\n",
    "\n",
    "New modules and models will constantly be added to the Krixik library. To see all available modules at any given time, use the [`available_modules`](../convenience_methods/convenience_methods.md#view-all-available-modules-with-the-available_modules-property) property:\n",
    "\n",
    "```python\n",
    "krixik.available_modules\n",
    "```\n",
    "\n",
    "Each [**module**](../../modules/modules_overview.md) has its own documentation that details, among other things, available models for it. For example, here's documentation for the [`transcribe`](../../modules/ai_modules/transcribe_module.md) module."
   ]
  }
 ],
 "metadata": {
  "kernelspec": {
   "display_name": "venv",
   "language": "python",
   "name": "python3"
  },
  "language_info": {
   "codemirror_mode": {
    "name": "ipython",
    "version": 3
   },
   "file_extension": ".py",
   "mimetype": "text/x-python",
   "name": "python",
   "nbconvert_exporter": "python",
   "pygments_lexer": "ipython3",
   "version": "3.10.13"
  }
 },
 "nbformat": 4,
 "nbformat_minor": 2
}
