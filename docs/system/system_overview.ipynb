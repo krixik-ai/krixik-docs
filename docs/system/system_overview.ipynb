{
 "cells": [
  {
   "cell_type": "markdown",
   "metadata": {},
   "source": [
    "## Getting Started and Beyond: An Overview of the Krixik System\n",
    "\n",
    "In this section we take a deeper look at the methods and underlying concepts of the Krixik system—at all the tools you will need to assemble, parameterize, and consume Krixik pipelines. The topics we'll review herein are the following:"
   ]
  },
  {
   "cell_type": "markdown",
   "metadata": {},
   "source": [
    "### Initialization\n",
    "\n",
    "- [Installing the Python Client](initialization/install_client.md)\n",
    "\n",
    "- [Initializing and Authenticating](initialization/initialize_and_authenticate.md)\n",
    "\n",
    "### Pipeline Creation\n",
    "\n",
    "- [Components of a Krixik Pipeline](pipeline_creation/components_of_a_krixik_pipeline.md)\n",
    "\n",
    "- [Creating a Pipeline](pipeline_creation/create_pipeline.md)\n",
    "\n",
    "- [Pipeline `.config`](pipeline_creation/pipeline_config.md)\n",
    "\n",
    "- [Saving and Loading Pipelines](pipeline_creation/saving_and_loading_pipelines.md)\n",
    "\n",
    "### Parameters + Processing Files Through Pipelines\n",
    "\n",
    "- [Process Files with the Parameterizable `process` Method](parameters_processing_files_through_pipelines/process_method.md)\n",
    "\n",
    "- [JSON Input Format](parameters_processing_files_through_pipelines/JSON_input_format.md)\n",
    "\n",
    "- [The `process_status` Method](parameters_processing_files_through_pipelines/process_status_method.md)\n",
    "\n",
    "- [The `fetch_output` Method](parameters_processing_files_through_pipelines/fetch_output_method.md)\n",
    "\n",
    "- [Data Deletion Policy](parameters_processing_files_through_pipelines/data_deletion_policy.md)\n",
    "\n",
    "### The File System\n",
    "\n",
    "- [The `list` Method](file_system/list_method.md)\n",
    "\n",
    "- [The `update` Method](file_system/update_method.md)\n",
    "\n",
    "- [The `delete` Method](file_system/delete_method.md)\n",
    "\n",
    "- [The `show_tree` Method](file_system/show_tree_method.md)\n",
    "\n",
    "### Search Methods\n",
    "\n",
    "- [The `semantic_search` Method](search_methods/semantic_search_method.md)\n",
    "\n",
    "- [The `keyword_search` Method](search_methods/keyword_search_method.md)\n",
    "\n",
    "### Convenience Methods and More\n",
    "\n",
    "- [Convenience Methods (and More!)](convenience_methods/convenience_methods.md)"
   ]
  }
 ],
 "metadata": {
  "language_info": {
   "name": "python"
  }
 },
 "nbformat": 4,
 "nbformat_minor": 2
}
