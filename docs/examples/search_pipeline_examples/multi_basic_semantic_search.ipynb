{
 "cells": [
  {
   "cell_type": "markdown",
   "metadata": {},
   "source": [
    "<a href=\"https://colab.research.google.com/github/krixik-ai/krixik-docs/blob/main/docs/examples/search_pipeline_examples/multi_basic_semantic_search.ipynb\" target=\"_parent\"><img src=\"https://colab.research.google.com/assets/colab-badge.svg\" alt=\"Open In Colab\"/></a>"
   ]
  },
  {
   "cell_type": "code",
   "execution_count": 1,
   "metadata": {
    "tags": [
     "remove_cell",
     "remove_output"
    ]
   },
   "outputs": [
    {
     "name": "stdout",
     "output_type": "stream",
     "text": [
      "SUCCESS: You are now authenticated.\n"
     ]
    }
   ],
   "source": [
    "import os\n",
    "import sys\n",
    "import json\n",
    "import importlib\n",
    "from pathlib import Path\n",
    "\n",
    "# demo setup - including secrets instantiation, requirements installation, and path setting\n",
    "if os.getenv(\"COLAB_RELEASE_TAG\"):\n",
    "    # if running this notebook in Google Colab - make sure to enter your secrets\n",
    "    MY_API_KEY = \"YOUR_API_KEY_HERE\"\n",
    "    MY_API_URL = \"YOUR_API_URL_HERE\"\n",
    "\n",
    "    # if running this notebook on Google Colab - install requirements and pull required subdirectories\n",
    "    # install Krixik python client\n",
    "    !pip install krixik\n",
    "\n",
    "    # install github clone - allows for easy cloning of subdirectories from docs repo: https://github.com/krixik-ai/krixik-docs\n",
    "    !pip install github-clone\n",
    "\n",
    "    # clone datasets\n",
    "    if not Path(\"data\").is_dir():\n",
    "        !ghclone https://github.com/krixik-ai/krixik-docs/tree/main/data\n",
    "    else:\n",
    "        print(\"docs datasets already cloned!\")\n",
    "\n",
    "    # define data dir\n",
    "    data_dir = \"./data/\"\n",
    "\n",
    "    # create output dir\n",
    "    from pathlib import Path\n",
    "\n",
    "    Path(data_dir + \"/output\").mkdir(parents=True, exist_ok=True)\n",
    "\n",
    "else:\n",
    "    # if running local pull of docs - set paths relative to local docs structure\n",
    "    # import utilities\n",
    "    sys.path.append(\"../../../\")\n",
    "\n",
    "    # define data_dir\n",
    "    data_dir = \"../../../data/\"\n",
    "\n",
    "    # if running this notebook locally from Krixik docs repo - load secrets from a .env placed at the base of the docs repo\n",
    "    from dotenv import load_dotenv\n",
    "\n",
    "    load_dotenv(\"../../../.env\")\n",
    "\n",
    "    MY_API_KEY = os.getenv(\"MY_API_KEY\")\n",
    "    MY_API_URL = os.getenv(\"MY_API_URL\")\n",
    "\n",
    "# import Krixik and initialize it with your personal secrets\n",
    "from krixik import krixik\n",
    "\n",
    "krixik.init(api_key=MY_API_KEY, api_url=MY_API_URL)"
   ]
  },
  {
   "cell_type": "markdown",
   "metadata": {},
   "source": [
    "## Multi-Module Pipeline: Basic Semantic (Vector) Search\n",
    "[🇨🇴 Versión en español de este documento](https://krixik-docs.readthedocs.io/es-main/ejemplos/ejemplos_pipelines_de_busqueda/multi_busqueda_semantica_basica/)\n",
    "\n",
    "This document details a multi-modular pipeline that takes in a text document and enables [`semantic search`](../../system/search_methods/semantic_search_method.md) on it.\n",
    "\n",
    "Semantic (a.k.a. vector) search involves an understanding of the intent and context behind natural language search queries to deliver more relevant and flexible results. Its applications include enhancing search engines, recommendation systems, content discovery platforms, and personalized user interactions.\n",
    "\n",
    "The document is divided into the following sections:\n",
    "\n",
    "- [Pipeline Setup](#pipeline-setup)\n",
    "- [Processing an Input File](#processing-an-input-file)\n",
    "- [Performing Semantic Search](#performing-semantic-search)"
   ]
  },
  {
   "cell_type": "markdown",
   "metadata": {},
   "source": [
    "### Pipeline Setup\n",
    "\n",
    "To achieve what we've described above, let's set up a pipeline sequentially consisting of the following modules:\n",
    "\n",
    "- A [`parser`](../../modules/support_function_modules/parser_module.md) module.\n",
    "\n",
    "- A [`text-embedder`](../../modules/ai_modules/text-embedder_module.md) module.\n",
    "\n",
    "- A [`vector-db`](../../modules/database_modules/vector-db_module.md) module.\n",
    "\n",
    "We do this by leveraging the [`create_pipeline`](../../system/pipeline_creation/create_pipeline.md) method, as follows:"
   ]
  },
  {
   "cell_type": "code",
   "execution_count": 2,
   "metadata": {},
   "outputs": [],
   "source": [
    "# create a pipeline as detailed above\n",
    "pipeline = krixik.create_pipeline(name=\"multi_basic_semantic_search\", module_chain=[\"parser\", \"text-embedder\", \"vector-db\"])"
   ]
  },
  {
   "cell_type": "markdown",
   "metadata": {},
   "source": [
    "### Processing an Input File\n",
    "\n",
    "A pipeline's valid input formats are determined by its first module—in this case, a [`parser`](../../modules/support_function_modules/parser_module.md) module. Therefore, this pipeline only accepts textual document inputs.\n",
    "\n",
    "Lets take a quick look at a test file before processing."
   ]
  },
  {
   "cell_type": "code",
   "execution_count": 3,
   "metadata": {},
   "outputs": [
    {
     "name": "stdout",
     "output_type": "stream",
     "text": [
      "It was a bright cold day in April, and the clocks were striking thirteen.\n",
      "Winston Smith, his chin nuzzled into his breast in an effort to escape the\n",
      "vile wind, slipped quickly through the glass doors of Victory Mansions,\n",
      "though not quickly enough to prevent a swirl of gritty dust from entering\n",
      "along with him.\n",
      "\n",
      "The hallway smelt of boiled cabbage and old rag mats. At one end of it a\n",
      "coloured poster, too large for indoor display, had been tacked to the wall.\n",
      "It depicted simply an enormous face, more than a metre wide: the face of a\n",
      "man of about forty-five, with a heavy black moustache and ruggedly handsome\n",
      "features. Winston made for the stairs. It was no use trying the lift. Even\n",
      "at the best of times it was seldom working, and at present the electric\n",
      "current was cut off during daylight hours. It was part of the economy drive\n",
      "in preparation for Hate Week. The flat was seven flights up, and Winston,\n",
      "who was thirty-nine and had a varicose ulcer above his right ankle, went\n",
      "slowly, resting several times on the way. On each landing, opposite the\n",
      "lift-shaft, the poster with the enormous face gazed from the wall. It was\n",
      "one of those pictures which are so contrived that the eyes follow you about\n",
      "when you move. BIG BROTHER IS WATCHING YOU, the caption beneath it ran.\n",
      "\n",
      "Inside the flat a fruity voice was reading out a list of figures which had\n",
      "something to do with the production of pig-iron. The voice came from an\n",
      "oblong metal plaque like a dulled mirror which formed part of the surface\n",
      "of the right-hand wall. Winston turned a switch and the voice sank\n",
      "somewhat, though the words were still distinguishable. The instrument\n",
      "(the telescreen, it was called) could be dimmed, but there was no way of\n",
      "shutting it off completely. He moved over to the window: a smallish, frail\n",
      "figure, the meagreness of his body merely emphasized by the blue overalls\n",
      "which were the uniform of the party. His hair was very fair, his face\n",
      "naturally sanguine, his skin roughened by coarse soap and blunt razor\n",
      "blades and the cold of the winter that had just ended.\n",
      "\n",
      "Outside, even through the shut window-pane, the world looked cold. Down in\n",
      "the street little eddies of wind were whirling dust and torn paper into\n",
      "spirals, and though the sun was shining and the sky a harsh blue, there\n",
      "seemed to be no colour in anything, except the posters that were plastered\n",
      "everywhere. The black-moustachio'd face gazed down from every commanding\n",
      "corner. There was one on the house-front immediately opposite. BIG BROTHER\n",
      "IS WATCHING YOU, the caption said, while the dark eyes looked deep into\n",
      "Winston's own. Down at street level another poster, torn at one corner,\n",
      "flapped fitfully in the wind, alternately covering and uncovering the\n",
      "single word INGSOC. In the far distance a helicopter skimmed down between\n",
      "the roofs, hovered for an instant like a bluebottle, and darted away again\n",
      "with a curving flight. It was the police patrol, snooping into people's\n",
      "windows. The patrols did not matter, however. Only the Thought Police\n",
      "mattered.\n",
      "\n",
      "Behind Winston's back the voice from the telescreen was still babbling away\n",
      "about pig-iron and the overfulfilment of the Ninth Three-Year Plan. The\n",
      "telescreen received and transmitted simultaneously. Any sound that Winston\n",
      "made, above the level of a very low whisper, would be picked up by it,\n",
      "moreover, so long as he remained within the field of vision which the metal\n",
      "plaque commanded, he could be seen as well as heard. There was of course\n",
      "no way of knowing whether you were being watched at any given moment. How\n",
      "often, or on what system, the Thought Police plugged in on any individual\n",
      "wire was guesswork. It was even conceivable that they watched everybody all\n",
      "the time. But at any rate they could plug in your wire whenever they wanted\n",
      "to. You had to live--did live, from habit that became instinct--in the\n",
      "assumption that every sound you made was overheard, and, except in\n",
      "darkness, every movement scrutinized.\n",
      "\n",
      "Winston kept his back turned to the telescreen. It was safer; though, as he\n",
      "well knew, even a back can be revealing. A kilometre away the Ministry of\n",
      "Truth, his place of work, towered vast and white above the grimy landscape.\n",
      "This, he thought with a sort of vague distaste--this was London, chief\n",
      "city of Airstrip One, itself the third most populous of the provinces of\n",
      "Oceania. He tried to squeeze out some childhood memory that should tell him\n",
      "whether London had always been quite like this. Were there always these\n",
      "vistas of rotting nineteenth-century houses, their sides shored up with\n",
      "baulks of timber, their windows patched with cardboard and their roofs\n",
      "with corrugated iron, their crazy garden walls sagging in all directions?\n",
      "And the bombed sites where the plaster dust swirled in the air and the\n",
      "willow-herb straggled over the heaps of rubble; and the places where the\n",
      "bombs had cleared a larger patch and there had sprung up sordid colonies\n",
      "of wooden dwellings like chicken-houses? But it was no use, he could not\n",
      "remember: nothing remained of his childhood except a series of bright-lit\n",
      "tableaux occurring against no background and mostly unintelligible.\n",
      "\n",
      "The Ministry of Truth--Minitrue, in Newspeak [Newspeak was the official\n",
      "language of Oceania. For an account of its structure and etymology see\n",
      "Appendix.]--was startlingly different from any other object in sight. It\n",
      "was an enormous pyramidal structure of glittering white concrete, soaring\n",
      "up, terrace after terrace, 300 metres into the air. From where Winston\n",
      "stood it was just possible to read, picked out on its white face in\n",
      "elegant lettering, the three slogans of the Party:\n",
      "\n",
      "\n",
      "  WAR IS PEACE\n",
      "  FREEDOM IS SLAVERY\n",
      "  IGNORANCE IS STRENGTH\n"
     ]
    }
   ],
   "source": [
    "# examine contents of input file\n",
    "with open(data_dir + \"input/1984_short.txt\", \"r\") as file:\n",
    "    print(file.read())"
   ]
  },
  {
   "cell_type": "markdown",
   "metadata": {},
   "source": [
    "We will use the default models for every module in the pipeline, so the [`modules`](../../system/parameters_processing_files_through_pipelines/process_method.md#selecting-models-via-the-modules-argument) argument of the [`process`](../../system/parameters_processing_files_through_pipelines/process_method.md) method doesn't need to be leveraged."
   ]
  },
  {
   "cell_type": "code",
   "execution_count": 4,
   "metadata": {},
   "outputs": [],
   "source": [
    "# process the file through the pipeline, as described above\n",
    "process_output = pipeline.process(\n",
    "    local_file_path=data_dir + \"input/1984_short.txt\",  # the initial local filepath where the input file is stored\n",
    "    local_save_directory=data_dir + \"output\",  # the local directory that the output file will be saved to\n",
    "    expire_time=60 * 30,  # process data will be deleted from the Krixik system in 30 minutes\n",
    "    wait_for_process=True,  # wait for process to complete before returning IDE control to user\n",
    "    verbose=False,\n",
    ")  # do not display process update printouts upon running code"
   ]
  },
  {
   "cell_type": "markdown",
   "metadata": {},
   "source": [
    "The output of this process is printed below. To learn more about each component of the output, review documentation for the [`process`](../../system/parameters_processing_files_through_pipelines/process_method.md) method.\n",
    "\n",
    "Because the output of this particular module-model pair is a [FAISS](https://github.com/facebookresearch/faiss) database file, `process_output` is \"null\". However, the output file has been saved to the location noted in the `process_output_files` key.  The `file_id` of the processed input is used as a filename prefix for the output file."
   ]
  },
  {
   "cell_type": "code",
   "execution_count": 5,
   "metadata": {},
   "outputs": [
    {
     "name": "stdout",
     "output_type": "stream",
     "text": [
      "{\n",
      "  \"status_code\": 200,\n",
      "  \"pipeline\": \"multi_basic_semantic_search\",\n",
      "  \"request_id\": \"46c2fed2-ed7b-4046-8fa9-3f6143391699\",\n",
      "  \"file_id\": \"3c9f01fe-1a93-43f4-b87c-5270225a0575\",\n",
      "  \"message\": \"SUCCESS - output fetched for file_id 3c9f01fe-1a93-43f4-b87c-5270225a0575.Output saved to location(s) listed in process_output_files.\",\n",
      "  \"warnings\": [],\n",
      "  \"process_output\": null,\n",
      "  \"process_output_files\": [\n",
      "    \"../../../data/output/3c9f01fe-1a93-43f4-b87c-5270225a0575.faiss\"\n",
      "  ]\n",
      "}\n"
     ]
    }
   ],
   "source": [
    "# nicely print the output of this process\n",
    "print(json.dumps(process_output, indent=2))"
   ]
  },
  {
   "cell_type": "markdown",
   "metadata": {},
   "source": [
    "### Performing Semantic Search\n",
    "\n",
    "Krixik's [`semantic_search`](../../system/search_methods/semantic_search_method.md) method enables semantic (vector) search on documents processed through certain pipelines. Given that the [`semantic_search`](../../system/search_methods/semantic_search_method.md) method both [embeds](../../modules/ai_modules/text-embedder_module.md) the query and performs the search, it can only be used with pipelines containing both a [`text-embedder`](../../modules/ai_modules/text-embedder_module.md) module and a [`vector-db`](../../modules/database_modules/vector-db_module.md) module in immediate succession.\n",
    "\n",
    "Since our pipeline satisfies this condition, it has access to the [`semantic_search`](../../system/search_methods/semantic_search_method.md) method. Let's use it to query our text with natural language, as shown below:"
   ]
  },
  {
   "cell_type": "code",
   "execution_count": 6,
   "metadata": {},
   "outputs": [
    {
     "name": "stdout",
     "output_type": "stream",
     "text": [
      "{\n",
      "  \"status_code\": 200,\n",
      "  \"request_id\": \"a6ee5fb9-f652-4ffa-a1bd-a824eb3f9079\",\n",
      "  \"message\": \"Successfully queried 1 user file.\",\n",
      "  \"warnings\": [],\n",
      "  \"items\": [\n",
      "    {\n",
      "      \"file_id\": \"3c9f01fe-1a93-43f4-b87c-5270225a0575\",\n",
      "      \"file_metadata\": {\n",
      "        \"file_name\": \"krixik_generated_file_name_rnhqfhzbgh.txt\",\n",
      "        \"symbolic_directory_path\": \"/etc\",\n",
      "        \"file_tags\": [],\n",
      "        \"num_vectors\": 50,\n",
      "        \"created_at\": \"2024-06-05 14:51:02\",\n",
      "        \"last_updated\": \"2024-06-05 14:51:02\"\n",
      "      },\n",
      "      \"search_results\": [\n",
      "        {\n",
      "          \"snippet\": \"Outside, even through the shut window-pane, the world looked cold.\",\n",
      "          \"line_numbers\": [\n",
      "            32,\n",
      "            33\n",
      "          ],\n",
      "          \"distance\": 0.232\n",
      "        },\n",
      "        {\n",
      "          \"snippet\": \"It was a bright cold day in April, and the clocks were striking thirteen.\",\n",
      "          \"line_numbers\": [\n",
      "            1\n",
      "          ],\n",
      "          \"distance\": 0.236\n",
      "        },\n",
      "        {\n",
      "          \"snippet\": \"His hair was very fair, his face\\nnaturally sanguine, his skin roughened by coarse soap and blunt razor\\nblades and the cold of the winter that had just ended.\",\n",
      "          \"line_numbers\": [\n",
      "            29,\n",
      "            30,\n",
      "            31\n",
      "          ],\n",
      "          \"distance\": 0.324\n",
      "        },\n",
      "        {\n",
      "          \"snippet\": \"Down in\\nthe street little eddies of wind were whirling dust and torn paper into\\nspirals, and though the sun was shining and the sky a harsh blue, there\\nseemed to be no colour in anything, except the posters that were plastered\\neverywhere.\",\n",
      "          \"line_numbers\": [\n",
      "            33,\n",
      "            34,\n",
      "            35,\n",
      "            36,\n",
      "            37\n",
      "          ],\n",
      "          \"distance\": 0.33\n",
      "        },\n",
      "        {\n",
      "          \"snippet\": \"It was the police patrol, snooping into people's\\nwindows.\",\n",
      "          \"line_numbers\": [\n",
      "            44,\n",
      "            45\n",
      "          ],\n",
      "          \"distance\": 0.352\n",
      "        }\n",
      "      ]\n",
      "    }\n",
      "  ]\n",
      "}\n"
     ]
    }
   ],
   "source": [
    "# perform semantic_search over the file in the pipeline\n",
    "semantic_output = pipeline.semantic_search(query=\"it was cold night\", file_ids=[process_output[\"file_id\"]])\n",
    "\n",
    "# nicely print the output of this process\n",
    "print(json.dumps(semantic_output, indent=2))"
   ]
  },
  {
   "cell_type": "markdown",
   "metadata": {},
   "source": [
    "To view detail on a pipeline that enables search over text snippets in a JSON file instead of straight text documents, [click here](multi_snippet_semantic_search.md)."
   ]
  },
  {
   "cell_type": "code",
   "execution_count": 7,
   "metadata": {
    "tags": [
     "remove_cell"
    ]
   },
   "outputs": [],
   "source": [
    "# delete all processed datapoints belonging to this pipeline\n",
    "krixik.reset_pipeline(pipeline)"
   ]
  }
 ],
 "metadata": {
  "kernelspec": {
   "display_name": "venv",
   "language": "python",
   "name": "python3"
  },
  "language_info": {
   "codemirror_mode": {
    "name": "ipython",
    "version": 3
   },
   "file_extension": ".py",
   "mimetype": "text/x-python",
   "name": "python",
   "nbconvert_exporter": "python",
   "pygments_lexer": "ipython3",
   "version": "3.10.13"
  }
 },
 "nbformat": 4,
 "nbformat_minor": 2
}
