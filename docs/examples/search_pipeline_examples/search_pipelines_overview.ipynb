{
 "cells": [
  {
   "cell_type": "markdown",
   "metadata": {},
   "source": [
    "## Krixik Search Pipelines\n",
    "[🇨🇴 Spanish version of this document](https://krixik-docs.readthedocs.io/es-main/ejemplos/ejemplos_pipelines_de_busqueda/introduccion_pipelines_de_busqueda/)\n",
    "\n",
    "### Search Pipeline Overview\n",
    "\n",
    "Search pipelines are those that enable document search on textual documents. These documents may be the initial pipeline input or they may be generated mid-pipeline, as may for instance be the case in pipelines that begin with transcription (where audio is converted to text) or image captioning (image to text) modules.   \n",
    "\n",
    "Such search capabilities are often employed in RAG (Retrieval-Augmented Generation) systems today, but the pipelines described in this section can also have general application with recommendation systems, image and video retrieval based on content similarity, and personalized content delivery, to name a few possibilitiess.\n",
    "\n",
    "Two types of document search can be enabled: [semantic search](../../system/search_methods/semantic_search_method.md) and [keyword search](../../system/search_methods/keyword_search_method.md). Depending on which of these is sought, the final module of the pipeline must respectively be [`vector-db`](../../modules/database_modules/vector-db_module.md) or [`keyword-db`](../../modules/database_modules/keyword-db_module.md).\n",
    "\n",
    "Search pipelines are more complex than other pipelines because they require an additional step.\n",
    "\n",
    "- Files must first be \"loaded\" into the the pipeline with the [`process`](../../system/parameters_processing_files_through_pipelines/process_method.md) method.\n",
    "\n",
    "- The [`keyword_search`](../../system/search_methods/keyword_search_method.md) method or the [`semantic_search`](../../system/search_methods/semantic_search_method.md) method can be invoked on a search pipeline once at least one file has been [processed](../../system/parameters_processing_files_through_pipelines/process_method.md) through it. Keep in mind that the [`keyword_search`](../../system/search_methods/keyword_search_method.md) method can only be invoked on a pipeline that ends with [`keyword-db`](../../modules/database_modules/keyword-db_module.md), and the [`semantic_search`](../../system/search_methods/semantic_search_method.md) method can only be invoked on a pipeline that ends with [`vector-db`](../../modules/database_modules/vector-db_module.md).\n",
    "\n",
    "### Search Pipeline Examples\n",
    "\n",
    "- [Semantic Search](multi_basic_semantic_search.md): Enables [`semantic search`](../../system/search_methods/semantic_search_method.md) on an input text file.\n",
    "\n",
    "- [Semantic Search on Snippets](multi_snippet_semantic_search.md): Enables [`semantic search`](../../system/search_methods/semantic_search_method.md) on snippets in an input JSON file.\n",
    "\n",
    "- [Keyword Search](multi_basic_keyword-search.md): Enables [`keyword search`](../../system/search_methods/keyword_search_method.md) on an input text file.\n",
    "\n",
    "- [Semantically-Searchable Transcription](multi_semantically_searchable_transcription.md): [`Transcribes`](../../modules/ai_modules/transcribe_module.md) an input audio file and then enables [`semantic search`](../../system/search_methods/semantic_search_method.md) on the transcript.\n",
    "\n",
    "- [Keyword-Searchable Transcription](multi_keyword_searchable_transcription.md): [`Transcribes`](../../modules/ai_modules/transcribe_module.md) an input audio file and then enables [`keyword search`](../../system/search_methods/keyword_search_method.md) on the transcript.\n",
    "\n",
    "- [Semantically-Searchable Translation](multi_semantically_searchable_translation.md): [`Translates`](../../modules/ai_modules/translate_module.md) an input text file and then enables [`semantic search`](../../system/search_methods/semantic_search_method.md) on the translation.\n",
    "\n",
    "- [Semantically-Searchable Translated Transcription](multi_semantically_searchable_translated_transcription.md): [`Transcribes`](../../modules/ai_modules/transcribe_module.md) an input audio file, [`translates`](../../modules/ai_modules/translate_module.md) it into English, and then enables [`semantic search`](../../system/search_methods/semantic_search_method.md) on the translation.\n",
    "\n",
    "- [Semantically-Searchable OCR](multi_semantically_searchable_ocr.md): [`Extracts text`](../../modules/ai_modules/ocr_module.md) from an input image and then enables [`semantic search`](../../system/search_methods/semantic_search_method.md) on the extracted text.\n",
    "\n",
    "- [Keyword-Searchable Image Captions](multi_keyword_searchable_image_captions.md): Generates a [`textual caption`](../../modules/ai_modules/caption_module.md) for an input image and then enables [`keyword search`](../../system/search_methods/keyword_search_method.md) on the caption."
   ]
  }
 ],
 "metadata": {
  "kernelspec": {
   "display_name": "venv",
   "language": "python",
   "name": "python3"
  },
  "language_info": {
   "codemirror_mode": {
    "name": "ipython",
    "version": 3
   },
   "file_extension": ".py",
   "mimetype": "text/x-python",
   "name": "python",
   "nbconvert_exporter": "python",
   "pygments_lexer": "ipython3",
   "version": "3.10.13"
  }
 },
 "nbformat": 4,
 "nbformat_minor": 2
}
