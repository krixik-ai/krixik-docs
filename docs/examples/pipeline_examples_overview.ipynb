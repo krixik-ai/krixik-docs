{
 "cells": [
  {
   "cell_type": "markdown",
   "metadata": {},
   "source": [
    "## Krixik Pipeline Examples\n",
    "\n",
    "Ready to see some pipeline examples to draw inspiration from? Let's dive in!\n",
    "\n",
    "The first section below details every single-module pipeline buildable today. Use these if there is one particular module you'd like to leverage by itself.\n",
    "\n",
    "Then we delve into a few examples of multi-module pipelines, which is where the power of Krixik really shines through. We close with a look at multi-module search-enabled pipelines, whose functionality is slightly different from the rest."
   ]
  },
  {
   "cell_type": "markdown",
   "metadata": {},
   "source": [
    "### Single-Module Pipelines\n",
    "\n",
    "- [Image Caption](single_module_pipelines/single_caption.md)\n",
    "\n",
    "- [OCR](single_module_pipelines/single_ocr.md)\n",
    "\n",
    "- [Sentiment Analysis](single_module_pipelines/single_sentiment.md)\n",
    "\n",
    "- [Summarizer](single_module_pipelines/single_summarize.md)\n",
    "\n",
    "- [Text Embedder](single_module_pipelines/single_text-embedder.md)\n",
    "\n",
    "- [Parser](single_module_pipelines/single_parser.md)\n",
    "\n",
    "- [Transcriber](single_module_pipelines/single_transcribe.md)\n",
    "\n",
    "- [Translator](single_module_pipelines/single_translate.md)\n",
    "\n",
    "- [Keyword Database](single_module_pipelines/single_keyword-db.md)\n",
    "\n",
    "- [Vector Database](single_module_pipelines/single_vector-db.md)\n",
    "\n",
    "- [JSON to TXT](single_module_pipelines/single_json-to-txt.md)\n",
    "\n",
    "###  Multi-step conversion pipeline examples\n",
    "\n",
    "- [Recursive Summarization](multi_module_non_search_pipeline_examples/multi_recursive_summarization.md): Chains multiple text [`summarize`](../modules/ai_modules/summarize_module.md) modules together. The longer the module chain, the greater the degree of summarization.\n",
    "\n",
    "- [Translated Transcription](multi_module_non_search_pipeline_examples/multi_translated_transcription.md): After [`transcribing`](../modules/ai_modules/transcribe_module.md) an input audio file, [`translates`](../modules/ai_modules/translate_module.md) the transcript into the language of your choice.\n",
    "\n",
    "- [Sentiment Analysis on Transcription](multi_module_non_search_pipeline_examples/multi_sentiment_analysis_on_transcription.md): After [`transcribing`](../modules/ai_modules/transcribe_module.md) an input audio file, performs [`sentiment analysis`](../modules/ai_modules/sentiment_module.md) on each sentence of the transcript.\n",
    "\n",
    "- [Sentiment Analysis on Translation](multi_module_non_search_pipeline_examples/multi_sentiment_analysis_on_translation.md): [`Translates`](../modules/ai_modules/translate_module.md) input text into English and then perfoms [`sentiment analysis`](../modules/ai_modules/sentiment_module.md) on each sentence of the translation.\n",
    "\n",
    "- [Sentiment Analysis on Translated Transcription](multi_module_non_search_pipeline_examples/multi_sentiment_analysis_on_translated_transcription.md): After first [`transcribing`](../modules/ai_modules/transcribe_module.md) an input audio file and then [`translating`](../modules/ai_modules/translate_module.md) the transcript into English, performs [`sentiment analysis`](../modules/ai_modules/sentiment_module.md) on each sentence of the translation.\n",
    "\n",
    "### multi-step search and RAG pipeline examples\n",
    "\n",
    "- [Search Pipeline Overview](search_pipeline_examples/search_pipelines_overview.md): Search pipelines call for the use of one of two additional methods. Read about it here.\n",
    "\n",
    "- [Semantic Search](search_pipeline_examples/multi_basic_semantic_search.md): Enables `semantic search` on an input text file.\n",
    "\n",
    "- [Semantic Search on Snippets](search_pipeline_examples/multi_snippet_semantic_search.md): Enables `semantic search` on snippets in an input JSON file.\n",
    "\n",
    "- [Keyword Search](search_pipeline_examples/multi_basic_keyword-search.md): Enables `keyword search` on an input text file.\n",
    "\n",
    "- [Semantically-Searchable Transcription](search_pipeline_examples/multi_semantically_searchable_transcription.md): [`Transcribes`](../modules/ai_modules/transcribe_module.md) an input audio file and then enables `semantic search` on the transcript.\n",
    "\n",
    "- [Keyword-Searchable Transcription](search_pipeline_examples/multi_keyword_searchable_transcription.md): [`Transcribes`](../modules/ai_modules/transcribe_module.md) an input audio file and then enables `keyword search` on the transcript.\n",
    "\n",
    "- [Semantically-Searchable Translation](search_pipeline_examples/multi_semantically_searchable_translation.md): [`Translates`](../modules/ai_modules/translate_module.md) an input text file and then enables `semantic search` on the translation.\n",
    "\n",
    "- [Semantically-Searchable Translated Transcription](search_pipeline_examples/multi_semantically_searchable_translated_transcription.md): [`Transcribes`](../modules/ai_modules/transcribe_module.md) an input audio file, [`translates`](../modules/ai_modules/translate_module.md) it into English, and then enables `semantic search` on the translation.\n",
    "\n",
    "- [Semantically-Searchable OCR](search_pipeline_examples/multi_semantically_searchable_ocr.md): [`Extracts text`](../modules/ai_modules/ocr_module.md) from an input image and then enables `semantic search` on the extracted text.\n",
    "\n",
    "- [Keyword-Searchable Image Captions](search_pipeline_examples/multi_keyword_searchable_image_captions.md): Generates a [`textual caption`](../modules/ai_modules/caption_module.md) for an input image and then enables `keyword search` on the caption."
   ]
  }
 ],
 "metadata": {
  "kernelspec": {
   "display_name": "venv",
   "language": "python",
   "name": "python3"
  },
  "language_info": {
   "codemirror_mode": {
    "name": "ipython",
    "version": 3
   },
   "file_extension": ".py",
   "mimetype": "text/x-python",
   "name": "python",
   "nbconvert_exporter": "python",
   "pygments_lexer": "ipython3",
   "version": "3.10.13"
  }
 },
 "nbformat": 4,
 "nbformat_minor": 2
}
