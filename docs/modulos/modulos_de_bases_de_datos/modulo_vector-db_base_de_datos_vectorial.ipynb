{
 "cells": [
  {
   "cell_type": "markdown",
   "metadata": {},
   "source": [
    "<a href=\"https://colab.research.google.com/github/krixik-ai/krixik-docs/blob/main/docs/modules/database_modules/vector-db_module.ipynb\" target=\"_parent\"><img src=\"https://colab.research.google.com/assets/colab-badge.svg\" alt=\"Open In Colab\"/></a>"
   ]
  },
  {
   "cell_type": "code",
   "execution_count": null,
   "metadata": {
    "tags": [
     "remove_cell",
     "remove_output"
    ]
   },
   "outputs": [
    {
     "name": "stdout",
     "output_type": "stream",
     "text": [
      "SUCCESS: You are now authenticated.\n"
     ]
    }
   ],
   "source": [
    "import os\n",
    "import sys\n",
    "import json\n",
    "import importlib\n",
    "from pathlib import Path\n",
    "\n",
    "# preparación de demo - incuye instanciación de secretos, instalación de requerimientos, y definición de rutas\n",
    "if os.getenv(\"COLAB_RELEASE_TAG\"):\n",
    "    # si estás usando este notebook en Google Colab, ingresa tus secretos acá\n",
    "    MY_API_KEY = \"TU_API_KEY_VA_AQUI\"\n",
    "    MY_API_URL = \"TU_API_URL_VA_AQUI\"\n",
    "\n",
    "    # si estás usando este notebook en Google Colab, instala requerimientos y descarga los subdirectorios requeridos\n",
    "    # instala el cliente Python de Krixik\n",
    "    !pip install krixik\n",
    "\n",
    "    # instala github-clone, que permite clonación fácil de los subdirectorios del repositorio de documentación https://github.com/krixik-ai/krixik-docs\n",
    "    !pip install github-clone\n",
    "\n",
    "    # clona los conjuntos de datos\n",
    "    if not Path(\"data\").is_dir():\n",
    "        !ghclone https://github.com/krixik-ai/krixik-docs/tree/es-main/data\n",
    "    else:\n",
    "        print(\"ya se clonaron los conjuntos de datos de documentación!\")\n",
    "\n",
    "    # define la variable 'data_dir' para tus rutas\n",
    "    data_dir = \"./data/\"\n",
    "\n",
    "    # crea directorio de salidas\n",
    "    from pathlib import Path\n",
    "\n",
    "    Path(data_dir + \"/salidas\").mkdir(parents=True, exist_ok=True)\n",
    "\n",
    "    # descarga utilidades\n",
    "    if not Path(\"utilities\").is_dir():\n",
    "        !ghclone https://github.com/krixik-ai/krixik-docs/tree/es-main/utilities\n",
    "    else:\n",
    "        print(\"ya has clonado las utilidades de documentación!\")\n",
    "else:\n",
    "    # si estás usando una descarga local de la documentación, define las rutas relativas a la estructura local de la documentación\n",
    "    # importa utilidades\n",
    "    sys.path.append(\"../../../\")\n",
    "\n",
    "    # define la variable 'data_dir' para tus rutas\n",
    "    data_dir = \"../../../data/\"\n",
    "\n",
    "    # si estás usando este notebook localmente desde el repositorio de documentación Krixik, carga tus secretos de un archivo .env ubicado en la base del repositorio de documentación\n",
    "    from dotenv import load_dotenv\n",
    "\n",
    "    load_dotenv(\"../../../.env\")\n",
    "\n",
    "    MY_API_KEY = os.getenv(\"MY_API_KEY\")\n",
    "    MY_API_URL = os.getenv(\"MY_API_URL\")\n",
    "\n",
    "\n",
    "# carga 'reset'\n",
    "reset = importlib.import_module(\"utilities.reset\")\n",
    "reset_pipeline = reset.reset_pipeline\n",
    "\n",
    "\n",
    "# importa Krixik e inicializa sesión con tus secretos personales\n",
    "from krixik import krixik\n",
    "\n",
    "krixik.init(api_key=MY_API_KEY, api_url=MY_API_URL)"
   ]
  },
  {
   "cell_type": "markdown",
   "metadata": {},
   "source": [
    "## El Módulo `vector-db` (Base de Datos Vectorial)\n",
    "[🇺🇸 English version of this document](https://krixik-docs.readthedocs.io/latest/modules/database_modules/vector-db_module/)\n",
    "\n",
    "El módulo `vector-db` (base de datos vectorial) toma como entrada un arreglo NumPy, indexa sus vectores, y devuelve una base de datos [FAISS](https://github.com/facebookresearch/faiss) indexada.\n",
    "\n",
    "Esta introducción al módulo `vector-db` se divide en las siguientes secciones:\n",
    "\n",
    "- [Entradas y Salidas del Módulo `vector-db`](#entradas-y-salidas-del-modulo-vector-db)\n",
    "- [Modelos Disponibles en el Módulo `vector-db`](#modelos-disponibles-en-el-modulo-vector-db)\n",
    "- [Parámetros de Modelo en el Módulo `vector-db`](#parametros-de-modelo-en-el-modulo-vector-db)\n",
    "- [Un *Pipeline* de Módulo Único para el Módulo `vector-db` y Consultas Locales](#un-pipeline-de-modulo-unico-para-el-modulo-vector-db-y-consultas-locales)\n",
    "- [El Método `semantic_search`](#el-metodo-semantic_search)\n",
    "- [Más Información sobre el Módulo `vector-db`: IO y Conectabilidad](#mas-informacion-sobre-el-modulo-vector-db-io-y-conectabilidad)"
   ]
  },
  {
   "cell_type": "markdown",
   "metadata": {},
   "source": [
    "### Entradas y Salidas del Modulo `vector-db`\n",
    "\n",
    "El módulo `vector-db` recibe como entrada un archivo NPY que consiste de un solo arreglo NumPy. Cada fila en el arreglo es un vector a indexar para búsqueda semántica (también conocida como búsqueda vectorial).\n",
    "\n",
    "El módulo `vector-db` devuelve un archivo de base de datos [FAISS](https://github.com/facebookresearch/faiss) indexada.\n",
    "\n",
    "Para ver un ejemplo de un pequeño archivo de entrada para este módulo, detalla la salida del siguiente código:"
   ]
  },
  {
   "cell_type": "code",
   "execution_count": 3,
   "metadata": {},
   "outputs": [
    {
     "data": {
      "text/plain": [
       "array([[0, 1],\n",
       "       [1, 0],\n",
       "       [1, 1]], dtype=int64)"
      ]
     },
     "execution_count": 3,
     "metadata": {},
     "output_type": "execute_result"
    }
   ],
   "source": [
    "# detallar el contenido de un pequeño archivo de entrada\n",
    "import numpy as np\n",
    "\n",
    "test_file = data_dir + \"input/vectores.npy\"\n",
    "np.load(test_file)"
   ]
  },
  {
   "cell_type": "markdown",
   "metadata": {},
   "source": [
    "### Modelos Disponibles en el Modulo `vector-db`\n",
    "\n",
    "Puedes utilizar el siguiente modelo al usar el módulo `vector-db`:\n",
    "\n",
    "- [faiss](https://github.com/facebookresearch/faiss) (predeterminado)\n",
    "\n",
    "Usa el argumento [`modules`](../../sistema/parametros_y_procesar_archivos_a_traves_de_pipelines/metodo_process_procesar.md#seleccion-de-modelo-por-medio-del-argumento-modules) en el método [`process`](../../sistema/parametros_y_procesar_archivos_a_traves_de_pipelines/metodo_process_procesar.md) para determinar qué modelo quieres activo al procesar archivos a través del módulo `vector-db`, pero ten en cuenta que por lo pronto solo existe una opción."
   ]
  },
  {
   "cell_type": "markdown",
   "metadata": {},
   "source": [
    "### Parametros de Modelo en el Modulo `vector-db`\n",
    "\n",
    "El modelo [`faiss`](https://github.com/facebookresearch/faiss) del módulo `vector-db` no es parametrizable. Por ende, si especificas qué modelo usarás a través del argumento [`modules`](../../sistema/parametros_y_procesar_archivos_a_traves_de_pipelines/metodo_process_procesar.md#seleccion-de-modelo-por-medio-del-argumento-modules) del método [`process`](../../sistema/parametros_y_procesar_archivos_a_traves_de_pipelines/metodo_process_procesar.md), `params` siempre será un diccionario vacío. Por ejemplo:\n",
    "\n",
    "```python\n",
    "# ejemplo de especificación de modelo para el módulo vector-db en el método process\n",
    "modules={'vector-db': {'model':'faiss',\n",
    "                       'params': {}}}\n",
    "```"
   ]
  },
  {
   "cell_type": "markdown",
   "metadata": {},
   "source": [
    "### Un *Pipeline* de Modulo Unico para el Modulo `vector-db` y Consultas Locales\n",
    "\n",
    "Haz [clic aquí](../../ejemplos/ejemplos_pipelines_modulo_unico/unico_vector-db_base_de_datos_vectorial.md) para detallar un ejemplo de un *pipeline* de módulo único con un módulo `vector-db`.\n",
    "\n",
    "Ten en cuenta que las salidas de este *pipeline* son en formato archivo de base de datos [FAISS](https://github.com/facebookresearch/faiss), un formato no legible por humanos. Además, para que este *pipeline* de módulo único funcione, necesitarás tener por separado uno o más archivos NPY en formato correcto que te sirvan de entradas.\n",
    "\n",
    "El ejemplo también incluye una introducción a cómo hacer [consultas locales](../../ejemplos/ejemplos_pipelines_modulo_unico/unico_vector-db_base_de_datos_vectorial.md#consulta-bases-de-datos-de-salida-localmente) a tus salidas en formato base de dato [FAISS](https://github.com/facebookresearch/faiss)."
   ]
  },
  {
   "cell_type": "markdown",
   "metadata": {},
   "source": [
    "### El Metodo `semantic_search`\n",
    "\n",
    "Cualquier pipeline que contiene un módulo `vector-db` precedido de un módulo [`text-embedder`](../modulos_ia/modulo_text-embedder_encaje_lexico.md) tiene acceso al método [`semantic_search`](../../sistema/metodos_de_busqueda/metodo_semantic_search_busqueda_semantica.md). Este te permite hacer búsqueda semántica sobre las bases de datos vectoriales que se han creado."
   ]
  },
  {
   "cell_type": "markdown",
   "metadata": {},
   "source": [
    "### Mas Informacion sobre el Modulo `vector-db`: IO y Conectabilidad\n",
    "\n",
    "Haz [clic aquí](../../sistema/metodos_de_conveniencia/metodos_de_conveniencia.md) para visitar documentación Krixik titulada `Métodos de Conveniencia (¡y Más!)`. Allí encontrarás dos herramientas con las que puedes aprender más sobre el módulo `vector-db`: \n",
    "\n",
    "- [Ve Ejemplos de Entradas y Salidas de un Módulo](../../sistema/metodos_de_conveniencia/metodos_de_conveniencia.md#ve-ejemplos-de-entradas-y-salidas-de-un-modulo)\n",
    "\n",
    "- [Ve Data de Conectividad de un Módulo con el Método `click_data`](../../sistema/metodos_de_conveniencia/metodos_de_conveniencia.md#ve-data-de-conectividad-de-un-modulo-con-el-metodo-click_data)"
   ]
  }
 ],
 "metadata": {
  "kernelspec": {
   "display_name": "venv",
   "language": "python",
   "name": "python3"
  },
  "language_info": {
   "codemirror_mode": {
    "name": "ipython",
    "version": 3
   },
   "file_extension": ".py",
   "mimetype": "text/x-python",
   "name": "python",
   "nbconvert_exporter": "python",
   "pygments_lexer": "ipython3",
   "version": "3.12.0"
  }
 },
 "nbformat": 4,
 "nbformat_minor": 2
}
