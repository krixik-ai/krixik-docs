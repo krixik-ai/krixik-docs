{
 "cells": [
  {
   "cell_type": "markdown",
   "metadata": {},
   "source": [
    "## El Módulo `parser` (Fragmentación de Texto)\n",
    "[🇺🇸 English version of this document](https://krixik-docs.readthedocs.io/latest/modules/support_function_modules/parser_module/)\n",
    "\n",
    "El módulo `parser` (fragmentación de texto) toma como entrada un documento textual, lo fragmenta en pequeñas frases de palabras consecutivas, y devuelve todos los fragmentos separados en un archivo JSON.\n",
    "\n",
    "Esta introducción al módulo `parser` se divide en las siguientes secciones:\n",
    "\n",
    "- [Entradas y Salidas del Módulo `parser`](#entradas-y-salidas-del-modulo-parser)\n",
    "- [Modelos Disponibles en el Módulo `parser`](#modelos-disponibles-en-el-modulo-parser)\n",
    "- [Parámetros de los Modelos en el Módulo `parser`](#parametros-de-los-modelos-en-el-modulo-parser)\n",
    "- [Un *Pipeline* de Módulo Único para el Módulo `parser`](#un-pipeline-de-modulo-unico-para-el-modulo-parser)\n",
    "- [Más Información sobre el Módulo `parser`: IO y Conectabilidad](#mas-informacion-sobre-el-modulo-parser-io-y-conectabilidad)"
   ]
  },
  {
   "cell_type": "markdown",
   "metadata": {},
   "source": [
    "### Entradas y Salidas del Modulo `parser`\n",
    "\n",
    "El módulo `parser` (fragmentación de texto) recibe entradas de documentos textuales. Los siguientes formatos de archivo son aceptables:\n",
    "\n",
    "- TXT\n",
    "\n",
    "- PDF (se convierte automáticamente en TXT antes de procesar)\n",
    "\n",
    "- DOCX (se convierte automáticamente en TXT antes de procesar)\n",
    "\n",
    "- PPTX (se convierte automáticamente en TXT antes de procesar)\n",
    "\n",
    "El módulo `parser` devuelve un archivo JSON que contiene todos los fragmentos de texto post-fragmentación. Cada fragmento es acompañado por sus números de linea en el documento original, lo cual te puede ayudar a luego saber de dónde en el documento salió ese fragmento. Por ejemplo, detalla la siguiente salida de un proceso `parser`:"
   ]
  },
  {
   "cell_type": "markdown",
   "metadata": {},
   "source": [
    "```python\n",
    "{\n",
    "  \"status_code\": 200,\n",
    "  \"pipeline\": \"modules-parser-docs\",\n",
    "  \"request_id\": \"5908efbc-b06d-44f3-93c8-a46c29540637\",\n",
    "  \"file_id\": \"575c69c6-0571-4f56-8e49-6c1e4f4a3f4a\",\n",
    "  \"message\": \"SUCCESS - output fetched for file_id 575c69c6-0571-4f56-8e49-6c1e4f4a3f4a.Output saved to location(s) listed in process_output_files.\",\n",
    "  \"warnings\": [],\n",
    "  \"process_output\": [\n",
    "    {\n",
    "      \"snippet\": \"It was a bright cold day in April, and the clocks were striking thirteen.\",\n",
    "      \"line_numbers\": [\n",
    "        1\n",
    "      ]\n",
    "    },\n",
    "    {\n",
    "      \"snippet\": \"Winston Smith, his chin nuzzled into his breast in an effort to escape the\\nvile wind, slipped quickly through the glass doors of Victory Mansions,\\nthough not quickly enough to prevent a swirl of gritty dust from entering\\nalong with him.\",\n",
    "      \"line_numbers\": [\n",
    "        2,\n",
    "        3,\n",
    "        4,\n",
    "        5\n",
    "      ]\n",
    "    }\n",
    "  ],\n",
    "  \"process_output_files\": [\n",
    "    \"../../data/output/575c69c6-0571-4f56-8e49-6c1e4f4a3f4a.json\"\n",
    "  ]\n",
    "}\n",
    "```"
   ]
  },
  {
   "cell_type": "markdown",
   "metadata": {},
   "source": [
    "### Modelos Disponibles en el Modulo `parser`\n",
    "\n",
    "Puedes activar cualquiera de los siguientes modelos al usar el módulo `parser`:\n",
    "\n",
    "- [sentence](https://www.nltk.org/api/nltk.tokenize.html) - (predeterminado)\n",
    "\n",
    "- `fixed` - Desarrollado por Krixik. No es un modelo sino una función de apoyo. Divide el texto en fragmentos de texto potencialmente superpuestos—fragmentos de palabras consecutivas que siempre contienen el mismo número de palabras.\n",
    "\n",
    "Usa el argumento [`modules`](../../sistema/parametros_y_procesar_archivos_a_traves_de_pipelines/metodo_process_procesar.md#seleccion-de-modelo-por-medio-del-argumento-modules) en el método [`process`](../../sistema/parametros_y_procesar_archivos_a_traves_de_pipelines/metodo_process_procesar.md) para determinar qué modelo quieres activo al procesar archivos a través del módulo `parser`."
   ]
  },
  {
   "cell_type": "markdown",
   "metadata": {},
   "source": [
    "### Parametros de los Modelos en el Modulo `parser`\n",
    "\n",
    "Diferentes estructuras de parámetros aplican para los diferentes modelos del módulo `parser`.\n",
    "\n",
    "El modelo predeterminado, [`sentence`](https://www.nltk.org/api/nltk.tokenize.html), no es parametrizable. Por ende, si eliges ese modelo a través del argumento [`modules`](../../sistema/parametros_y_procesar_archivos_a_traves_de_pipelines/metodo_process_procesar.md#seleccion-de-modelo-por-medio-del-argumento-modules) del método [`process`](../../sistema/parametros_y_procesar_archivos_a_traves_de_pipelines/metodo_process_procesar.md), `params` será un diccionario vacío:\n",
    "\n",
    "```python\n",
    "# ejemplo de selección del modelo sentence para el módulo parser en el método process\n",
    "modules={'parser': {'model':'sentence',\n",
    "                    'params': {}}}\n",
    "```\n",
    "\n",
    "El modelo `fixed` <u>sí es</u> parametrizable. Por ende, si eliges ese modelo a través del argumento [`modules`](../../sistema/parametros_y_procesar_archivos_a_traves_de_pipelines/metodo_process_procesar.md#seleccion-de-modelo-por-medio-del-argumento-modules) del método [`process`](../../sistema/parametros_y_procesar_archivos_a_traves_de_pipelines/metodo_process_procesar.md), `params` puede incluir valores para dos parámetros diferentes:\n",
    "\n",
    "- `chunk_size` (int) - Número de palabras (tokens) consecutivas en cada fragmento. Su valor predeterminado es 10.\n",
    "- `overlap_size` (int) - Número de palabras de cada fragmento que se superponen/comparten con el fragmento anterior. Si este valor es cero, los fragmentos se alinean punta a punta. Su valor predeterminado es 2.\n",
    "\n",
    "Por ejemplo:\n",
    "\n",
    "```python\n",
    "# ejemplo de selección del modelo fixed para el módulo parser en el método process\n",
    "modules={'parser': {\"model\": \"fixed\",\n",
    "                    \"params\": {\"chunk_size\": 8, \"overlap_size\": 3}}}\n",
    "```"
   ]
  },
  {
   "cell_type": "markdown",
   "metadata": {},
   "source": [
    "### Un *Pipeline* de Modulo Unico para el Modulo `parser`\n",
    "\n",
    "Haz [clic aquí](../../ejemplos/ejemplos_pipelines_modulo_unico/unico_parser_fragmentacion.md) para detallar un ejemplo de un *pipeline* de módulo único con un módulo `parser`."
   ]
  },
  {
   "cell_type": "markdown",
   "metadata": {},
   "source": [
    "### Mas Informacion sobre el Modulo `parser`: IO y Conectabilidad\n",
    "\n",
    "Haz [clic aquí](../../sistema/metodos_de_conveniencia/metodos_de_conveniencia.md) para visitar documentación Krixik titulada `Métodos de Conveniencia (¡y Más!)`. Allí encontrarás dos herramientas con las que puedes aprender más sobre el módulo `parser`: \n",
    "\n",
    "- [Ve Ejemplos de Entradas y Salidas de un Módulo](../../sistema/metodos_de_conveniencia/metodos_de_conveniencia.md#ve-ejemplos-de-entradas-y-salidas-de-un-modulo)\n",
    "\n",
    "- [Ve Data de Conectividad de un Módulo con el Método `click_data`](../../sistema/metodos_de_conveniencia/metodos_de_conveniencia.md#ve-data-de-conectividad-de-un-modulo-con-el-metodo-click_data)"
   ]
  }
 ],
 "metadata": {
  "kernelspec": {
   "display_name": "venv",
   "language": "python",
   "name": "python3"
  },
  "language_info": {
   "codemirror_mode": {
    "name": "ipython",
    "version": 3
   },
   "file_extension": ".py",
   "mimetype": "text/x-python",
   "name": "python",
   "nbconvert_exporter": "python",
   "pygments_lexer": "ipython3",
   "version": "3.10.13"
  }
 },
 "nbformat": 4,
 "nbformat_minor": 2
}
