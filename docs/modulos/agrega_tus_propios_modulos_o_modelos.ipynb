{
 "cells": [
  {
   "cell_type": "markdown",
   "metadata": {},
   "source": [
    "## Agrega tus Propios Módulos o Modelos\n",
    "[🇺🇸 English version of this document](https://krixik-docs.readthedocs.io/latest/modules/adding_your_own_modules_or_models/)\n",
    "\n",
    "¿Hay algún módulo o modelo que quieras agregar a Krixik? Tal vez:\n",
    "\n",
    "- Has desarrollado un modelo de IA que te gustaría poner en producción a través de Krixik para consumo y *pipelining* sin fricciones.\n",
    "\n",
    "- Le has hecho *fine-tuning* a un popular modelo de código abierto con tus propios datos y ahora buscas que sea fácil y económicamente consumible.\n",
    "\n",
    "- Necesitas usar cierta función y te gustaría hacerlo a través de un módulo Krixik.\n",
    "\n",
    "La librería Krixik siempre está en expansión, y tu idea para un nuevo módulo o modelo es más que bienvenida.\n",
    "\n",
    "¡Escríbenos a `info@krixik.com` y tengamos una conversación al respecto!"
   ]
  }
 ],
 "metadata": {
  "language_info": {
   "name": "python"
  }
 },
 "nbformat": 4,
 "nbformat_minor": 2
}
