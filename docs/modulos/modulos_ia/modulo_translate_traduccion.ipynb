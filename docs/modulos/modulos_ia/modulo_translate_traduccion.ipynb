{
 "cells": [
  {
   "cell_type": "markdown",
   "metadata": {},
   "source": [
    "## El Módulo `translate` (Traducción)\n",
    "[🇺🇸 English version of this document](https://krixik-docs.readthedocs.io/latest/modules/ai_modules/translate_module/)\n",
    "\n",
    "El módulo `translate` (traducción) toma como entrada uno o varios fragmentos de texto y devuelve sus traducciones en el idioma de salida del modelo seleccionado.\n",
    "\n",
    "Esta introducción al módulo `translate` se divide en las siguientes secciones:\n",
    "\n",
    "- [Entradas y Salidas del Módulo `translate`](#entradas-y-salidas-del-modulo-translate)\n",
    "- [Modelos Disponibles en el Módulo `translate`](#modelos-disponibles-en-el-modulo-translate)\n",
    "- [Parámetros de los Modelos en el Módulo `translate`](#parametros-de-los-modelos-en-el-modulo-translate)\n",
    "- [Un *Pipeline* de Módulo Único para el Módulo `translate`](#un-pipeline-de-modulo-unico-para-el-modulo-translate)\n",
    "- [Más Información sobre el Módulo `translate`: IO y Conectabilidad](#mas-informacion-sobre-el-modulo-translate-io-y-conectabilidad)"
   ]
  },
  {
   "cell_type": "markdown",
   "metadata": {},
   "source": [
    "### Entradas y Salidas del Modulo `translate`\n",
    "\n",
    "El módulo `translate` (traducción) recibe entradas en formato JSON. Las entradas JSON deben respetar [este formato](../../sistema/parametros_y_procesar_archivos_a_traves_de_pipelines/formato_JSON_entrada.md).\n",
    "\n",
    "El módulo `translate` devuelve un archivo JSON. El archivo devuelto tiene el mismo formato que el archivo de entrada, pero cada fragmento ha sido traducido."
   ]
  },
  {
   "cell_type": "markdown",
   "metadata": {},
   "source": [
    "### Modelos Disponibles en el Modulo `translate`\n",
    "\n",
    "Puedes activar cualquiera de los siguientes modelos al usar el módulo `translate`:\n",
    "\n",
    "- [opus-mt-en-es](https://huggingface.co/Helsinki-NLP/opus-mt-en-es) - (predeterminado) inglés a español\n",
    "\n",
    "- [opus-mt-es-en](https://huggingface.co/Helsinki-NLP/opus-mt-es-en) - español a inglés\n",
    "\n",
    "- [opus-mt-de-en](https://huggingface.co/Helsinki-NLP/opus-mt-de-en) - alemán a inglés\n",
    "\n",
    "- [opus-mt-en-fr](https://huggingface.co/Helsinki-NLP/opus-mt-en-fr) - inglés a francés\n",
    "\n",
    "- [opus-mt-fr-en](https://huggingface.co/Helsinki-NLP/opus-mt-fr-en) - drancés a inglés\n",
    "\n",
    "- [opus-mt-it-en](https://huggingface.co/Helsinki-NLP/opus-mt-it-en) - italiano a inglés\n",
    "\n",
    "- [opus-mt-zh-en](https://huggingface.co/Helsinki-NLP/opus-mt-zh-en) - chino a inglés\n",
    "\n",
    "Usa el argumento [`modules`](../../sistema/parametros_y_procesar_archivos_a_traves_de_pipelines/metodo_process_procesar.md#seleccion-de-modelo-por-medio-del-argumento-modules) en el método [`process`](../../sistema/parametros_y_procesar_archivos_a_traves_de_pipelines/metodo_process_procesar.md) para determinar qué modelo quieres activo al procesar archivos a través del módulo `translate`."
   ]
  },
  {
   "cell_type": "markdown",
   "metadata": {},
   "source": [
    "### Parametros de los Modelos en el Modulo `translate`\n",
    "\n",
    "Ninguno de los modelos en el módulo `translate` es parametrizable. Por ende, al elegir qué modelo usarás a través del argumento [`modules`](../../sistema/parametros_y_procesar_archivos_a_traves_de_pipelines/metodo_process_procesar.md#seleccion-de-modelo-por-medio-del-argumento-modules) del método [`process`](../../sistema/parametros_y_procesar_archivos_a_traves_de_pipelines/metodo_process_procesar.md), `params` siempre será un diccionario vacío. Por ejemplo:\n",
    "\n",
    "```python\n",
    "# ejemplo de selección de modelo para el módulo translate en el método process\n",
    "modules={'translate': {'model':'opus-mt-zh-en',\n",
    "                       'params': {}}}\n",
    "```"
   ]
  },
  {
   "cell_type": "markdown",
   "metadata": {},
   "source": [
    "### Un *Pipeline* de Modulo Unico para el Modulo `translate`\n",
    "\n",
    "Haz [clic aquí](../../ejemplos/ejemplos_pipelines_modulo_unico/unico_translate_traduccion.md) para detallar un ejemplo de un *pipeline* de módulo único con un módulo `translate`."
   ]
  },
  {
   "cell_type": "markdown",
   "metadata": {},
   "source": [
    "### Mas Informacion sobre el Modulo `translate`: IO y Conectabilidad\n",
    "\n",
    "Haz [clic aquí](../../sistema/metodos_de_conveniencia/metodos_de_conveniencia.md) para visitar documentación Krixik titulada `Métodos de Conveniencia (¡y Más!)`. Allí encontrarás dos herramientas con las que puedes aprender más sobre el módulo `translate`: \n",
    "\n",
    "- [Ve Ejemplos de Entradas y Salidas de un Módulo](../../sistema/metodos_de_conveniencia/metodos_de_conveniencia.md#ve-ejemplos-de-entradas-y-salidas-de-un-modulo)\n",
    "\n",
    "- [Ve Data de Conectividad de un Módulo con el Método `click_data`](../../sistema/metodos_de_conveniencia/metodos_de_conveniencia.md#ve-data-de-conectividad-de-un-modulo-con-el-metodo-click_data)"
   ]
  }
 ],
 "metadata": {
  "kernelspec": {
   "display_name": "venv",
   "language": "python",
   "name": "python3"
  },
  "language_info": {
   "codemirror_mode": {
    "name": "ipython",
    "version": 3
   },
   "file_extension": ".py",
   "mimetype": "text/x-python",
   "name": "python",
   "nbconvert_exporter": "python",
   "pygments_lexer": "ipython3",
   "version": "3.10.13"
  }
 },
 "nbformat": 4,
 "nbformat_minor": 2
}
