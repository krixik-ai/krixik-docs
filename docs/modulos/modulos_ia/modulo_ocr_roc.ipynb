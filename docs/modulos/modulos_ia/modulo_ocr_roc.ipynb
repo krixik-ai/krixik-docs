{
 "cells": [
  {
   "cell_type": "markdown",
   "metadata": {},
   "source": [
    "## El Módulo `ocr` (ROC - Reconocimiento Óptico de Caracteres)\n",
    "[🇺🇸 English version of this document](https://krixik-docs.readthedocs.io/latest/modules/ai_modules/ocr_module/)\n",
    "\n",
    "El módulo `ocr` (ROC - Reconocimiento Óptico de Caracteres) toma como entrada un archivo de imagen y devuelve todo texto encontrado dentro de esa imagen en un archivo JSON.\n",
    "\n",
    "Esta introducción al módulo `ocr` se divide en las siguientes secciones:\n",
    "\n",
    "- [Entradas y Salidas del Módulo `ocr`](#entradas-y-salidas-del-modulo-ocr)\n",
    "- [Modelos Disponibles en el Módulo `ocr`](#modelos-disponibles-en-el-modulo-ocr)\n",
    "- [Parámetros de los Modelos en el Módulo `ocr`](#parametros-de-los-modelos-en-el-modulo-ocr)\n",
    "- [Un *Pipeline* de Módulo Único para el Módulo `ocr`](#un-pipeline-de-modulo-unico-para-el-modulo-ocr)\n",
    "- [Más Información sobre el Módulo `ocr`: IO y Conectabilidad](#mas-informacion-sobre-el-modulo-ocr-io-y-conectabilidad)"
   ]
  },
  {
   "cell_type": "markdown",
   "metadata": {},
   "source": [
    "### Entradas y Salidas del Modulo `ocr`\n",
    "\n",
    "El módulo `ocr` (ROC - Reconocimiento Óptico de Caracteres) recibe entradas de archivos de imagen. Los siguientes formatos de archivo son aceptables:\n",
    "\n",
    "- JPG\n",
    "\n",
    "- JPEG\n",
    "\n",
    "- PNG\n",
    "\n",
    "El módulo `ocr` devuelve un archivo JSON. El archivo JSON incluye todo el texto identificado en la imagen. También incluye las coordenadas (en pixeles) de cada trozo de texto identificado."
   ]
  },
  {
   "cell_type": "markdown",
   "metadata": {},
   "source": [
    "### Modelos Disponibles en el Modulo `ocr`\n",
    "\n",
    "Puedes activar cualquiera de los siguientes modelos al usar el módulo `ocr`:\n",
    "\n",
    "- [tesseract-en](https://github.com/tesseract-ocr/tesseract) - (predeterminado) inglés\n",
    "\n",
    "- [tesseract-es](https://github.com/tesseract-ocr/tesseract) - español\n",
    "\n",
    "Usa el argumento [`modules`](../../sistema/parametros_y_procesar_archivos_a_traves_de_pipelines/metodo_process_procesar.md#seleccion-de-modelo-por-medio-del-argumento-modules) en el método [`process`](../../sistema/parametros_y_procesar_archivos_a_traves_de_pipelines/metodo_process_procesar.md) para determinar qué modelo quieres activo al procesar archivos a través del módulo `ocr`."
   ]
  },
  {
   "cell_type": "markdown",
   "metadata": {},
   "source": [
    "### Parametros de los Modelos en el Modulo `ocr`\n",
    "\n",
    "Ninguno de los modelos en el módulo `ocr` es parametrizable. Por ende, al elegir qué modelo usarás a través del argumento [`modules`](../../sistema/parametros_y_procesar_archivos_a_traves_de_pipelines/metodo_process_procesar.md#seleccion-de-modelo-por-medio-del-argumento-modules) del método [`process`](../../sistema/parametros_y_procesar_archivos_a_traves_de_pipelines/metodo_process_procesar.md), `params` siempre será un diccionario vacío. Por ejemplo:\n",
    "\n",
    "```python\n",
    "# ejemplo de selección de modelo para el módulo ocr en el método process\n",
    "modules={'ocr': {'model':'tesseract-es',\n",
    "                 'params': {}}}\n",
    "```"
   ]
  },
  {
   "cell_type": "markdown",
   "metadata": {},
   "source": [
    "### Un *Pipeline* de Modulo Unico para el Modulo `ocr`\n",
    "\n",
    "Haz [clic aquí](../../ejemplos/ejemplos_pipelines_modulo_unico/unico_ocr_roc.md) para detallar un ejemplo de un *pipeline* de módulo único con un módulo `ocr`."
   ]
  },
  {
   "cell_type": "markdown",
   "metadata": {},
   "source": [
    "### Mas Informacion sobre el Modulo `ocr`: IO y Conectabilidad\n",
    "\n",
    "Haz [clic aquí](../../sistema/metodos_de_conveniencia/metodos_de_conveniencia.md) para visitar documentación Krixik titulada `Métodos de Conveniencia (¡y Más!)`. Allí encontrarás dos herramientas con las que puedes aprender más sobre el módulo `ocr`: \n",
    "\n",
    "- [Ve Ejemplos de Entradas y Salidas de un Módulo](../../sistema/metodos_de_conveniencia/metodos_de_conveniencia.md#ve-ejemplos-de-entradas-y-salidas-de-un-modulo)\n",
    "\n",
    "- [Ve Data de Conectividad de un Módulo con el Método `click_data`](../../sistema/metodos_de_conveniencia/metodos_de_conveniencia.md#ve-data-de-conectividad-de-un-modulo-con-el-metodo-view_module_click_data)"
   ]
  }
 ],
 "metadata": {
  "kernelspec": {
   "display_name": "venv",
   "language": "python",
   "name": "python3"
  },
  "language_info": {
   "codemirror_mode": {
    "name": "ipython",
    "version": 3
   },
   "file_extension": ".py",
   "mimetype": "text/x-python",
   "name": "python",
   "nbconvert_exporter": "python",
   "pygments_lexer": "ipython3",
   "version": "3.10.13"
  }
 },
 "nbformat": 4,
 "nbformat_minor": 2
}
