{
 "cells": [
  {
   "cell_type": "markdown",
   "metadata": {},
   "source": [
    "## El Módulo `sentiment` (Análisis de Sentimiento)\n",
    "[🇺🇸 English version of this document](https://krixik-docs.readthedocs.io/latest/modules/ai_modules/sentiment_module/)\n",
    "\n",
    "El módulo `sentiment` (análisis de sentimiento) toma como entrada uno o varios fragmentos de texto y devuelve cada fragmento acompañado de su desglose numérico de sentimiento (entre positivo, negativo y neutral).\n",
    "\n",
    "Esta introducción al módulo `sentiment` se divide en las siguientes secciones:\n",
    "\n",
    "- [Entradas y Salidas del Módulo `sentiment`](#entradas-y-salidas-del-modulo-sentiment)\n",
    "- [Modelos Disponibles en el Módulo `sentiment`](#modelos-disponibles-en-el-modulo-sentiment)\n",
    "- [Parámetros de los Modelos en el Módulo `sentiment`](#parametros-de-los-modelos-en-el-modulo-sentiment)\n",
    "- [Un *Pipeline* de Módulo Único para el Módulo `sentiment`](#un-pipeline-de-modulo-unico-para-el-modulo-sentiment)\n",
    "- [Más Información sobre el Módulo `sentiment`: IO y Conectabilidad](#mas-informacion-sobre-el-modulo-sentiment-io-y-conectabilidad)"
   ]
  },
  {
   "cell_type": "markdown",
   "metadata": {},
   "source": [
    "### Entradas y Salidas del Modulo `sentiment`\n",
    "\n",
    "El módulo `sentiment` (análisis de sentimiento) recibe entradas en formato JSON. Las entradas JSON deben respetar [este formato](../../sistema/parametros_y_procesar_archivos_a_traves_de_pipelines/formato_JSON_entrada.md).\n",
    "\n",
    "El módulo `sentiment` devuelve un archivo JSON. El archivo devuelto incluye todos los fragmentos de entrada, y cada uno es acompañado por su desglose numérico de sentimiento (entre positivo, negativo y neutral). Estos tres valores de sentimiento suman a 1.0."
   ]
  },
  {
   "cell_type": "markdown",
   "metadata": {},
   "source": [
    "### Modelos Disponibles en el Modulo `sentiment`\n",
    "\n",
    "Puedes activar cualquiera de los siguientes modelos al usar el módulo `sentiment`:\n",
    "\n",
    "- [distilbert-base-uncased-finetuned-sst-2-english](https://huggingface.co/distilbert/distilbert-base-uncased-finetuned-sst-2-english) (predeterminado)\n",
    "\n",
    "- [bert-base-multilingual-uncased-sentiment](https://huggingface.co/nlptown/bert-base-multilingual-uncased-sentiment)\n",
    "\n",
    "- [distilbert-base-multilingual-cased-sentiments-student](https://huggingface.co/lxyuan/distilbert-base-multilingual-cased-sentiments-student)\n",
    "\n",
    "- [distilroberta-finetuned-financial-news-sentiment-analysis](https://huggingface.co/mrm8488/distilroberta-finetuned-financial-news-sentiment-analysis)\n",
    "\n",
    "Usa el argumento [`modules`](../../sistema/parametros_y_procesar_archivos_a_traves_de_pipelines/metodo_process_procesar.md#seleccion-de-modelo-por-medio-del-argumento-modules) en el método [`process`](../../sistema/parametros_y_procesar_archivos_a_traves_de_pipelines/metodo_process_procesar.md) para determinar qué modelo quieres activo al procesar archivos a través del módulo `sentiment`."
   ]
  },
  {
   "cell_type": "markdown",
   "metadata": {},
   "source": [
    "### Parametros de los Modelos en el Modulo `sentiment`\n",
    "\n",
    "Ninguno de los modelos en el módulo `sentiment` es parametrizable. Por ende, al elegir qué modelo usarás a través del argumento [`modules`](../../sistema/parametros_y_procesar_archivos_a_traves_de_pipelines/metodo_process_procesar.md#seleccion-de-modelo-por-medio-del-argumento-modules) del método [`process`](../../sistema/parametros_y_procesar_archivos_a_traves_de_pipelines/metodo_process_procesar.md), `params` siempre será un diccionario vacío. Por ejemplo:\n",
    "\n",
    "```python\n",
    "# ejemplo de selección de modelo para el módulo sentiment en el método process\n",
    "modules={'sentiment': {'model':'distilroberta-finetuned-financial-news-sentiment-analysis',\n",
    "                       'params': {}}}\n",
    "```"
   ]
  },
  {
   "cell_type": "markdown",
   "metadata": {},
   "source": [
    "### Un *Pipeline* de Modulo Unico para el Modulo `sentiment`\n",
    "\n",
    "Haz [clic aquí](../../ejemplos/ejemplos_pipelines_modulo_unico/unico_sentiment_analisis_de_sentimiento.md) para detallar un ejemplo de un *pipeline* de módulo único con un módulo `sentiment`."
   ]
  },
  {
   "cell_type": "markdown",
   "metadata": {},
   "source": [
    "### Mas Informacion sobre el Modulo `sentiment`: IO y Conectabilidad\n",
    "\n",
    "Haz [clic aquí](../../sistema/metodos_de_conveniencia/metodos_de_conveniencia.md) para visitar documentación Krixik titulada `Métodos de Conveniencia (¡y Más!)`. Allí encontrarás dos herramientas con las que puedes aprender más sobre el módulo `sentiment`: \n",
    "\n",
    "- [Ve Ejemplos de Entradas y Salidas de un Módulo](../../sistema/metodos_de_conveniencia/metodos_de_conveniencia.md#ve-ejemplos-de-entradas-y-salidas-de-un-modulo)\n",
    "\n",
    "- [Ve Data de Conectividad de un Módulo con el Método `click_data`](../../sistema/metodos_de_conveniencia/metodos_de_conveniencia.md#ve-data-de-conectividad-de-un-modulo-con-el-metodo-click_data)"
   ]
  }
 ],
 "metadata": {
  "kernelspec": {
   "display_name": "venv",
   "language": "python",
   "name": "python3"
  },
  "language_info": {
   "codemirror_mode": {
    "name": "ipython",
    "version": 3
   },
   "file_extension": ".py",
   "mimetype": "text/x-python",
   "name": "python",
   "nbconvert_exporter": "python",
   "pygments_lexer": "ipython3",
   "version": "3.10.13"
  }
 },
 "nbformat": 4,
 "nbformat_minor": 2
}
