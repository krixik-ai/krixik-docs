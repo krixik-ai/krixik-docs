{
 "cells": [
  {
   "cell_type": "markdown",
   "metadata": {},
   "source": [
    "## El Módulo `transcribe` (Transcripción)\n",
    "[🇺🇸 English version of this document](https://krixik-docs.readthedocs.io/latest/modules/ai_modules/transcribe_module/)\n",
    "\n",
    "El módulo `transcribe` (transcripción) toma audio como entrada y devuelve una transcripción textual de todas las palabras pronunciadas en ese audio.\n",
    "\n",
    "Esta introducción al módulo `transcribe` se divide en las siguientes secciones:\n",
    "\n",
    "- [Entradas y Salidas del Módulo `transcribe`](#entradas-y-salidas-del-modulo-transcribe)\n",
    "- [Modelos Disponibles en el Módulo `transcribe`](#modelos-disponibles-en-el-modulo-transcribe)\n",
    "- [Parámetros de los Modelos en el Módulo `transcribe`](#parametros-de-los-modelos-en-el-modulo-transcribe)\n",
    "- [Un *Pipeline* de Módulo Único para el Módulo `transcribe`](#un-pipeline-de-modulo-unico-para-el-modulo-transcribe)\n",
    "- [Más Información sobre el Módulo `transcribe`: IO y Conectabilidad](#mas-informacion-sobre-el-modulo-transcribe-io-y-conectabilidad)"
   ]
  },
  {
   "cell_type": "markdown",
   "metadata": {},
   "source": [
    "### Entradas y Salidas del Modulo `transcribe`\n",
    "\n",
    "El módulo `transcribe` recibe entradas audio. Los siguientes formatos de archivo son aceptables:\n",
    "\n",
    "- MP3\n",
    "\n",
    "El módulo `translate` devuelve un archivo JSON. El archivo devuelto incluye toda la transcripción dividida en fragmentos, y cada fragmento va acompañado de marcas de tiempo y de un valor que indica el nivel de confianza en la precisión de esa transcripción."
   ]
  },
  {
   "cell_type": "markdown",
   "metadata": {},
   "source": [
    "### Modelos Disponibles en el Modulo `transcribe`\n",
    "\n",
    "Puedes activar cualquiera de los siguientes modelos al usar el módulo `transcribe`:\n",
    "\n",
    "- [whisper-tiny](https://huggingface.co/openai/whisper-tiny) - (predeterminado) El más económico y menos preciso de los modelos [Whisper](https://huggingface.co/docs/transformers/en/model_doc/whisper)\n",
    "\n",
    "- [whisper-base](https://huggingface.co/openai/whisper-base)\n",
    "\n",
    "- [whisper-small](https://huggingface.co/openai/whisper-small)\n",
    "\n",
    "- [whisper-medium](https://huggingface.co/openai/whisper-medium)\n",
    "\n",
    "- [whisper-large-v3](https://huggingface.co/openai/whisper-large-v3) - El más preciso y costoso de los modelos Whisper\n",
    "\n",
    "Usa el argumento [`modules`](../../sistema/parametros_y_procesar_archivos_a_traves_de_pipelines/metodo_process_procesar.md#seleccion-de-modelo-por-medio-del-argumento-modules) en el método [`process`](../../sistema/parametros_y_procesar_archivos_a_traves_de_pipelines/metodo_process_procesar.md) para determinar qué modelo quieres activo al procesar archivos a través del módulo `transcribe`."
   ]
  },
  {
   "cell_type": "markdown",
   "metadata": {},
   "source": [
    "### Parametros de los Modelos en el Modulo `transcribe`\n",
    "\n",
    "Ninguno de los modelos en el módulo `transcribe` es parametrizable. Por ende, al elegir qué modelo usarás a través del argumento [`modules`](../../sistema/parametros_y_procesar_archivos_a_traves_de_pipelines/metodo_process_procesar.md#seleccion-de-modelo-por-medio-del-argumento-modules) del método [`process`](../../sistema/parametros_y_procesar_archivos_a_traves_de_pipelines/metodo_process_procesar.md), `params` siempre será un diccionario vacío. Por ejemplo:\n",
    "\n",
    "```python\n",
    "# ejemplo de selección de modelo para el módulo transcribe en el método process\n",
    "modules={'transcribe': {'model':'whisper-small',\n",
    "                       'params': {}}}\n",
    "```"
   ]
  },
  {
   "cell_type": "markdown",
   "metadata": {},
   "source": [
    "### Un *Pipeline* de Modulo Unico para el Modulo `transcribe`\n",
    "\n",
    "Haz [clic aquí](../../ejemplos/ejemplos_pipelines_modulo_unico/unico_transcribe_transcripcion.md) para detallar un ejemplo de un *pipeline* de módulo único con un módulo `transcribe`."
   ]
  },
  {
   "cell_type": "markdown",
   "metadata": {},
   "source": [
    "### Mas Informacion sobre el Modulo `transcribe`: IO y Conectabilidad\n",
    "\n",
    "Haz [clic aquí](../../sistema/metodos_de_conveniencia/metodos_de_conveniencia.md) para visitar documentación Krixik titulada `Métodos de Conveniencia (¡y Más!)`. Allí encontrarás dos herramientas con las que puedes aprender más sobre el módulo `transcribe`: \n",
    "\n",
    "- [Ve Ejemplos de Entradas y Salidas de un Módulo](../../sistema/metodos_de_conveniencia/metodos_de_conveniencia.md#ve-ejemplos-de-entradas-y-salidas-de-un-modulo)\n",
    "\n",
    "- [Ve Data de Conectividad de un Módulo con el Método `click_data`](../../sistema/metodos_de_conveniencia/metodos_de_conveniencia.md#ve-data-de-conectividad-de-un-modulo-con-el-metodo-click_data)"
   ]
  }
 ],
 "metadata": {
  "kernelspec": {
   "display_name": "venv",
   "language": "python",
   "name": "python3"
  },
  "language_info": {
   "codemirror_mode": {
    "name": "ipython",
    "version": 3
   },
   "file_extension": ".py",
   "mimetype": "text/x-python",
   "name": "python",
   "nbconvert_exporter": "python",
   "pygments_lexer": "ipython3",
   "version": "3.10.13"
  }
 },
 "nbformat": 4,
 "nbformat_minor": 2
}
