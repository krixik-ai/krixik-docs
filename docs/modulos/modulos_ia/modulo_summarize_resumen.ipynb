{
 "cells": [
  {
   "cell_type": "markdown",
   "metadata": {},
   "source": [
    "## El Módulo `summarize` (Resumen)\n",
    "[🇺🇸 English version of this document](https://krixik-docs.readthedocs.io/latest/modules/ai_modules/summarize_module/)\n",
    "\n",
    "El módulo `summarize` (resumen) toma un documento textual como entrada y devuelve una versión resumida del mismo.\n",
    "\n",
    "Esta introducción al módulo `summarize` se divide en las siguientes secciones:\n",
    "\n",
    "- [Entradas y Salidas del Módulo `summarize`](#entradas-y-salidas-del-modulo-summarize)\n",
    "- [Modelos Disponibles en el Módulo `summarize`](#modelos-disponibles-en-el-modulo-summarize)\n",
    "- [Parámetros de los Modelos en el Módulo `summarize`](#parametros-de-los-modelos-en-el-modulo-summarize)\n",
    "- [Un *Pipeline* de Módulo Único para el Módulo `summarize`](#un-pipeline-de-modulo-unico-para-el-modulo-summarize)\n",
    "- [Resumen Recursivo](#resumen-recursivo)\n",
    "- [Más Información sobre el Módulo `summarize`: IO y Conectabilidad](#mas-informacion-sobre-el-modulo-summarize-io-y-conectabilidad)"
   ]
  },
  {
   "cell_type": "markdown",
   "metadata": {},
   "source": [
    "### Entradas y Salidas del Modulo `summarize`\n",
    "\n",
    "El módulo `summarize` (resumen) recibe entradas de documentos textuales. Los siguientes formatos de archivo son aceptables:\n",
    "\n",
    "- TXT\n",
    "\n",
    "- PDF (se convierte automáticamente en TXT antes de procesar)\n",
    "\n",
    "- DOCX (se convierte automáticamente en TXT antes de procesar)\n",
    "\n",
    "- PPTX (se convierte automáticamente en TXT antes de procesar)\n",
    "\n",
    "El módulo `summarize` devuelve un archivo TXT que contiene un resumen del archivo de entrada."
   ]
  },
  {
   "cell_type": "markdown",
   "metadata": {},
   "source": [
    "### Modelos Disponibles en el Modulo `summarize`\n",
    "\n",
    "Puedes activar cualquiera de los siguientes modelos al usar el módulo `summarize`:\n",
    "\n",
    "- [bart-large-cnn](https://huggingface.co/facebook/bart-large-cnn) (predeterminado)\n",
    "\n",
    "- [text-summarization](https://huggingface.co/Falconsai/text_summarization)\n",
    "\n",
    "Usa el argumento [`modules`](../../sistema/parametros_y_procesar_archivos_a_traves_de_pipelines/metodo_process_procesar.md#seleccion-de-modelo-por-medio-del-argumento-modules) en el método [`process`](../../sistema/parametros_y_procesar_archivos_a_traves_de_pipelines/metodo_process_procesar.md) para determinar qué modelo quieres activo al procesar archivos a través del módulo `summarize`."
   ]
  },
  {
   "cell_type": "markdown",
   "metadata": {},
   "source": [
    "### Parametros de los Modelos en el Modulo `summarize`\n",
    "\n",
    "Ninguno de los modelos en el módulo `summarize` es parametrizable. Por ende, al elegir qué modelo usarás a través del argumento [`modules`](../../sistema/parametros_y_procesar_archivos_a_traves_de_pipelines/metodo_process_procesar.md#seleccion-de-modelo-por-medio-del-argumento-modules) del método [`process`](../../sistema/parametros_y_procesar_archivos_a_traves_de_pipelines/metodo_process_procesar.md), `params` siempre será un diccionario vacío. Por ejemplo:\n",
    "\n",
    "```python\n",
    "# ejemplo de selección de modelo para el módulo summarize en el método process\n",
    "modules={'summarize': {'model':'bart-large-cnn',\n",
    "                       'params': {}}}\n",
    "```"
   ]
  },
  {
   "cell_type": "markdown",
   "metadata": {},
   "source": [
    "### Un *Pipeline* de Modulo Unico para el Modulo `summarize`\n",
    "\n",
    "Haz [clic aquí](../../ejemplos/ejemplos_pipelines_modulo_unico/unico_summarize_resumen.md) para detallar un ejemplo de un *pipeline* de módulo único con un módulo `summarize`."
   ]
  },
  {
   "cell_type": "markdown",
   "metadata": {},
   "source": [
    "### Resumen Recursivo\n",
    "\n",
    "Si el resultado de resumir una vez no es lo suficientemente conciso, hay un elegante truco que puedes usar.\n",
    "\n",
    "Una de las formas más prácticas para lograr resúmenes más cortos (tal vez más abstractos, pero igual representativos) es resumir recursivamente. En otras palabras, le alimentas un resumen antes creado al módulo `summarize` una vez más, así produciendo un resumen más breve. Haz [clic aquí](../../ejemplos/ejemplos_pipelines_multi_modulo_sin_busqueda/multi_resumen_recursivo.md) para detallar un *pipeline* que hace justamente eso."
   ]
  },
  {
   "cell_type": "markdown",
   "metadata": {},
   "source": [
    "### Mas Informacion sobre el Modulo `summarize`: IO y Conectabilidad\n",
    "\n",
    "Haz [clic aquí](../../sistema/metodos_de_conveniencia/metodos_de_conveniencia.md) para visitar documentación Krixik titulada `Métodos de Conveniencia (¡y Más!)`. Allí encontrarás dos herramientas con las que puedes aprender más sobre el módulo `summarize`: \n",
    "\n",
    "- [Ve Ejemplos de Entradas y Salidas de un Módulo](../../sistema/metodos_de_conveniencia/metodos_de_conveniencia.md#ve-ejemplos-de-entradas-y-salidas-de-un-modulo)\n",
    "\n",
    "- [Ve Data de Conectividad de un Módulo con el Método `click_data`](../../sistema/metodos_de_conveniencia/metodos_de_conveniencia.md#ve-data-de-conectividad-de-un-modulo-con-el-metodo-click_data)"
   ]
  }
 ],
 "metadata": {
  "kernelspec": {
   "display_name": "venv",
   "language": "python",
   "name": "python3"
  },
  "language_info": {
   "codemirror_mode": {
    "name": "ipython",
    "version": 3
   },
   "file_extension": ".py",
   "mimetype": "text/x-python",
   "name": "python",
   "nbconvert_exporter": "python",
   "pygments_lexer": "ipython3",
   "version": "3.10.13"
  }
 },
 "nbformat": 4,
 "nbformat_minor": 2
}
