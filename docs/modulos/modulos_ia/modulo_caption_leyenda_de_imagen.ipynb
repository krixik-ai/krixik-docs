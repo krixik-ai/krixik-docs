{
 "cells": [
  {
   "cell_type": "markdown",
   "metadata": {},
   "source": [
    "## El Módulo `caption` (Leyenda de Imagen)\n",
    "\n",
    "El módulo `caption` (leyenda de imagen) toma como entrada un archivo de imagen y devuelve una descripción textual de esa imagen.\n",
    "\n",
    "Esta introducción al módulo `caption` se divide en las siguientes secciones:\n",
    "\n",
    "- [Entradas y Salidas del Módulo `caption`](#entradas-y-salidas-del-modulo-caption)\n",
    "- [Modelos Disponibles en el Módulo `caption`](#modelos-disponibles-en-el-modulo-caption)\n",
    "- [Parámetros de los Modelos en el Módulo `caption`](#parametros-de-los-modelos-en-el-modulo-caption)\n",
    "- [Un *Pipeline* de Módulo Único para el Módulo `caption`](#un-pipeline-de-modulo-unico-para-el-modulo-caption)\n",
    "- [Más Información sobre el Módulo `caption`: IO y Conectabilidad](#mas-informacion-sobre-el-modulo-caption-io-y-conectabilidad)"
   ]
  },
  {
   "cell_type": "markdown",
   "metadata": {},
   "source": [
    "### Entradas y Salidas del Modulo `caption`\n",
    "\n",
    "El módulo `caption` (leyenda de imagen) recibe entradas de archivos de imagen. Los siguientes formatos de archivo son aceptables:\n",
    "\n",
    "- JPG\n",
    "\n",
    "- JPEG\n",
    "\n",
    "- PNG\n",
    "\n",
    "El módulo `caption` devuelve un archivo JSON. El elemento principal de este JSON es un diccionario que contiene la leyenda generada de la imagen."
   ]
  },
  {
   "cell_type": "markdown",
   "metadata": {},
   "source": [
    "### Modelos Disponibles en el Modulo `caption`\n",
    "\n",
    "Puedes activar cualquiera de los siguientes modelos al usar el módulo `caption`:\n",
    "\n",
    "- [vit-gpt2-image-captioning](https://huggingface.co/nlpconnect/vit-gpt2-image-captioning) (predeterminado)\n",
    "\n",
    "- [git-base](https://huggingface.co/microsoft/git-base)\n",
    "\n",
    "- [blip-image-captioning-base](https://huggingface.co/Salesforce/blip-image-captioning-base)\n",
    "\n",
    "- [blip-image-captioning-large](https://huggingface.co/Salesforce/blip-image-captioning-large)\n",
    "\n",
    "Usa el argumento [`modules`](../../sistema/parametros_y_procesar_archivos_a_traves_de_pipelines/metodo_process_procesar.md#seleccion-de-modelo-por-medio-del-argumento-modules) en el método [`process`](../../sistema/parametros_y_procesar_archivos_a_traves_de_pipelines/metodo_process_procesar.md) para determinar qué modelo quieres activo al procesar archivos a través del módulo `caption`."
   ]
  },
  {
   "cell_type": "markdown",
   "metadata": {},
   "source": [
    "### Parametros de los Modelos en el Modulo `caption`\n",
    "\n",
    "Ninguno de los modelos en el módulo `caption` es parametrizable. Por ende, al elegir qué modelo usarás a través del argumento [`modules`](../../sistema/parametros_y_procesar_archivos_a_traves_de_pipelines/metodo_process_procesar.md#seleccion-de-modelo-por-medio-del-argumento-modules) del método [`process`](../../sistema/parametros_y_procesar_archivos_a_traves_de_pipelines/metodo_process_procesar.md), `params` siempre será un diccionario vacío. Por ejemplo:\n",
    "\n",
    "```python\n",
    "# ejemplo de selección de modelo para el módulo caption en el método process\n",
    "modules={'caption': {'model':'blip-image-captioning-base',\n",
    "                     'params': {}}}\n",
    "```"
   ]
  },
  {
   "cell_type": "markdown",
   "metadata": {},
   "source": [
    "### Un *Pipeline* de Modulo Unico para el Modulo `caption`\n",
    "\n",
    "Haz [clic aquí](../../ejemplos/ejemplos_pipelines_modulo_unico/unico_caption_leyenda_de_imagen.md) para detallar un ejemplo de un *pipeline* de módulo único con un módulo `caption`."
   ]
  },
  {
   "cell_type": "markdown",
   "metadata": {},
   "source": [
    "### Mas Informacion sobre el Modulo `caption`: IO y Conectabilidad\n",
    "\n",
    "Haz [clic aquí](../../sistema/metodos_de_conveniencia/metodos_de_conveniencia.md) para visitar documentación Krixik titulada `Métodos de Conveniencia (¡y Más!)`. Allí encontrarás dos herramientas con las que puedes aprender más sobre el módulo `caption`: \n",
    "\n",
    "- [Ve Ejemplos de Entradas y Salidas de un Módulo](../../sistema/metodos_de_conveniencia/metodos_de_conveniencia.md#ve-ejemplos-de-entradas-y-salidas-de-un-modulo)\n",
    "\n",
    "- [Ve Data de Conectividad de un Módulo con el Método `click_data`](../../sistema/metodos_de_conveniencia/metodos_de_conveniencia.md#ve-data-de-conectividad-de-un-modulo-con-el-metodo-click_data)"
   ]
  }
 ],
 "metadata": {
  "kernelspec": {
   "display_name": "venv",
   "language": "python",
   "name": "python3"
  },
  "language_info": {
   "codemirror_mode": {
    "name": "ipython",
    "version": 3
   },
   "file_extension": ".py",
   "mimetype": "text/x-python",
   "name": "python",
   "nbconvert_exporter": "python",
   "pygments_lexer": "ipython3",
   "version": "3.12.0"
  }
 },
 "nbformat": 4,
 "nbformat_minor": 2
}
