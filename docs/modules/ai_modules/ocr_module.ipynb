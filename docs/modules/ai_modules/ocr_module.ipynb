{
 "cells": [
  {
   "cell_type": "markdown",
   "metadata": {},
   "source": [
    "## The `ocr` Module\n",
    "[🇨🇴 Versión en español de este documento](https://krixik-docs.readthedocs.io/es-main/modulos/modulos_ia/modulo_ocr_roc/)\n",
    "\n",
    "The `ocr` module takes an image as input and returns any text found within that image in a JSON file.\n",
    "\n",
    "This overview of the `ocr` module is divided into the following sections:\n",
    "\n",
    "- [Inputs and Outputs of the `ocr` Module](#inputs-and-outputs-of-the-ocr-module)\n",
    "- [Available Models in the `ocr` Module](#available-models-in-the-ocr-module)\n",
    "- [Model Parameters in the `ocr` Module](#model-parameters-in-the-ocr-module)\n",
    "- [Input File Size Limit](#input-file-size-limit)\n",
    "- [A Single-Module Pipeline for the `ocr` Module](#a-single-module-pipeline-for-the-ocr-module)\n",
    "- [Further Information on `ocr` Module IO and Clickability](#further-information-on-ocr-module-io-and-clickability)"
   ]
  },
  {
   "cell_type": "markdown",
   "metadata": {},
   "source": [
    "### Inputs and Outputs of the `ocr` Module\n",
    "\n",
    "The `ocr` module accepts image inputs. Acceptable file formats are the following:\n",
    "\n",
    "- JPG\n",
    "\n",
    "- JPEG\n",
    "\n",
    "- PNG\n",
    "\n",
    "The `ocr` module returns a JSON file. The JSON file holds all identified text and the pixel coordinates on the image for each chunk of identified text."
   ]
  },
  {
   "cell_type": "markdown",
   "metadata": {},
   "source": [
    "### Available Models in the `ocr` Module\n",
    "\n",
    "You can activate any of the following models when using the `ocr` module:\n",
    "\n",
    "- [tesseract-en](https://github.com/tesseract-ocr/tesseract) - (default) [English]\n",
    "\n",
    "- [tesseract-es](https://github.com/tesseract-ocr/tesseract) - [Spanish]\n",
    "\n",
    "Use the [`modules`](../../system/parameters_processing_files_through_pipelines/process_method.md#selecting-models-via-the-modules-argument) argument in the [`process`](../../system/parameters_processing_files_through_pipelines/process_method.md) method to determine what model you'd like active when you process files through the `ocr` module."
   ]
  },
  {
   "cell_type": "markdown",
   "metadata": {},
   "source": [
    "### Model Parameters in the `ocr` Module\n",
    "\n",
    "None of the `ocr` module models are parameterizable. Consequently, when selecting what model you'll use through the [`process`](../../system/parameters_processing_files_through_pipelines/process_method.md) method's [`modules`](../../system/parameters_processing_files_through_pipelines/process_method.md#selecting-models-via-the-modules-argument) argument, `params` will always be set to an empty dictionary. For example:\n",
    "\n",
    "```python\n",
    "# example model selection for ocr module in .process\n",
    "modules={'ocr': {'model':'tesseract-es',\n",
    "                 'params': {}}}\n",
    "```"
   ]
  },
  {
   "cell_type": "markdown",
   "metadata": {},
   "source": [
    "### Input File Size Limit\n",
    "\n",
    "`ocr` module input image files can currently be no larger than 5MB."
   ]
  },
  {
   "cell_type": "markdown",
   "metadata": {},
   "source": [
    "### A Single-Module Pipeline for the `ocr` Module\n",
    "\n",
    "Please click [here](../../examples/single_module_pipelines/single_ocr.md) to visit the `Pipeline Examples` section of our documentation and review an example of a single-module pipeline for the `ocr` module."
   ]
  },
  {
   "cell_type": "markdown",
   "metadata": {},
   "source": [
    "### Further Information on `ocr` Module IO and Clickability\n",
    "\n",
    "Please click [here](../../system/convenience_methods/convenience_methods.md) to visit the `Convenience Methods (and More!)` documentation. There you will find two tools to learn more about the `ocr` module:\n",
    "\n",
    "- [View Module Input and Output Examples](../../system/convenience_methods/convenience_methods.md#view-module-input-and-output-examples)\n",
    "\n",
    "- [View Module Click Data with the `click_data` Method](../../system/convenience_methods/convenience_methods.md#view-module-click-data-with-the-view_module_click_data-method)"
   ]
  }
 ],
 "metadata": {
  "kernelspec": {
   "display_name": "venv",
   "language": "python",
   "name": "python3"
  },
  "language_info": {
   "codemirror_mode": {
    "name": "ipython",
    "version": 3
   },
   "file_extension": ".py",
   "mimetype": "text/x-python",
   "name": "python",
   "nbconvert_exporter": "python",
   "pygments_lexer": "ipython3",
   "version": "3.10.13"
  }
 },
 "nbformat": 4,
 "nbformat_minor": 2
}
