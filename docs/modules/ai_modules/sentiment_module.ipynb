{
 "cells": [
  {
   "cell_type": "markdown",
   "metadata": {},
   "source": [
    "## The `sentiment` Module\n",
    "[🇨🇴 Spanish version of this document](https://krixik-docs.readthedocs.io/es-main/modulos/modulos_ia/modulo_sentiment_analisis_de_sentimiento/)\n",
    "\n",
    "The `sentiment` module takes one or several text snippets and returns a numerical sentiment breakdown analysis (between positive, negative, and neutral) of each snippet along with each snippet.\n",
    "\n",
    "This overview of the `sentiment` module is divided into the following sections:\n",
    "\n",
    "- [Inputs and Outputs of the `sentiment` Module](#inputs-and-outputs-of-the-sentiment-module)\n",
    "- [Available Models in the `sentiment` Module](#available-models-in-the-sentiment-module)\n",
    "- [Model Parameters in the `sentiment` Module](#model-parameters-in-the-sentiment-module)\n",
    "- [Input File Size Limit](#input-file-size-limit)\n",
    "- [A Single-Module Pipeline for the `sentiment` Module](#a-single-module-pipeline-for-the-sentiment-module)\n",
    "- [Further Information on `sentiment` Module IO and Clickability](#further-information-on-sentiment-module-io-and-clickability)"
   ]
  },
  {
   "cell_type": "markdown",
   "metadata": {},
   "source": [
    "### Inputs and Outputs of the `sentiment` Module\n",
    "\n",
    "The `sentiment` module accepts JSON file input. The input JSON must respect [this format](../../system/parameters_processing_files_through_pipelines/JSON_input_format.md).\n",
    "\n",
    "The `sentiment` module returns a JSON file. The returned JSON file has all input snippets, and along with each has a numerical sentiment breakdown analysis (between positive, negative, and neutral sentiment). The three sentiment scores add up to 1.0."
   ]
  },
  {
   "cell_type": "markdown",
   "metadata": {},
   "source": [
    "### Available Models in the `sentiment` Module\n",
    "\n",
    "You can activate any of the following models when using the `sentiment` module:\n",
    "\n",
    "- [distilbert-base-uncased-finetuned-sst-2-english](https://huggingface.co/distilbert/distilbert-base-uncased-finetuned-sst-2-english) (default) [English]\n",
    "\n",
    "- [bert-base-multilingual-uncased-sentiment](https://huggingface.co/nlptown/bert-base-multilingual-uncased-sentiment) [English, Dutch, German, French, Italian, Spanish]\n",
    "\n",
    "- [distilbert-base-multilingual-cased-sentiments-student](https://huggingface.co/lxyuan/distilbert-base-multilingual-cased-sentiments-student) [English, Arabic, German, Spanish, French, Japanese, Chinese, Indonesian, Hindi, Italian, Malay, Portuguese]\n",
    "\n",
    "- [distilroberta-finetuned-financial-news-sentiment-analysis](https://huggingface.co/mrm8488/distilroberta-finetuned-financial-news-sentiment-analysis) [English]\n",
    "\n",
    "Use the [`modules`](../../system/parameters_processing_files_through_pipelines/process_method.md#selecting-models-via-the-modules-argument) argument in the [`process`](../../system/parameters_processing_files_through_pipelines/process_method.md) method to determine what model you'd like active when you process files through the `sentiment` module."
   ]
  },
  {
   "cell_type": "markdown",
   "metadata": {},
   "source": [
    "### Model Parameters in the `sentiment` Module\n",
    "\n",
    "None of the `sentiment` module models are parameterizable. Consequently, when selecting what model you'll use through the [`process`](../../system/parameters_processing_files_through_pipelines/process_method.md) method's [`modules`](../../system/parameters_processing_files_through_pipelines/process_method.md#selecting-models-via-the-modules-argument) argument, `params` will always be set to an empty dictionary. For example:\n",
    "\n",
    "```python\n",
    "# example model selection for sentiment module in process\n",
    "modules={'sentiment': {'model':'distilroberta-finetuned-financial-news-sentiment-analysis',\n",
    "                       'params': {}}}\n",
    "```"
   ]
  },
  {
   "cell_type": "markdown",
   "metadata": {},
   "source": [
    "### Input File Size Limit\n",
    "\n",
    "`sentiment` module input JSON files can currently be no larger than 3MB."
   ]
  },
  {
   "cell_type": "markdown",
   "metadata": {},
   "source": [
    "### A Single-Module Pipeline for the `sentiment` Module\n",
    "\n",
    "Please click [here](../../examples/single_module_pipelines/single_sentiment.md) to visit the `Pipeline Examples` section of our documentation and review an example of a single-module pipeline for the `sentiment` module."
   ]
  },
  {
   "cell_type": "markdown",
   "metadata": {},
   "source": [
    "### Further Information on `sentiment` Module IO and Clickability\n",
    "\n",
    "Please click [here](../../system/convenience_methods/convenience_methods.md) to visit the `Convenience Methods (and More!)` documentation. There you will find two tools to learn more about the `sentiment` module:\n",
    "\n",
    "- [View Module Input and Output Examples](../../system/convenience_methods/convenience_methods.md#view-module-input-and-output-examples)\n",
    "\n",
    "- [View Module Click Data with the `click_data` Method](../../system/convenience_methods/convenience_methods.md#view-module-click-data-with-the-click_data-method)"
   ]
  }
 ],
 "metadata": {
  "kernelspec": {
   "display_name": "venv",
   "language": "python",
   "name": "python3"
  },
  "language_info": {
   "codemirror_mode": {
    "name": "ipython",
    "version": 3
   },
   "file_extension": ".py",
   "mimetype": "text/x-python",
   "name": "python",
   "nbconvert_exporter": "python",
   "pygments_lexer": "ipython3",
   "version": "3.10.13"
  }
 },
 "nbformat": 4,
 "nbformat_minor": 2
}
