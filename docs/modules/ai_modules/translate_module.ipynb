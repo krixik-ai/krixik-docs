{
 "cells": [
  {
   "cell_type": "markdown",
   "metadata": {},
   "source": [
    "## The `translate` Module\n",
    "[🇨🇴 Spanish version of this document](https://krixik-docs.readthedocs.io/es-main/modulos/modulos_ia/modulo_translate_traduccion/)\n",
    "\n",
    "The `translate` module takes one or several text snippets and returns their translations in the selected model's output language.\n",
    "\n",
    "This overview of the `translate` module is divided into the following sections:\n",
    "\n",
    "- [Inputs and Outputs of the `translate` Module](#inputs-and-outputs-of-the-translate-module)\n",
    "- [Available Models in the `translate` Module](#available-models-in-the-translate-module)\n",
    "- [Model Parameters in the `translate` Module](#model-parameters-in-the-translate-module)\n",
    "- [Input File Size Limit](#input-file-size-limit)\n",
    "- [A Single-Module Pipeline for the `translate` Module](#a-single-module-pipeline-for-the-translate-module)\n",
    "- [Further Information on `translate` Module IO and Clickability](#further-information-on-translate-module-io-and-clickability)"
   ]
  },
  {
   "cell_type": "markdown",
   "metadata": {},
   "source": [
    "### Inputs and Outputs of the `translate` Module\n",
    "\n",
    "The `translate` module accepts JSON file input. The input JSON must respect [this format](../../system/parameters_processing_files_through_pipelines/JSON_input_format.md).\n",
    "\n",
    "The `translate` module returns a JSON file. The returned JSON file is in the same format as the input file, but each snippet has been translated."
   ]
  },
  {
   "cell_type": "markdown",
   "metadata": {},
   "source": [
    "### Available Models in the `translate` Module\n",
    "\n",
    "You can activate any of the following models when using the `translate` module:\n",
    "\n",
    "- [opus-mt-en-es](https://huggingface.co/Helsinki-NLP/opus-mt-en-es) - (default) English to Spanish\n",
    "\n",
    "- [opus-mt-es-en](https://huggingface.co/Helsinki-NLP/opus-mt-es-en) - Spanish to English\n",
    "\n",
    "- [opus-mt-de-en](https://huggingface.co/Helsinki-NLP/opus-mt-de-en) - German to English\n",
    "\n",
    "- [opus-mt-en-fr](https://huggingface.co/Helsinki-NLP/opus-mt-en-fr) - English to French\n",
    "\n",
    "- [opus-mt-fr-en](https://huggingface.co/Helsinki-NLP/opus-mt-fr-en) - French to English\n",
    "\n",
    "- [opus-mt-it-en](https://huggingface.co/Helsinki-NLP/opus-mt-it-en) - Italian to English\n",
    "\n",
    "- [opus-mt-zh-en](https://huggingface.co/Helsinki-NLP/opus-mt-zh-en) - Chinese to English\n",
    "\n",
    "Use the [`modules`](../../system/parameters_processing_files_through_pipelines/process_method.md#selecting-models-via-the-modules-argument) argument in the [`process`](../../system/parameters_processing_files_through_pipelines/process_method.md) method to determine what model you'd like active when you process files through the `translate` module."
   ]
  },
  {
   "cell_type": "markdown",
   "metadata": {},
   "source": [
    "### Model Parameters in the `translate` Module\n",
    "\n",
    "None of the `translate` module models are parameterizable. Consequently, when selecting what model you'll use through the [`process`](../../system/parameters_processing_files_through_pipelines/process_method.md) method's [`modules`](../../system/parameters_processing_files_through_pipelines/process_method.md#selecting-models-via-the-modules-argument) argument, `params` will always be set to an empty dictionary. For example:\n",
    "\n",
    "```python\n",
    "# example model selection for translate module in process\n",
    "modules={'translate': {'model':'opus-mt-zh-en',\n",
    "                       'params': {}}}\n",
    "```"
   ]
  },
  {
   "cell_type": "markdown",
   "metadata": {},
   "source": [
    "### Input File Size Limit\n",
    "\n",
    "`translate` module input JSON files can currently be no larger than 3MB."
   ]
  },
  {
   "cell_type": "markdown",
   "metadata": {},
   "source": [
    "### A Single-Module Pipeline for the `translate` Module\n",
    "\n",
    "Please click [here](../../examples/single_module_pipelines/single_translate.md) to visit the `Pipeline Examples` section of our documentation and review an example of a single-module pipeline for the `translate` module."
   ]
  },
  {
   "cell_type": "markdown",
   "metadata": {},
   "source": [
    "### Further Information on `translate` Module IO and Clickability\n",
    "\n",
    "Please click [here](../../system/convenience_methods/convenience_methods.md) to visit the `Convenience Methods (and More!)` documentation. There you will find two tools to learn more about the `translate` module:\n",
    "\n",
    "- [View Module Input and Output Examples](../../system/convenience_methods/convenience_methods.md#view-module-input-and-output-examples)\n",
    "\n",
    "- [View Module Click Data with the `click_data` Method](../../system/convenience_methods/convenience_methods.md#view-module-click-data-with-the-click_data-method)"
   ]
  }
 ],
 "metadata": {
  "kernelspec": {
   "display_name": "venv",
   "language": "python",
   "name": "python3"
  },
  "language_info": {
   "codemirror_mode": {
    "name": "ipython",
    "version": 3
   },
   "file_extension": ".py",
   "mimetype": "text/x-python",
   "name": "python",
   "nbconvert_exporter": "python",
   "pygments_lexer": "ipython3",
   "version": "3.10.13"
  }
 },
 "nbformat": 4,
 "nbformat_minor": 2
}
