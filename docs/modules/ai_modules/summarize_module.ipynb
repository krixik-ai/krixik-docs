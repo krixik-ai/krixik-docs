{
 "cells": [
  {
   "cell_type": "markdown",
   "metadata": {},
   "source": [
    "## The `summarize` Module\n",
    "[🇨🇴 Versión en español de este documento](https://krixik-docs.readthedocs.io/es-main/modulos/modulos_ia/modulo_summarize_resumen/)\n",
    "\n",
    "The `summarize` module takes a text document and returns a summarized version of it.\n",
    "\n",
    "This overview of the `summarize` module is divided into the following sections:\n",
    "\n",
    "- [Inputs and Outputs of the `summarize` Module](#inputs-and-outputs-of-the-summarize-module)\n",
    "- [Available Models in the `summarize` Module](#available-models-in-the-summarize-module)\n",
    "- [Model Parameters in the `summarize` Module](#model-parameters-in-the-summarize-module)\n",
    "- [Input File Size Limit](#input-file-size-limit)\n",
    "- [A Single-Module Pipeline for the `summarize` Module](#a-single-module-pipeline-for-the-summarize-module)\n",
    "- [Recursive Summarization](#recursive-summarization)\n",
    "- [Further Information on `summarize` Module IO and Clickability](#further-information-on-summarize-module-io-and-clickability)"
   ]
  },
  {
   "cell_type": "markdown",
   "metadata": {},
   "source": [
    "### Inputs and Outputs of the `summarize` Module\n",
    "\n",
    "The `summarize` module accepts textual document inputs. Acceptable file formats are the following:\n",
    "\n",
    "- TXT\n",
    "\n",
    "- PDF (automatically converted to TXT before processing)\n",
    "\n",
    "- DOCX (automatically converted to TXT before processing)\n",
    "\n",
    "- PPTX (automatically converted to TXT before processing)\n",
    "\n",
    "The `summarize` module returns a TXT file containing the requested summary of the input file."
   ]
  },
  {
   "cell_type": "markdown",
   "metadata": {},
   "source": [
    "### Available Models in the `summarize` Module\n",
    "\n",
    "You can activate any of the following models when using the `summarize` module:\n",
    "\n",
    "- [bart-large-cnn](https://huggingface.co/facebook/bart-large-cnn) (default) [English]\n",
    "\n",
    "- [text-summarization](https://huggingface.co/Falconsai/text_summarization) [English]\n",
    "\n",
    "Use the [`modules`](../../system/parameters_processing_files_through_pipelines/process_method.md#selecting-models-via-the-modules-argument) argument in the [`process`](../../system/parameters_processing_files_through_pipelines/process_method.md) method to determine what model you'd like active when you process files through the `summarize` module."
   ]
  },
  {
   "cell_type": "markdown",
   "metadata": {},
   "source": [
    "### Model Parameters in the `summarize` Module\n",
    "\n",
    "None of the `summarize` module models are parameterizable. Consequently, when selecting what model you'll use through the [`process`](../../system/parameters_processing_files_through_pipelines/process_method.md) method's [`modules`](../../system/parameters_processing_files_through_pipelines/process_method.md#selecting-models-via-the-modules-argument) argument, `params` will always be set to an empty dictionary. For example:\n",
    "\n",
    "```python\n",
    "# example model selection for summarize module in process\n",
    "modules={'summarize': {'model':'bart-large-cnn',\n",
    "                       'params': {}}}\n",
    "```"
   ]
  },
  {
   "cell_type": "markdown",
   "metadata": {},
   "source": [
    "### Input File Size Limit\n",
    "\n",
    "`summarize` module input document files can currently be no larger than 0.25MB.\n",
    "\n",
    "This size limitation will apply directly to input TXT files. For input PDF, PPTX, and DOCX files, the file size check will take place after conversion to TXT format."
   ]
  },
  {
   "cell_type": "markdown",
   "metadata": {},
   "source": [
    "### A Single-Module Pipeline for the `summarize` Module\n",
    "\n",
    "Please click [here](../../examples/single_module_pipelines/single_summarize.md) to visit the `Pipeline Examples` section of our documentation and review an example of a single-module pipeline for the `summarize` module."
   ]
  },
  {
   "cell_type": "markdown",
   "metadata": {},
   "source": [
    "### Recursive Summarization\n",
    "\n",
    "If the result of summarizing once is not concise enough for your needs, there's a neat trick you can leverage.\n",
    "\n",
    "One of the most practical ways to achieve a shorter (perhaps more abstract, but still representative) summary is to apply summarization *recursively*. In other words, you feed the summary created above through a summarizer module again, thus producing a briefer summary. Click [here](../../examples/multi_module_non_search_pipeline_examples/multi_recursive_summarization.md) to view detail on a pipeline assembled to achieve exactly this."
   ]
  },
  {
   "cell_type": "markdown",
   "metadata": {},
   "source": [
    "### Further Information on `summarize` Module IO and Clickability\n",
    "\n",
    "Please click [here](../../system/convenience_methods/convenience_methods.md) to visit the `Convenience Methods (and More!)` documentation. There you will find two tools to learn more about the `summarize` module:\n",
    "\n",
    "- [View Module Input and Output Examples](../../system/convenience_methods/convenience_methods.md#view-module-input-and-output-examples)\n",
    "\n",
    "- [View Module Click Data with the `click_data` Method](../../system/convenience_methods/convenience_methods.md#view-module-click-data-with-the-view_module_click_data-method)"
   ]
  }
 ],
 "metadata": {
  "kernelspec": {
   "display_name": "venv",
   "language": "python",
   "name": "python3"
  },
  "language_info": {
   "codemirror_mode": {
    "name": "ipython",
    "version": 3
   },
   "file_extension": ".py",
   "mimetype": "text/x-python",
   "name": "python",
   "nbconvert_exporter": "python",
   "pygments_lexer": "ipython3",
   "version": "3.10.13"
  }
 },
 "nbformat": 4,
 "nbformat_minor": 2
}
