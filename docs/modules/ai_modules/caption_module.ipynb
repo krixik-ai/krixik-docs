{
 "cells": [
  {
   "cell_type": "markdown",
   "metadata": {},
   "source": [
    "## The `caption` Module\n",
    "[🇨🇴 Spanish version of this document](https://krixik-docs.readthedocs.io/es-main/modulos/modulos_ia/modulo_caption_leyenda_de_imagen/)\n",
    "\n",
    "The `caption` module takes an image as input and returns a natural language text description of that image.\n",
    "\n",
    "This overview of the `caption` module is divided into the following sections:\n",
    "\n",
    "- [Inputs and Outputs of the `caption` Module](#inputs-and-outputs-of-the-caption-module)\n",
    "- [Available Models in the `caption` Module](#available-models-in-the-caption-module)\n",
    "- [Model Parameters in the `caption` Module](#model-parameters-in-the-caption-module)\n",
    "- [Input File Size Limit](#input-file-size-limit)\n",
    "- [A Single-Module Pipeline for the `caption` Module](#a-single-module-pipeline-for-the-caption-module)\n",
    "- [Further Information on `caption` Module IO and Clickability](#further-information-on-caption-module-io-and-clickability)"
   ]
  },
  {
   "cell_type": "markdown",
   "metadata": {},
   "source": [
    "### Inputs and Outputs of the `caption` Module\n",
    "\n",
    "The `caption` module accepts image inputs. Acceptable file formats are the following:\n",
    "\n",
    "- JPG\n",
    "\n",
    "- JPEG\n",
    "\n",
    "- PNG\n",
    "\n",
    "The `caption` module returns a JSON file. At the core of the returned JSON file lies a dictionary that in turn contains the newly generated image caption."
   ]
  },
  {
   "cell_type": "markdown",
   "metadata": {},
   "source": [
    "### Available Models in the `caption` Module\n",
    "\n",
    "You can activate any of the following models when using the `caption` module:\n",
    "\n",
    "- [vit-gpt2-image-captioning](https://huggingface.co/nlpconnect/vit-gpt2-image-captioning) (default)\n",
    "\n",
    "- [git-base](https://huggingface.co/microsoft/git-base) [English]\n",
    "\n",
    "- [blip-image-captioning-base](https://huggingface.co/Salesforce/blip-image-captioning-base)\n",
    "\n",
    "- [blip-image-captioning-large](https://huggingface.co/Salesforce/blip-image-captioning-large)\n",
    "\n",
    "Use the [`modules`](../../system/parameters_processing_files_through_pipelines/process_method.md#selecting-models-via-the-modules-argument) argument in the [`process`](../../system/parameters_processing_files_through_pipelines/process_method.md) method to determine what model you'd like active when you process files through the `caption` module."
   ]
  },
  {
   "cell_type": "markdown",
   "metadata": {},
   "source": [
    "### Model Parameters in the `caption` Module\n",
    "\n",
    "None of the `caption` module models are parameterizable. Consequently, when selecting what model you'll use through the [`process`](../../system/parameters_processing_files_through_pipelines/process_method.md) method's [`modules`](../../system/parameters_processing_files_through_pipelines/process_method.md#selecting-models-via-the-modules-argument) argument, `params` will always be set to an empty dictionary. For example:\n",
    "\n",
    "```python\n",
    "# example model selection for caption module in .process\n",
    "modules={'caption': {'model':'blip-image-captioning-base',\n",
    "                     'params': {}}}\n",
    "```"
   ]
  },
  {
   "cell_type": "markdown",
   "metadata": {},
   "source": [
    "### Input File Size Limit\n",
    "\n",
    "`caption` module input image files can currently be no larger than 5MB."
   ]
  },
  {
   "cell_type": "markdown",
   "metadata": {},
   "source": [
    "### A Single-Module Pipeline for the `caption` Module\n",
    "\n",
    "Please click [here](../../examples/single_module_pipelines/single_caption.md) to visit the `Pipeline Examples` section of our documentation and review an example of a single-module pipeline for the `caption` module."
   ]
  },
  {
   "cell_type": "markdown",
   "metadata": {},
   "source": [
    "### Further Information on `caption` Module IO and Clickability\n",
    "\n",
    "Please click [here](../../system/convenience_methods/convenience_methods.md) to visit the `Convenience Methods (and More!)` documentation. There you will find two tools to learn more about the `caption` module:\n",
    "\n",
    "- [View Module Input and Output Examples](../../system/convenience_methods/convenience_methods.md#view-module-input-and-output-examples)\n",
    "\n",
    "- [View Module Click Data with the `click_data` Method](../../system/convenience_methods/convenience_methods.md#view-module-click-data-with-the-click_data-method)"
   ]
  }
 ],
 "metadata": {
  "kernelspec": {
   "display_name": "venv",
   "language": "python",
   "name": "python3"
  },
  "language_info": {
   "codemirror_mode": {
    "name": "ipython",
    "version": 3
   },
   "file_extension": ".py",
   "mimetype": "text/x-python",
   "name": "python",
   "nbconvert_exporter": "python",
   "pygments_lexer": "ipython3",
   "version": "3.12.0"
  }
 },
 "nbformat": 4,
 "nbformat_minor": 2
}
