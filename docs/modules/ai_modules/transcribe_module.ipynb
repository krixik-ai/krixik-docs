{
 "cells": [
  {
   "cell_type": "markdown",
   "metadata": {},
   "source": [
    "## The `transcribe` Module\n",
    "[🇨🇴 Versión en español de este documento](https://krixik-docs.readthedocs.io/es-main/modulos/modulos_ia/modulo_transcribe_transcripcion/)\n",
    "\n",
    "The `transcribe` module takes audio input and returns a text transcript of all words spoken therein.\n",
    "\n",
    "This overview of the `transcribe` module is divided into the following sections:\n",
    "\n",
    "- [Inputs and Outputs of the `transcribe` Module](#inputs-and-outputs-of-the-transcribe-module)\n",
    "- [Available Models in the `transcribe` Module](#available-models-in-the-transcribe-module)\n",
    "- [Model Parameters in the `transcribe` Module](#model-parameters-in-the-transcribe-module)\n",
    "- [Input File Size Limit](#input-file-size-limit)\n",
    "- [A Single-Module Pipeline for the `transcribe` Module](#a-single-module-pipeline-for-the-transcribe-module)\n",
    "- [Further Information on `transcribe` Module IO and Clickability](#further-information-on-transcribe-module-io-and-clickability)"
   ]
  },
  {
   "cell_type": "markdown",
   "metadata": {},
   "source": [
    "### Inputs and Outputs of the `transcribe` Module\n",
    "\n",
    "The `transcribe` module accepts audio inputs. Acceptable file formats are the following:\n",
    "\n",
    "- MP3\n",
    "\n",
    "The `transcribe` module returns a JSON file. The returned JSON file has all snippets of transcribed text, and along with each includes timestamps and a \"confidence\" value for the accuracy of each transcription."
   ]
  },
  {
   "cell_type": "markdown",
   "metadata": {},
   "source": [
    "### Available Models in the `transcribe` Module\n",
    "\n",
    "You can activate any of the following models when using the `transcribe` module:\n",
    "\n",
    "- [whisper-tiny](https://huggingface.co/openai/whisper-tiny) - (default) Most cost-effective and least accurate of the Whisper models [99 languages, see model card]\n",
    "\n",
    "- [whisper-base](https://huggingface.co/openai/whisper-base) [99 languages, see model card]\n",
    "\n",
    "- [whisper-small](https://huggingface.co/openai/whisper-small) [99 languages, see model card]\n",
    "\n",
    "- [whisper-medium](https://huggingface.co/openai/whisper-medium) [99 languages, see model card]\n",
    "\n",
    "- [whisper-large-v3](https://huggingface.co/openai/whisper-large-v3) - Most accurate but most expensive to run of the Whisper models [99 languages, see model card]\n",
    "\n",
    "Use the [`modules`](../../system/parameters_processing_files_through_pipelines/process_method.md#selecting-models-via-the-modules-argument) argument in the [`process`](../../system/parameters_processing_files_through_pipelines/process_method.md) method to determine what model you'd like active when you process files through the `transcribe` module."
   ]
  },
  {
   "cell_type": "markdown",
   "metadata": {},
   "source": [
    "### Model Parameters in the `transcribe` Module\n",
    "\n",
    "None of the `transcribe` module models are parameterizable. Consequently, when selecting what model you'll use through the [`process`](../../system/parameters_processing_files_through_pipelines/process_method.md) method's [`modules`](../../system/parameters_processing_files_through_pipelines/process_method.md#selecting-models-via-the-modules-argument) argument, `params` will always be set to an empty dictionary. For example:\n",
    "\n",
    "```python\n",
    "# example model selection for transcribe module in process\n",
    "modules={'transcribe': {'model':'whisper-small',\n",
    "                       'params': {}}}\n",
    "```"
   ]
  },
  {
   "cell_type": "markdown",
   "metadata": {},
   "source": [
    "### Input File Size Limit\n",
    "\n",
    "`transcribe` module input audio files can currently be no larger than 3MB."
   ]
  },
  {
   "cell_type": "markdown",
   "metadata": {},
   "source": [
    "### A Single-Module Pipeline for the `transcribe` Module\n",
    "\n",
    "Please click [here](../../examples/single_module_pipelines/single_transcribe.md) to visit the `Pipeline Examples` section of our documentation and review an example of a single-module pipeline for the `transcribe` module."
   ]
  },
  {
   "cell_type": "markdown",
   "metadata": {},
   "source": [
    "### Further Information on `transcribe` Module IO and Clickability\n",
    "\n",
    "Please click [here](../../system/convenience_methods/convenience_methods.md) to visit the `Convenience Methods (and More!)` documentation. There you will find two tools to learn more about the `transcribe` module:\n",
    "\n",
    "- [View Module Input and Output Examples](../../system/convenience_methods/convenience_methods.md#view-module-input-and-output-examples)\n",
    "\n",
    "- [View Module Click Data with the `click_data` Method](../../system/convenience_methods/convenience_methods.md#view-module-click-data-with-the-click_data-method)"
   ]
  }
 ],
 "metadata": {
  "kernelspec": {
   "display_name": "venv",
   "language": "python",
   "name": "python3"
  },
  "language_info": {
   "codemirror_mode": {
    "name": "ipython",
    "version": 3
   },
   "file_extension": ".py",
   "mimetype": "text/x-python",
   "name": "python",
   "nbconvert_exporter": "python",
   "pygments_lexer": "ipython3",
   "version": "3.10.13"
  }
 },
 "nbformat": 4,
 "nbformat_minor": 2
}
