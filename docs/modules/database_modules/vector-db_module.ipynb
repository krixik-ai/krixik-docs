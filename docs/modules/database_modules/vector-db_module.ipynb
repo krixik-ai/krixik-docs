{
 "cells": [
  {
   "cell_type": "markdown",
   "metadata": {},
   "source": [
    "<a href=\"https://colab.research.google.com/github/krixik-ai/krixik-docs/blob/main/docs/modules/database_modules/vector-db_module.ipynb\" target=\"_parent\"><img src=\"https://colab.research.google.com/assets/colab-badge.svg\" alt=\"Open In Colab\"/></a>"
   ]
  },
  {
   "cell_type": "code",
   "execution_count": null,
   "metadata": {
    "tags": [
     "remove_cell",
     "remove_output"
    ]
   },
   "outputs": [
    {
     "name": "stdout",
     "output_type": "stream",
     "text": [
      "SUCCESS: You are now authenticated.\n"
     ]
    }
   ],
   "source": [
    "import os\n",
    "import sys\n",
    "import json\n",
    "import importlib\n",
    "from pathlib import Path\n",
    "\n",
    "# demo setup - including secrets instantiation, requirements installation, and path setting\n",
    "if os.getenv(\"COLAB_RELEASE_TAG\"):\n",
    "    # if running this notebook in Google Colab - make sure to enter your secrets\n",
    "    MY_API_KEY = \"YOUR_API_KEY_HERE\"\n",
    "    MY_API_URL = \"YOUR_API_URL_HERE\"\n",
    "\n",
    "    # if running this notebook on Google Colab - install requirements and pull required subdirectories\n",
    "    # install Krixik python client\n",
    "    !pip install krixik\n",
    "\n",
    "    # install github clone - allows for easy cloning of subdirectories from docs repo: https://github.com/krixik-ai/krixik-docs\n",
    "    !pip install github-clone\n",
    "\n",
    "    # clone datasets\n",
    "    if not Path(\"data\").is_dir():\n",
    "        !ghclone https://github.com/krixik-ai/krixik-docs/tree/main/data\n",
    "    else:\n",
    "        print(\"docs datasets already cloned!\")\n",
    "\n",
    "    # define data dir\n",
    "    data_dir = \"./data/\"\n",
    "\n",
    "    # create output dir\n",
    "    from pathlib import Path\n",
    "\n",
    "    Path(data_dir + \"/output\").mkdir(parents=True, exist_ok=True)\n",
    "\n",
    "else:\n",
    "    # if running local pull of docs - set paths relative to local docs structure\n",
    "    # import utilities\n",
    "    sys.path.append(\"../../../\")\n",
    "\n",
    "    # define data_dir\n",
    "    data_dir = \"../../../data/\"\n",
    "\n",
    "    # if running this notebook locally from Krixik docs repo - load secrets from a .env placed at the base of the docs repo\n",
    "    from dotenv import load_dotenv\n",
    "\n",
    "    load_dotenv(\"../../../.env\")\n",
    "\n",
    "    MY_API_KEY = os.getenv(\"MY_API_KEY\")\n",
    "    MY_API_URL = os.getenv(\"MY_API_URL\")\n",
    "\n",
    "# import Krixik and initialize it with your personal secrets\n",
    "from krixik import krixik\n",
    "\n",
    "krixik.init(api_key=MY_API_KEY, api_url=MY_API_URL)"
   ]
  },
  {
   "cell_type": "markdown",
   "metadata": {},
   "source": [
    "## The `vector-db` Module\n",
    "[🇨🇴 Versión en español de este documento](https://krixik-docs.readthedocs.io/es-main/modulos/modulos_de_bases_de_datos/modulo_vector-db_base_de_datos_vectorial/)\n",
    "\n",
    "The `vector-db` module takes as input a NumPy array, indexes its vectors, and returns an indexed [FAISS database](https://github.com/facebookresearch/faiss).\n",
    "\n",
    "This overview of the `vector-db` module is divided into the following sections:\n",
    "\n",
    "- [Inputs and Outputs of the `vector-db` Module](#inputs-and-outputs-of-the-vector-db-module)\n",
    "- [Available Models in the `vector-db` Module](#available-models-in-the-vector-db-module)\n",
    "- [Model Parameters in the `vector-db` Module](#model-parameters-in-the-vector-db-module)\n",
    "- [Input File Size Limit](#input-file-size-limit)\n",
    "- [A Single-Module Pipeline for the `vector-db` Module and Local Querying](#a-single-module-pipeline-for-the-vector-db-module-and-local-querying)\n",
    "- [The `semantic_search` Method](#the-semantic_search-method)\n",
    "- [Further Information on `vector-db` Module IO and Clickability](#further-information-on-vector-db-module-io-and-clickability)"
   ]
  },
  {
   "cell_type": "markdown",
   "metadata": {},
   "source": [
    "### Inputs and Outputs of the `vector-db` Module\n",
    "\n",
    "The `vector-db` module accepts as input NPY files that consist of a single NumPy array. Each row is a vector to be indexed for vector search.\n",
    "\n",
    "The `vector-db` module returns an indexed vector [FAISS](https://github.com/facebookresearch/faiss) database file.\n",
    "\n",
    "For an example of what a small sample input file might look like, see the output of the following code:"
   ]
  },
  {
   "cell_type": "code",
   "execution_count": 3,
   "metadata": {},
   "outputs": [
    {
     "data": {
      "text/plain": [
       "array([[0, 1],\n",
       "       [1, 0],\n",
       "       [1, 1]], dtype=int64)"
      ]
     },
     "execution_count": 3,
     "metadata": {},
     "output_type": "execute_result"
    }
   ],
   "source": [
    "# examine contents of a small sample input file\n",
    "import numpy as np\n",
    "\n",
    "test_file = data_dir + \"input/vectors.npy\"\n",
    "np.load(test_file)"
   ]
  },
  {
   "cell_type": "markdown",
   "metadata": {},
   "source": [
    "### Available Models in the `vector-db` Module\n",
    "\n",
    "You use the following model when using the `vector-db` module:\n",
    "\n",
    "- [faiss](https://github.com/facebookresearch/faiss) (default)\n",
    "\n",
    "Use the [`modules`](../../system/parameters_processing_files_through_pipelines/process_method.md#selecting-models-via-the-modules-argument) argument in the [`process`](../../system/parameters_processing_files_through_pipelines/process_method.md) method to determine what model you'd like active when you process files through the `vector-db` module, though note that at this time there is only one option."
   ]
  },
  {
   "cell_type": "markdown",
   "metadata": {},
   "source": [
    "### Model Parameters in the `vector-db` Module\n",
    "\n",
    "The `vector-db` module model is not parameterizable. Consequently, should you wish to specify what model you'll use through the [`process`](../../system/parameters_processing_files_through_pipelines/process_method.md) method's [`modules`](../../system/parameters_processing_files_through_pipelines/process_method.md#selecting-models-via-the-modules-argument) argument, `params` will always be set to an empty dictionary. For example:\n",
    "\n",
    "```python\n",
    "# example model selection for vector-db module in process\n",
    "modules={'vector-db': {'model':'faiss',\n",
    "                       'params': {}}}\n",
    "```"
   ]
  },
  {
   "cell_type": "markdown",
   "metadata": {},
   "source": [
    "### Input File Size Limit\n",
    "\n",
    "`vector-db` module input NPY files can currently be no larger than 3MB."
   ]
  },
  {
   "cell_type": "markdown",
   "metadata": {},
   "source": [
    "### A Single-Module Pipeline for the `vector-db` Module and Local Querying\n",
    "\n",
    "Please click [here](../../examples/single_module_pipelines/single_vector-db.md) to visit the `Pipeline Examples` section of our documentation and review an example of a single-module pipeline for the `vector-db` module.\n",
    "\n",
    "Keep in mind that the output of this pipeline will be an [FAISS](https://github.com/facebookresearch/faiss) database file, which is not human-readable. Moreover, for this single-module pipeline to work, you'll need to separately have one or more properly formatted NPY files ready for input.\n",
    "\n",
    "This example will also include an overview of how to [locally query](../../examples/single_module_pipelines/single_vector-db.md#querying-output-databases-locally) your output databases."
   ]
  },
  {
   "cell_type": "markdown",
   "metadata": {},
   "source": [
    "### The `semantic_search` Method\n",
    "\n",
    "Any pipeline containing a `vector-db` module preceded by a [`text-embedder`](../ai_modules/text-embedder_module.md) module has access to the [`semantic_search`](../../system/search_methods/semantic_search_method.md) method. This provides you with the convenient ability to effect semantic (a.k.a. vector) queries on the created vector database(s)."
   ]
  },
  {
   "cell_type": "markdown",
   "metadata": {},
   "source": [
    "### Further Information on `vector-db` Module IO and Clickability\n",
    "\n",
    "Please click [here](../../system/convenience_methods/convenience_methods.md) to visit the `Convenience Methods (and More!)` documentation. There you will find two tools to learn more about the `vector-db` module:\n",
    "\n",
    "- [View Module Input and Output Examples](../../system/convenience_methods/convenience_methods.md#view-module-input-and-output-examples)\n",
    "\n",
    "- [View Module Click Data with the `click_data` Method](../../system/convenience_methods/convenience_methods.md#view-module-click-data-with-the-view_module_click_data-method)"
   ]
  }
 ],
 "metadata": {
  "kernelspec": {
   "display_name": "venv",
   "language": "python",
   "name": "python3"
  },
  "language_info": {
   "codemirror_mode": {
    "name": "ipython",
    "version": 3
   },
   "file_extension": ".py",
   "mimetype": "text/x-python",
   "name": "python",
   "nbconvert_exporter": "python",
   "pygments_lexer": "ipython3",
   "version": "3.12.0"
  }
 },
 "nbformat": 4,
 "nbformat_minor": 2
}
