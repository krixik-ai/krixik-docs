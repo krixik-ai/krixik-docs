{
 "cells": [
  {
   "cell_type": "markdown",
   "metadata": {},
   "source": [
    "## The `keyword-db` Module\n",
    "\n",
    "The `keyword-db` module takes document input, parses the document for non-trivial keywords, identifies each of their lemmatized stems, and returns an `SQLite` database with this content.\n",
    "\n",
    "This overview of the `keyword-db` module is divided into the following sections:\n",
    "\n",
    "- [Inputs and Outputs of the `keyword-db` Module](#inputs-and-outputs-of-the-keyword-db-module)\n",
    "- [Available Models in the `keyword-db` Module](#available-models-in-the-keyword-db-module)\n",
    "- [Model Parameters in the `keyword-db` Module](#model-parameters-in-the-keyword-db-module)\n",
    "- [Input File Size Limit](#input-file-size-limit)\n",
    "- [A Single-Module Pipeline for the `keyword-db` Module and Local Querying](#a-single-module-pipeline-for-the-keyword-db-module-and-local-querying)\n",
    "- [The `keyword_search` Method](#the-keyword_search-method)\n",
    "- [Further Information on `keyword-db` Module IO and Clickability](#further-information-on-keyword-db-module-io-and-clickability)"
   ]
  },
  {
   "cell_type": "markdown",
   "metadata": {},
   "source": [
    "### Inputs and Outputs of the `keyword-db` Module\n",
    "\n",
    "The `keyword-db` module accepts textual document inputs. Acceptable file formats are the following:\n",
    "\n",
    "- TXT\n",
    "\n",
    "- PDF (automatically converted to TXT before processing)\n",
    "\n",
    "- DOCX (automatically converted to TXT before processing)\n",
    "\n",
    "- PPTX (automatically converted to TXT before processing)\n",
    "\n",
    "The `keyword-db` module returns an `SQLite` database containing every non-trivial keyword in the document and its lemmatized stem."
   ]
  },
  {
   "cell_type": "markdown",
   "metadata": {},
   "source": [
    "### Available Models in the `keyword-db` Module\n",
    "\n",
    "You use the following model when using the `keyword-db` module:\n",
    "\n",
    "- `base` - (default) Krixik-made\n",
    "\n",
    "Use the [`modules`](../../system/parameters_processing_files_through_pipelines/process_method.md#selecting-models-via-the-modules-argument) argument in the [`process`](../../system/parameters_processing_files_through_pipelines/process_method.md) method to determine what model you'd like active when you process files through the `keyword-db` module, though note that at this time there is only one option."
   ]
  },
  {
   "cell_type": "markdown",
   "metadata": {},
   "source": [
    "### Model Parameters in the `keyword-db` Module\n",
    "\n",
    "The `keyword-db` module model is not parameterizable. Consequently, should you wish to specify what model you'll use through the [`process`](../../system/parameters_processing_files_through_pipelines/process_method.md) method's [`modules`](../../system/parameters_processing_files_through_pipelines/process_method.md#selecting-models-via-the-modules-argument) argument, `params` will always be set to an empty dictionary. For example:\n",
    "\n",
    "```python\n",
    "# example model selection for keyword-db module in process\n",
    "modules={'keyword-db': {'model':'base',\n",
    "                        'params': {}}}\n",
    "```"
   ]
  },
  {
   "cell_type": "markdown",
   "metadata": {},
   "source": [
    "### Input File Size Limit\n",
    "\n",
    "`keyword-db` module input TXT files can currently be no larger than 2MB.\n",
    "\n",
    "DOCX, PDF, and PPTX input files can currently be no larger than 100MB. Once they are converted to TXT, the resultant TXT file will then be held to the aforementioned 2MB limit."
   ]
  },
  {
   "cell_type": "markdown",
   "metadata": {},
   "source": [
    "### A Single-Module Pipeline for the `keyword-db` Module and Local Querying\n",
    "\n",
    "Please click [here](../../examples/single_module_pipelines/single_keyword-db.md) to visit the `Pipeline Examples` section of our documentation and review an example of a single-module pipeline for the `keyword-db` module.\n",
    "\n",
    "Keep in mind that the output of this pipeline will be an `SQLite` database file, which is not human-readable.\n",
    "\n",
    "This example will also include an overview of how to [locally query](../../examples/single_module_pipelines/single_keyword-db.md#querying-output-databases-locally) your output databases."
   ]
  },
  {
   "cell_type": "markdown",
   "metadata": {},
   "source": [
    "### The `keyword_search` Method\n",
    "\n",
    "Any pipeline containing a `keyword-db` module has access to the [`keyword_search`](../../system/search_methods/keyword_search_method.md) method. This provides you with the convenient ability to effect keyword queries on the created keyword database(s)."
   ]
  },
  {
   "cell_type": "markdown",
   "metadata": {},
   "source": [
    "### Further Information on `keyword-db` Module IO and Clickability\n",
    "\n",
    "Please click [here](../../system/convenience_methods/convenience_methods.md) to visit the `Convenience Methods (and More!)` documentation. There you will find two tools to learn more about the `keyword-db` module:\n",
    "\n",
    "- [View Module Input and Output Examples](../../system/convenience_methods/convenience_methods.md#view-module-input-and-output-examples)\n",
    "\n",
    "- [View Module Click Data with the `click_data` Method](../../system/convenience_methods/convenience_methods.md#view-module-click-data-with-the-click_data-method)"
   ]
  }
 ],
 "metadata": {
  "kernelspec": {
   "display_name": "venv",
   "language": "python",
   "name": "python3"
  },
  "language_info": {
   "codemirror_mode": {
    "name": "ipython",
    "version": 3
   },
   "file_extension": ".py",
   "mimetype": "text/x-python",
   "name": "python",
   "nbconvert_exporter": "python",
   "pygments_lexer": "ipython3",
   "version": "3.10.13"
  }
 },
 "nbformat": 4,
 "nbformat_minor": 2
}
