{
 "cells": [
  {
   "cell_type": "markdown",
   "metadata": {},
   "source": [
    "## Adding your own Modules or Models\n",
    "[🇨🇴 Versión en español de este documento](https://krixik-docs.readthedocs.io/es-main/modulos/agrega_tus_propios_modulos_o_modelos/)\n",
    "\n",
    "Is there a module or model you would like to add to Krixik? Perhaps you:\n",
    "\n",
    "- Have developed an AI model that you'd like to productionize through Krixik for seamless consumption and pipelining.\n",
    "\n",
    "- Have fine-tuned a popular open-source model on your own data and now wish to easily put it to use.\n",
    "\n",
    "- Need to leverage a certain function and you'd like to see it as a Krixik module.\n",
    "\n",
    "The Krixik library is always expanding, and your model or module idea will be a welcome addition to it.\n",
    "\n",
    "Please reach out to us at `info@krixik.com` and we'll get started!"
   ]
  }
 ],
 "metadata": {
  "language_info": {
   "name": "python"
  }
 },
 "nbformat": 4,
 "nbformat_minor": 2
}
