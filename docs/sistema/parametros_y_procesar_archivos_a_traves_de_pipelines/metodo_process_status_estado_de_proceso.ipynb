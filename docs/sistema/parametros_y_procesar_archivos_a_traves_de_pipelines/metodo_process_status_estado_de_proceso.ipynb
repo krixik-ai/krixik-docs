{
 "cells": [
  {
   "cell_type": "markdown",
   "metadata": {},
   "source": [
    "<a href=\"https://colab.research.google.com/github/krixik-ai/krixik-docs/blob/main/docs/system/parameters_processing_files_through_pipelines/process_status_method.ipynb\" target=\"_parent\"><img src=\"https://colab.research.google.com/assets/colab-badge.svg\" alt=\"Open In Colab\"/></a>"
   ]
  },
  {
   "cell_type": "code",
   "execution_count": 1,
   "metadata": {
    "tags": [
     "remove_cell",
     "remove_output"
    ]
   },
   "outputs": [
    {
     "name": "stdout",
     "output_type": "stream",
     "text": [
      "SUCCESS: You are now authenticated.\n"
     ]
    }
   ],
   "source": [
    "import os\n",
    "import sys\n",
    "import json\n",
    "import importlib\n",
    "from pathlib import Path\n",
    "\n",
    "# preparación de demo - incuye instanciación de secretos, instalación de requerimientos, y definición de rutas\n",
    "if os.getenv(\"COLAB_RELEASE_TAG\"):\n",
    "    # si estás usando este notebook en Google Colab, ingresa tus secretos acá\n",
    "    MY_API_KEY = \"TU_API_KEY_VA_AQUI\"\n",
    "    MY_API_URL = \"TU_API_URL_VA_AQUI\"\n",
    "\n",
    "    # si estás usando este notebook en Google Colab, instala requerimientos y descarga los subdirectorios requeridos\n",
    "    # instala el cliente Python de Krixik\n",
    "    !pip install krixik\n",
    "\n",
    "    # instala github-clone, que permite clonación fácil de los subdirectorios del repositorio de documentación XXX\n",
    "    !pip install github-clone\n",
    "\n",
    "    # clona los conjuntos de datos\n",
    "    if not Path(\"data\").is_dir():\n",
    "        !ghclone XXXX #(in english it's https://github.com/krixik-ai/krixik-docs/tree/main/data)\n",
    "    else:\n",
    "        print(\"ya se clonaron los conjuntos de datos de documentación!\")\n",
    "\n",
    "    # define la variable 'data_dir' para tus rutas\n",
    "    data_dir = \"./data/\"\n",
    "\n",
    "    # crea directorio de salidas\n",
    "    from pathlib import Path\n",
    "\n",
    "    Path(data_dir + \"/salidas\").mkdir(parents=True, exist_ok=True)\n",
    "\n",
    "    # descarga utilidades\n",
    "    if not Path(\"utilities\").is_dir():\n",
    "        !ghclone XXXX # (in english it's https://github.com/krixik-ai/krixik-docs/tree/main/utilities)\n",
    "    else:\n",
    "        print(\"ya has clonado las utilidades de documentación!\")\n",
    "else:\n",
    "    # si estás usando una descarga local de la documentación, define las rutas relativas a la estructura local de la documentación\n",
    "    # importa utilidades\n",
    "    sys.path.append(\"../../../\")\n",
    "\n",
    "    # define la variable 'data_dir' para tus rutas\n",
    "    data_dir = \"../../../data/\"\n",
    "\n",
    "    # si estás usando este notebook localmente desde el repositorio de documentación Krixik, carga tus secretos de un archivo .env ubicado en la base del repositorio de documentación\n",
    "    from dotenv import load_dotenv\n",
    "\n",
    "    load_dotenv(\"../../../.env\")\n",
    "\n",
    "    MY_API_KEY = os.getenv(\"MY_API_KEY\")\n",
    "    MY_API_URL = os.getenv(\"MY_API_URL\")\n",
    "\n",
    "\n",
    "# carga 'reset'\n",
    "reset = importlib.import_module(\"utilities.reset\")\n",
    "reset_pipeline = reset.reset_pipeline\n",
    "\n",
    "\n",
    "# importa Krixik e inicializa sesión con tus secretos personales\n",
    "from krixik import krixik\n",
    "\n",
    "krixik.init(api_key=MY_API_KEY, api_url=MY_API_URL)"
   ]
  },
  {
   "cell_type": "markdown",
   "metadata": {},
   "source": [
    "## El Método `process_status` (Estado de Proceso)\n",
    "\n",
    "El método `process_status` (estado de proceso) está disponible para todo *pipeline* Krixik. Se usa cuando quieres revisar el estado de archivos que se están procesando por un *pipeline*.\n",
    "\n",
    "Este método es particularmente útil cuando usas el método [`process`](metodo_process_procesar.md) con `wait_for_process` en `False`, pues te da visibilidad en cuanto a procesos que han continuado del lado del servidor después de que recuperas control de tu IDE.\n",
    "\n",
    "Esta introducción del método `process_status` se divide en las siguientes secciones:\n",
    "\n",
    "- [Argumentos del Método process_status](#argumentos-del-metodo-process_status)\n",
    "- [Ejemplo de process_status](#ejemplo-de-process_status)\n",
    "- [Ejemplo de process_status con Archivo Eliminado](#ejemplo-de-process_status-con-archivo-eliminado)"
   ]
  },
  {
   "cell_type": "markdown",
   "metadata": {},
   "source": [
    "### Argumentos del Metodo process_status\n",
    "\n",
    "El método `process_status` toma un solo argumento (requerido):\n",
    "\n",
    "- `request_id`: (str) El identificador único asociado a la ejecución específica del método [`process`](metodo_process_procesar.md)."
   ]
  },
  {
   "cell_type": "markdown",
   "metadata": {},
   "source": [
    "### Ejemplo de process_status\n",
    "\n",
    "Ahora detalla cómo funciona el método `process_status` cuando el método [`process`](metodo_process_procesar.md) ha sido exitoso. El argumento `wait_for_process` se pondrá en `False`.\n",
    "\n",
    "Primero debes crear un *pipeline* sobre el cual puedas ejecutar este ejemplo. Un *pipeline* que consiste de un solo módulo [`keyword-db`](../../modulos/modulos_de_bases_de_datos/modulo_keyword-db_base_de_datos_de_palabras_clave.md) funciona bien:"
   ]
  },
  {
   "cell_type": "code",
   "execution_count": 2,
   "metadata": {},
   "outputs": [],
   "source": [
    "# crea un pipeline de módulo único con un módulo keyword-db para este ejemplo\n",
    "pipeline = krixik.create_pipeline(name=\"metodo_process_status_1_keyword-db\",\n",
    "                                  module_chain=[\"keyword-db\"])"
   ]
  },
  {
   "cell_type": "markdown",
   "metadata": {},
   "source": [
    "Ahora procesa un archivo a través de este *pipeline*. Usa un breve archivo TXT que contiene una porción de <u>Moby Dick</u>, de Herman Melville:"
   ]
  },
  {
   "cell_type": "code",
   "execution_count": null,
   "metadata": {},
   "outputs": [],
   "source": [
    "# procesa el archivo TXT por el pipeline de módulo único con un módulo keyword-db con wait_for_process en False\n",
    "process_output = pipeline.process(\n",
    "    local_file_path=data_dir + \"input/moby_dick_muy_corto.txt\",  # la ruta de archivo inicial en la que yace el archivo de entrada\n",
    "    local_save_directory=data_dir + \"output\",  # el directorio local en el que se guardará el archivo de salida\n",
    "    expire_time=60 * 30,  # process data will be deleted from the Krixik system in 30 minutes\n",
    "    wait_for_process=True,  # espera que el proceso termine antes de devolver control del IDE al usuario\n",
    "    verbose=False, # no mostrar actualizaciones de proceso al ejecutar el código\n",
    ")"
   ]
  },
  {
   "cell_type": "markdown",
   "metadata": {},
   "source": [
    "¿Cómo se ve la salida inmediata de este proceso?"
   ]
  },
  {
   "cell_type": "code",
   "execution_count": 4,
   "metadata": {},
   "outputs": [
    {
     "name": "stdout",
     "output_type": "stream",
     "text": [
      "{\n",
      "  \"file_id\": \"596bf30e-c13d-41df-8cc8-b7e26709a468\",\n",
      "  \"request_id\": \"f948a6ad-0343-e743-2b3f-0df6bc732a3a\",\n",
      "  \"file_name\": \"krixik_generated_file_name_gewgneptrz.txt\",\n",
      "  \"symbolic_directory_path\": \"/etc\",\n",
      "  \"file_tags\": null,\n",
      "  \"file_description\": null\n",
      "}\n"
     ]
    }
   ],
   "source": [
    "# nítidamente reproduce la salida de este proceso\n",
    "print(json.dumps(process_output, indent=2))"
   ]
  },
  {
   "cell_type": "markdown",
   "metadata": {},
   "source": [
    "Eso es lo único que ves porque retomaste control del IDE apenas que terminaste de subir el archivo a Krixik; la variable `process_output` no sabe cómo continuó o concluyó el proceso.\n",
    "\n",
    "Puedes revisar el estado del proceso pasando el `request_id` (devuelto cuando usaste el método [`process`](metodo_process_procesar.md)) al método `process_status`, así:"
   ]
  },
  {
   "cell_type": "code",
   "execution_count": 5,
   "metadata": {},
   "outputs": [
    {
     "name": "stdout",
     "output_type": "stream",
     "text": [
      "{\n",
      "  \"status_code\": 200,\n",
      "  \"request_id\": \"8863f851-fa57-4ffa-98fd-31d9df31fcdc\",\n",
      "  \"file_id\": \"596bf30e-c13d-41df-8cc8-b7e26709a468\",\n",
      "  \"message\": \"SUCCESS: process_status found\",\n",
      "  \"pipeline\": \"process_status_method_1_keyword-db\",\n",
      "  \"process_status\": {\n",
      "    \"module_1\": false\n",
      "  },\n",
      "  \"overall_status\": \"ongoing\"\n",
      "}\n"
     ]
    }
   ],
   "source": [
    "# usar process_status\n",
    "process_1_status = pipeline.process_status(request_id=process_output[\"request_id\"])\n",
    "\n",
    "# nítidamente reproduce la salida de este uso de process_status\n",
    "print(json.dumps(process_1_status, indent=2))"
   ]
  },
  {
   "cell_type": "markdown",
   "metadata": {},
   "source": [
    "Acá puedes ver que el proceso no ha terminado, pues su `overall_status` (estado general) es `\"ongoing\"` (en curso).\n",
    "\n",
    "Si esperas un poco y vuelves a intentar, obtendrás confirmación de que el proceso concluyó exitosamente:"
   ]
  },
  {
   "cell_type": "code",
   "execution_count": 6,
   "metadata": {
    "tags": [
     "remove_cell"
    ]
   },
   "outputs": [],
   "source": [
    "import time\n",
    "\n",
    "time.sleep(30)"
   ]
  },
  {
   "cell_type": "code",
   "execution_count": 7,
   "metadata": {},
   "outputs": [
    {
     "name": "stdout",
     "output_type": "stream",
     "text": [
      "{\n",
      "  \"status_code\": 200,\n",
      "  \"request_id\": \"4cf89f97-b82e-4104-929f-df49d928e345\",\n",
      "  \"file_id\": \"596bf30e-c13d-41df-8cc8-b7e26709a468\",\n",
      "  \"message\": \"SUCCESS: process_status found\",\n",
      "  \"pipeline\": \"process_status_method_1_keyword-db\",\n",
      "  \"process_status\": {\n",
      "    \"module_1\": true\n",
      "  },\n",
      "  \"overall_status\": \"complete\"\n",
      "}\n"
     ]
    }
   ],
   "source": [
    "# usar process_status nuevamente\n",
    "process_status_output = pipeline.process_status(request_id=process_output[\"request_id\"])\n",
    "\n",
    "# nítidamente reproduce la salida de este nuevo uso de process_status\n",
    "print(json.dumps(process_status_output, indent=2))"
   ]
  },
  {
   "cell_type": "markdown",
   "metadata": {},
   "source": [
    "### Ejemplo de process_status con Archivo Eliminado\n",
    "\n",
    "Como has visto, usar `process_status` sobre una instancia fallida de [`process`](metodo_process_procesar.md) evidencia que el proceso falló.\n",
    "\n",
    "Pero ¿qué ocurre cuando el archivo sobre el que usas `process_status` se [vence](metodo_process_procesar.md#argumentos-principales-del-metodo-process) o se [elimina](../sistema_de_archivos/metodo_delete_eliminar.md) manualmente del sistema Krixik?\n",
    "\n",
    "En Krixik nos tomamos la eliminación de archivos muy en serio: si un archivo es [eliminado](../sistema_de_archivos/metodo_delete_eliminar.md) se borra totalmente del sistema. Por ende, si usas el método `process_status` sobre un archivo [vencido](metodo_process_procesar.md#argumentos-principales-del-metodo-process) o manualmente [eliminado](../sistema_de_archivos/metodo_delete_eliminar.md) el sistema te indicará que el `request_id` que usaste como argumento no fue hallado. El archivo ya no está, y tampoco está ningún registro de su haber sido procesado inicialmente."
   ]
  },
  {
   "cell_type": "code",
   "execution_count": 8,
   "metadata": {
    "tags": [
     "remove_cell"
    ]
   },
   "outputs": [],
   "source": [
    "# elimina todos datos procesados pertenecientes a este pipeline\n",
    "import time\n",
    "\n",
    "time.sleep(30)\n",
    "reset_pipeline(pipeline)"
   ]
  }
 ],
 "metadata": {
  "kernelspec": {
   "display_name": "venv",
   "language": "python",
   "name": "python3"
  },
  "language_info": {
   "codemirror_mode": {
    "name": "ipython",
    "version": 3
   },
   "file_extension": ".py",
   "mimetype": "text/x-python",
   "name": "python",
   "nbconvert_exporter": "python",
   "pygments_lexer": "ipython3",
   "version": "3.12.0"
  }
 },
 "nbformat": 4,
 "nbformat_minor": 2
}
