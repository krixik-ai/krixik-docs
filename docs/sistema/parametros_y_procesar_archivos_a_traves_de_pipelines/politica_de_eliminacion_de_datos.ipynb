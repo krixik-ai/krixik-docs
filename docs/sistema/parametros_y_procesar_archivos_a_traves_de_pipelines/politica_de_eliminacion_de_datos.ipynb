{
 "cells": [
  {
   "cell_type": "markdown",
   "metadata": {},
   "source": [
    "## Política de Eliminación de Datos Krixik\n",
    "[🇺🇸 English version of this document](https://krixik-docs.readthedocs.io/latest/system/parameters_processing_files_through_pipelines/data_deletion_policy/)\n",
    "\n",
    "Lo siguiente es de tal importancia que amerita su propio documento:\n",
    "\n",
    "**Krixik no retiene tus archivos de entrada**. Los subimos a nuestros servidores, los mantenemos allí un tiempo suficiente para procesarlos, y luego los borramos inmediatamente."
   ]
  }
 ],
 "metadata": {
  "kernelspec": {
   "display_name": "venv",
   "language": "python",
   "name": "python3"
  },
  "language_info": {
   "codemirror_mode": {
    "name": "ipython",
    "version": 3
   },
   "file_extension": ".py",
   "mimetype": "text/x-python",
   "name": "python",
   "nbconvert_exporter": "python",
   "pygments_lexer": "ipython3",
   "version": "3.12.0"
  }
 },
 "nbformat": 4,
 "nbformat_minor": 2
}
