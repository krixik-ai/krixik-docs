{
 "cells": [
  {
   "cell_type": "markdown",
   "metadata": {},
   "source": [
    "## Formato JSON para Entradas"
   ]
  },
  {
   "cell_type": "markdown",
   "metadata": {},
   "source": [
    "### Detalles del Formato JSON\n",
    "\n",
    "Los archivos de entrada JSON a *pipelines* que empiezan con módulos de entrada JSON (p.ej. el módulo [`translate`](../../modulos/modulos_ia/modulo_translate_traduccion.md)) deben estar en un formato muy específico para que el método [`process`](../parametros_y_procesar_archivos_a_traves_de_pipelines/metodo_process_procesar.md) funcione. Si el archivo no sigue este formato, el intento de ejecutar [`process`](../parametros_y_procesar_archivos_a_traves_de_pipelines/metodo_process_procesar.md) fallará.\n",
    "\n",
    "Las reglas de este formato son las siguientes:\n",
    "\n",
    "- El contenedor macro dentro del archivo JSON debe ser una sola lista.\n",
    "\n",
    "- La lista contiene múltiples diccionarios.\n",
    "\n",
    "- Cada bloque de texto que se va a procesar debe estar en un diccionario separado. Por ejemplo, si quieres procesar 20 fragmentos de texto, la lista debe contener 20 diccionarios.\n",
    "\n",
    "- En cada diccionario, el texto que quieres que Krixik pase al siguiente módulo (asumiendo que conectes ese módulo a uno que lo sigue) es el valor de un par clave-valor. La clave de este par debe ser el *string* `\"snippet\"`. Si la clave cualquier otra cosa, será ignorado o fallará.\n",
    "\n",
    "- Cualquier par clave-valor en un diccionario cuya clave no es `\"snippet\"` será ignorado.\n",
    "\n",
    "- Si más de un par clave-valor en un diccionario tiene la clave `\"snippet\"`, todos menos uno de ellos será ignorado."
   ]
  },
  {
   "cell_type": "markdown",
   "metadata": {},
   "source": [
    "### Ejemplo de Entrada JSON"
   ]
  },
  {
   "cell_type": "markdown",
   "metadata": {},
   "source": [
    "Detalla el siguiente ejemplo de lo arriba explicado. Esta lista indica cómo se debe estructurar el contenido de un archivo JSON si quieres enviar las primeras dos oraciones de <u>1984</u> (por George Orwell) a un *pipeline* Krixik por separado."
   ]
  },
  {
   "cell_type": "code",
   "execution_count": 1,
   "metadata": {
    "tags": [
     "skip-execution",
     "remove_output"
    ]
   },
   "outputs": [
    {
     "data": {
      "text/plain": [
       "[{'snippet': 'It was a bright cold day in April, and the clocks were striking thirteen.',\n",
       "  'line_numbers': [1]},\n",
       " {'snippet': 'Winston Smith, his chin nuzzled into his breast in an effort to escape the vile wind, slipped quickly through the glass doors of Victory Mansions, though not quickly enough to prevent a swirl of gritty dust from entering along with him.',\n",
       "  'line_numbers': [2, 3, 4, 5]}]"
      ]
     },
     "execution_count": 1,
     "metadata": {},
     "output_type": "execute_result"
    }
   ],
   "source": [
    "# ejemplo de contenido de JSON; dos bloques de texto separados\n",
    "[\n",
    "    {\"snippet\": \"It was a bright cold day in April, and the clocks were striking thirteen.\", \"line_numbers\": [1]},\n",
    "    {\n",
    "        \"snippet\": \"Winston Smith, his chin nuzzled into his breast in an effort to escape the vile wind, slipped quickly through the glass doors of Victory Mansions, though not quickly enough to prevent a swirl of gritty dust from entering along with him.\",\n",
    "        \"line_numbers\": [2, 3, 4, 5],\n",
    "    },\n",
    "]"
   ]
  },
  {
   "cell_type": "markdown",
   "metadata": {},
   "source": [
    "### Creación de Archivos JSON\n",
    "\n",
    "Recomendamos usar funcionalidad JSON para crear tus archivos JSON. Crearlos directamente puede generar errores. El siguiente código es un ejemplo de cómo hacerlo en Python (ten en cuenta la variable Python 'my_data' que introducimos al principio):"
   ]
  },
  {
   "cell_type": "code",
   "execution_count": 2,
   "metadata": {},
   "outputs": [],
   "source": [
    "# crear y localmente guardar un archivo JSON\n",
    "my_data = [\n",
    "    {\"snippet\": \"It was a bright cold day in April, and the clocks were striking thirteen.\", \"line_numbers\": [1]},\n",
    "    {\n",
    "        \"snippet\": \"Winston Smith, his chin nuzzled into his breast in an effort to escape the vile wind, slipped quickly through the glass doors of Victory Mansions, though not quickly enough to prevent a swirl of gritty dust from entering along with him.\",\n",
    "        \"line_numbers\": [2, 3, 4, 5],\n",
    "    },\n",
    "]\n",
    "\n",
    "import json\n",
    "\n",
    "with open(\"demo_file_1.json\", \"w\") as f:\n",
    "    json.dump(my_data, f)"
   ]
  },
  {
   "cell_type": "markdown",
   "metadata": {},
   "source": [
    "Este código localmente creará un archivo JSON con formato correcto llamado `demo_file_1.json`, archivo que contiene el contenido que ves, en tu directorio de trabajo actual."
   ]
  }
 ],
 "metadata": {
  "kernelspec": {
   "display_name": "venv",
   "language": "python",
   "name": "python3"
  },
  "language_info": {
   "codemirror_mode": {
    "name": "ipython",
    "version": 3
   },
   "file_extension": ".py",
   "mimetype": "text/x-python",
   "name": "python",
   "nbconvert_exporter": "python",
   "pygments_lexer": "ipython3",
   "version": "3.12.0"
  }
 },
 "nbformat": 4,
 "nbformat_minor": 2
}
