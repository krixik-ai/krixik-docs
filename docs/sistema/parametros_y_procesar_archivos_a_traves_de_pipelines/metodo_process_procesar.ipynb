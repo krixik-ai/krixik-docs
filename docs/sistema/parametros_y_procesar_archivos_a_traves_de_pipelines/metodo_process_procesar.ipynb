{
 "cells": [
  {
   "cell_type": "markdown",
   "metadata": {},
   "source": [
    "<a href=\"https://colab.research.google.com/github/krixik-ai/krixik-docs/blob/main/docs/system/parameters_processing_files_through_pipelines/process_method.ipynb\" target=\"_parent\"><img src=\"https://colab.research.google.com/assets/colab-badge.svg\" alt=\"Open In Colab\"/></a>"
   ]
  },
  {
   "cell_type": "code",
   "execution_count": 1,
   "metadata": {
    "tags": [
     "remove_cell",
     "remove_output"
    ]
   },
   "outputs": [
    {
     "name": "stdout",
     "output_type": "stream",
     "text": [
      "SUCCESS: You are now authenticated.\n"
     ]
    }
   ],
   "source": [
    "import os\n",
    "import sys\n",
    "import json\n",
    "import importlib\n",
    "from pathlib import Path\n",
    "\n",
    "# preparación de demo - incuye instanciación de secretos, instalación de requerimientos, y definición de rutas\n",
    "if os.getenv(\"COLAB_RELEASE_TAG\"):\n",
    "    # si estás usando este notebook en Google Colab, ingresa tus secretos acá\n",
    "    MY_API_KEY = \"TU_API_KEY_VA_AQUI\"\n",
    "    MY_API_URL = \"TU_API_URL_VA_AQUI\"\n",
    "\n",
    "    # si estás usando este notebook en Google Colab, instala requerimientos y descarga los subdirectorios requeridos\n",
    "    # instala el cliente Python de Krixik\n",
    "    !pip install krixik\n",
    "\n",
    "    # instala github-clone, que permite clonación fácil de los subdirectorios del repositorio de documentación XXX\n",
    "    !pip install github-clone\n",
    "\n",
    "    # clona los conjuntos de datos\n",
    "    if not Path(\"data\").is_dir():\n",
    "        !ghclone XXXX #(in english it's https://github.com/krixik-ai/krixik-docs/tree/main/data)\n",
    "    else:\n",
    "        print(\"ya se clonaron los conjuntos de datos de documentación!\")\n",
    "\n",
    "    # define la variable 'data_dir' para tus rutas\n",
    "    data_dir = \"./data/\"\n",
    "\n",
    "    # crea directorio de salidas\n",
    "    from pathlib import Path\n",
    "\n",
    "    Path(data_dir + \"/salidas\").mkdir(parents=True, exist_ok=True)\n",
    "\n",
    "    # descarga utilidades\n",
    "    if not Path(\"utilities\").is_dir():\n",
    "        !ghclone XXXX # (in english it's https://github.com/krixik-ai/krixik-docs/tree/main/utilities)\n",
    "    else:\n",
    "        print(\"ya has clonado las utilidades de documentación!\")\n",
    "else:\n",
    "    # si estás usando una descarga local de la documentación, define las rutas relativas a la estructura local de la documentación\n",
    "    # importa utilidades\n",
    "    sys.path.append(\"../../../\")\n",
    "\n",
    "    # define la variable 'data_dir' para tus rutas\n",
    "    data_dir = \"../../../data/\"\n",
    "\n",
    "    # si estás usando este notebook localmente desde el repositorio de documentación Krixik, carga tus secretos de un archivo .env ubicado en la base del repositorio de documentación\n",
    "    from dotenv import load_dotenv\n",
    "\n",
    "    load_dotenv(\"../../../.env\")\n",
    "\n",
    "    MY_API_KEY = os.getenv(\"MY_API_KEY\")\n",
    "    MY_API_URL = os.getenv(\"MY_API_URL\")\n",
    "\n",
    "\n",
    "# carga 'reset'\n",
    "reset = importlib.import_module(\"utilities.reset\")\n",
    "reset_pipeline = reset.reset_pipeline\n",
    "\n",
    "\n",
    "# importa Krixik e inicializa sesión con tus secretos personales\n",
    "from krixik import krixik\n",
    "\n",
    "krixik.init(api_key=MY_API_KEY, api_url=MY_API_URL)"
   ]
  },
  {
   "cell_type": "markdown",
   "metadata": {},
   "source": [
    "## El Método `process` (Procesar) y Sus Parámetros\n",
    "\n",
    "El método `process`, disponible para todo *pipeline* Krixik, se usa cuando deseas procesar archivos a través de un *pipeline*.\n",
    "\n",
    "Esta introducción al método `process` se divide en las siguientes secciones:\n",
    "\n",
    "- [Argumentos Principales del Método `process`](#argumentos-principales-del-metodo-process)\n",
    "- [Uso Básico y Desglose de Salida](#uso-basico-y-desglose-de-salida)\n",
    "- [Selección de Modelo por Medio del Argumento `modules`](#seleccion-de-modelo-por-medio-del-argumento-modules)\n",
    "- [Usa tus Propios Modelos](#usa-tus-propios-modelos)\n",
    "- [Argumentos de Metadata Opcionales](#argumentos-de-metadata-opcionales)\n",
    "- [Valores Predeterminados de Argumentos de Metadata](#valores-predeterminados-de-argumentos-de-metadata)\n",
    "- [Conversiones Automáticas de Tipo de Archivo](#conversiones-automaticas-de-tipo-de-archivo)\n",
    "- [Límite de Tamaño de Salidas](#limite-de-tamano-de-salidas)"
   ]
  },
  {
   "cell_type": "markdown",
   "metadata": {},
   "source": [
    "### Argumentos Principales del Metodo `process`\n",
    "\n",
    "El método `process` toma cinco argumentos básicos (además del argumento `modules` y de una serie de argumentos opcionales de metadata que detallaremos en breve). Estos cinco argumentos son:\n",
    "\n",
    "- `local_file_path`: (obligatorio, str) La ruta de archivo local del archivo que deseas procesar a través del *pipeline*.\n",
    "\n",
    "- `local_save_directory`: (opcional, str) La ruta del directorio local en el que deseas que se guarden las salidas de tu proceso. El valor predeterminado de este argumento es el actual directorio del que estás operando.\n",
    "\n",
    "- `expire_time`: (opcional, int) La cantidad de tiempo (en segundos) que la salida de un proceso permanece en los servidores de Krixik. El valor predeterminado de este argumento es 1800 segundos, que equivale a 30 minutos. Una vez se acaba este tiempo, el archivo se 'vence' y es completamente eliminado del sistema.\n",
    "\n",
    "- `wait_for_process`: (opcional, bool) Le indica a Krixik si debe esperar que tu proceso termine antes de devolverte control de tu IDE o *notebook*. `True` le dice a Krixik que espere hasta que el proceso termine, así que no podrás ejecutar nada más mientras tanto. `False` le dice a Krixik que deseas recuperar control apenas se suba todo el archivo al sistema Krixik. Cuando su valor es `False` el estado del proceso se puede detallar con el método [`process_status`](metodo_process_status_estado_de_proceso.md). El valor predeterminado de este argumento es `True`.\n",
    "\n",
    "- `verbose`: (opcional, bool) Determina si Krixik debe inmediatamente mostrar/imprimir actualizaciones de proceso en tu terminal o notebook. El valor predeterminado de este argumento es `True`."
   ]
  },
  {
   "cell_type": "markdown",
   "metadata": {},
   "source": [
    "### Uso Basico y Desglose de Salida"
   ]
  },
  {
   "cell_type": "markdown",
   "metadata": {},
   "source": [
    "Primero crea un *pipeline* de módulo único para esta demostración del método `process`. Puedes usar un módulo [`sentiment` (análisis de sentimiento)](../../modulos/modulos_ia/modulo_sentiment_analisis_de_sentimiento.md)."
   ]
  },
  {
   "cell_type": "code",
   "execution_count": 2,
   "metadata": {},
   "outputs": [],
   "source": [
    "# crea un pipeline de módulo único para esta demostración del método process\n",
    "pipeline = krixik.create_pipeline(name=\"metodo_process_1_sentiment\", module_chain=[\"sentiment\"])"
   ]
  },
  {
   "cell_type": "markdown",
   "metadata": {},
   "source": [
    "En el directorio local hemos creado un archivo JSON que contiene tres fragmentos de texto que simulan reseñas de productos. Los fragmentos dicen lo siguiente [la traducción no está en el archivo]:\n",
    "\n",
    "- This recliner is the best damn seat I've ever come across. When I fall asleep on it, which is often, I sleep like a baby. [Esta reclinadora es la mejor reclinadora que he encontrado. Cuando me quedo dormido sobre ella, lo cual ocurre a menudo, duermo como un bebé.]\n",
    "\n",
    "- This recliner is terrible. It broke on its way out of the box, and no matter what I try, it doesn't recline. Avoid at all costs. [Esta reclinadora es pésima. Se rompió cuando la saqué de la caja y se rehusa a reclinar, intente lo que intente. Evitar a toda costa.]\n",
    "\n",
    "- I've sat on a lot of recliners in my life. I've forgotten about most of them. I'll forget about this one as well. [Me he sentado sobre muchas reclinadoras en mi vida. He olvidado la mayoría. Olvidaré esta también.]\n",
    "\n",
    "Ten en cuenta que las entradas JSON _deben_ seguir un [formato específico](formato_JSON_entrada.md). Si no lo siguen serán rechazadas por Krixik."
   ]
  },
  {
   "cell_type": "code",
   "execution_count": 3,
   "metadata": {},
   "outputs": [],
   "source": [
    "# procesa un pequeño archivo de entrada\n",
    "process_demo_output = pipeline.process(\n",
    "    local_file_path=data_dir + \"input/resenas_de_reclinadora.json\",  # la ruta de archivo inicial en la que yace el archivo JSON\n",
    "    local_save_directory=data_dir + \"output\",  # el directorio local en el que se guardará el archivo de salida\n",
    "    expire_time=60 * 30,  # data de este proceso se eliminará del sistema Krixik en 30 minutos\n",
    "    wait_for_process=True,  # espera que el proceso termine antes de devolver control del IDE al usuario\n",
    "    verbose=False,  # no mostrar actualizaciones de proceso al ejecutar el código\n",
    ")"
   ]
  },
  {
   "cell_type": "markdown",
   "metadata": {},
   "source": [
    "Ahora reproduce la salida del proceso. Dado que la salida de este módulo/modelo es en formato JSON, puedes reproducirla nítidamente con el siguiente código:"
   ]
  },
  {
   "cell_type": "code",
   "execution_count": 4,
   "metadata": {},
   "outputs": [
    {
     "name": "stdout",
     "output_type": "stream",
     "text": [
      "{\n",
      "  \"status_code\": 200,\n",
      "  \"pipeline\": \"process_method_1_sentiment\",\n",
      "  \"request_id\": \"339ef4dd-5c97-4822-b450-aea700bc6021\",\n",
      "  \"file_id\": \"6a314cdb-6938-4663-aef5-a0258341c120\",\n",
      "  \"message\": \"SUCCESS - output fetched for file_id 6a314cdb-6938-4663-aef5-a0258341c120.Output saved to location(s) listed in process_output_files.\",\n",
      "  \"warnings\": [],\n",
      "  \"process_output\": [\n",
      "    {\n",
      "      \"snippet\": \"This recliner is the best damn seat I've ever come across. When I fall asleep on it, which is often, I sleep like a baby.\",\n",
      "      \"positive\": 0.871,\n",
      "      \"negative\": 0.129,\n",
      "      \"neutral\": 0.0\n",
      "    },\n",
      "    {\n",
      "      \"snippet\": \"This recliner is terrible. It broke on its way out of the box, and no matter what I try, it doesn't recline. Avoid at all costs.\",\n",
      "      \"positive\": 0.001,\n",
      "      \"negative\": 0.999,\n",
      "      \"neutral\": 0.0\n",
      "    },\n",
      "    {\n",
      "      \"snippet\": \"I've sat on a lot of recliners in my life. I've forgotten about most of them. I'll forget about this one as well.\",\n",
      "      \"positive\": 0.001,\n",
      "      \"negative\": 0.999,\n",
      "      \"neutral\": 0.0\n",
      "    }\n",
      "  ],\n",
      "  \"process_output_files\": [\n",
      "    \"../../../data/output/6a314cdb-6938-4663-aef5-a0258341c120.json\"\n",
      "  ]\n",
      "}\n"
     ]
    }
   ],
   "source": [
    "# reproduce la salida del proceso anterior nítidamente\n",
    "import json\n",
    "\n",
    "print(json.dumps(process_demo_output, indent=2))"
   ]
  },
  {
   "cell_type": "markdown",
   "metadata": {},
   "source": [
    "Desglosa esta salida:\n",
    "\n",
    "- `status_code`: El código de estado HTTP para este proceso (p.ej. \"200\", \"500\")\n",
    "\n",
    "- `pipeline`: El nombre (`name`) del *pipeline* con el que acabas de usar el método `process`.\n",
    "\n",
    "- `request_id`: El identificador único de esta ejecución del método `process`.\n",
    "\n",
    "- `file_id`: El identificador único (del lado del servidor) de este archivo procesado, y por ende de la salida asociada.\n",
    "\n",
    "- `message`: Este mensaje indica \"SUCCESS\" (éxito) o \"FAILURE\" (fracaso) para la ejecución de este método y ofrece detalle al respecto.\n",
    "\n",
    "- `warnings`: Una lista de mensajes que incluye toda advertencia relacionada a la ejecución del método.\n",
    "\n",
    "- `process_output`: La salida del proceso. En este caso, dado que está en formato JSON, es fácilmente reproducible en un *notebook* de código.\n",
    "\n",
    "- `process_output_files`: Una lista de nombres de archivo y rutas de archivo generadas como salidas del proceso y guardadas localmente.\n",
    "\n",
    "\n",
    "Puedes ver en `process_output` que el *pipeline* de [`análisis de sentimiento`](../../modulos/modulos_ia/modulo_sentiment_analisis_de_sentimiento.md) ha funcionado correctamente. A cada reseña de producto se le han asignado valores de sentimiento desglosados entre positivo, negativo, y neutral.\n",
    "\n",
    "Además de que está acá reproducida, esta salida de proceso también se ha guardado en el archivo indicado en `process_output_files`. Para cargarlo y confirmar que este contiene la misma salida de proceso que vimos arriba usa el siguiente código:"
   ]
  },
  {
   "cell_type": "code",
   "execution_count": 5,
   "metadata": {},
   "outputs": [
    {
     "name": "stdout",
     "output_type": "stream",
     "text": [
      "[\n",
      "  {\n",
      "    \"snippet\": \"This recliner is the best damn seat I've ever come across. When I fall asleep on it, which is often, I sleep like a baby.\",\n",
      "    \"positive\": 0.871,\n",
      "    \"negative\": 0.129,\n",
      "    \"neutral\": 0.0\n",
      "  },\n",
      "  {\n",
      "    \"snippet\": \"This recliner is terrible. It broke on its way out of the box, and no matter what I try, it doesn't recline. Avoid at all costs.\",\n",
      "    \"positive\": 0.001,\n",
      "    \"negative\": 0.999,\n",
      "    \"neutral\": 0.0\n",
      "  },\n",
      "  {\n",
      "    \"snippet\": \"I've sat on a lot of recliners in my life. I've forgotten about most of them. I'll forget about this one as well.\",\n",
      "    \"positive\": 0.001,\n",
      "    \"negative\": 0.999,\n",
      "    \"neutral\": 0.0\n",
      "  }\n",
      "]\n"
     ]
    }
   ],
   "source": [
    "# cargar la salida de proceso en el archivo\n",
    "import json\n",
    "\n",
    "with open(process_demo_output[\"process_output_files\"][0], \"r\") as file:\n",
    "    print(json.dumps(json.load(file), indent=2))"
   ]
  },
  {
   "cell_type": "markdown",
   "metadata": {},
   "source": [
    "### Seleccion de Modelo por Medio del Argumento `modules`\n",
    "\n",
    "El argumento `modules` del método `process` es opcional, pero a través de él puedes acceder a una multitud de opciones de parametrización. Este argumento te permite parametrizar la operación de cada módulo, **INCLUYENDO** (cuando aplica) la definición de qué modelo está activo dentro de él.\n",
    "\n",
    "El argumento `modules` se presenta como un diccionario con diccionarios dentro de él. En un *pipeline* de módulo único se ve así:\n",
    "\n",
    "```python\n",
    "modules={'<nombre de modelo>': {'model':'<modelo seleccionado>', 'params': <diccionario de parámetros>}}\n",
    "```\n",
    "\n",
    "Ten en cuenta que los nombres de los modelos son sensibles a mayúsculas y minúsculas.\n",
    "\n",
    "Por ejemplo, en un *pipeline* de módulo único que contiene un módulo [`caption` (leyenda de imagen)](../../modulos/modulos_ia/modulo_caption_leyenda_de_imagen.md), el argumento `modules` se vería así si quisieras usar el modelo disponble `blip-image-captioning-base`:\n",
    "\n",
    "```python\n",
    "modules={'caption': {'model':'blip-image-captioning-base', 'params': {}}}\n",
    "```\n",
    "\n",
    "En este ejemplo, `params` es un diccionario vacío porque los modelos del módulo [`caption` (leyenda de imagen)](../../modulos/modulos_ia/modulo_caption_leyenda_de_imagen.md) no toman ningún parámetro. Otros tipos de modelos sí toman parámetros, como los modelos del módulo [`text-embedder` (encaje léxico)](../../modulos/modulos_ia/modulo_text-embedder_encaje_lexico.md). Así se vería el argumento `modules` para un *pipeline* de módulo unico con un módulo [`text-embedder`](../../modulos/modulos_ia/modulo_text-embedder_encaje_lexico.md):\n",
    "\n",
    "```python\n",
    "modules={'text-embedder': {'model':'multi-qa-MiniLM-L6-cos-v1', 'params': {'quantize': False}}}\n",
    "```\n",
    "\n",
    "`quantize` es un parámetro que puedes definir para modelos del módulo [`text-embedder` (encaje léxico)](../../modulos/modulos_ia/modulo_text-embedder_encaje_lexico.md) y *solamente* para modelos de ese módulo.\n",
    "\n",
    "La sintaxis para el argumento `modules` en *pipelines* multimodulares es similar a lo anterior, pero en ese caso hay un subdiccionario para cada módulo. Por ejemplo, el argumento `modules` para un *pipeline* de [búsqueda semántica](../../ejemplos/ejemplos_pipelines_de_busqueda/multi_busqueda_semantica_basica.md) que secuencia módulos [`parser` (fragmentación de texto)](../../modulos/modulos_de_funciones_de_apoyo/modulo_parser_fragmentacion.md), [`text-embedder` (encaje léxico)](../../modulos/modulos_ia/modulo_text-embedder_encaje_lexico.md), y [`vector-db` (base de datos vectorial)](../../modulos/modulos_de_bases_de_datos/modulo_vector-db_base_de_datos_vectorial.md) se vería así:\n",
    "\n",
    "```python\n",
    "modules={'parser': {'model':'fixed', 'params': {\"chunk_size\": 10, \"overlap_size\": 5}},\n",
    "         'text-embedder': {'model':'all-MiniLM-L6-v2', 'params': {}},\n",
    "         'vector-db': {'model':'faiss', 'params': {}}}\n",
    "```\n",
    "\n",
    "Ten en cuenta que cualquier módulo no explícitamente parametrizado tomará sus valores predeterminados. Si necesitas especificar el modelo de un solo módulo o sus parámetros, eso no significa que debes especificar los parámetros de todos los módulos del *pipeline* al ejecutar el método `process`. Por ende, dado que en el código arriba indicado los módulos [`text-embedder`](../../modulos/modulos_ia/modulo_text-embedder_encaje_lexico.md) y [`vector-db`](../../modulos/modulos_de_bases_de_datos/modulo_vector-db_base_de_datos_vectorial.md) se están usando con sus modelos predeterminados, podrías lograr exactamente lo mismo si los quitas del código y solo dejas el módulo [`parser`](../../modulos/modulos_de_funciones_de_apoyo/modulo_parser_fragmentacion.md):\n",
    "\n",
    "```python\n",
    "modules={'parser': {'model':'fixed', 'params': {\"chunk_size\": 10, \"overlap_size\": 5}}}\n",
    "```\n",
    "\n",
    "Encuentra una descripción detallada de nuestros módulos actuales, incluyendo una lista de los modelos disponibles para cada uno, [aquí](../../modulos/introduccion_modulos.md)."
   ]
  },
  {
   "cell_type": "markdown",
   "metadata": {},
   "source": [
    "### Usa tus Propios Modelos\n",
    "\n",
    "¿Tienes un modelo—ya sea uno que has desarrollado o uno al que le has hecho *fine-tuning*—que te gustaría usar en Krixik?\n",
    "\n",
    "¡Haz clic aquí para aprender cómo hacerlo!"
   ]
  },
  {
   "cell_type": "markdown",
   "metadata": {},
   "source": [
    "### Argumentos de Metadata Opcionales\n",
    "\n",
    "El método `process` también toma varios argumentos de metadata opcionales. Estos no cambian la operación o tratamiento de datos de `process`. En cambio, hacen que tus archivos procesados sean más fáciles de recuperar y organizar. Puedes pensar en esto como un sistema de archivos para archivos que has procesado a través de tus *pipelines*.\n",
    "\n",
    "Los argumentos de metadata opcionales incluyen:\n",
    "\n",
    "- `symbolic_directory_path` (str) - Una ruta de directorio con formato UNIX bajo tu cuenta en el sistema Krixik. Su valor predeterminado es `/etc`.\n",
    "\n",
    "- `file_name` (str) - Un nombre de archivo personalizado que debe terminar con la extensión de archivo del archivo de entrada original. Su valor predeterminado es un *string* aleatoriamente generado (detallado en breve).\n",
    "\n",
    "- `symbolic_file_path` (str) - La combinación de `symbolic_directory_path` y `file_name` en un solo argumento. Su valor predeterminado es una concatenación del valor predeterminado de sus dos componentes.\n",
    "\n",
    "- `file_tags` (list) - Una lista de etiquetas de archivo personalizadas (cada etiqueta es un par clave-valor). Su valor predeterminado es una lista vacía.\n",
    "\n",
    "- `file_description` (str) - Una descripción de archivo personalizada. Su valor predeterminado es un *string* vacío.\n",
    "\n",
    "Los primeros cuatro—`symbolic_directory_path`, `file_name`, `symbolic_directory_path` y `file_tags`—pueden usarse como argumentos del método [`list` (lista)](../sistema_de_archivos/metodo_list_lista.md) y para los métodos [`keyword_search` (búsqueda por palabras clave)](../metodos_de_busqueda/metodo_keyword_search_busqueda_por_palabras_clave.md) y [`semantic_search` (búsqueda semántica o vectorial)](../metodos_de_busqueda/metodo_semantic_search_busqueda_semantica.md).\n",
    "\n",
    "Ten en cuenta que un archivo que procesas a través de un *pipeline* solo está disponible para ese *pipeline*. Por ejemplo, si subes un archivo a un `symbolic_directory_path` en un *pipeline* no podrás verlo en otro *pipeline* a través de [`list`](../sistema_de_archivos/metodo_list_lista.md), [búsqueda](../../ejemplos/ejemplos_pipelines_de_busqueda/introduccion_pipelines_de_busqueda.md), o cualquier otra herramienta, así especifiques ese mismo `symbolic_directory_path`.\n",
    "\n",
    "También ten en cuenta que un `symbolic_file_path` no se puede duplicar dentro de un *pipeline*. Si en un *pipeline* usas `process` con un archivo y especificas ciertos `symbolic_directory_path` y `file_name`, Krixik no te permitirá usar `process` con ningún otro archivo con esa misma combinación de `symbolic_directory_path` y `file_name`.\n",
    "\n",
    "Para poner todo esto en práctica, usa el método `process` una vez más. El archivo será el mismo de reseñas de una reclinadora, pero el código será una versión expandida con algunos de estos argumentos de metadata opcionales:"
   ]
  },
  {
   "cell_type": "code",
   "execution_count": 6,
   "metadata": {},
   "outputs": [],
   "source": [
    "# procesa un pequeño archivo de entrada con argumentos de metadata opcionales\n",
    "process_demo_output = pipeline.process(\n",
    "    local_file_path=data_dir + \"input/resenas_de_reclinadora.json\",\n",
    "    local_save_directory=data_dir + \"output\",\n",
    "    expire_time=60 * 30,\n",
    "    wait_for_process=True,\n",
    "    verbose=False,\n",
    "    symbolic_directory_path=\"/mi/ruta/de/archivo/personalizada\",\n",
    "    file_name=\"observaciones_reclinadora.json\",\n",
    "    file_tags=[{\"categoria\": \"muebles\"}, {\"codigo producto\": \"reclinadora-47b-u11\"}],\n",
    "    file_description=\"Tres reseñas de producto para la reclinadora Orwell Cloq.\",\n",
    ")"
   ]
  },
  {
   "cell_type": "markdown",
   "metadata": {},
   "source": [
    "### Valores Predeterminados de Argumentos de Metadata"
   ]
  },
  {
   "cell_type": "markdown",
   "metadata": {},
   "source": [
    "- Si no proporcionas un `file_name` se generará uno al azar. Este tendrá el siguiente formato: `krixik_generated_file_name_{10 caracteres aleatorios}.ext`, donde `.ext` es la extensión del archivo de entrada indicado en `local_file_path`.\n",
    "\n",
    "- Si no proporcionas un `symbolic_directory_path`, el valor predefindo que tomará es `/etc`.\n",
    "\n",
    "- Ten en cuenta que no puedes definir subdirectorios bajo el `symbolic_directory_path` `/etc`. Este es el directorio comodín, y la idea es que no se le construya nada debajo."
   ]
  },
  {
   "cell_type": "markdown",
   "metadata": {},
   "source": [
    "### Conversiones Automaticas de Tipo de Archivo\n",
    "\n",
    "Para ciertos módulos, el método `process` automáticamente convierte el formato de algunos archivos de entrada presentados en `local_file_path`. Las conversiones actualmente llevadas a cabo por Krixik son:\n",
    "\n",
    "- `pdf` -> `txt`\n",
    "- `docx` -> `txt`\n",
    "- `pptx` -> `txt`"
   ]
  },
  {
   "cell_type": "markdown",
   "metadata": {},
   "source": [
    "### Limite de Tamano de Salidas\n",
    "\n",
    "El límite de tamaño permitido de las salidas generadas por el método `process` es actualmente 5MB."
   ]
  },
  {
   "cell_type": "code",
   "execution_count": 7,
   "metadata": {
    "tags": [
     "remove_cell"
    ]
   },
   "outputs": [],
   "source": [
    "# elimina todos los datos procesados pertenecientes a este pipeline\n",
    "reset_pipeline(pipeline)"
   ]
  }
 ],
 "metadata": {
  "kernelspec": {
   "display_name": "myenv",
   "language": "python",
   "name": "python3"
  },
  "language_info": {
   "codemirror_mode": {
    "name": "ipython",
    "version": 3
   },
   "file_extension": ".py",
   "mimetype": "text/x-python",
   "name": "python",
   "nbconvert_exporter": "python",
   "pygments_lexer": "ipython3",
   "version": "3.10.13"
  }
 },
 "nbformat": 4,
 "nbformat_minor": 2
}
