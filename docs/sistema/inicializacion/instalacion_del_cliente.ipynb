{
 "cells": [
  {
   "cell_type": "markdown",
   "metadata": {},
   "source": [
    "## Instalación del Cliente Krixik"
   ]
  },
  {
   "cell_type": "markdown",
   "metadata": {},
   "source": [
    "Ejecuta la siguiente línea de código en tu terminal para instalar el cliente Python de Krixik con `pip`."
   ]
  },
  {
   "cell_type": "markdown",
   "metadata": {},
   "source": [
    "```python\n",
    "# haz instalación pip al cliente Python de Krixik\n",
    "pip install krixik\n",
    "```"
   ]
  },
  {
   "cell_type": "markdown",
   "metadata": {},
   "source": [
    "Nota: La versión 3.10 de Python (o mayor) es necesaria para usar el cliente Krixik.\n",
    "\n",
    "Hecho eso, puedes [inicializar tu sesión](inicializacion_y_autenticacion.md)."
   ]
  }
 ],
 "metadata": {
  "language_info": {
   "name": "python"
  }
 },
 "nbformat": 4,
 "nbformat_minor": 2
}
