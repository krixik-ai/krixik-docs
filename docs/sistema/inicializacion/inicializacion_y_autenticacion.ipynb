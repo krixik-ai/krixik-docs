{
 "cells": [
  {
   "cell_type": "markdown",
   "metadata": {},
   "source": [
    "## Inicializa y Autentica para Empezar"
   ]
  },
  {
   "cell_type": "markdown",
   "metadata": {},
   "source": [
    "Tras [instalar el cliente Krixik](instalacion_del_cliente.md), importa Krixik e inicializa tu sesión (completando la autenticación necesaria) para empezar a usar Krixik.\n",
    "\n",
    "Para esto necesitas dos secretos:\n",
    "\n",
    "- Tu \"API key\"\n",
    "- Tu \"API URL\"\n",
    "\n",
    "Si estás participando en nuestras pruebas beta y no tienes tus secretos, escríbele a los administradores de Krixik.\n",
    "\n",
    "En vez de manejar tus secretos directamente, enfáticamente recomendamos guardarlos en un archivo `.env` y cargarlos a través de [python-dotenv](https://pypi.org/project/python-dotenv/). Esta es una mejor práctica para guardar/cargar secretos, dado que los mantiene separados de tu código y de otros archivos y reduce la posibilidad de que accidentalmente los subas a un repositorio.\n",
    "\n",
    "Para hacer esto, define tus secretos en un archivo `.env` de la siguiente manera:\n",
    "\n",
    "```ssh-config\n",
    "DEMO_API_KEY=EJEMPLO_API_KEY_45678\n",
    "DEMO_API_URL=EJEMPLO_API_URL_09123\n",
    "```\n",
    "\n",
    "Luego cárgalos con [python-dotenv](https://pypi.org/project/python-dotenv/):"
   ]
  },
  {
   "cell_type": "code",
   "execution_count": 1,
   "metadata": {},
   "outputs": [],
   "source": [
    "# carga tus secretos de un archivo .env con python-dotenv\n",
    "from dotenv import load_dotenv\n",
    "import os\n",
    "\n",
    "load_dotenv()\n",
    "MI_API_KEY = os.getenv(\"DEMO_API_KEY\")\n",
    "MI_API_URL = os.getenv(\"DEMO_API_URL\")"
   ]
  },
  {
   "cell_type": "markdown",
   "metadata": {},
   "source": [
    "Tras cargar tus secretos puedes importar Krixik e inicializar/autenticar para empezar tu sesión.\n",
    "\n",
    "Estas son dos acciones separadas, así que hazlas por separado. Primero importa Krixik:"
   ]
  },
  {
   "cell_type": "code",
   "execution_count": 2,
   "metadata": {},
   "outputs": [],
   "source": [
    "# importa Krixik\n",
    "from krixik import krixik"
   ]
  },
  {
   "cell_type": "markdown",
   "metadata": {},
   "source": [
    "Ahora inicializa tu sesión con tus secretos:"
   ]
  },
  {
   "cell_type": "code",
   "execution_count": 3,
   "metadata": {},
   "outputs": [
    {
     "name": "stdout",
     "output_type": "stream",
     "text": [
      "SUCCESS: You are now authenticated.\n"
     ]
    }
   ],
   "source": [
    "# inicializa tu sesión con tus secretos\n",
    "krixik.init(api_key=MI_API_KEY,\n",
    "            api_url=MI_API_URL)"
   ]
  },
  {
   "cell_type": "markdown",
   "metadata": {},
   "source": [
    "Listo, ¡ya puedes arrancar! Es hora de [ensamblar *pipelines*](../creacion_de_pipelines/creacion_de_pipelines.md)."
   ]
  }
 ],
 "metadata": {
  "kernelspec": {
   "display_name": "venv",
   "language": "python",
   "name": "python3"
  },
  "language_info": {
   "codemirror_mode": {
    "name": "ipython",
    "version": 3
   },
   "file_extension": ".py",
   "mimetype": "text/x-python",
   "name": "python",
   "nbconvert_exporter": "python",
   "pygments_lexer": "ipython3",
   "version": "3.12.0"
  }
 },
 "nbformat": 4,
 "nbformat_minor": 2
}
