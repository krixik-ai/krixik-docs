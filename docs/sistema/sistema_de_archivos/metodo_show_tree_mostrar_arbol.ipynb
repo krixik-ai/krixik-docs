{
 "cells": [
  {
   "cell_type": "markdown",
   "metadata": {},
   "source": [
    "<a href=\"https://colab.research.google.com/github/krixik-ai/krixik-docs/blob/main/docs/system/file_system/show_tree_method.ipynb\" target=\"_parent\"><img src=\"https://colab.research.google.com/assets/colab-badge.svg\" alt=\"Open In Colab\"/></a>"
   ]
  },
  {
   "cell_type": "code",
   "execution_count": 1,
   "metadata": {
    "tags": [
     "remove_cell",
     "remove_output"
    ]
   },
   "outputs": [
    {
     "name": "stdout",
     "output_type": "stream",
     "text": [
      "SUCCESS: You are now authenticated.\n"
     ]
    }
   ],
   "source": [
    "import os\n",
    "import sys\n",
    "import json\n",
    "import importlib\n",
    "from pathlib import Path\n",
    "\n",
    "# preparación de demo - incuye instanciación de secretos, instalación de requerimientos, y definición de rutas\n",
    "if os.getenv(\"COLAB_RELEASE_TAG\"):\n",
    "    # si estás usando este notebook en Google Colab, ingresa tus secretos acá\n",
    "    MY_API_KEY = \"TU_API_KEY_VA_AQUI\"\n",
    "    MY_API_URL = \"TU_API_URL_VA_AQUI\"\n",
    "\n",
    "    # si estás usando este notebook en Google Colab, instala requerimientos y descarga los subdirectorios requeridos\n",
    "    # instala el cliente Python de Krixik\n",
    "    !pip install krixik\n",
    "\n",
    "    # instala github-clone, que permite clonación fácil de los subdirectorios del repositorio de documentación XXX\n",
    "    !pip install github-clone\n",
    "\n",
    "    # clona los conjuntos de datos\n",
    "    if not Path(\"data\").is_dir():\n",
    "        !ghclone XXXX #(in english it's https://github.com/krixik-ai/krixik-docs/tree/main/data)\n",
    "    else:\n",
    "        print(\"ya se clonaron los conjuntos de datos de documentación!\")\n",
    "\n",
    "    # define la variable 'data_dir' para tus rutas\n",
    "    data_dir = \"./data/\"\n",
    "\n",
    "    # crea directorio de salidas\n",
    "    from pathlib import Path\n",
    "\n",
    "    Path(data_dir + \"/salidas\").mkdir(parents=True, exist_ok=True)\n",
    "\n",
    "    # descarga utilidades\n",
    "    if not Path(\"utilities\").is_dir():\n",
    "        !ghclone XXXX # (in english it's https://github.com/krixik-ai/krixik-docs/tree/main/utilities)\n",
    "    else:\n",
    "        print(\"ya has clonado las utilidades de documentación!\")\n",
    "else:\n",
    "    # si estás usando una descarga local de la documentación, define las rutas relativas a la estructura local de la documentación\n",
    "    # importa utilidades\n",
    "    sys.path.append(\"../../../\")\n",
    "\n",
    "    # define la variable 'data_dir' para tus rutas\n",
    "    data_dir = \"../../../data/\"\n",
    "\n",
    "    # si estás usando este notebook localmente desde el repositorio de documentación Krixik, carga tus secretos de un archivo .env ubicado en la base del repositorio de documentación\n",
    "    from dotenv import load_dotenv\n",
    "\n",
    "    load_dotenv(\"../../../.env\")\n",
    "\n",
    "    MY_API_KEY = os.getenv(\"MY_API_KEY\")\n",
    "    MY_API_URL = os.getenv(\"MY_API_URL\")\n",
    "\n",
    "\n",
    "# carga 'reset'\n",
    "reset = importlib.import_module(\"utilities.reset\")\n",
    "reset_pipeline = reset.reset_pipeline\n",
    "\n",
    "\n",
    "# importa Krixik e inicializa sesión con tus secretos personales\n",
    "from krixik import krixik\n",
    "\n",
    "krixik.init(api_key=MY_API_KEY, api_url=MY_API_URL)"
   ]
  },
  {
   "cell_type": "markdown",
   "metadata": {},
   "source": [
    "## El Método `show_tree` (Mostrar Árbol)\n",
    "\n",
    "El método `show_tree` te permite visualizar, ya sea por tu terminal o como salida en tu IDE, todos los archivos actualmente en tu *pipeline*. Está diseñado como una versión simple y análoga del comando ['tree' de UNIX](https://www.tecmint.com/linux-tree-command-examples/).\n",
    "\n",
    "Esta introducción al método `show_tree` está dividida en las siguientes secciones:\n",
    "\n",
    "- [Argumentos del Método `show_tree`](#argumentos-del-metodo-show_tree)\n",
    "- [Ejemplo del Método `show_tree`](#ejemplo-del-metodo-show_tree)\n",
    "- [El Operador Comodín y la Raíz Global](#el-operador-comodin-y-la-raiz-global)"
   ]
  },
  {
   "cell_type": "markdown",
   "metadata": {},
   "source": [
    "### Argumentos del Metodo `show_tree`\n",
    "\n",
    "El método `show_tree` toma un argumento (requerido):\n",
    "\n",
    "- `symbolic_directory_path` (str) - El directorio en el sistema Krixik cuyo contenido quieres visualizar. Si se usa el [operador comodín](#el-operador-comodin-y-la-raiz-global) como sufijo, este directorio se convierte en la raíz del árbol visualizado."
   ]
  },
  {
   "cell_type": "markdown",
   "metadata": {},
   "source": [
    "### Ejemplo del Metodo `show_tree`\n",
    "\n",
    "Primero debes crear un *pipeline* sobre el cual puedas ejecutar este ejemplo. Un *pipeline* que consiste de un solo módulo [`parser`](../../modulos/modulos_de_funciones_de_apoyo/modulo_parser_fragmentacion.md) funcionará bien. Usa el método [`create_pipeline`](../creacion_de_pipelines/creacion_de_pipelines.md) para crearlo:"
   ]
  },
  {
   "cell_type": "code",
   "execution_count": null,
   "metadata": {},
   "outputs": [],
   "source": [
    "# crea un pipeline para este ejemplo con un módulo parser\n",
    "pipeline = krixik.create_pipeline(name=\"metodo_show_tree_1_parser\", module_chain=[\"parser\"])"
   ]
  },
  {
   "cell_type": "markdown",
   "metadata": {},
   "source": [
    "Para facilitar las cosas, establece la ubicación de un archivo y guárdalo como una variable; luego usarás el mismo archivo varias veces pero con diferentes nombres. Lo haces de la siguiente manera:"
   ]
  },
  {
   "cell_type": "code",
   "execution_count": null,
   "metadata": {},
   "outputs": [],
   "source": [
    "# define la ruta a un archivo de entrada en tu directorio de ejemplos\n",
    "test_file = data_dir + \"input/1984_muy_corto.txt\""
   ]
  },
  {
   "cell_type": "markdown",
   "metadata": {},
   "source": [
    "Ahora usa el método [`process`](../parametros_y_procesar_archivos_a_traves_de_pipelines/metodo_process_procesar.md) para procesar el archivo por el *pipeline* varias veces, pero con `file_name` diferente cada vez. Observa la estructura de `symbolic_directory_path`s que se va creando:"
   ]
  },
  {
   "cell_type": "code",
   "execution_count": 2,
   "metadata": {},
   "outputs": [],
   "source": [
    "# procesa el mismo archivo por el pipeline varias veces\n",
    "process_output = pipeline.process(\n",
    "    local_file_path=test_file,  # indícale a Krixik que quieres el archivo antes definido y guardado en una variable\n",
    "    local_save_directory=data_dir + \"output\",  # el directorio local en el que se guardará el archivo de salida\n",
    "    expire_time=60 * 30,  # process data will be deleted from the Krixik system in 30 minutes\n",
    "    wait_for_process=True,  # espera que el proceso termine antes de devolver control del IDE al usuario\n",
    "    verbose=False,  # no mostrar actualizaciones de proceso al ejecutar el código\n",
    "    symbolic_directory_path=\"/mi/ruta/personalizada\",\n",
    "    file_name=\"archivo_num_uno.txt\",\n",
    ")\n",
    "\n",
    "process_output = pipeline.process(\n",
    "    local_file_path=test_file,  # indícale a Krixik que quieres el archivo antes definido y guardado en una variable\n",
    "    local_save_directory=data_dir + \"output\",  # el directorio local en el que se guardará el archivo de salida\n",
    "    expire_time=60 * 30,  # process data will be deleted from the Krixik system in 30 minutes\n",
    "    wait_for_process=True,  # espera que el proceso termine antes de devolver control del IDE al usuario\n",
    "    verbose=False,  # no mostrar actualizaciones de proceso al ejecutar el código\n",
    "    symbolic_directory_path=\"/mi/ruta/personalizada\",\n",
    "    file_name=\"archivo_num_dos.txt\",\n",
    ")\n",
    "\n",
    "process_output = pipeline.process(\n",
    "    local_file_path=test_file,  # indícale a Krixik que quieres el archivo antes definido y guardado en una variable\n",
    "    local_save_directory=data_dir + \"output\",  # el directorio local en el que se guardará el archivo de salida\n",
    "    expire_time=60 * 30,  # process data will be deleted from the Krixik system in 30 minutes\n",
    "    wait_for_process=True,  # espera que el proceso termine antes de devolver control del IDE al usuario\n",
    "    verbose=False,  # no mostrar actualizaciones de proceso al ejecutar el código\n",
    "    symbolic_directory_path=\"/mi/ruta/personalizada/subdir\",\n",
    "    file_name=\"archivo_num_tres.txt\",\n",
    ")"
   ]
  },
  {
   "cell_type": "markdown",
   "metadata": {},
   "source": [
    "Ahora puedes visualizar la estructura de directorios de tu *pipeline* con el método `show_tree`.\n",
    "\n",
    "En este ejemplo usarás el operador comodín * para crear la raíz global en `symbolic_directory_path`, cosa que será explicada en breve."
   ]
  },
  {
   "cell_type": "code",
   "execution_count": 3,
   "metadata": {},
   "outputs": [
    {
     "name": "stdout",
     "output_type": "stream",
     "text": [
      "/\n",
      "└── /my\n",
      "    └── /custom\n",
      "        └── /path\n",
      "            ├── file_num_one.txt\n",
      "            ├── file_num_two.txt\n",
      "            └── /subpath\n",
      "                └── file_num_three.txt\n"
     ]
    }
   ],
   "source": [
    "# visualiza la estructura de directorios de tu pipeline con la raíz global\n",
    "show_tree_output = pipeline.show_tree(symbolic_directory_path=\"/*\")"
   ]
  },
  {
   "cell_type": "markdown",
   "metadata": {},
   "source": [
    "Verás que los nombres de directorios están precedidos por el símbolo barra (`/`) y que los nombres de los archivos no. Esto te permite fácilmente diferenciar entre el uno y el otro en la salida de este método."
   ]
  },
  {
   "cell_type": "markdown",
   "metadata": {},
   "source": [
    "### El Operador Comodin y la Raiz Global\n",
    "\n",
    "El operador comodín es el asterisco: *\n",
    "\n",
    "Al igual que con el método [`list` (lista)](metodo_list_lista.md), el método [`semantic_search` (búsqueda semántica)](../metodos_de_busqueda/metodo_semantic_search_busqueda_semantica.md) y el método [`keyword_search`](../metodos_de_busqueda/metodo_keyword_search_busqueda_por_palabras_clave.md), puedes usar el operador comodín * en el argumento `symbolic_directory_path` para el método `show_tree`.\n",
    "\n",
    "El operador comodín * puede usarse como sufijo en el método `show_tree` si deseas mostrar la estructura del árbol debajo de cierto directorio. La sintaxis de esto se vería así:\n",
    "\n",
    "```python\n",
    "# uso del operador comodín * en symbolic_direcctory_path\n",
    "symbolic_directory_path='/home/files/studies*'\n",
    "```\n",
    "\n",
    "Usar este `symbolic_directory_path` con el método `show_tree` generaría una visualización de la estructura de directorios bajo `/home/files/studies`.\n",
    "\n",
    "La máxima expresión del operador comodín * en `symbolic_directory_path` se llama \"la raíz global\". Es simplemente una barra seguida de un operador comodín * (`/*`), incluye todos los archivos en tu *pipeline*, y se ve así:\n",
    "\n",
    "\n",
    "```python\n",
    "# ejemplo de cómo se ve la raíz global\n",
    "symbolic_directory_path='/*'\n",
    "```\n",
    "\n",
    "Como puedes ver en la salida de código anterior, usar la raíz global con el método `show_tree` devuelve una visualización de la estructura de directorio completa de tu *pipeline*."
   ]
  },
  {
   "cell_type": "code",
   "execution_count": 4,
   "metadata": {
    "tags": [
     "remove_cell"
    ]
   },
   "outputs": [],
   "source": [
    "# elimina todos los datos procesados pertenecientes a este pipeline\n",
    "reset_pipeline(pipeline)"
   ]
  }
 ],
 "metadata": {
  "kernelspec": {
   "display_name": "Python 3",
   "language": "python",
   "name": "python3"
  },
  "language_info": {
   "codemirror_mode": {
    "name": "ipython",
    "version": 3
   },
   "file_extension": ".py",
   "mimetype": "text/x-python",
   "name": "python",
   "nbconvert_exporter": "python",
   "pygments_lexer": "ipython3",
   "version": "3.10.13"
  }
 },
 "nbformat": 4,
 "nbformat_minor": 2
}
