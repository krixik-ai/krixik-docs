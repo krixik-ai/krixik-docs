{
 "cells": [
  {
   "cell_type": "markdown",
   "metadata": {},
   "source": [
    "<a href=\"https://colab.research.google.com/github/krixik-ai/krixik-docs/blob/main/docs/system/file_system/delete_method.ipynb\" target=\"_parent\"><img src=\"https://colab.research.google.com/assets/colab-badge.svg\" alt=\"Open In Colab\"/></a>"
   ]
  },
  {
   "cell_type": "code",
   "execution_count": 1,
   "metadata": {
    "tags": [
     "remove_cell",
     "remove_output"
    ]
   },
   "outputs": [
    {
     "name": "stdout",
     "output_type": "stream",
     "text": [
      "SUCCESS: You are now authenticated.\n"
     ]
    }
   ],
   "source": [
    "import os\n",
    "import sys\n",
    "import json\n",
    "import importlib\n",
    "from pathlib import Path\n",
    "\n",
    "# preparación de demo - incuye instanciación de secretos, instalación de requerimientos, y definición de rutas\n",
    "if os.getenv(\"COLAB_RELEASE_TAG\"):\n",
    "    # si estás usando este notebook en Google Colab, ingresa tus secretos acá\n",
    "    MY_API_KEY = \"TU_API_KEY_VA_AQUI\"\n",
    "    MY_API_URL = \"TU_API_URL_VA_AQUI\"\n",
    "\n",
    "    # si estás usando este notebook en Google Colab, instala requerimientos y descarga los subdirectorios requeridos\n",
    "    # instala el cliente Python de Krixik\n",
    "    !pip install krixik\n",
    "\n",
    "    # instala github-clone, que permite clonación fácil de los subdirectorios del repositorio de documentación XXX\n",
    "    !pip install github-clone\n",
    "\n",
    "    # clona los conjuntos de datos\n",
    "    if not Path(\"data\").is_dir():\n",
    "        !ghclone XXXX #(in english it's https://github.com/krixik-ai/krixik-docs/tree/main/data)\n",
    "    else:\n",
    "        print(\"ya se clonaron los conjuntos de datos de documentación!\")\n",
    "\n",
    "    # define la variable 'data_dir' para tus rutas\n",
    "    data_dir = \"./data/\"\n",
    "\n",
    "    # crea directorio de salidas\n",
    "    from pathlib import Path\n",
    "\n",
    "    Path(data_dir + \"/salidas\").mkdir(parents=True, exist_ok=True)\n",
    "\n",
    "    # descarga utilidades\n",
    "    if not Path(\"utilities\").is_dir():\n",
    "        !ghclone XXXX # (in english it's https://github.com/krixik-ai/krixik-docs/tree/main/utilities)\n",
    "    else:\n",
    "        print(\"ya has clonado las utilidades de documentación!\")\n",
    "else:\n",
    "    # si estás usando una descarga local de la documentación, define las rutas relativas a la estructura local de la documentación\n",
    "    # importa utilidades\n",
    "    sys.path.append(\"../../../\")\n",
    "\n",
    "    # define la variable 'data_dir' para tus rutas\n",
    "    data_dir = \"../../../data/\"\n",
    "\n",
    "    # si estás usando este notebook localmente desde el repositorio de documentación Krixik, carga tus secretos de un archivo .env ubicado en la base del repositorio de documentación\n",
    "    from dotenv import load_dotenv\n",
    "\n",
    "    load_dotenv(\"../../../.env\")\n",
    "\n",
    "    MY_API_KEY = os.getenv(\"MY_API_KEY\")\n",
    "    MY_API_URL = os.getenv(\"MY_API_URL\")\n",
    "\n",
    "\n",
    "# carga 'reset'\n",
    "reset = importlib.import_module(\"utilities.reset\")\n",
    "reset_pipeline = reset.reset_pipeline\n",
    "\n",
    "\n",
    "# importa Krixik e inicializa sesión con tus secretos personales\n",
    "from krixik import krixik\n",
    "\n",
    "krixik.init(api_key=MY_API_KEY, api_url=MY_API_URL)"
   ]
  },
  {
   "cell_type": "markdown",
   "metadata": {},
   "source": [
    "## El Método `delete` (Eliminar)\n",
    "\n",
    "Puedes borrar todo registro de un archivo procesado del sistema Krixik con el método `delete` (eliminar). Esta es la versión manual de permitir que se venza el [`expire_time`](../parametros_y_procesar_archivos_a_traves_de_pipelines/metodo_process_procesar.md#argumentos-principales-del-metodo-process) de un archivo.\n",
    "\n",
    "Esta introducción del método `delete` se divide en las siguientes secciones:\n",
    "\n",
    "- [Argumentos del Método `delete`](#argumentos-del-metodo-delete)\n",
    "- [Ejemplo del Método `delete`](#ejemplo-del-metodo-delete)"
   ]
  },
  {
   "cell_type": "markdown",
   "metadata": {},
   "source": [
    "### Argumentos del Metodo `delete`\n",
    "\n",
    "El método `delete` toma un argumento (requerido):\n",
    "\n",
    "- `file_id` (str) - El `file_id` (identificador único) del archivo procesado cuyo registro quieres totalmente borrar de los servidores Krixik."
   ]
  },
  {
   "cell_type": "markdown",
   "metadata": {},
   "source": [
    "### Ejemplo del Metodo `delete`\n",
    "\n",
    "Primero debes crear un *pipeline* sobre el cual puedas ejecutar este ejemplo. Un *pipeline* que consiste de un solo módulo [`parser`](../../modulos/modulos_de_funciones_de_apoyo/modulo_parser_fragmentacion.md) funciona bien."
   ]
  },
  {
   "cell_type": "code",
   "execution_count": null,
   "metadata": {},
   "outputs": [],
   "source": [
    "# crea un pipeline de módulo único con un módulo parser\n",
    "pipeline = krixik.create_pipeline(name=\"metodo_delete_1_parser\",\n",
    "                                  module_chain=[\"parser\"])"
   ]
  },
  {
   "cell_type": "markdown",
   "metadata": {},
   "source": [
    "Ahora usa el método [`process`](../parametros_y_procesar_archivos_a_traves_de_pipelines/metodo_process_procesar.md) para procesar un archivo a través del *pipeline*:"
   ]
  },
  {
   "cell_type": "code",
   "execution_count": 2,
   "metadata": {},
   "outputs": [],
   "source": [
    "# procesa un breve archivo de entrada\n",
    "process_output = pipeline.process(\n",
    "    local_file_path=data_dir + \"input/1984_muy_corto.txt\",  # la ruta de archivo inicial en la que yace el archivo de entrada\n",
    "    local_save_directory=data_dir + \"output\",  # el directorio local en el que se guardará el archivo de salida\n",
    "    expire_time=60 * 30,  # process data will be deleted from the Krixik system in 30 minutes\n",
    "    wait_for_process=True,  # espera que el proceso termine antes de devolver control del IDE al usuario\n",
    "    verbose=False, # no mostrar actualizaciones de proceso al ejecutar el código\n",
    "    symbolic_directory_path=\"/novelas/siglo-20\",\n",
    "    file_name=\"1984_muestra.txt\",\n",
    "    file_tags=[{\"escritor\": \"Orwell\"}, {\"categoria\": \"distopia\"}, {\"siglo\": \"20\"}],\n",
    ")"
   ]
  },
  {
   "cell_type": "markdown",
   "metadata": {},
   "source": [
    "Detalla el registro del archivo con el método [`list`](metodo_list_lista.md):"
   ]
  },
  {
   "cell_type": "code",
   "execution_count": 3,
   "metadata": {},
   "outputs": [
    {
     "name": "stdout",
     "output_type": "stream",
     "text": [
      "{\n",
      "  \"status_code\": 200,\n",
      "  \"request_id\": \"46faf749-b758-42d7-8b82-f1f8e8dcb54d\",\n",
      "  \"message\": \"Successfully returned 1 item.  Note: all timestamps in UTC.\",\n",
      "  \"warnings\": [],\n",
      "  \"items\": [\n",
      "    {\n",
      "      \"last_updated\": \"2024-06-05 15:31:35\",\n",
      "      \"process_id\": \"0db7cc1d-06c9-13e3-483d-82255c145dd2\",\n",
      "      \"created_at\": \"2024-06-05 15:31:35\",\n",
      "      \"file_metadata\": {\n",
      "        \"modules\": {\n",
      "          \"module_1\": {\n",
      "            \"parser\": {\n",
      "              \"model\": \"sentence\"\n",
      "            }\n",
      "          }\n",
      "        },\n",
      "        \"modules_data\": {\n",
      "          \"module_1\": {\n",
      "            \"parser\": {\n",
      "              \"data_files_extensions\": [\n",
      "                \".json\"\n",
      "              ],\n",
      "              \"num_lines\": 2\n",
      "            }\n",
      "          }\n",
      "        }\n",
      "      },\n",
      "      \"file_tags\": [\n",
      "        {\n",
      "          \"author\": \"orwell\"\n",
      "        },\n",
      "        {\n",
      "          \"category\": \"dystopian\"\n",
      "        },\n",
      "        {\n",
      "          \"century\": \"20\"\n",
      "        }\n",
      "      ],\n",
      "      \"file_description\": \"\",\n",
      "      \"symbolic_directory_path\": \"/novels/20th-century\",\n",
      "      \"pipeline\": \"delete_method_1_parser\",\n",
      "      \"file_id\": \"ad927578-a8f1-4ace-acbc-3dee2391075c\",\n",
      "      \"expire_time\": \"2024-06-05 16:01:35\",\n",
      "      \"file_name\": \"1984_sample.txt\"\n",
      "    }\n",
      "  ]\n",
      "}\n"
     ]
    }
   ],
   "source": [
    "# ve el registro del archivo con el método list\n",
    "list_output = pipeline.list(symbolic_directory_paths=[\"/novelas/siglo-20\"])\n",
    "\n",
    "# nítidamente reproduce la salida de esta lista\n",
    "print(json.dumps(list_output, indent=2))"
   ]
  },
  {
   "cell_type": "markdown",
   "metadata": {},
   "source": [
    "El registro del archivo se refleja de manera adecuada.\n",
    "\n",
    "Ahora usa el método `delete` y el `file_id` del archivo para borrar ese archivo:"
   ]
  },
  {
   "cell_type": "code",
   "execution_count": 4,
   "metadata": {},
   "outputs": [
    {
     "name": "stdout",
     "output_type": "stream",
     "text": [
      "{\n",
      "  \"status_code\": 200,\n",
      "  \"pipeline\": \"delete_method_1_parser\",\n",
      "  \"request_id\": \"6e59e916-4233-4088-b85c-2dbe96425383\",\n",
      "  \"message\": \"Successfully deleted file_id: ad927578-a8f1-4ace-acbc-3dee2391075c\",\n",
      "  \"warnings\": []\n",
      "}\n"
     ]
    }
   ],
   "source": [
    "# elimina el registro y salida del archivo procesado con su file_id\n",
    "delete_output = pipeline.delete(file_id=process_output[\"file_id\"])\n",
    "\n",
    "# nítidamente reproduce la salida de este proceso\n",
    "print(json.dumps(delete_output, indent=2))"
   ]
  },
  {
   "cell_type": "markdown",
   "metadata": {},
   "source": [
    "Puedes confirmar que el archivo se ha eliminado con el método [`list`](metodo_list_lista.md) sobre el mismo `symbolic_directory_path`:"
   ]
  },
  {
   "cell_type": "code",
   "execution_count": 5,
   "metadata": {},
   "outputs": [
    {
     "name": "stdout",
     "output_type": "stream",
     "text": [
      "{\n",
      "  \"status_code\": 200,\n",
      "  \"request_id\": \"542fe670-ce77-4d33-b1ab-a6024c7360be\",\n",
      "  \"message\": \"No files were found for the given query arguments\",\n",
      "  \"warnings\": [\n",
      "    {\n",
      "      \"WARNING: the following arguments returned zero results\": [\n",
      "        {\n",
      "          \"symbolic_directory_paths\": [\n",
      "            \"/novels/20th-century\"\n",
      "          ]\n",
      "        }\n",
      "      ]\n",
      "    }\n",
      "  ],\n",
      "  \"items\": []\n",
      "}\n"
     ]
    }
   ],
   "source": [
    "#  usa list para confirmar que el archivo ha sido eliminado\n",
    "list_output = pipeline.list(symbolic_directory_paths=[\"/novelas/siglo-20\"])\n",
    "\n",
    "# nítidamente reproduce la salida de este proceso\n",
    "print(json.dumps(list_output, indent=2))"
   ]
  },
  {
   "cell_type": "markdown",
   "metadata": {},
   "source": [
    "Verás que el archivo previamente [`procesado`](../parametros_y_procesar_archivos_a_traves_de_pipelines/metodo_process_procesar.md) ya no aparece, pues ha sido eliminado."
   ]
  },
  {
   "cell_type": "code",
   "execution_count": 6,
   "metadata": {
    "tags": [
     "remove_cell"
    ]
   },
   "outputs": [],
   "source": [
    "# elimina todos los datos procesados pertenecientes a este pipeline\n",
    "reset_pipeline(pipeline)"
   ]
  }
 ],
 "metadata": {
  "kernelspec": {
   "display_name": "myenv",
   "language": "python",
   "name": "python3"
  },
  "language_info": {
   "codemirror_mode": {
    "name": "ipython",
    "version": 3
   },
   "file_extension": ".py",
   "mimetype": "text/x-python",
   "name": "python",
   "nbconvert_exporter": "python",
   "pygments_lexer": "ipython3",
   "version": "3.10.13"
  }
 },
 "nbformat": 4,
 "nbformat_minor": 2
}
