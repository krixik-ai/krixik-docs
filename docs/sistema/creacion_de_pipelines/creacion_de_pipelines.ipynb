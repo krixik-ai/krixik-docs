{
 "cells": [
  {
   "cell_type": "markdown",
   "metadata": {},
   "source": [
    "<a href=\"https://colab.research.google.com/github/krixik-ai/krixik-docs/blob/main/docs/system/pipeline_creation/create_pipeline.ipynb\" target=\"_parent\"><img src=\"https://colab.research.google.com/assets/colab-badge.svg\" alt=\"Open In Colab\"/></a>"
   ]
  },
  {
   "cell_type": "code",
   "execution_count": null,
   "metadata": {
    "tags": [
     "remove_cell",
     "remove_output"
    ]
   },
   "outputs": [],
   "source": [
    "import os\n",
    "import sys\n",
    "import json\n",
    "from pathlib import Path\n",
    "\n",
    "# preparación de demo - incuye instanciación de secretos, instalación de requerimientos, y definición de rutas\n",
    "if os.getenv(\"COLAB_RELEASE_TAG\"):\n",
    "    # si estás usando este notebook en Google Colab, ingresa tus secretos acá\n",
    "    MY_API_KEY = \"TU_API_KEY_VA_AQUI\"\n",
    "    MY_API_URL = \"TU_API_URL_VA_AQUI\"\n",
    "\n",
    "    # si estás usando este notebook en Google Colab, instala requerimientos y descarga los subdirectorios requeridos\n",
    "    # instala el cliente Python de Krixik\n",
    "    !pip install krixik\n",
    "\n",
    "    # instala github-clone, que permite clonación fácil de los subdirectorios del repositorio de documentación https://github.com/krixik-ai/krixik-docs\n",
    "    !pip install github-clone\n",
    "\n",
    "    # clona los conjuntos de datos\n",
    "    if not Path(\"data\").is_dir():\n",
    "        !ghclone https://github.com/krixik-ai/krixik-docs/tree/es-main/data\n",
    "    else:\n",
    "        print(\"ya se clonaron los conjuntos de datos de documentación!\")\n",
    "\n",
    "    # define la variable 'data_dir' para tus rutas\n",
    "    data_dir = \"./data/\"\n",
    "\n",
    "    # crea directorio de salidas\n",
    "    from pathlib import Path\n",
    "\n",
    "    Path(data_dir + \"/salidas\").mkdir(parents=True, exist_ok=True)\n",
    "\n",
    "else:\n",
    "    # si estás usando una descarga local de la documentación, define las rutas relativas a la estructura local de la documentación\n",
    "    # importa utilidades\n",
    "    sys.path.append(\"../../../\")\n",
    "\n",
    "    # define la variable 'data_dir' para tus rutas\n",
    "    data_dir = \"../../../data/\"\n",
    "\n",
    "    # si estás usando este notebook localmente desde el repositorio de documentación Krixik, carga tus secretos de un archivo .env ubicado en la base del repositorio de documentación\n",
    "    from dotenv import load_dotenv\n",
    "\n",
    "    load_dotenv(\"../../../.env\")\n",
    "\n",
    "    MY_API_KEY = os.getenv(\"MY_API_KEY\")\n",
    "    MY_API_URL = os.getenv(\"MY_API_URL\")\n",
    "\n",
    "\n",
    "# importa Krixik e inicializa sesión con tus secretos personales\n",
    "from krixik import krixik\n",
    "\n",
    "krixik.init(api_key=MY_API_KEY, api_url=MY_API_URL)"
   ]
  },
  {
   "cell_type": "markdown",
   "metadata": {},
   "source": [
    "## Creación de Pipelines\n",
    "[🇺🇸 English version of this document](https://krixik-docs.readthedocs.io/latest/system/pipeline_creation/create_pipeline/)\n",
    "\n",
    "Esta introducción a cómo crear pipelines se divide en las siguientes secciones:\n",
    "\n",
    "- [El Método `create_pipeline`](#el-metodo-create_pipeline)\n",
    "- [Un Pipeline de Módulo Único](#un-pipeline-de-modulo-unico)\n",
    "- [Un Pipeline Multimodular](#un-pipeline-multimodular)\n",
    "- [Validación de Secuencias de Módulos](#validacion-de-secuencias-de-modulos)\n",
    "- [Repetición de Nombres de Pipelines](#repeticion-de-nombres-de-pipelines)"
   ]
  },
  {
   "cell_type": "markdown",
   "metadata": {},
   "source": [
    "### El Metodo `create_pipeline`\n",
    "\n",
    "El método `create_pipeline` instancia nuevos *pipelines*. Es un método muy simple que toma dos argumentos, y ambos son requeridos:\n",
    "\n",
    "- `name` (str): El nombre de tu nuevo *pipeline*. Piénsalo bien, pues los nombres de los *pipelines* son sus identificadores únicos, así que dos *pipelines* no pueden compartir el mismo nombre.\n",
    "- `module_chain` (list): La lista secuencial de módulos que forman tu nuevo pipeline.\n",
    "\n",
    "Haz [clic aquí](../../modulos/introduccion_modulos.md) para ver la lista actual de módulos Krixik disponibles. Recuerda que, siempre y cuando sus entradas y salidas cuadren, cualquier combinación de módulos es válida, incluyendo aquellas en las que se repiten módulos.\n",
    "\n",
    "### Un *Pipeline* de Modulo Unico\n",
    "\n",
    "Usa el método `create_pipeline` para crear un *pipeline* de módulo único. Usarás el módulo [`parser`](../../modulos/modulos_de_funciones_de_apoyo/modulo_parser_fragmentacion.md), que fragmenta archivos de texto y los convierte en una serie de frases más cortas."
   ]
  },
  {
   "cell_type": "code",
   "execution_count": 2,
   "metadata": {},
   "outputs": [],
   "source": [
    "# crea un pipeline con un solo módulo parser\n",
    "pipeline = krixik.create_pipeline(name=\"create_pipeline_1_parser\", module_chain=[\"parser\"])"
   ]
  },
  {
   "cell_type": "markdown",
   "metadata": {},
   "source": [
    "Asegúrate que has [inicializado tu sesión](../inicializacion/inicializacion_y_autenticacion.md  ) antes de ejecutar este código.\n",
    "\n",
    "Ten en cuenta que el argumento `name` puede ser el *string* que desees. Sin embargo, la lista `module_chain` solo puede estar compuesta de [identificadores de módulo](../metodos_de_conveniencia/metodos_de_conveniencia.md#ve-todos-los-modulos-disponibles-con-la-propiedad-available_modules) establecidos."
   ]
  },
  {
   "cell_type": "markdown",
   "metadata": {},
   "source": [
    "### Un *Pipeline* Multimodular\n",
    "\n",
    "Ahora monta un *pipeline* que consiste de una secuencia de tres módulos: un módulo [`parser` (fragmentación de texto)](../../modulos/modulos_de_funciones_de_apoyo/modulo_parser_fragmentacion.md), un módulo [`text-embedder` (encaje léxico)](../../modulos/modulos_ia/modulo_text-embedder_encaje_lexico.md), y un módulo [`vector-db` (base de datos vectorial)](../../modulos/modulos_de_bases_de_datos/modulo_vector-db_base_de_datos_vectorial.md). Este `module_chain` surge a menudo, pues es la fórmula para el [pipeline básico de búsqueda semántica](../../ejemplos/ejemplos_pipelines_de_busqueda/multi_busqueda_semantica_basica.md) (también conocida como búsqueda vectorial).\n",
    "\n",
    "Como puedes ver, la sintaxis para el montaje del *pipeline* es igual que antes. El orden de los módulos en el argumento `module_chain` es el orden secuencial en el que procesarán entradas al *pipeline*:"
   ]
  },
  {
   "cell_type": "code",
   "execution_count": 3,
   "metadata": {},
   "outputs": [],
   "source": [
    "# crea un pipeline multimodular básico de búsqueda semántica\n",
    "pipeline = krixik.create_pipeline(name=\"create_pipeline_2_parser_embedder_vector\", module_chain=[\"parser\", \"text-embedder\", \"vector-db\"])"
   ]
  },
  {
   "cell_type": "markdown",
   "metadata": {},
   "source": [
    "Explora una variedad de ejemplos de *pipelines* multimodulares [aquí](../../ejemplos/introduccion_ejemplos_de_pipelines.md)."
   ]
  },
  {
   "cell_type": "markdown",
   "metadata": {},
   "source": [
    "### Validacion de Secuencias de Modulos\n",
    "\n",
    "Al ejecutar `create_pipeline` el cliente Krixik confirma que los módulos indicados funcionarán correctamente en la secuencia solicitada. Si no pueden—lo cual tiende a ser consecuencia de que la salida de un módulo no cuadra con la entrada del siguiente módulo—se lanza una excepción local explicativa.\n",
    "\n",
    "Por ejemplo, tratar de crear un *pipeline* bimodular que consiste de un módulo [`parser` (fragmentación de texto)](../../modulos/modulos_de_funciones_de_apoyo/modulo_parser_fragmentacion.md) y un módulo [`caption` (leyenda de imagen)](../../modulos/modulos_ia/modulo_caption_leyenda_de_imagen.md), en ese orden, fallará (como debe) y producirá una excepción local. Esto es porque el módulo [`parser`](../../modulos/modulos_de_funciones_de_apoyo/modulo_parser_fragmentacion.md) devuelve un archivo JSON como salida, mientras que el módulo [`caption`](../../modulos/modulos_ia/modulo_caption_leyenda_de_imagen.md) solo toma imágenes como entrada, como indica el mensaje que puedes ver en seguida:"
   ]
  },
  {
   "cell_type": "code",
   "execution_count": 4,
   "metadata": {
    "tags": [
     "raises-exception"
    ]
   },
   "outputs": [
    {
     "ename": "TypeError",
     "evalue": "format type mismatch between parser - whose output format is json - and caption - whose input format is image",
     "output_type": "error",
     "traceback": [
      "\u001b[1;31m---------------------------------------------------------------------------\u001b[0m",
      "\u001b[1;31mTypeError\u001b[0m                                 Traceback (most recent call last)",
      "Cell \u001b[1;32mIn[4], line 3\u001b[0m\n\u001b[0;32m      1\u001b[0m \u001b[38;5;66;03m# attempt to create a pipeline sequentially comprised of a parser and a caption module\u001b[39;00m\n\u001b[1;32m----> 3\u001b[0m pipeline_3 \u001b[38;5;241m=\u001b[39m \u001b[43mkrixik\u001b[49m\u001b[38;5;241;43m.\u001b[39;49m\u001b[43mcreate_pipeline\u001b[49m\u001b[43m(\u001b[49m\u001b[43mname\u001b[49m\u001b[38;5;241;43m=\u001b[39;49m\u001b[38;5;124;43m\"\u001b[39;49m\u001b[38;5;124;43mcreate_pipeline_3_parser_caption\u001b[39;49m\u001b[38;5;124;43m\"\u001b[39;49m\u001b[43m,\u001b[49m\n\u001b[0;32m      4\u001b[0m \u001b[43m                                    \u001b[49m\u001b[43mmodule_chain\u001b[49m\u001b[38;5;241;43m=\u001b[39;49m\u001b[43m[\u001b[49m\u001b[38;5;124;43m\"\u001b[39;49m\u001b[38;5;124;43mparser\u001b[39;49m\u001b[38;5;124;43m\"\u001b[39;49m\u001b[43m,\u001b[49m\u001b[43m \u001b[49m\u001b[38;5;124;43m\"\u001b[39;49m\u001b[38;5;124;43mcaption\u001b[39;49m\u001b[38;5;124;43m\"\u001b[39;49m\u001b[43m]\u001b[49m\u001b[43m)\u001b[49m\n",
      "File \u001b[1;32mc:\\Users\\Lucas\\Desktop\\krixikdocsnoodle\\myenv\\Lib\\site-packages\\krixik\\main.py:70\u001b[0m, in \u001b[0;36mkrixik.create_pipeline\u001b[1;34m(cls, name, module_chain)\u001b[0m\n\u001b[0;32m     68\u001b[0m         \u001b[38;5;28;01mraise\u001b[39;00m \u001b[38;5;167;01mValueError\u001b[39;00m(\u001b[38;5;124mf\u001b[39m\u001b[38;5;124m\"\u001b[39m\u001b[38;5;124mmodule_chain item - \u001b[39m\u001b[38;5;132;01m{\u001b[39;00mitem\u001b[38;5;132;01m}\u001b[39;00m\u001b[38;5;124m - is not a currently one of the currently available modules -\u001b[39m\u001b[38;5;132;01m{\u001b[39;00mavailable_modules\u001b[38;5;132;01m}\u001b[39;00m\u001b[38;5;124m\"\u001b[39m)\n\u001b[0;32m     69\u001b[0m module_chain_ \u001b[38;5;241m=\u001b[39m [Module(m_name) \u001b[38;5;28;01mfor\u001b[39;00m m_name \u001b[38;5;129;01min\u001b[39;00m module_chain]\n\u001b[1;32m---> 70\u001b[0m custom \u001b[38;5;241m=\u001b[39m \u001b[43mBuildPipeline\u001b[49m\u001b[43m(\u001b[49m\u001b[43mname\u001b[49m\u001b[38;5;241;43m=\u001b[39;49m\u001b[43mname\u001b[49m\u001b[43m,\u001b[49m\u001b[43m \u001b[49m\u001b[43mmodule_chain\u001b[49m\u001b[38;5;241;43m=\u001b[39;49m\u001b[43mmodule_chain_\u001b[49m\u001b[43m)\u001b[49m\n\u001b[0;32m     71\u001b[0m \u001b[38;5;28;01mreturn\u001b[39;00m \u001b[38;5;28mcls\u001b[39m\u001b[38;5;241m.\u001b[39mload_pipeline(pipeline\u001b[38;5;241m=\u001b[39mcustom)\n",
      "File \u001b[1;32mc:\\Users\\Lucas\\Desktop\\krixikdocsnoodle\\myenv\\Lib\\site-packages\\krixik\\pipeline_builder\\pipeline.py:63\u001b[0m, in \u001b[0;36mBuildPipeline.__init__\u001b[1;34m(self, name, module_chain, config_path)\u001b[0m\n\u001b[0;32m     61\u001b[0m chain_check(module_chain)\n\u001b[0;32m     62\u001b[0m \u001b[38;5;28;01mfor\u001b[39;00m module \u001b[38;5;129;01min\u001b[39;00m module_chain:\n\u001b[1;32m---> 63\u001b[0m     \u001b[38;5;28;43mself\u001b[39;49m\u001b[38;5;241;43m.\u001b[39;49m\u001b[43m_add\u001b[49m\u001b[43m(\u001b[49m\u001b[43mmodule\u001b[49m\u001b[43m)\u001b[49m\n\u001b[0;32m     64\u001b[0m \u001b[38;5;28mself\u001b[39m\u001b[38;5;241m.\u001b[39mtest_connections()\n",
      "File \u001b[1;32mc:\\Users\\Lucas\\Desktop\\krixikdocsnoodle\\myenv\\Lib\\site-packages\\krixik\\pipeline_builder\\pipeline.py:86\u001b[0m, in \u001b[0;36mBuildPipeline._add\u001b[1;34m(self, module, insert_index)\u001b[0m\n\u001b[0;32m     83\u001b[0m \u001b[38;5;28mself\u001b[39m\u001b[38;5;241m.\u001b[39m__module_chain_configs\u001b[38;5;241m.\u001b[39mappend(module\u001b[38;5;241m.\u001b[39mconfig)\n\u001b[0;32m     84\u001b[0m \u001b[38;5;28mself\u001b[39m\u001b[38;5;241m.\u001b[39m__module_chain_output_process_keys\u001b[38;5;241m.\u001b[39mappend(module\u001b[38;5;241m.\u001b[39moutput_process_key)\n\u001b[1;32m---> 86\u001b[0m \u001b[38;5;28;43mself\u001b[39;49m\u001b[38;5;241;43m.\u001b[39;49m\u001b[43mtest_connections\u001b[49m\u001b[43m(\u001b[49m\u001b[43m)\u001b[49m\n",
      "File \u001b[1;32mc:\\Users\\Lucas\\Desktop\\krixikdocsnoodle\\myenv\\Lib\\site-packages\\krixik\\pipeline_builder\\pipeline.py:160\u001b[0m, in \u001b[0;36mBuildPipeline.test_connections\u001b[1;34m(self)\u001b[0m\n\u001b[0;32m    158\u001b[0m \u001b[38;5;66;03m# check format compatibility\u001b[39;00m\n\u001b[0;32m    159\u001b[0m \u001b[38;5;28;01mif\u001b[39;00m prev_module_output_format \u001b[38;5;241m!=\u001b[39m curr_module_input_format:\n\u001b[1;32m--> 160\u001b[0m     \u001b[38;5;28;01mraise\u001b[39;00m \u001b[38;5;167;01mTypeError\u001b[39;00m(\n\u001b[0;32m    161\u001b[0m         \u001b[38;5;124mf\u001b[39m\u001b[38;5;124m\"\u001b[39m\u001b[38;5;124mformat type mismatch between \u001b[39m\u001b[38;5;132;01m{\u001b[39;00mprev_module\u001b[38;5;241m.\u001b[39mname\u001b[38;5;132;01m}\u001b[39;00m\u001b[38;5;124m - whose output format is \u001b[39m\u001b[38;5;132;01m{\u001b[39;00mprev_module_output_format\u001b[38;5;132;01m}\u001b[39;00m\u001b[38;5;124m - and \u001b[39m\u001b[38;5;132;01m{\u001b[39;00mcurr_module\u001b[38;5;241m.\u001b[39mname\u001b[38;5;132;01m}\u001b[39;00m\u001b[38;5;124m - whose input format is \u001b[39m\u001b[38;5;132;01m{\u001b[39;00mcurr_module_input_format\u001b[38;5;132;01m}\u001b[39;00m\u001b[38;5;124m\"\u001b[39m\n\u001b[0;32m    162\u001b[0m     )\n\u001b[0;32m    164\u001b[0m \u001b[38;5;66;03m# check process key type compatibility\u001b[39;00m\n\u001b[0;32m    165\u001b[0m \u001b[38;5;28;01mif\u001b[39;00m prev_module_output_process_key_type \u001b[38;5;241m!=\u001b[39m curr_module_input_process_key_type:\n",
      "\u001b[1;31mTypeError\u001b[0m: format type mismatch between parser - whose output format is json - and caption - whose input format is image"
     ]
    }
   ],
   "source": [
    "# intenta crear un pipeline compuesto de un módulo parser seguido de un módulo caption\n",
    "pipeline = krixik.create_pipeline(name=\"create_pipeline_3_parser_caption\", module_chain=[\"parser\", \"caption\"])"
   ]
  },
  {
   "cell_type": "markdown",
   "metadata": {},
   "source": [
    "### Repeticion de Nombres de Pipelines\n",
    "\n",
    "Krixik no te permite crear un *pipeline* con el `name` de otro *pipeline* que ya has creado. La única excepción es si el nuevo *pipeline* tiene una cadena de módulos idéntica a la anterior.\n",
    "\n",
    "Ten en cuenta que si intentas crear un nuevo *pipeline* con el `name` de un *pipeline* anterior y con un `module_chain` diferente, la creación inicial del *pipeline* no fallará. Podrás ejecutar el método `create_pipeline` sin problema. Sin embargo, cuando dos *pipelines* con el mismo nombre y diferentes `module_chain`s existen y ya has [`procesado`](../parametros_y_procesar_archivos_a_traves_de_pipelines/metodo_process_procesar.md) al menos un archivo a través de uno de ellos, **no** podrás procesar un archivo a través del otro *pipeline* como consecuencia de esta duplicación de `name`s."
   ]
  },
  {
   "cell_type": "code",
   "execution_count": 6,
   "metadata": {
    "tags": [
     "remove_cell"
    ]
   },
   "outputs": [],
   "source": [
    "# elimina todos los datos procesados pertenecientes a este pipeline\n",
    "krixik.reset_pipeline(pipeline)"
   ]
  }
 ],
 "metadata": {
  "kernelspec": {
   "display_name": "venv",
   "language": "python",
   "name": "python3"
  },
  "language_info": {
   "codemirror_mode": {
    "name": "ipython",
    "version": 3
   },
   "file_extension": ".py",
   "mimetype": "text/x-python",
   "name": "python",
   "nbconvert_exporter": "python",
   "pygments_lexer": "ipython3",
   "version": "3.12.0"
  }
 },
 "nbformat": 4,
 "nbformat_minor": 2
}
