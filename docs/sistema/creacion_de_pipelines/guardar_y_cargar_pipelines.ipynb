{
 "cells": [
  {
   "cell_type": "markdown",
   "metadata": {},
   "source": [
    "<a href=\"https://colab.research.google.com/github/krixik-ai/krixik-docs/blob/main/docs/system/pipeline_creation/saving_and_loading_pipelines.ipynb\" target=\"_parent\"><img src=\"https://colab.research.google.com/assets/colab-badge.svg\" alt=\"Open In Colab\"/></a>"
   ]
  },
  {
   "cell_type": "code",
   "execution_count": null,
   "metadata": {
    "tags": [
     "remove_cell",
     "remove_output"
    ]
   },
   "outputs": [
    {
     "name": "stdout",
     "output_type": "stream",
     "text": [
      "SUCCESS: You are now authenticated.\n"
     ]
    }
   ],
   "source": [
    "import os\n",
    "import sys\n",
    "import json\n",
    "from pathlib import Path\n",
    "\n",
    "# preparación de demo - incuye instanciación de secretos, instalación de requerimientos, y definición de rutas\n",
    "if os.getenv(\"COLAB_RELEASE_TAG\"):\n",
    "    # si estás usando este notebook en Google Colab, ingresa tus secretos acá\n",
    "    MY_API_KEY = \"TU_API_KEY_VA_AQUI\"\n",
    "    MY_API_URL = \"TU_API_URL_VA_AQUI\"\n",
    "\n",
    "    # si estás usando este notebook en Google Colab, instala requerimientos y descarga los subdirectorios requeridos\n",
    "    # instala el cliente Python de Krixik\n",
    "    !pip install krixik\n",
    "\n",
    "    # instala github-clone, que permite clonación fácil de los subdirectorios del repositorio de documentación https://github.com/krixik-ai/krixik-docs\n",
    "    !pip install github-clone\n",
    "\n",
    "    # clona los conjuntos de datos\n",
    "    if not Path(\"data\").is_dir():\n",
    "        !ghclone https://github.com/krixik-ai/krixik-docs/tree/es-main/data\n",
    "    else:\n",
    "        print(\"ya se clonaron los conjuntos de datos de documentación!\")\n",
    "\n",
    "    # define la variable 'data_dir' para tus rutas\n",
    "    data_dir = \"./data/\"\n",
    "\n",
    "    # crea directorio de salidas\n",
    "    from pathlib import Path\n",
    "\n",
    "    Path(data_dir + \"/salidas\").mkdir(parents=True, exist_ok=True)\n",
    "\n",
    "else:\n",
    "    # si estás usando una descarga local de la documentación, define las rutas relativas a la estructura local de la documentación\n",
    "    # importa utilidades\n",
    "    sys.path.append(\"../../../\")\n",
    "\n",
    "    # define la variable 'data_dir' para tus rutas\n",
    "    data_dir = \"../../../data/\"\n",
    "\n",
    "    # si estás usando este notebook localmente desde el repositorio de documentación Krixik, carga tus secretos de un archivo .env ubicado en la base del repositorio de documentación\n",
    "    from dotenv import load_dotenv\n",
    "\n",
    "    load_dotenv(\"../../../.env\")\n",
    "\n",
    "    MY_API_KEY = os.getenv(\"MY_API_KEY\")\n",
    "    MY_API_URL = os.getenv(\"MY_API_URL\")\n",
    "\n",
    "\n",
    "# importa Krixik e inicializa sesión con tus secretos personales\n",
    "from krixik import krixik\n",
    "\n",
    "krixik.init(api_key=MY_API_KEY, api_url=MY_API_URL)"
   ]
  },
  {
   "cell_type": "markdown",
   "metadata": {},
   "source": [
    "## Guardar y Cargar *Pipelines*\n",
    "[🇺🇸 English version of this document](https://krixik-docs.readthedocs.io/latest/system/pipeline_creation/saving_and_loading_pipelines/)\n",
    "\n",
    "Esta introducción a guardar y cargar *pipelines* se divide en las siguientes secciones:\n",
    "\n",
    "- [El Método `save_pipeline`](#el-metodo-save_pipeline)\n",
    "- [El Método `load_pipeline`](#el-metodo-load_pipeline)\n",
    "- [La Función `reset_pipeline`](#la-funcion-reset_pipeline)"
   ]
  },
  {
   "cell_type": "markdown",
   "metadata": {},
   "source": [
    "### El Metodo `save_pipeline`\n",
    "\n",
    "En Krixik, guardar tu *pipeline* quiere decir *guardar su [configuración](configuracion_de_pipelines.md)* en disco.\n",
    "\n",
    "Puedes guardar la [configuración](configuracion_de_pipelines.md) de un *pipeline* con el método `save_pipeline`. Este método toma un argumento (requerido):\n",
    "\n",
    "- `config_path`: Una ruta de archivo local válida. El archivo no tiene que existir, pero la ruta en directorios sí debe ser posible.\n",
    "\n",
    "`config_path` debe terminar con una extensión `.yml` o `.yaml`. Este es actualmente el único formato de archivo con el que Krixik guarda *pipelines*.\n",
    "\n",
    "Para ver cómo funciona, primero tendrás que crear un *pipeline* con el método [`create_pipeline`](creacion_de_pipelines.md):"
   ]
  },
  {
   "cell_type": "code",
   "execution_count": 2,
   "metadata": {},
   "outputs": [],
   "source": [
    "# primero crea un pipeline\n",
    "pipeline = krixik.create_pipeline(name=\"guardar_y_cargar_pipelines_1\", module_chain=[\"summarize\", \"summarize\", \"keyword-db\"])"
   ]
  },
  {
   "cell_type": "markdown",
   "metadata": {},
   "source": [
    "Ahora que tienes un *pipeline* puedes usar el método `save_pipeline` para guardar ese *pipeline* en disco:"
   ]
  },
  {
   "cell_type": "code",
   "execution_count": 3,
   "metadata": {},
   "outputs": [],
   "source": [
    "# guardar la configuración de un pipeline en disco (con ejemplo de ruta; la ruta debe obedecer lo que dicte tu sistema operativo)\n",
    "pipeline.save_pipeline(config_path=data_dir + \"configs-de-pipeline/guarda-demo-pipeline.yaml\")"
   ]
  },
  {
   "cell_type": "markdown",
   "metadata": {},
   "source": [
    "Para facilitar las cosas, si un archivo con ese nombre de archivo no existe en la ubicación indicada, Krixik creará el archivo localmente y luego guardará tu *pipeline* en él."
   ]
  },
  {
   "cell_type": "markdown",
   "metadata": {},
   "source": [
    "### El Metodo `load_pipeline`\n",
    "\n",
    "Dado que la [configuración](configuracion_de_pipelines.md) de un *pipeline* es su descripción fundamental, cualquier archivo válido de configuración puede cargarse a Krixik, así recreando el *pipeline* asociado.\n",
    "\n",
    "El método `load_pipeline` toma un argumento (requerido):\n",
    "\n",
    "- `config_path`: Una ruta de archivo local válida.\n",
    "\n",
    "Para que el método `load_pipeline` funcione, el archivo indicado por `config_path` debe (a) existir, (b) tener extensión `.yaml` o `.yml` y (c) contener una [configuración](configuracion_de_pipelines.md) de *pipeline* Krixik con formato adecuado. Si uno de estos no es el caso, el método fallará. Si antes [guardaste](#el-metodo-save_pipeline) un *pipeline* Krixik en esa ubicación con ese nombre de archivo, el método funcionará bien.\n",
    "\n",
    "El método `load_pipeline` se usa de la siguiente manera:"
   ]
  },
  {
   "cell_type": "code",
   "execution_count": 5,
   "metadata": {},
   "outputs": [],
   "source": [
    "# carga un pipeline a memoria por medio de un archivo válido de configuración\n",
    "mi_pipeline_2 = krixik.load_pipeline(config_path=data_dir + \"configs-de-pipeline/guarda-demo-pipeline.yaml\")"
   ]
  },
  {
   "cell_type": "markdown",
   "metadata": {},
   "source": [
    "Verás que no tienes que haber previamente guardado el *pipeline* tú. Por ejemplo, puede que un colega te haya compartido una [configuración](configuracion_de_pipelines.md) de *pipeline*, o que hayas escrito el archivo desde cero. Siempre y cuando el archivo config tenga formato correcto, el método `load_pipeline` funcionará como debe."
   ]
  },
  {
   "cell_type": "markdown",
   "metadata": {},
   "source": [
    "### La Funcion `reset_pipeline`\n",
    "\n",
    "El método `load_pipeline` arriba descrito vuelve a instanciar un *pipeline* previo con el mismo `name` y `module_chain`. Dado que los archivos procesados por un *pipeline* están asociados al `name` de ese *pipeline*, esos archivos están ahora asociados a este nuevo *pipeline*.\n",
    "\n",
    "Si buscas recrear un *pipeline* pero quieres hacerlo con hoja en blanco, la manera más fácil es con el método `reset_pipeline`, que borra todos datos de proceso asociados a ese *pipeline* (es decir, cualquier cosa relacionada con todo archivo previamente procesado a través de *pipeline(s)* con ese `name`).\n",
    "\n",
    "El método `reset_pipeline` toma un argumento (requerido):\n",
    "\n",
    "- `pipeline`: La variable en el que objeto *pipeline* está guardado.\n",
    "\n",
    "Ten en cuenta que esta variable _no_ es el `name` del *pipeline*. Por ejemplo, si quisieras reiniciar el primer *pipeline* creado en este documento, el argumento `pipeline` para el método `reset_pipeline` tendría el valor `mi_pipeline_2` (y no el valor `guardar_y_cargar_pipelines_1`), de la siguiente manera:"
   ]
  },
  {
   "cell_type": "code",
   "execution_count": 6,
   "metadata": {},
   "outputs": [],
   "source": [
    "# elimina todos los datos procesados pertenecientes a este pipeline\n",
    "krixik.reset_pipeline(mi_pipeline_2)"
   ]
  },
  {
   "cell_type": "markdown",
   "metadata": {},
   "source": [
    "Dicho de otra manera, el argumento `pipeline` del método `reset_pipeline` es una variable al que se ha asignado un objeto *pipeline*, y `reset_pipeline` eliminará todo dato asociado al `name` de ese objeto *pipeline* en el sistema Krixik."
   ]
  },
  {
   "cell_type": "code",
   "execution_count": 7,
   "metadata": {
    "tags": [
     "remove_cell"
    ]
   },
   "outputs": [],
   "source": [
    "# elimina todos los datos procesados pertenecientes a este pipeline\n",
    "krixik.reset_pipeline(pipeline)"
   ]
  }
 ],
 "metadata": {
  "kernelspec": {
   "display_name": "venv",
   "language": "python",
   "name": "python3"
  },
  "language_info": {
   "codemirror_mode": {
    "name": "ipython",
    "version": 3
   },
   "file_extension": ".py",
   "mimetype": "text/x-python",
   "name": "python",
   "nbconvert_exporter": "python",
   "pygments_lexer": "ipython3",
   "version": "3.12.0"
  }
 },
 "nbformat": 4,
 "nbformat_minor": 2
}
