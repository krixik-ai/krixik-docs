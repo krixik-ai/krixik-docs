{
 "cells": [
  {
   "cell_type": "markdown",
   "metadata": {},
   "source": [
    "## Una Introducción al Sistema Krixik\n",
    "[🇺🇸 English version of this document](https://krixik-docs.readthedocs.io/latest/system/system_overview/)\n",
    "\n",
    "En esta sección puedes detallar los métodos y conceptos básicos del sistema Krixik—todas las herramientas que necesitarás para ensamblar, parametrizar, y consumir *pipelines* Krixik. Los temas que hay aquí son los siguientes:"
   ]
  },
  {
   "cell_type": "markdown",
   "metadata": {},
   "source": [
    "### Inicialización\n",
    "\n",
    "- [Instalación del Cliente](inicializacion/instalacion_del_cliente.md)\n",
    "\n",
    "- [Inicialización y Autenticación](inicializacion/inicializacion_y_autenticacion.md)\n",
    "\n",
    "### Creación de Pipelines\n",
    "\n",
    "- [Componentes de un *Pipeline* Krixik](creacion_de_pipelines/componentes_de_un_pipeline_de_krixik.md)\n",
    "\n",
    "- [Creación de *Pipelines*](creacion_de_pipelines/creacion_de_pipelines.md)\n",
    "\n",
    "- [Configuración de *Pipelines*](creacion_de_pipelines/configuracion_de_pipelines.md)\n",
    "\n",
    "- [Guardar y Cargar *Pipelines*](creacion_de_pipelines/guardar_y_cargar_pipelines.md)\n",
    "\n",
    "### Parámetros + Procesar Archivos a Través de *Pipelines*\n",
    "\n",
    "- [El Método `process` (Procesar) y sus Parámetros](parametros_y_procesar_archivos_a_traves_de_pipelines/metodo_process_procesar.md)\n",
    "\n",
    "- [Formato JSON para Entradas](parametros_y_procesar_archivos_a_traves_de_pipelines/formato_JSON_entrada.md)\n",
    "\n",
    "- [El Método `process_status` (Estado de Proceso)](parametros_y_procesar_archivos_a_traves_de_pipelines/metodo_process_status_estado_de_proceso.md)\n",
    "\n",
    "- [El Método `fetch_output` (Obtener Salida)](parametros_y_procesar_archivos_a_traves_de_pipelines/metodo_fetch_output_obtener_salida.md)\n",
    "\n",
    "- [Política de Eliminación de Datos](parametros_y_procesar_archivos_a_traves_de_pipelines/politica_de_eliminacion_de_datos.md)\n",
    "\n",
    "### Sistema de Archivos\n",
    "\n",
    "- [El Método `list` (Lista)](sistema_de_archivos/metodo_list_lista.md)\n",
    "\n",
    "- [El Método `update` (Actualizar)](sistema_de_archivos/metodo_update_actualizar.md)\n",
    "\n",
    "- [El Método `delete` (Eliminar)](sistema_de_archivos/metodo_delete_eliminar.md)\n",
    "\n",
    "- [El Método `show_tree` (Mostrar Árbol)](sistema_de_archivos/metodo_show_tree_mostrar_arbol.md)\n",
    "\n",
    "### Métodos de Búsqueda\n",
    "\n",
    "- [El Método `semantic_search` (Búsqueda Semántica)](metodos_de_busqueda/metodo_semantic_search_busqueda_semantica.md)\n",
    "\n",
    "- [El Método `keyword_search` (Búsqueda por Palabras Clave)](metodos_de_busqueda/metodo_keyword_search_busqueda_por_palabras_clave.md)\n",
    "\n",
    "### Métodos de Conveniencia\n",
    "\n",
    "- [Métodos de Conveniencia (¡y Más!)](metodos_de_conveniencia/metodos_de_conveniencia.md)"
   ]
  }
 ],
 "metadata": {
  "language_info": {
   "name": "python"
  }
 },
 "nbformat": 4,
 "nbformat_minor": 2
}
