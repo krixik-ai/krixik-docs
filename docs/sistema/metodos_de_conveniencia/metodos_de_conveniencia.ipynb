{
 "cells": [
  {
   "cell_type": "markdown",
   "metadata": {},
   "source": [
    "<a href=\"https://colab.research.google.com/github/krixik-ai/krixik-docs/blob/main/docs/system/convenience_methods/convenience_methods.ipynb\" target=\"_parent\"><img src=\"https://colab.research.google.com/assets/colab-badge.svg\" alt=\"Open In Colab\"/></a>"
   ]
  },
  {
   "cell_type": "code",
   "execution_count": 1,
   "metadata": {
    "tags": [
     "remove_cell",
     "remove_output"
    ]
   },
   "outputs": [
    {
     "name": "stdout",
     "output_type": "stream",
     "text": [
      "SUCCESS: You are now authenticated.\n"
     ]
    }
   ],
   "source": [
    "import os\n",
    "import sys\n",
    "import json\n",
    "import importlib\n",
    "from pathlib import Path\n",
    "\n",
    "# preparación de demo - incuye instanciación de secretos, instalación de requerimientos, y definición de rutas\n",
    "if os.getenv(\"COLAB_RELEASE_TAG\"):\n",
    "    # si estás usando este notebook en Google Colab, ingresa tus secretos acá\n",
    "    MY_API_KEY = \"TU_API_KEY_VA_AQUI\"\n",
    "    MY_API_URL = \"TU_API_URL_VA_AQUI\"\n",
    "\n",
    "    # si estás usando este notebook en Google Colab, instala requerimientos y descarga los subdirectorios requeridos\n",
    "    # instala el cliente Python de Krixik\n",
    "    !pip install krixik\n",
    "\n",
    "    # instala github-clone, que permite clonación fácil de los subdirectorios del repositorio de documentación XXX\n",
    "    !pip install github-clone\n",
    "\n",
    "    # clona los conjuntos de datos\n",
    "    if not Path(\"data\").is_dir():\n",
    "        !ghclone XXXX #(in english it's https://github.com/krixik-ai/krixik-docs/tree/main/data)\n",
    "    else:\n",
    "        print(\"ya se clonaron los conjuntos de datos de documentación!\")\n",
    "\n",
    "    # define la variable 'data_dir' para tus rutas\n",
    "    data_dir = \"./data/\"\n",
    "\n",
    "    # crea directorio de salidas\n",
    "    from pathlib import Path\n",
    "\n",
    "    Path(data_dir + \"/salidas\").mkdir(parents=True, exist_ok=True)\n",
    "\n",
    "    # descarga utilidades\n",
    "    if not Path(\"utilities\").is_dir():\n",
    "        !ghclone XXXX # (in english it's https://github.com/krixik-ai/krixik-docs/tree/main/utilities)\n",
    "    else:\n",
    "        print(\"ya has clonado las utilidades de documentación!\")\n",
    "else:\n",
    "    # si estás usando una descarga local de la documentación, define las rutas relativas a la estructura local de la documentación\n",
    "    # importa utilidades\n",
    "    sys.path.append(\"../../../\")\n",
    "\n",
    "    # define la variable 'data_dir' para tus rutas\n",
    "    data_dir = \"../../../data/\"\n",
    "\n",
    "    # si estás usando este notebook localmente desde el repositorio de documentación Krixik, carga tus secretos de un archivo .env ubicado en la base del repositorio de documentación\n",
    "    from dotenv import load_dotenv\n",
    "\n",
    "    load_dotenv(\"../../../.env\")\n",
    "\n",
    "    MY_API_KEY = os.getenv(\"MY_API_KEY\")\n",
    "    MY_API_URL = os.getenv(\"MY_API_URL\")\n",
    "\n",
    "\n",
    "# carga 'reset'\n",
    "reset = importlib.import_module(\"utilities.reset\")\n",
    "reset_pipeline = reset.reset_pipeline\n",
    "\n",
    "\n",
    "# importa Krixik e inicializa sesión con tus secretos personales\n",
    "from krixik import krixik\n",
    "\n",
    "krixik.init(api_key=MY_API_KEY, api_url=MY_API_URL)"
   ]
  },
  {
   "cell_type": "markdown",
   "metadata": {},
   "source": [
    "## Métodos de Conveniencia (¡y Más!)\n",
    "\n",
    "Este documento introduce una variedad de propiedades útiles del objeto principal Krixik y de *pipelines* Krixik que van desde metadata avanzada hasta funciones de conveniencia diseñadas para facilitar pruebas sobre entradas. Todas estas propiedades pueden ser usadas *sin* necesariamente haber antes [inicializado una sesión](../inicializacion/inicializacion_y_autenticacion.md).\n",
    "\n",
    "El documento se divide en las siguientes secciones:\n",
    "\n",
    "- [Ve Todos los Módulos Disponibles con la Propiedad `available_modules`](#ve-todos-los-modulos-disponibles-con-la-propiedad-available_modules)\n",
    "- [Examina la Configuración de un Módulo con el Método `module_details`](#examina-la-configuracion-de-un-modulo-con-el-metodo-module_details)\n",
    "- [Ve la Cadena de Módulos de un *Pipeline* con la Propiedad `module_chain`](#ve-la-cadena-de-modulos-de-un-pipeline-con-la-propiedad-module_chain)\n",
    "- [Haz Pruebas Sobre Entradas a un *Pipeline* con el Método `test_input`](#haz-pruebas-sobre-entradas-a-un-pipeline-con-el-metodo-test_input)\n",
    "- [Ve Ejemplos de Entradas y Salidas de un Módulo](#ve-ejemplos-de-entradas-y-salidas-de-un-modulo)\n",
    "- [Ve Data de Conectividad de un Módulo con el Método `click_data`](#ve-data-de-conectividad-de-un-modulo-con-el-metodo-click_data)"
   ]
  },
  {
   "cell_type": "markdown",
   "metadata": {},
   "source": [
    "### Ve Todos los Modulos Disponibles con la Propiedad `available_modules`"
   ]
  },
  {
   "cell_type": "markdown",
   "metadata": {},
   "source": [
    "Para ver todos los módulos disponbiles usa la propiedad `available_modules`. Esto lo puedes hacer localmente sin antes haber [inicializado una sesión](../inicializacion/inicializacion_y_autenticacion.md) de la siguiente manera:"
   ]
  },
  {
   "cell_type": "code",
   "execution_count": 2,
   "metadata": {},
   "outputs": [
    {
     "data": {
      "text/plain": [
       "['caption',\n",
       " 'json-to-txt',\n",
       " 'keyword-db',\n",
       " 'ocr',\n",
       " 'parser',\n",
       " 'sentiment',\n",
       " 'summarize',\n",
       " 'text-embedder',\n",
       " 'transcribe',\n",
       " 'translate',\n",
       " 'vector-db']"
      ]
     },
     "execution_count": 2,
     "metadata": {},
     "output_type": "execute_result"
    }
   ],
   "source": [
    "# ver todos los módulos disponibles\n",
    "krixik.available_modules"
   ]
  },
  {
   "cell_type": "markdown",
   "metadata": {},
   "source": [
    "Lo arriba generado es una lista de los nómbres exactos de cada módulo que usarías al montar el `module_chain` de un [nuevo *pipeline*](../creacion_de_pipelines/creacion_de_pipelines.md)."
   ]
  },
  {
   "cell_type": "markdown",
   "metadata": {},
   "source": [
    "### Examina la Configuracion de un Modulo con el Metodo `module_details`"
   ]
  },
  {
   "cell_type": "markdown",
   "metadata": {},
   "source": [
    "La [configuración](../creacion_de_pipelines/configuracion_de_pipelines.md) de cualquier módulo puede detallarse con el método `module_details` de Krixik. Esto se puede hacer localmente sin antes haber [inicializado una sesión](../inicializacion/inicializacion_y_autenticacion.md) de la siguiente manera:"
   ]
  },
  {
   "cell_type": "code",
   "execution_count": 3,
   "metadata": {},
   "outputs": [
    {
     "data": {
      "text/plain": [
       "{'module_config': {'module': {'name': 'transcribe',\n",
       "   'models': [{'name': 'whisper-tiny'},\n",
       "    {'name': 'whisper-base'},\n",
       "    {'name': 'whisper-small'},\n",
       "    {'name': 'whisper-medium'},\n",
       "    {'name': 'whisper-large-v3'}],\n",
       "   'input': {'type': 'audio'},\n",
       "   'output': {'type': 'json'},\n",
       "   'defaults': {'model': 'whisper-tiny'}}},\n",
       " 'input_data_example': None,\n",
       " 'output_data_example': {'transcript': 'This is the full transcript.',\n",
       "  'segments': [{'id': 1,\n",
       "    'seek': 0,\n",
       "    'start': 0.0,\n",
       "    'end': 10.0,\n",
       "    'text': 'This is the',\n",
       "    'tokens': [20, 34],\n",
       "    'temperature': 0.0,\n",
       "    'avg_logprob': 0.0,\n",
       "    'compression_ratio': 0.0,\n",
       "    'no_speech_prob': 0.0,\n",
       "    'confidence': 0.0,\n",
       "    'words': [{'text': 'This', 'start': 0.0, 'end': 1.0, 'confidence': 0.5},\n",
       "     {'text': 'is the', 'start': 1.0, 'end': 2.0, 'confidence': 0.6}]},\n",
       "   {'id': 2,\n",
       "    'seek': 10,\n",
       "    'start': 10.0,\n",
       "    'end': 20.0,\n",
       "    'text': 'main text',\n",
       "    'tokens': [44, 101],\n",
       "    'temperature': 0.0,\n",
       "    'avg_logprob': 0.0,\n",
       "    'compression_ratio': 0.0,\n",
       "    'no_speech_prob': 0.0,\n",
       "    'confidence': 0.0,\n",
       "    'words': [{'text': 'main', 'start': 10.0, 'end': 11.0, 'confidence': 0.7},\n",
       "     {'text': 'text', 'start': 11.0, 'end': 12.0, 'confidence': 0.8}]}],\n",
       "  'language': 'English'}}"
      ]
     },
     "execution_count": 3,
     "metadata": {},
     "output_type": "execute_result"
    }
   ],
   "source": [
    "# ver la configuración de un módulo Krixik (en este ejemplo, del módulo transcribe)\n",
    "krixik.view_module_config(module_name=\"transcribe\")"
   ]
  },
  {
   "cell_type": "markdown",
   "metadata": {},
   "source": [
    "### Ve la Cadena de Modulos de un *Pipeline* con la Propiedad `module_chain`\n",
    "\n",
    "A veces querrás rápidamente ver el `module_chain` de un *pipeline* sin tener que examinar un archivo [config](../creacion_de_pipelines/configuracion_de_pipelines.md).\n",
    "\n",
    "Supón que creas un [*pipeline* multimodular](../../ejemplos/introduccion_ejemplos_de_pipelines.md) como el siguiente (puedes verlos en más detalle en ejemplos [como este](../../ejemplos/ejemplos_pipelines_de_busqueda/multi_busqueda_semantica_sobre_traduccion.md)):"
   ]
  },
  {
   "cell_type": "code",
   "execution_count": 4,
   "metadata": {},
   "outputs": [],
   "source": [
    "# crea un pipeline multimodular\n",
    "pipeline = krixik.create_pipeline(\n",
    "    name=\"sistema-transcripcion-semantica-documentos-multilingües\",\n",
    "    module_chain=[\"transcribe\", \"translate\", \"json-to-txt\", \"parser\", \"text-embedder\", \"vector-db\"],\n",
    ")"
   ]
  },
  {
   "cell_type": "markdown",
   "metadata": {},
   "source": [
    "Para ver la cadena de módulos de este (o cualquier otro) *pipeline*, usa la propiedad `module_chain`. Esto se puede hacer localmente sin antes haber [inicializado una sesión](../inicializacion/inicializacion_y_autenticacion.md) de la siguiente manera:"
   ]
  },
  {
   "cell_type": "code",
   "execution_count": 5,
   "metadata": {},
   "outputs": [
    {
     "data": {
      "text/plain": [
       "['transcribe',\n",
       " 'translate',\n",
       " 'json-to-txt',\n",
       " 'parser',\n",
       " 'text-embedder',\n",
       " 'vector-db']"
      ]
     },
     "execution_count": 5,
     "metadata": {},
     "output_type": "execute_result"
    }
   ],
   "source": [
    "# ver la cadena de módulos de tu pipeline con la propiedad module_chain\n",
    "pipeline.module_chain"
   ]
  },
  {
   "cell_type": "markdown",
   "metadata": {},
   "source": [
    "### Haz Pruebas Sobre Entradas a un *Pipeline* con el Metodo `test_input`\n",
    "\n",
    "Puedes probar si entradas a un *pipeline* fluirán corractamente a través de él con el método `test_input`.\n",
    "\n",
    "Ilustremos esto con archivos de entrada válidos e inválidos para el [*pipeline* que creamos previamente](#ve-la-cadena-de-modulos-de-un-pipeline-con-la-propiedad-module_chain).\n",
    "\n",
    "Ten en cuenta que este método de prueba **no** ejecuta nada con tu *pipeline*. Nada se envía al servidor; meramente se confirma que tu archivo de entrada es consumible por el primer módulo de tu *pipeline*. Flujo a través del resto del *pipeline* ya se confirmó al inicialmente [crear el *pipeline*](../creacion_de_pipelines/creacion_de_pipelines.md).\n",
    "\n",
    "Primero prueba con un archivo que sí es válido para este *pipeline*. Dado que el primer módulo es un módulo [`transcribe`](../../modulos/modulos_ia/modulo_transcribe_transcripcion.md), un archivo MP3 con palabras en inglés claramente habladas funcionará bien. Esto se puede hacer localmente sin antes haber [inicializado una sesión](../inicializacion/inicializacion_y_autenticacion.md) de la siguiente manera:"
   ]
  },
  {
   "cell_type": "code",
   "execution_count": 6,
   "metadata": {},
   "outputs": [
    {
     "name": "stdout",
     "output_type": "stream",
     "text": [
      "SUCCESS: local file '../../../data/input/Interesting Facts About Colombia.mp3' passed pipeline input test passed\n"
     ]
    }
   ],
   "source": [
    "# usa test_input sobre un archivo de entrada válido para este pipeline\n",
    "pipeline.test_input(local_file_path=data_dir + \"input/video_Colombia.mp3\")"
   ]
  },
  {
   "cell_type": "markdown",
   "metadata": {},
   "source": [
    "Ahora hagamos esta prueba con una entrada que no funcionará con este *pipeline*. El módulo [`transcribe`](../../modulos/modulos_ia/modulo_transcribe_transcripcion.md) con el que empieza el *pipeline* **no** recibirá un archivo TXT, por lo cual el resultado de esta prueba se ve así:"
   ]
  },
  {
   "cell_type": "code",
   "execution_count": 7,
   "metadata": {
    "tags": [
     "raises-exception"
    ]
   },
   "outputs": [
    {
     "ename": "Exception",
     "evalue": "file extension '.txt' does not match the expected input format audio",
     "output_type": "error",
     "traceback": [
      "\u001b[0;31m---------------------------------------------------------------------------\u001b[0m",
      "\u001b[0;31mTypeError\u001b[0m                                 Traceback (most recent call last)",
      "File \u001b[0;32m~/Desktop/krixik/code/krixik-docs/docs_venv/lib/python3.10/site-packages/krixik/utilities/validators/data/utilities/decorators.py:47\u001b[0m, in \u001b[0;36mdatatype_validator.<locals>.wrapper\u001b[0;34m(*args, **kwargs)\u001b[0m\n\u001b[1;32m     46\u001b[0m             \u001b[38;5;28;01mraise\u001b[39;00m \u001b[38;5;167;01mValueError\u001b[39;00m(\u001b[38;5;124mf\u001b[39m\u001b[38;5;124m\"\u001b[39m\u001b[38;5;124minvalid file extension: \u001b[39m\u001b[38;5;124m'\u001b[39m\u001b[38;5;132;01m{\u001b[39;00mextension\u001b[38;5;132;01m}\u001b[39;00m\u001b[38;5;124m'\u001b[39m\u001b[38;5;124m\"\u001b[39m)\n\u001b[0;32m---> 47\u001b[0m     \u001b[38;5;28;01mreturn\u001b[39;00m \u001b[43mfunc\u001b[49m\u001b[43m(\u001b[49m\u001b[38;5;241;43m*\u001b[39;49m\u001b[43margs\u001b[49m\u001b[43m,\u001b[49m\u001b[43m \u001b[49m\u001b[38;5;241;43m*\u001b[39;49m\u001b[38;5;241;43m*\u001b[39;49m\u001b[43mkwargs\u001b[49m\u001b[43m)\u001b[49m\n\u001b[1;32m     48\u001b[0m \u001b[38;5;28;01mexcept\u001b[39;00m \u001b[38;5;167;01mValueError\u001b[39;00m \u001b[38;5;28;01mas\u001b[39;00m e:\n",
      "File \u001b[0;32m~/Desktop/krixik/code/krixik-docs/docs_venv/lib/python3.10/site-packages/krixik/pipeline_builder/pipeline.py:130\u001b[0m, in \u001b[0;36mBuildPipeline.test_input\u001b[0;34m(self, local_file_path)\u001b[0m\n\u001b[1;32m    123\u001b[0m \u001b[38;5;250m\u001b[39m\u001b[38;5;124;03m\"\"\"test input file will flow through pipeline correctly via simulation (currently in beta)\u001b[39;00m\n\u001b[1;32m    124\u001b[0m \n\u001b[1;32m    125\u001b[0m \u001b[38;5;124;03mParameters\u001b[39;00m\n\u001b[0;32m   (...)\u001b[0m\n\u001b[1;32m    128\u001b[0m \u001b[38;5;124;03m    path to local file to test for pipeline threadthrough\u001b[39;00m\n\u001b[1;32m    129\u001b[0m \u001b[38;5;124;03m\"\"\"\u001b[39;00m\n\u001b[0;32m--> 130\u001b[0m \u001b[43minput_check\u001b[49m\u001b[43m(\u001b[49m\u001b[43mlocal_file_path\u001b[49m\u001b[43m,\u001b[49m\u001b[43m \u001b[49m\u001b[38;5;28;43mself\u001b[39;49m\u001b[38;5;241;43m.\u001b[39;49m\u001b[43m__module_chain\u001b[49m\u001b[43m)\u001b[49m\n\u001b[1;32m    131\u001b[0m \u001b[38;5;28mprint\u001b[39m(\u001b[38;5;124mf\u001b[39m\u001b[38;5;124m\"\u001b[39m\u001b[38;5;124mSUCCESS: local file \u001b[39m\u001b[38;5;124m'\u001b[39m\u001b[38;5;132;01m{\u001b[39;00mlocal_file_path\u001b[38;5;132;01m}\u001b[39;00m\u001b[38;5;124m'\u001b[39m\u001b[38;5;124m passed pipeline input test passed\u001b[39m\u001b[38;5;124m\"\u001b[39m)\n",
      "File \u001b[0;32m~/Desktop/krixik/code/krixik-docs/docs_venv/lib/python3.10/site-packages/krixik/pipeline_builder/utilities/input_checker.py:20\u001b[0m, in \u001b[0;36minput_check\u001b[0;34m(local_file_path, module_chain)\u001b[0m\n\u001b[1;32m     19\u001b[0m \u001b[38;5;28;01mif\u001b[39;00m file_ext_format \u001b[38;5;241m!=\u001b[39m first_module_input_format:\n\u001b[0;32m---> 20\u001b[0m     \u001b[38;5;28;01mraise\u001b[39;00m \u001b[38;5;167;01mTypeError\u001b[39;00m(\u001b[38;5;124mf\u001b[39m\u001b[38;5;124m\"\u001b[39m\u001b[38;5;124mfile extension \u001b[39m\u001b[38;5;124m'\u001b[39m\u001b[38;5;132;01m{\u001b[39;00mfile_ext\u001b[38;5;132;01m}\u001b[39;00m\u001b[38;5;124m'\u001b[39m\u001b[38;5;124m does not match the expected input format \u001b[39m\u001b[38;5;132;01m{\u001b[39;00mfirst_module_input_format\u001b[38;5;132;01m}\u001b[39;00m\u001b[38;5;124m\"\u001b[39m)\n\u001b[1;32m     21\u001b[0m is_valid(first_module\u001b[38;5;241m.\u001b[39mname, local_file_path)\n",
      "\u001b[0;31mTypeError\u001b[0m: file extension '.txt' does not match the expected input format audio",
      "\nDuring handling of the above exception, another exception occurred:\n",
      "\u001b[0;31mException\u001b[0m                                 Traceback (most recent call last)",
      "Cell \u001b[0;32mIn[7], line 2\u001b[0m\n\u001b[1;32m      1\u001b[0m \u001b[38;5;66;03m# use test_input on a file that won't work for this pipeline\u001b[39;00m\n\u001b[0;32m----> 2\u001b[0m \u001b[43mpipeline\u001b[49m\u001b[38;5;241;43m.\u001b[39;49m\u001b[43mtest_input\u001b[49m\u001b[43m(\u001b[49m\u001b[43mlocal_file_path\u001b[49m\u001b[38;5;241;43m=\u001b[39;49m\u001b[43mdata_dir\u001b[49m\u001b[43m \u001b[49m\u001b[38;5;241;43m+\u001b[39;49m\u001b[43m \u001b[49m\u001b[38;5;124;43m\"\u001b[39;49m\u001b[38;5;124;43minput/1984_very_short.txt\u001b[39;49m\u001b[38;5;124;43m\"\u001b[39;49m\u001b[43m)\u001b[49m\n",
      "File \u001b[0;32m~/Desktop/krixik/code/krixik-docs/docs_venv/lib/python3.10/site-packages/krixik/utilities/validators/data/utilities/decorators.py:51\u001b[0m, in \u001b[0;36mdatatype_validator.<locals>.wrapper\u001b[0;34m(*args, **kwargs)\u001b[0m\n\u001b[1;32m     49\u001b[0m     \u001b[38;5;28;01mraise\u001b[39;00m \u001b[38;5;167;01mValueError\u001b[39;00m(e)\n\u001b[1;32m     50\u001b[0m \u001b[38;5;28;01mexcept\u001b[39;00m \u001b[38;5;167;01mException\u001b[39;00m \u001b[38;5;28;01mas\u001b[39;00m e:\n\u001b[0;32m---> 51\u001b[0m     \u001b[38;5;28;01mraise\u001b[39;00m \u001b[38;5;167;01mException\u001b[39;00m(e)\n",
      "\u001b[0;31mException\u001b[0m: file extension '.txt' does not match the expected input format audio"
     ]
    }
   ],
   "source": [
    "# usa test_input sobre un archivo de entrada que no funcionará con este pipeline\n",
    "pipeline.test_input(local_file_path=data_dir + \"input/1984_muy_corto.txt\")"
   ]
  },
  {
   "cell_type": "markdown",
   "metadata": {},
   "source": [
    "### Ve Ejemplos de Entradas y Salidas de un Modulo\n",
    "\n",
    "Examina la clase de data aplicable a tu módulo inicial para asegurarte que tus entradas satisfacen todo requerimiento estructural.\n",
    "\n",
    "Puedes rápidamente hacerte una idea la estructura de entrada/salida de un módulo detallando un ejemplo como aquel reproducido tras el siguiente código. Funciona para cualquier [módulo actualmente disponible](../../modulos/introduccion_modulos.md), en este caso demostrado con el módulo [`parser`](../../modulos/modulos_de_funciones_de_apoyo/modulo_parser_fragmentacion.md). Esto se puede hacer localmente sin antes haber [inicializado una sesión](../inicializacion/inicializacion_y_autenticacion.md) de la siguiente manera:"
   ]
  },
  {
   "cell_type": "code",
   "execution_count": 8,
   "metadata": {},
   "outputs": [
    {
     "name": "stdout",
     "output_type": "stream",
     "text": [
      "input data example\n",
      "-----\n",
      "sample text looks like this.\n",
      "\n",
      "\n",
      "output data example\n",
      "-----\n",
      "{\n",
      "  \"snippet\": \"This is the main text.\",\n",
      "  \"line_numbers\": [\n",
      "    1,\n",
      "    2,\n",
      "    3,\n",
      "    4\n",
      "  ],\n",
      "  \"other\": null\n",
      "}\n"
     ]
    }
   ],
   "source": [
    "# examina la estructura de data de entradas y salidas para el módulo parser reproduciendo ejemplos de entrada y salida para el mismo\n",
    "from krixik.modules.parser import io\n",
    "import json\n",
    "\n",
    "print(\"ejemplo de data - entrada\")\n",
    "print(\"-----\")\n",
    "print(io.InputStructure().data_example)\n",
    "print(\"\\n\")\n",
    "print(\"ejemplo de data - salida\")\n",
    "print(\"-----\")\n",
    "print(json.dumps(io.OutputStructure().data_example, indent=2))"
   ]
  },
  {
   "cell_type": "markdown",
   "metadata": {},
   "source": [
    "`\"other\"` acá indica toda otra clave en tu archivo de entrada. Su valor no importa porque, en lo que concierne a cualquier módulo que conectes al módulo [`parser`](../../modulos/modulos_de_funciones_de_apoyo/modulo_parser_fragmentacion.md), es irrelevante: en el *pipeline*, lo único que pasa al siguiente módulo son los fragmentos de texto."
   ]
  },
  {
   "cell_type": "markdown",
   "metadata": {},
   "source": [
    "### Ve Data de Conectividad de un Modulo con el Metodo `click_data`\n",
    "\n",
    "El método `click_data` muestra toda los datos básicos que necesitas para saber qué modulos se pueden conectar, o hacer \"click\", con qué otros módulos. Esta es la data que se consulta \"tras bambalinas\" de Krixik cuando creas un *pipeline* con el método [`create_pipeline`](../creacion_de_pipelines/creacion_de_pipelines.md). Detalla cada componente de su salida:\n",
    "\n",
    "Primero aparece el formato de datos de entrada y salida del módulo. Un módulo como [`transcribe`](../../modulos/modulos_ia/modulo_transcribe_transcripcion.md) toma entradas audio y devuelve salidas JSON, mientras que el módulo [`text-embedder`](../../modulos/modulos_ia/modulo_text-embedder_encaje_lexico.md) toma entradas JSON y devuelve salidas NPY.\n",
    "\n",
    "Revisar que el formato de *salida* de un módulo cuadra con el formato de *entrada* de otro módulo es el *primer* paso (de dos) para determinar si dos módulos se pueden conectar secuencialmente. Si el formato de salida del \"Módulo A\" cuadra con el formato de entrada del \"Módulo B\", lo más probable es que puedas conectar \"Módulo A\" → \"Módulo B\" en un *pipeline*. Sin embargo, aún no es cosa cierta. \n",
    "\n",
    "El *segundo* paso para determinar \"conectabilidad\" de módulos es cerciorarse de que los `process_types` de entrada/salida cuadren. Por ejemplo, el módulo puede recibir formato JSON de entrada, pero solamente *procesar* ciertos pares clave-valor dentro de los JSON. Si hay un descuadre en los pares clave-valor de entrada vs los de salida, es posible que el *pipeline* no funcione.\n",
    "\n",
    "Revisar la alineación de `process_type` por ende confirma (o refuta) si dos módulos se pueden conectar.\n",
    "\n",
    "Detalla ahora el `click_data` de dos módulos para determinar qué dice sobre su \"conectabilidad\". Esto se puede hacer localmente sin antes haber [inicializado una sesión](../inicializacion/inicializacion_y_autenticacion.md) de la siguiente manera:"
   ]
  },
  {
   "cell_type": "code",
   "execution_count": 9,
   "metadata": {},
   "outputs": [
    {
     "data": {
      "text/plain": [
       "{'module_name': 'text-embedder',\n",
       " 'input_format': 'json',\n",
       " 'output_format': 'npy',\n",
       " 'input_process_key': 'snippet',\n",
       " 'input_process_type': \"<class 'str'>\",\n",
       " 'output_process_key': 'data',\n",
       " 'output_process_type': \"<class 'numpy.ndarray'>\"}"
      ]
     },
     "execution_count": 9,
     "metadata": {},
     "output_type": "execute_result"
    }
   ],
   "source": [
    "# examina la \"conectabilidad\" de un módulo con el método click_data\n",
    "krixik.view_module_click_data(module_name=\"text-embedder\")"
   ]
  },
  {
   "cell_type": "code",
   "execution_count": 10,
   "metadata": {},
   "outputs": [
    {
     "data": {
      "text/plain": [
       "{'module_name': 'vector-db',\n",
       " 'input_format': 'npy',\n",
       " 'output_format': 'faiss',\n",
       " 'input_process_key': 'data',\n",
       " 'input_process_type': \"<class 'numpy.ndarray'>\",\n",
       " 'output_process_key': None,\n",
       " 'output_process_type': None}"
      ]
     },
     "execution_count": 10,
     "metadata": {},
     "output_type": "execute_result"
    }
   ],
   "source": [
    "# examina la \"conectabilidad\" de otro módulo con el método click_data\n",
    "krixik.view_module_click_data(module_name=\"vector-db\")"
   ]
  },
  {
   "cell_type": "markdown",
   "metadata": {},
   "source": [
    "Esta data nos indica que podemos conectar los módulos así:\n",
    "\n",
    "`text-embedder` -> `vector-db`\n",
    "\n",
    "Sin embargo, *no* los podemos conectar así:\n",
    "\n",
    " `vector-db` -> `text-embedder`\n",
    "\n",
    "La primera secuencia de módulos, (`text-embedder` → `vector-db`), funciona porque en el `click_data` de ambos módulos se ve que:\n",
    "\n",
    "- output_format (formato de salida) de `text-embedder` (`npy`) == input_format (formato de entrada) `vector-db` (`npy`) y \n",
    "- output_process_type de `text-embedder` (`<class 'numpy.ndarray'>`) == input_process_type de `vector-db` (`<class 'numpy.ndarray'>`)\n",
    "\n",
    "La segunda conexión, (`vector-db` → `text-embedder`), no funciona. Se ve que:\n",
    "\n",
    "- output_format (formato de salida) `vector-db` (`faiss`) != input_format (formato de entrada) `text-embedder` (`json`)"
   ]
  },
  {
   "cell_type": "code",
   "execution_count": 11,
   "metadata": {
    "tags": [
     "remove_cell"
    ]
   },
   "outputs": [],
   "source": [
    "# elimina todos los datos procesados pertenecientes a este pipeline\n",
    "reset_pipeline(pipeline)"
   ]
  }
 ],
 "metadata": {
  "kernelspec": {
   "display_name": "venv",
   "language": "python",
   "name": "python3"
  },
  "language_info": {
   "codemirror_mode": {
    "name": "ipython",
    "version": 3
   },
   "file_extension": ".py",
   "mimetype": "text/x-python",
   "name": "python",
   "nbconvert_exporter": "python",
   "pygments_lexer": "ipython3",
   "version": "3.10.13"
  }
 },
 "nbformat": 4,
 "nbformat_minor": 2
}
