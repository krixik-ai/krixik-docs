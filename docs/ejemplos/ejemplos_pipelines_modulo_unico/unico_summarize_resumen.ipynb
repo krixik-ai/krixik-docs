{
 "cells": [
  {
   "cell_type": "markdown",
   "metadata": {},
   "source": [
    "<a href=\"https://colab.research.google.com/github/krixik-ai/krixik-docs/blob/main/docs/examples/single_module_pipelines/single_summarize.ipynb\" target=\"_parent\"><img src=\"https://colab.research.google.com/assets/colab-badge.svg\" alt=\"Open In Colab\"/></a>"
   ]
  },
  {
   "cell_type": "code",
   "execution_count": 1,
   "metadata": {
    "tags": [
     "remove_cell",
     "remove_output"
    ]
   },
   "outputs": [
    {
     "name": "stdout",
     "output_type": "stream",
     "text": [
      "SUCCESS: You are now authenticated.\n"
     ]
    }
   ],
   "source": [
    "import os\n",
    "import sys\n",
    "import json\n",
    "import importlib\n",
    "from pathlib import Path\n",
    "\n",
    "# preparación de demo - incuye instanciación de secretos, instalación de requerimientos, y definición de rutas\n",
    "if os.getenv(\"COLAB_RELEASE_TAG\"):\n",
    "    # si estás usando este notebook en Google Colab, ingresa tus secretos acá\n",
    "    MY_API_KEY = \"TU_API_KEY_VA_AQUI\"\n",
    "    MY_API_URL = \"TU_API_URL_VA_AQUI\"\n",
    "\n",
    "    # si estás usando este notebook en Google Colab, instala requerimientos y descarga los subdirectorios requeridos\n",
    "    # instala el cliente Python de Krixik\n",
    "    !pip install krixik\n",
    "\n",
    "    # instala github-clone, que permite clonación fácil de los subdirectorios del repositorio de documentación XXX\n",
    "    !pip install github-clone\n",
    "\n",
    "    # clona los conjuntos de datos\n",
    "    if not Path(\"data\").is_dir():\n",
    "        !ghclone XXXX #(in english it's https://github.com/krixik-ai/krixik-docs/tree/main/data)\n",
    "    else:\n",
    "        print(\"ya se clonaron los conjuntos de datos de documentación!\")\n",
    "\n",
    "    # define la variable 'data_dir' para tus rutas\n",
    "    data_dir = \"./data/\"\n",
    "\n",
    "    # crea directorio de salidas\n",
    "    from pathlib import Path\n",
    "\n",
    "    Path(data_dir + \"/salidas\").mkdir(parents=True, exist_ok=True)\n",
    "\n",
    "    # descarga utilidades\n",
    "    if not Path(\"utilities\").is_dir():\n",
    "        !ghclone XXXX # (in english it's https://github.com/krixik-ai/krixik-docs/tree/main/utilities)\n",
    "    else:\n",
    "        print(\"ya has clonado las utilidades de documentación!\")\n",
    "else:\n",
    "    # si estás usando una descarga local de la documentación, define las rutas relativas a la estructura local de la documentación\n",
    "    # importa utilidades\n",
    "    sys.path.append(\"../../../\")\n",
    "\n",
    "    # define la variable 'data_dir' para tus rutas\n",
    "    data_dir = \"../../../data/\"\n",
    "\n",
    "    # si estás usando este notebook localmente desde el repositorio de documentación Krixik, carga tus secretos de un archivo .env ubicado en la base del repositorio de documentación\n",
    "    from dotenv import load_dotenv\n",
    "\n",
    "    load_dotenv(\"../../../.env\")\n",
    "\n",
    "    MY_API_KEY = os.getenv(\"MY_API_KEY\")\n",
    "    MY_API_URL = os.getenv(\"MY_API_URL\")\n",
    "\n",
    "\n",
    "# carga 'reset'\n",
    "reset = importlib.import_module(\"utilities.reset\")\n",
    "reset_pipeline = reset.reset_pipeline\n",
    "\n",
    "\n",
    "# importa Krixik e inicializa sesión con tus secretos personales\n",
    "from krixik import krixik\n",
    "\n",
    "krixik.init(api_key=MY_API_KEY, api_url=MY_API_URL)"
   ]
  },
  {
   "cell_type": "markdown",
   "metadata": {},
   "source": [
    "## *Pipeline* de Módulo Único: `summarize` (Resumen)\n",
    "\n",
    "Este documento presenta una guía de cómo ensamblar y consumir un *pipeline* de módulo único que solo incluye un módulo [`summarize` (resumen)](../../modulos/modulos_ia/modulo_summarize_resumen.md). Se divide en las siguientes secciones:\n",
    "\n",
    "- [Monta tu *Pipeline*](#monta-tu-pipeline)\n",
    "- [Formato de Entrada Requerido](#formato-de-entrada-requerido)\n",
    "- [Cómo Usar el Modelo Predeterminado](#como-usar-el-modelo-predeterminado)\n",
    "- [Cómo Usar un Modelo No-Predeterminado](#como-usar-un-modelo-no-predeterminado)\n",
    "- [Resumen Recursivo](#resumen-recursivo)"
   ]
  },
  {
   "cell_type": "markdown",
   "metadata": {},
   "source": [
    "### Monta tu *Pipeline*\n",
    "\n",
    "Primero crea un *pipeline* de módulo único con un módulo [`summarize` (resumen)](../../modulos/modulos_ia/modulo_summarize_resumen.md).\n",
    "\n",
    "Usa el método [`create_pipeline`](../../sistema/creacion_de_pipelines/creacion_de_pipelines.md) para esto, incluyendo solamente una referencia de módulo [`summarize`](../../modulos/modulos_ia/modulo_summarize_resumen.md) en el argumento `module_chain`."
   ]
  },
  {
   "cell_type": "code",
   "execution_count": 2,
   "metadata": {},
   "outputs": [],
   "source": [
    "# crea un pipeline con un solo módulo summarize\n",
    "pipeline = krixik.create_pipeline(name=\"unico_summarize_1\",\n",
    "                                  module_chain=[\"summarize\"])"
   ]
  },
  {
   "cell_type": "markdown",
   "metadata": {},
   "source": [
    "### Formato de Entrada Requerido\n",
    "\n",
    "El módulo [`summarize` (resumen)](../../modulos/modulos_ia/modulo_summarize_resumen.md) recibe como entradas documentos textuales con formato TXT, PDF, DOCX y PPTX, aunque estos últimos tres formatos son automáticamente convertidos a TXT al iniciar proceso.\n",
    "\n",
    "Antes de procesar un archivo de entrada—uno válido para este *pipeline*—examínalo con el siguiente código:"
   ]
  },
  {
   "cell_type": "code",
   "execution_count": 3,
   "metadata": {},
   "outputs": [
    {
     "name": "stdout",
     "output_type": "stream",
     "text": [
      "It was a bright cold day in April, and the clocks were striking thirteen.\n",
      "Winston Smith, his chin nuzzled into his breast in an effort to escape the\n",
      "vile wind, slipped quickly through the glass doors of Victory Mansions,\n",
      "though not quickly enough to prevent a swirl of gritty dust from entering\n",
      "along with him.\n",
      "\n",
      "The hallway smelt of boiled cabbage and old rag mats. At one end of it a\n",
      "coloured poster, too large for indoor display, had been tacked to the wall.\n",
      "It depicted simply an enormous face, more than a metre wide: the face of a\n",
      "man of about forty-five, with a heavy black moustache and ruggedly handsome\n",
      "features. Winston made for the stairs. It was no use trying the lift. Even\n",
      "at the best of times it was seldom working, and at present the electric\n",
      "current was cut off during daylight hours. It was part of the economy drive\n",
      "in preparation for Hate Week. The flat was seven flights up, and Winston,\n",
      "who was thirty-nine and had a varicose ulcer above his right ankle, went\n",
      "slowly, resting several times on the way. On each landing, opposite the\n",
      "lift-shaft, the poster with the enormous face gazed from the wall. It was\n",
      "one of those pictures which are so contrived that the eyes follow you about\n",
      "when you move. BIG BROTHER IS WATCHING YOU, the caption beneath it ran.\n",
      "\n",
      "Inside the flat a fruity voice was reading out a list of figures which had\n",
      "something to do with the production of pig-iron. The voice came from an\n",
      "oblong metal plaque like a dulled mirror which formed part of the surface\n",
      "of the right-hand wall. Winston turned a switch and the voice sank\n",
      "somewhat, though the words were still distinguishable. The instrument\n",
      "(the telescreen, it was called) could be dimmed, but there was no way of\n",
      "shutting it off completely. He moved over to the window: a smallish, frail\n",
      "figure, the meagreness of his body merely emphasized by the blue overalls\n",
      "which were the uniform of the party. His hair was very fair, his face\n",
      "naturally sanguine, his skin roughened by coarse soap and blunt razor\n",
      "blades and the cold of the winter that had just ended.\n",
      "\n",
      "Outside, even through the shut window-pane, the world looked cold. Down in\n",
      "the street little eddies of wind were whirling dust and torn paper into\n",
      "spirals, and though the sun was shining and the sky a harsh blue, there\n",
      "seemed to be no colour in anything, except the posters that were plastered\n",
      "everywhere. The black-moustachio'd face gazed down from every commanding\n",
      "corner. There was one on the house-front immediately opposite. BIG BROTHER\n",
      "IS WATCHING YOU, the caption said, while the dark eyes looked deep into\n",
      "Winston's own. Down at street level another poster, torn at one corner,\n",
      "flapped fitfully in the wind, alternately covering and uncovering the\n",
      "single word INGSOC. In the far distance a helicopter skimmed down between\n",
      "the roofs, hovered for an instant like a bluebottle, and darted away again\n",
      "with a curving flight. It was the police patrol, snooping into people's\n",
      "windows. The patrols did not matter, however. Only the Thought Police\n",
      "mattered.\n",
      "\n",
      "Behind Winston's back the voice from the telescreen was still babbling away\n",
      "about pig-iron and the overfulfilment of the Ninth Three-Year Plan. The\n",
      "telescreen received and transmitted simultaneously. Any sound that Winston\n",
      "made, above the level of a very low whisper, would be picked up by it,\n",
      "moreover, so long as he remained within the field of vision which the metal\n",
      "plaque commanded, he could be seen as well as heard. There was of course\n",
      "no way of knowing whether you were being watched at any given moment. How\n",
      "often, or on what system, the Thought Police plugged in on any individual\n",
      "wire was guesswork. It was even conceivable that they watched everybody all\n",
      "the time. But at any rate they could plug in your wire whenever they wanted\n",
      "to. You had to live--did live, from habit that became instinct--in the\n",
      "assumption that every sound you made was overheard, and, except in\n",
      "darkness, every movement scrutinized.\n",
      "\n",
      "Winston kept his back turned to the telescreen. It was safer; though, as he\n",
      "well knew, even a back can be revealing. A kilometre away the Ministry of\n",
      "Truth, his place of work, towered vast and white above the grimy landscape.\n",
      "This, he thought with a sort of vague distaste--this was London, chief\n",
      "city of Airstrip One, itself the third most populous of the provinces of\n",
      "Oceania. He tried to squeeze out some childhood memory that should tell him\n",
      "whether London had always been quite like this. Were there always these\n",
      "vistas of rotting nineteenth-century houses, their sides shored up with\n",
      "baulks of timber, their windows patched with cardboard and their roofs\n",
      "with corrugated iron, their crazy garden walls sagging in all directions?\n",
      "And the bombed sites where the plaster dust swirled in the air and the\n",
      "willow-herb straggled over the heaps of rubble; and the places where the\n",
      "bombs had cleared a larger patch and there had sprung up sordid colonies\n",
      "of wooden dwellings like chicken-houses? But it was no use, he could not\n",
      "remember: nothing remained of his childhood except a series of bright-lit\n",
      "tableaux occurring against no background and mostly unintelligible.\n",
      "\n",
      "The Ministry of Truth--Minitrue, in Newspeak [Newspeak was the official\n",
      "language of Oceania. For an account of its structure and etymology see\n",
      "Appendix.]--was startlingly different from any other object in sight. It\n",
      "was an enormous pyramidal structure of glittering white concrete, soaring\n",
      "up, terrace after terrace, 300 metres into the air. From where Winston\n",
      "stood it was just possible to read, picked out on its white face in\n",
      "elegant lettering, the three slogans of the Party:\n",
      "\n",
      "\n",
      "  WAR IS PEACE\n",
      "  FREEDOM IS SLAVERY\n",
      "  IGNORANCE IS STRENGTH\n"
     ]
    }
   ],
   "source": [
    "# examina el contenido de un archivo de entrada válido\n",
    "with open(data_dir + \"input/1984_corto.txt\", \"r\") as file:\n",
    "    print(file.read())"
   ]
  },
  {
   "cell_type": "markdown",
   "metadata": {},
   "source": [
    "### Como Usar el Modelo Predeterminado\n",
    "\n",
    "Ahora procesa el archivo usando el modelo [predeterminado](../../modulos/modulos_ia/modulo_summarize_resumen.md#modelos-disponibles-en-el-modulo-summarize) del módulo [`summarize` (resumen)](../../modulos/modulos_ia/modulo_summarize_resumen.md): [`bart-large-cnn`](https://huggingface.co/facebook/bart-large-cnn).\n",
    "\n",
    "Dado que este es el modelo predeterminado, no hace falta que especifiques qué modelo quieres usar a través del argumento opcional [`modules`](../../sistema/parametros_y_procesar_archivos_a_traves_de_pipelines/metodo_process_procesar.md#seleccion-de-modelo-por-medio-del-argumento-modules) del método [`process`](../../sistema/parametros_y_procesar_archivos_a_traves_de_pipelines/metodo_process_procesar.md)."
   ]
  },
  {
   "cell_type": "code",
   "execution_count": 4,
   "metadata": {},
   "outputs": [],
   "source": [
    "# procesa el archivo con el modelo predeterminado\n",
    "process_output = pipeline.process(\n",
    "    local_file_path=data_dir + \"input/1984_corto.txt\",  # la ruta de archivo inicial en la que yace el archivo de entrada\n",
    "    local_save_directory=data_dir + \"output\",  # el directorio local en el que se guardará el archivo de salida\n",
    "    expire_time=60 * 30,  # data de este proceso se eliminará del sistema Krixik en 30 minutos\n",
    "    wait_for_process=True,  # espera que el proceso termine antes de devolver control del IDE al usuario\n",
    "    verbose=False, # no mostrar actualizaciones de proceso al ejecutar el código\n",
    ")"
   ]
  },
  {
   "cell_type": "markdown",
   "metadata": {},
   "source": [
    "La salida del proceso se reproduce con el siguiente código. Para aprender más sobre cada componente de esta salida, revisa la documentación del método [`process`](../../sistema/parametros_y_procesar_archivos_a_traves_de_pipelines/metodo_process_procesar.md).\n",
    "\n",
    "El archivo de salida se ha guardado en la ubicación indicada bajo `process_output_files`. El `file_id` del archivo procesado es el prefijo del nombre del archivo de salida en esta ubicación."
   ]
  },
  {
   "cell_type": "code",
   "execution_count": 5,
   "metadata": {},
   "outputs": [
    {
     "name": "stdout",
     "output_type": "stream",
     "text": [
      "{\n",
      "  \"status_code\": 200,\n",
      "  \"pipeline\": \"single_summarize_1\",\n",
      "  \"request_id\": \"21af82dc-c558-4d7d-b819-b97b91308994\",\n",
      "  \"file_id\": \"718948f7-685a-4e8e-b610-254b454897ce\",\n",
      "  \"message\": \"SUCCESS - output fetched for file_id 718948f7-685a-4e8e-b610-254b454897ce.Output saved to location(s) listed in process_output_files.\",\n",
      "  \"warnings\": [],\n",
      "  \"process_output\": null,\n",
      "  \"process_output_files\": [\n",
      "    \"../../../data/output/718948f7-685a-4e8e-b610-254b454897ce.txt\"\n",
      "  ]\n",
      "}\n"
     ]
    }
   ],
   "source": [
    "# nítidamente reproduce la salida de este proceso\n",
    "print(json.dumps(process_output, indent=2))"
   ]
  },
  {
   "cell_type": "markdown",
   "metadata": {},
   "source": [
    "Para confirmar que todo salió como esperabas, carga el archivo de texto de `process_output_files`:"
   ]
  },
  {
   "cell_type": "code",
   "execution_count": 6,
   "metadata": {},
   "outputs": [
    {
     "name": "stdout",
     "output_type": "stream",
     "text": [
      "Winston Smith walked through the glass doors of Victory Mansions. The hallway\n",
      "smelt of boiled cabbage and old rag mats. At one end of\n",
      "it it acoloured poster, too large for indoor display, had been tacked\n",
      "to the wall. It depicted simply an enormous face, more than a\n",
      "metre wide. Winston made for the stairs.\n",
      "\n",
      "Inside the flat a fruity voice was reading out a list of\n",
      "figures which had something to do with pig-iron. Winston turned a switch\n",
      "and the voice sank somewhat, though the words were still distinguishable. He\n",
      "moved over to the window: a smallish, frail figure, the meagreness of\n",
      "his body merely emphasized by the blue overalls which were the uniform\n",
      "of the party.\n",
      "\n",
      "Winston kept his back turned to the telescreen. It was safer; though,\n",
      "as he well knew, even a back can be revealing. A kilometre\n",
      "away the Ministry of Truth, his place of work, towered vast and\n",
      "white above the grimy landscape. Winston tried to squeeze out some childhood\n",
      "memory that should tell him whether London had always been quite like\n",
      "this.\n",
      "\n",
      "The Ministry of Truth--Minitrue, in Newspeak [Newspeak was the officiallanguage of Oceania]--was\n",
      "startlingly different from any other object in sight. It was an enormous\n",
      "pyramidal structure of glittering white concrete, soaring 300 metres into the air.\n"
     ]
    }
   ],
   "source": [
    "# carga la salida del proceso del archivo\n",
    "with open(process_output[\"process_output_files\"][0], \"r\") as file:\n",
    "    print(file.read())"
   ]
  },
  {
   "cell_type": "markdown",
   "metadata": {},
   "source": [
    "### Como Usar un Modelo No-Predeterminado\n",
    "\n",
    "Para usar un modelo [no-predeterminado](../../modulos/modulos_ia/modulo_summarize_resumen.md#modelos-disponibles-en-el-modulo-summarize) como [`text-summarization`](https://huggingface.co/Falconsai/text_summarization), debes especificarlo a través del argumento [`modules`](../../sistema/parametros_y_procesar_archivos_a_traves_de_pipelines/metodo_process_procesar.md#seleccion-de-modelo-por-medio-del-argumento-modules) al usar el método [`process`](../../sistema/parametros_y_procesar_archivos_a_traves_de_pipelines/metodo_process_procesar.md):"
   ]
  },
  {
   "cell_type": "code",
   "execution_count": 7,
   "metadata": {},
   "outputs": [],
   "source": [
    "# procesa el archivo con un modelo no-predeterminado\n",
    "process_output = pipeline.process(\n",
    "    local_file_path=data_dir + \"input/1984_corto.txt\",  # la ruta de archivo inicial en la que yace el archivo de entrada\n",
    "    local_save_directory=data_dir + \"output\",  # el directorio local en el que se guardará el archivo de salida\n",
    "    expire_time=60 * 30,  # data de este proceso se eliminará del sistema Krixik en 30 minutos\n",
    "    wait_for_process=True,  # espera que el proceso termine antes de devolver control del IDE al usuario\n",
    "    verbose=False, # no mostrar actualizaciones de proceso al ejecutar el código\n",
    "    modules={\"summarize\": {\"model\": \"text-summarization\"}} # especifica un modelo no-predeterminado para este proceso\n",
    ")"
   ]
  },
  {
   "cell_type": "markdown",
   "metadata": {},
   "source": [
    "Puedes ver el nuevo resumen si cargas el archivo de salida con el siguiente código.\n",
    "\n",
    "Los descuadres en puntuación son un artefacto del modelo, como indica la [tarjeta del modelo](https://huggingface.co/Falconsai/text_summarization) en [HuggingFace](https://huggingface.co/)."
   ]
  },
  {
   "cell_type": "code",
   "execution_count": 8,
   "metadata": {},
   "outputs": [
    {
     "name": "stdout",
     "output_type": "stream",
     "text": [
      "Winston Smith, his chin nuzzled into his breast in an effort to\n",
      "escape the vile wind, slipped quickly through the glass doors of Victory\n",
      "Mansions . At one end of it a coloured poster, too large\n",
      "for indoor display, had been tacked to the wall . It was\n",
      "part of the economy drive in preparation for Hate Week . The\n",
      "flat was seven flights up, and Winston went slowly, resting several times\n",
      "on the way .\n",
      "\n",
      "Winston turned a switch and the voice sank somewhat, though the words\n",
      "were still distinguishable . The instrument (the telescreen, it was called) could\n",
      "be dimmed, but there was no way of shutting it off completely\n",
      ". He moved over to the window: a smallish, frail figure, the\n",
      "meagreness of his body merely emphasized by the blue overalls which were\n",
      "the uniform of the party . Outside, even through the shut window-pane,\n",
      "the world looked cold .\n",
      "\n",
      "There was no way of knowing whether you were being watched at\n",
      "any given moment . How often, or on what system, the Thought\n",
      "Police plugged in on any individual wire was guesswork . You had\n",
      "to live, from habit that became instinct--in the assumption that every sound\n",
      "you made was overheard, and, except in darkness, every movement scrutinized .\n",
      "\n",
      "The Ministry of Truth--Minitrue, in Newspeak, was the official language of Oceania\n",
      ". It was an enormous pyramidal structure of glittering white concrete, soaring\n",
      "up, terrace after terrace, 300 metres into the air . From where\n",
      "Winston stood it was just possible to read, picked out on its\n",
      "white face in elegant lettering .\n"
     ]
    }
   ],
   "source": [
    "# carga la salida del proceso del archivo\n",
    "with open(process_output_nd[\"process_output_files\"][0], \"r\") as file:\n",
    "    print(file.read())"
   ]
  },
  {
   "cell_type": "markdown",
   "metadata": {},
   "source": [
    "### Resumen Recursivo\n",
    "\n",
    "Si el resultado de resumir una vez no es lo suficientemente conciso, hay un elegante truco que puedes usar.\n",
    "\n",
    "Una de las formas más prácticas para lograr resúmenes más cortos (tal vez más abstractos, pero igual representativos) es resumir recursivamente. En otras palabras, le alimentas el resumen antes creado al módulo `summarize` una vez más, así produciendo un resumen más breve. En esta sección aprenderás a hacer este proceso manualmente.\n",
    "\n",
    "Para ingresar el <u>primer</u> resumen arriba generado en el módulo [`summarize`](../../modulos/modulos_ia/modulo_summarize_resumen.md) debes repetir lo que hiciste anteriormente, pero con una diferencia: el archivo que alimentas como entrada es la salida resumida de ese primer proceso de resumen, y no el archivo original."
   ]
  },
  {
   "cell_type": "code",
   "execution_count": 9,
   "metadata": {},
   "outputs": [],
   "source": [
    "# asigna el resumen generado a una variable para encontrarlo facilmente\n",
    "first_summary = process_output[\"process_output_files\"][0]\n",
    "\n",
    "# procesa este resumen a través del pipeline\n",
    "process_output = pipeline.process(\n",
    "    local_file_path=first_summary,  # alimenta al pipeline el resumen antes generado\n",
    "    local_save_directory=data_dir + \"output\",\n",
    "    expire_time=60 * 30,\n",
    "    wait_for_process=True,\n",
    "    verbose=False,\n",
    ")"
   ]
  },
  {
   "cell_type": "markdown",
   "metadata": {},
   "source": [
    "Una vez termina este proceso recibes un resumen aún más breve como archivo de salida.\n",
    "\n",
    "Con el siguiente código puedes examinar este nuevo resumen:"
   ]
  },
  {
   "cell_type": "code",
   "execution_count": 10,
   "metadata": {},
   "outputs": [
    {
     "name": "stdout",
     "output_type": "stream",
     "text": [
      "Winston Smith walked through the glass doors of Victory Mansions. The hallway\n",
      "smelled of boiled cabbage and old rag mats. At one end of\n",
      "the hallway an acoloured poster, too large for indoor display, had been\n",
      "tacked to the wall. It depicted simply an enormous face, more than\n",
      "a metre wide.\n",
      "\n",
      "Winston kept his back turned to the telescreen. It was safer; though,\n",
      "he well knew, even a back can be revealing. A kilometre away\n",
      "the Ministry of Truth, his place of work, towered vast and white.\n"
     ]
    }
   ],
   "source": [
    "# carga la salida del proceso del archivo\n",
    "with open(process_output[\"process_output_files\"][0], \"r\") as file:\n",
    "    print(file.read())"
   ]
  },
  {
   "cell_type": "markdown",
   "metadata": {},
   "source": [
    "Este es un resumen más conciso, y por ende un poco más abstracto, del texto original.\n",
    "\n",
    "Ahora haz este proceso recursivo una vez más, buscando un resumen aún más breve del texto original.\n",
    "\n",
    "El uso del método [`process`](../../sistema/parametros_y_procesar_archivos_a_traves_de_pipelines/metodo_process_procesar.md) es casi igual. La única diferencia es que `local_file_path`, que le dice a Krixik qué archivo usar como entrada, indica la salida del segundo resumen que generaste."
   ]
  },
  {
   "cell_type": "code",
   "execution_count": 11,
   "metadata": {},
   "outputs": [],
   "source": [
    "# asigna el segundo resumen generado a una variable para encontrarlo facilmente\n",
    "second_summary = process_output[\"process_output_files\"][0]\n",
    "\n",
    "# procesa este resumen a través del pipeline una vez más\n",
    "process_output = pipeline.process(\n",
    "    local_file_path=second_summary,  # alimenta al pipeline el segundo resumen antes generado\n",
    "    local_save_directory=data_dir + \"output\",\n",
    "    expire_time=60 * 30,\n",
    "    wait_for_process=True,\n",
    "    verbose=False,\n",
    ")"
   ]
  },
  {
   "cell_type": "markdown",
   "metadata": {},
   "source": [
    "Ahora puedes ver el nuevo y muy corto resumen:"
   ]
  },
  {
   "cell_type": "code",
   "execution_count": 12,
   "metadata": {},
   "outputs": [
    {
     "name": "stdout",
     "output_type": "stream",
     "text": [
      "Winston Smith walked through the glass doors of Victory Mansions. The hallway\n",
      "smelled of boiled cabbage and old rag mats. A kilometre away, his\n",
      "place of work, the Ministry of Truth, towered vast and white.\n"
     ]
    }
   ],
   "source": [
    "# load in the recursed summary from file\n",
    "with open(process_output[\"process_output_files\"][0], \"r\") as file:\n",
    "    print(file.read())"
   ]
  },
  {
   "cell_type": "markdown",
   "metadata": {},
   "source": [
    "Puedes ver que este es un resumen muy reducido del texto original—reducido pero aún representativo.\n",
    "\n",
    "Puedes obtener el mismo resultado (de resumir recursivamente tres veces) con un pipeline que contiene tres módulos [`summarize`](../../modulos/modulos_ia/modulo_summarize_resumen.md) consecutivos. Haz [clic aquí](../../ejemplos/ejemplos_pipelines_multi_modulo_sin_busqueda/multi_resumen_recursivo.md) para detallar un ejemplo de un *pipeline* de resumen recursivo en el que hacemos justamente esto."
   ]
  },
  {
   "cell_type": "code",
   "execution_count": 13,
   "metadata": {
    "tags": [
     "remove_cell"
    ]
   },
   "outputs": [],
   "source": [
    "# elimina todos los datos procesados pertenecientes a este pipeline\n",
    "reset_pipeline(pipeline)"
   ]
  }
 ],
 "metadata": {
  "kernelspec": {
   "display_name": "venv",
   "language": "python",
   "name": "python3"
  },
  "language_info": {
   "codemirror_mode": {
    "name": "ipython",
    "version": 3
   },
   "file_extension": ".py",
   "mimetype": "text/x-python",
   "name": "python",
   "nbconvert_exporter": "python",
   "pygments_lexer": "ipython3",
   "version": "3.10.13"
  }
 },
 "nbformat": 4,
 "nbformat_minor": 2
}
