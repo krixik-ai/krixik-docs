{
 "cells": [
  {
   "cell_type": "markdown",
   "metadata": {},
   "source": [
    "<a href=\"https://colab.research.google.com/github/krixik-ai/krixik-docs/blob/main/docs/examples/multi_module_non_search_pipeline_examples/multi_sentiment_analysis_on_translation.ipynb\" target=\"_parent\"><img src=\"https://colab.research.google.com/assets/colab-badge.svg\" alt=\"Open In Colab\"/></a>"
   ]
  },
  {
   "cell_type": "code",
   "execution_count": 1,
   "metadata": {
    "tags": [
     "remove_cell",
     "remove_output"
    ]
   },
   "outputs": [
    {
     "name": "stdout",
     "output_type": "stream",
     "text": [
      "SUCCESS: You are now authenticated.\n"
     ]
    }
   ],
   "source": [
    "import os\n",
    "import sys\n",
    "import json\n",
    "import importlib\n",
    "from pathlib import Path\n",
    "\n",
    "# preparación de demo - incuye instanciación de secretos, instalación de requerimientos, y definición de rutas\n",
    "if os.getenv(\"COLAB_RELEASE_TAG\"):\n",
    "    # si estás usando este notebook en Google Colab, ingresa tus secretos acá\n",
    "    MY_API_KEY = \"TU_API_KEY_VA_AQUI\"\n",
    "    MY_API_URL = \"TU_API_URL_VA_AQUI\"\n",
    "\n",
    "    # si estás usando este notebook en Google Colab, instala requerimientos y descarga los subdirectorios requeridos\n",
    "    # instala el cliente Python de Krixik\n",
    "    !pip install krixik\n",
    "\n",
    "    # instala github-clone, que permite clonación fácil de los subdirectorios del repositorio de documentación XXX\n",
    "    !pip install github-clone\n",
    "\n",
    "    # clona los conjuntos de datos\n",
    "    if not Path(\"data\").is_dir():\n",
    "        !ghclone XXXX #(in english it's https://github.com/krixik-ai/krixik-docs/tree/main/data)\n",
    "    else:\n",
    "        print(\"ya se clonaron los conjuntos de datos de documentación!\")\n",
    "\n",
    "    # define la variable 'data_dir' para tus rutas\n",
    "    data_dir = \"./data/\"\n",
    "\n",
    "    # crea directorio de salidas\n",
    "    from pathlib import Path\n",
    "\n",
    "    Path(data_dir + \"/salidas\").mkdir(parents=True, exist_ok=True)\n",
    "\n",
    "    # descarga utilidades\n",
    "    if not Path(\"utilities\").is_dir():\n",
    "        !ghclone XXXX # (in english it's https://github.com/krixik-ai/krixik-docs/tree/main/utilities)\n",
    "    else:\n",
    "        print(\"ya has clonado las utilidades de documentación!\")\n",
    "else:\n",
    "    # si estás usando una descarga local de la documentación, define las rutas relativas a la estructura local de la documentación\n",
    "    # importa utilidades\n",
    "    sys.path.append(\"../../../\")\n",
    "\n",
    "    # define la variable 'data_dir' para tus rutas\n",
    "    data_dir = \"../../../data/\"\n",
    "\n",
    "    # si estás usando este notebook localmente desde el repositorio de documentación Krixik, carga tus secretos de un archivo .env ubicado en la base del repositorio de documentación\n",
    "    from dotenv import load_dotenv\n",
    "\n",
    "    load_dotenv(\"../../../.env\")\n",
    "\n",
    "    MY_API_KEY = os.getenv(\"MY_API_KEY\")\n",
    "    MY_API_URL = os.getenv(\"MY_API_URL\")\n",
    "\n",
    "\n",
    "# carga 'reset'\n",
    "reset = importlib.import_module(\"utilities.reset\")\n",
    "reset_pipeline = reset.reset_pipeline\n",
    "\n",
    "\n",
    "# importa Krixik e inicializa sesión con tus secretos personales\n",
    "from krixik import krixik\n",
    "\n",
    "krixik.init(api_key=MY_API_KEY, api_url=MY_API_URL)"
   ]
  },
  {
   "cell_type": "markdown",
   "metadata": {},
   "source": [
    "## *Pipeline* Multimodular: Análisis de Sentimiento sobre Traducción\n",
    "\n",
    "Este documento detalla un *pipeline* multimodular que recibe un archivo de texto, lo [`traduce`](../../modulos/modulos_ia/modulo_translate_traduccion.md) (por lo pronto a inglés), y hace [análisis de sentimiento](../../modulos/modulos_ia/modulo_sentiment_analisis_de_sentimiento.md) sobre cada frase traducida.\n",
    "\n",
    "El documento está dividido en las siguientes secciones:\n",
    "\n",
    "- [Monta tu *Pipeline*](#monta-tu-pipeline)\n",
    "- [Procesa un Archivo de Entrada](#procesa-un-archivo-de-entrada)"
   ]
  },
  {
   "cell_type": "markdown",
   "metadata": {},
   "source": [
    "### Monta tu *Pipeline*\n",
    "\n",
    "Para lograr lo arriba descrito, monta un pipeline que consiste de los siguientes módulos en secuencia:\n",
    "\n",
    "- Un módulo [`parser` (fragmentación de texto)](../../modulos/modulos_de_funciones_de_apoyo/modulo_parser_fragmentacion.md).\n",
    "\n",
    "- Un módulo [`translate` (traducción)](../../modulos/modulos_ia/modulo_translate_traduccion.md).\n",
    "\n",
    "- Un módulo [`sentiment` (análisis de sentimiento)](../../modulos/modulos_ia/modulo_sentiment_analisis_de_sentimiento.md).\n",
    "\n",
    "Para crear el pipeline usarás el método [`create_pipeline`](../../sistema/creacion_de_pipelines/creacion_de_pipelines.md) de la siguiente manera:"
   ]
  },
  {
   "cell_type": "code",
   "execution_count": 2,
   "metadata": {},
   "outputs": [],
   "source": [
    "# creación del pipeline descrito\n",
    "pipeline = krixik.create_pipeline(name=\"multi_analisis_de_sentimiento_sobre_traduccion\",\n",
    "                                  module_chain=[\"parser\", \"translate\", \"sentiment\"])"
   ]
  },
  {
   "cell_type": "markdown",
   "metadata": {},
   "source": [
    "### Procesa un Archivo de Entrada\n",
    "\n",
    "Dado que vas a [`traducir`](../../modulos/modulos_ia/modulo_translate_traduccion.md) y luego hacer [`análisis de sentimiento`](../../modulos/modulos_ia/modulo_sentiment_analisis_de_sentimiento.md)—y dado que los modelos de este segundo módulo están por lo pronto para inglés—usa un archivo inicial en español. Para traducirlo de español al inglés puedes usar el modelo (no-predeterminado) [`opus-mt-es-en`](https://huggingface.co/Helsinki-NLP/opus-mt-es-en) del módulo [`translate` (traducción)](../../modulos/modulos_ia/modulo_translate_traduccion.md).\n",
    "\n",
    "Como usarás los modelos predeterminados para todo otro módulo en el *pipeline*, no tendrás que especificarlos en el argumento [`modules`](../../sistema/parametros_y_procesar_archivos_a_traves_de_pipelines/metodo_process_procesar.md#seleccion-de-modelo-por-medio-del-argumento-modules) del método [`process`](../../sistema/parametros_y_procesar_archivos_a_traves_de_pipelines/metodo_process_procesar.md)."
   ]
  },
  {
   "cell_type": "code",
   "execution_count": 3,
   "metadata": {},
   "outputs": [],
   "source": [
    "# procesa el archivo a través del pipeline según lo arriba descrito\n",
    "process_output = pipeline.process(\n",
    "    local_file_path=data_dir + \"input/resena_espanol.txt\",  # la ruta de archivo inicial en la que yace el archivo de entrada\n",
    "    local_save_directory=data_dir + \"output\",  # el directorio local en el que se guardará el archivo de salida\n",
    "    expire_time=60 * 30,  # data de este proceso se eliminará del sistema Krixik en 30 minutos\n",
    "    wait_for_process=True,  # espera que el proceso termine antes de devolver control del IDE al usuario\n",
    "    verbose=False, # no mostrar actualizaciones de proceso al ejecutar el código\n",
    "    modules={\"module_2\": {\"model\": \"opus-mt-es-en\"}} # especifica un modelo no-predeterminado para usar en el segundo módulo\n",
    ")"
   ]
  },
  {
   "cell_type": "markdown",
   "metadata": {},
   "source": [
    "La salida del proceso se reproduce con el siguiente código. Para aprender más sobre cada componente de esta salida, revisa la documentación del método [`process`](../../sistema/parametros_y_procesar_archivos_a_traves_de_pipelines/metodo_process_procesar.md).\n",
    "\n",
    "Dado que la salida de este modelo/módulo es un archivo JSON, la salida también se incluye en el objeto (esto solo ese el caso para salidas JSON). Además, el archivo de salida se ha guardado en la ubicación indicada bajo `process_output_files`. El `file_id` del archivo procesado es el prefijo del nombre del archivo de salida en esta ubicación."
   ]
  },
  {
   "cell_type": "code",
   "execution_count": 4,
   "metadata": {},
   "outputs": [
    {
     "name": "stdout",
     "output_type": "stream",
     "text": [
      "{\n",
      "  \"status_code\": 200,\n",
      "  \"pipeline\": \"multi_sentiment_analysis_on_translation\",\n",
      "  \"request_id\": \"0719e2d3-24cc-4a12-9f84-d90d1a9e964e\",\n",
      "  \"file_id\": \"ed5b8fa4-3f4b-4e10-b61d-05536db5e929\",\n",
      "  \"message\": \"SUCCESS - output fetched for file_id ed5b8fa4-3f4b-4e10-b61d-05536db5e929.Output saved to location(s) listed in process_output_files.\",\n",
      "  \"warnings\": [],\n",
      "  \"process_output\": [\n",
      "    {\n",
      "      \"snippet\": \"For the jobs I'm doing I turned out very good.\",\n",
      "      \"positive\": 1.0,\n",
      "      \"negative\": 0.0,\n",
      "      \"neutral\": 0.0\n",
      "    },\n",
      "    {\n",
      "      \"snippet\": \"In one hour load the battery and last more than 3 hours of continuous work.\",\n",
      "      \"positive\": 0.008,\n",
      "      \"negative\": 0.992,\n",
      "      \"neutral\": 0.0\n",
      "    },\n",
      "    {\n",
      "      \"snippet\": \"A golasse to have a second batter.\",\n",
      "      \"positive\": 0.023,\n",
      "      \"negative\": 0.977,\n",
      "      \"neutral\": 0.0\n",
      "    },\n",
      "    {\n",
      "      \"snippet\": \"Cmodo and with good torque.\",\n",
      "      \"positive\": 1.0,\n",
      "      \"negative\": 0.0,\n",
      "      \"neutral\": 0.0\n",
      "    },\n",
      "    {\n",
      "      \"snippet\": \"I agree.\",\n",
      "      \"positive\": 1.0,\n",
      "      \"negative\": 0.0,\n",
      "      \"neutral\": 0.0\n",
      "    }\n",
      "  ],\n",
      "  \"process_output_files\": [\n",
      "    \"../../../data/output/ed5b8fa4-3f4b-4e10-b61d-05536db5e929.json\"\n",
      "  ]\n",
      "}\n"
     ]
    }
   ],
   "source": [
    "# nítidamente reproduce la salida de este proceso\n",
    "print(json.dumps(process_output, indent=2))"
   ]
  },
  {
   "cell_type": "markdown",
   "metadata": {},
   "source": [
    "Para confirmar que todo salió como esperabas, carga el archivo de `process_output_files`:"
   ]
  },
  {
   "cell_type": "code",
   "execution_count": 5,
   "metadata": {},
   "outputs": [
    {
     "name": "stdout",
     "output_type": "stream",
     "text": [
      "[\n",
      "  {\n",
      "    \"snippet\": \"For the jobs I'm doing I turned out very good.\",\n",
      "    \"positive\": 1.0,\n",
      "    \"negative\": 0.0,\n",
      "    \"neutral\": 0.0\n",
      "  },\n",
      "  {\n",
      "    \"snippet\": \"In one hour load the battery and last more than 3 hours of continuous work.\",\n",
      "    \"positive\": 0.008,\n",
      "    \"negative\": 0.992,\n",
      "    \"neutral\": 0.0\n",
      "  },\n",
      "  {\n",
      "    \"snippet\": \"A golasse to have a second batter.\",\n",
      "    \"positive\": 0.023,\n",
      "    \"negative\": 0.977,\n",
      "    \"neutral\": 0.0\n",
      "  },\n",
      "  {\n",
      "    \"snippet\": \"Cmodo and with good torque.\",\n",
      "    \"positive\": 1.0,\n",
      "    \"negative\": 0.0,\n",
      "    \"neutral\": 0.0\n",
      "  },\n",
      "  {\n",
      "    \"snippet\": \"I agree.\",\n",
      "    \"positive\": 1.0,\n",
      "    \"negative\": 0.0,\n",
      "    \"neutral\": 0.0\n",
      "  }\n",
      "]\n"
     ]
    }
   ],
   "source": [
    "# carga la salida del proceso del archivo\n",
    "with open(process_output[\"process_output_files\"][0]) as f:\n",
    "    print(json.dumps(json.load(f), indent=2))"
   ]
  },
  {
   "cell_type": "markdown",
   "metadata": {},
   "source": [
    "Notarás que, en el primer fragmento devuelto, la palabra \"sillón\" carece de su segunda vocal y es reproducida como \"silln\". Este es un problema de modelo: el modelo seleccionado del módulo [`translate` (traducción)](../../modulos/modulos_ia/modulo_translate_traduccion.md) puede tener dificultades con caracteres acentuados y/o puede simplemente eliminarlos. Es importante que te familiarices con las peculiaridades de los modelos IA que piensas usar con frecuencia."
   ]
  },
  {
   "cell_type": "code",
   "execution_count": 6,
   "metadata": {
    "tags": [
     "remove_cell"
    ]
   },
   "outputs": [],
   "source": [
    "# elimina todos los datos procesados pertenecientes a este pipeline\n",
    "reset_pipeline(pipeline)"
   ]
  }
 ],
 "metadata": {
  "kernelspec": {
   "display_name": "venv",
   "language": "python",
   "name": "python3"
  },
  "language_info": {
   "codemirror_mode": {
    "name": "ipython",
    "version": 3
   },
   "file_extension": ".py",
   "mimetype": "text/x-python",
   "name": "python",
   "nbconvert_exporter": "python",
   "pygments_lexer": "ipython3",
   "version": "3.10.13"
  }
 },
 "nbformat": 4,
 "nbformat_minor": 2
}
