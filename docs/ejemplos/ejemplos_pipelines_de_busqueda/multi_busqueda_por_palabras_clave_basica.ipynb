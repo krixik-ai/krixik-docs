{
 "cells": [
  {
   "cell_type": "markdown",
   "metadata": {},
   "source": [
    "## *Pipeline* Multimodular: Búsqueda por Palabras Clave\n",
    "\n",
    "Este documento solo existe para ofrecerte la siguiente indicación: basta con un *pipeline* de módulo único para lograr [`búsqueda por palabras clave`](../../sistema/metodos_de_busqueda/metodo_keyword_search_busqueda_por_palabras_clave.md). No hace falta un *pipeline* multimodular.\n",
    "\n",
    "Por favor estudia la documentación del *pipeline* de búsqueda por palabras clave [acá](../ejemplos_pipelines_modulo_unico/unico_keyword-db_base_de_datos_de_palabras_clave.md)."
   ]
  }
 ],
 "metadata": {
  "kernelspec": {
   "display_name": "venv",
   "language": "python",
   "name": "python3"
  },
  "language_info": {
   "codemirror_mode": {
    "name": "ipython",
    "version": 3
   },
   "file_extension": ".py",
   "mimetype": "text/x-python",
   "name": "python",
   "nbconvert_exporter": "python",
   "pygments_lexer": "ipython3",
   "version": "3.10.13"
  }
 },
 "nbformat": 4,
 "nbformat_minor": 2
}
