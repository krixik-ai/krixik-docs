{
 "cells": [
  {
   "cell_type": "markdown",
   "metadata": {},
   "source": [
    "<a href=\"https://colab.research.google.com/github/krixik-ai/krixik-docs/blob/main/docs/examples/search_pipeline_examples/multi_semantically_searchable_translation.ipynb\" target=\"_parent\"><img src=\"https://colab.research.google.com/assets/colab-badge.svg\" alt=\"Open In Colab\"/></a>"
   ]
  },
  {
   "cell_type": "code",
   "execution_count": 1,
   "metadata": {
    "tags": [
     "remove_cell",
     "remove_output"
    ]
   },
   "outputs": [
    {
     "name": "stdout",
     "output_type": "stream",
     "text": [
      "SUCCESS: You are now authenticated.\n"
     ]
    }
   ],
   "source": [
    "import os\n",
    "import sys\n",
    "import json\n",
    "import importlib\n",
    "from pathlib import Path\n",
    "\n",
    "# preparación de demo - incuye instanciación de secretos, instalación de requerimientos, y definición de rutas\n",
    "if os.getenv(\"COLAB_RELEASE_TAG\"):\n",
    "    # si estás usando este notebook en Google Colab, ingresa tus secretos acá\n",
    "    MY_API_KEY = \"TU_API_KEY_VA_AQUI\"\n",
    "    MY_API_URL = \"TU_API_URL_VA_AQUI\"\n",
    "\n",
    "    # si estás usando este notebook en Google Colab, instala requerimientos y descarga los subdirectorios requeridos\n",
    "    # instala el cliente Python de Krixik\n",
    "    !pip install krixik\n",
    "\n",
    "    # instala github-clone, que permite clonación fácil de los subdirectorios del repositorio de documentación XXX\n",
    "    !pip install github-clone\n",
    "\n",
    "    # clona los conjuntos de datos\n",
    "    if not Path(\"data\").is_dir():\n",
    "        !ghclone XXXX #(in english it's https://github.com/krixik-ai/krixik-docs/tree/main/data)\n",
    "    else:\n",
    "        print(\"ya se clonaron los conjuntos de datos de documentación!\")\n",
    "\n",
    "    # define la variable 'data_dir' para tus rutas\n",
    "    data_dir = \"./data/\"\n",
    "\n",
    "    # crea directorio de salidas\n",
    "    from pathlib import Path\n",
    "\n",
    "    Path(data_dir + \"/salidas\").mkdir(parents=True, exist_ok=True)\n",
    "\n",
    "    # descarga utilidades\n",
    "    if not Path(\"utilities\").is_dir():\n",
    "        !ghclone XXXX # (in english it's https://github.com/krixik-ai/krixik-docs/tree/main/utilities)\n",
    "    else:\n",
    "        print(\"ya has clonado las utilidades de documentación!\")\n",
    "else:\n",
    "    # si estás usando una descarga local de la documentación, define las rutas relativas a la estructura local de la documentación\n",
    "    # importa utilidades\n",
    "    sys.path.append(\"../../../\")\n",
    "\n",
    "    # define la variable 'data_dir' para tus rutas\n",
    "    data_dir = \"../../../data/\"\n",
    "\n",
    "    # si estás usando este notebook localmente desde el repositorio de documentación Krixik, carga tus secretos de un archivo .env ubicado en la base del repositorio de documentación\n",
    "    from dotenv import load_dotenv\n",
    "\n",
    "    load_dotenv(\"../../../.env\")\n",
    "\n",
    "    MY_API_KEY = os.getenv(\"MY_API_KEY\")\n",
    "    MY_API_URL = os.getenv(\"MY_API_URL\")\n",
    "\n",
    "\n",
    "# carga 'reset'\n",
    "reset = importlib.import_module(\"utilities.reset\")\n",
    "reset_pipeline = reset.reset_pipeline\n",
    "\n",
    "\n",
    "# importa Krixik e inicializa sesión con tus secretos personales\n",
    "from krixik import krixik\n",
    "\n",
    "krixik.init(api_key=MY_API_KEY, api_url=MY_API_URL)"
   ]
  },
  {
   "cell_type": "markdown",
   "metadata": {},
   "source": [
    "## *Pipeline* Multimodular: Búsqueda Semántica Sobre Traducción\n",
    "\n",
    "Este documento detalla un *pipeline* multimodular que recibe un archivo de texto como entrada, [traduce el texto](../../modulos/modulos_ia/modulo_translate_traduccion.md) a otro idioma, y habilita [búsqueda semántica](../../sistema/metodos_de_busqueda/metodo_semantic_search_busqueda_semantica.md) sobre la traducción.\n",
    "\n",
    "El documento se divide en las siguientes secciones:\n",
    "\n",
    "- [Monta tu *Pipeline*](#monta-tu-pipeline)\n",
    "- [Procesa un Archivo de Entrada](#procesa-un-archivo-de-entrada)\n",
    "- [Búsqueda Semántica](#busqueda-semantica)"
   ]
  },
  {
   "cell_type": "markdown",
   "metadata": {},
   "source": [
    "### Monta tu *Pipeline*\n",
    "\n",
    "Para lograr lo arriba descrito, monta un pipeline que consiste de los siguientes módulos en secuencia:\n",
    "\n",
    "- Un módulo [`parser` (fragmentación de texto)](../../modulos/modulos_de_funciones_de_apoyo/modulo_parser_fragmentacion.md).\n",
    "\n",
    "- Un módulo [`translate` (traducción)](../../modulos/modulos_ia/modulo_translate_traduccion.md)\n",
    "\n",
    "- Un módulo [`text-embedder` (encaje léxico)](../../modulos/modulos_ia/modulo_text-embedder_encaje_lexico.md).\n",
    "\n",
    "- Un módulo [`vector-db` (base de datos vectorial)](../../modulos/modulos_de_bases_de_datos/modulo_vector-db_base_de_datos_vectorial.md).\n",
    "\n",
    "Para esto usarás el método [`create_pipeline`](../../sistema/creacion_de_pipelines/creacion_de_pipelines.md) de la siguiente manera:"
   ]
  },
  {
   "cell_type": "code",
   "execution_count": 2,
   "metadata": {},
   "outputs": [],
   "source": [
    "# creación del pipeline descrito\n",
    "pipeline = krixik.create_pipeline(name=\"multi_busqueda_semantica_sobre_traduccion\",\n",
    "                                  module_chain=[\"parser\", \"translate\", \"text-embedder\", \"vector-db\"])"
   ]
  },
  {
   "cell_type": "markdown",
   "metadata": {},
   "source": [
    "### Procesa un Archivo de Entrada\n",
    "\n",
    "Examina el archivo de prueba antes de continuar:"
   ]
  },
  {
   "cell_type": "code",
   "execution_count": 3,
   "metadata": {},
   "outputs": [
    {
     "name": "stdout",
     "output_type": "stream",
     "text": [
      "PRÓLOGO\n",
      "\n",
      "Desocupado lector: sin juramento me podrás creer que quisiera que este\n",
      "libro, como hijo del entendimiento, fuera el más hermoso, el más gallardo y\n",
      "más discreto que pudiera imaginarse. Pero no he podido yo contravenir al\n",
      "orden de naturaleza; que en ella cada cosa engendra su semejante. Y así,\n",
      "¿qué podrá engendrar el estéril y mal cultivado ingenio mío, sino la\n",
      "historia de un hijo seco, avellanado, antojadizo y lleno de pensamientos\n",
      "varios y nunca imaginados de otro alguno, bien como quien se engendró en\n",
      "una cárcel, donde toda incomodidad tiene su asiento y donde todo triste\n",
      "ruido hace su habitación? El sosiego, el lugar apacible, la amenidad de los\n",
      "campos, la serenidad de los cielos, el murmurar de las fuentes, la quietud\n",
      "del espíritu son grande parte para que las musas más estériles se muestren\n",
      "fecundas y ofrezcan partos al mundo que le colmen de maravilla y de\n",
      "contento. Acontece tener un padre un hijo feo y sin gracia alguna, y el\n",
      "amor que le tiene le pone una venda en los ojos para que no vea sus faltas,\n",
      "antes las juzga por discreciones y lindezas y las cuenta a sus amigos por\n",
      "agudezas y donaires. Pero yo, que, aunque parezco padre, soy padrastro de\n",
      "Don Quijote, no quiero irme con la corriente del uso, ni suplicarte, casi\n",
      "con las lágrimas en los ojos, como otros hacen, lector carísimo, que\n",
      "perdones o disimules las faltas que en este mi hijo vieres; y ni eres su\n",
      "pariente ni su amigo, y tienes tu alma en tu cuerpo y tu libre albedrío\n",
      "como el más pintado, y estás en tu casa, donde eres señor della, como el\n",
      "rey de sus alcabalas, y sabes lo que comúnmente se dice: que debajo de mi\n",
      "manto, al rey mato. Todo lo cual te esenta y hace libre de todo respecto y\n",
      "obligación; y así, puedes decir de la historia todo aquello que te\n",
      "pareciere, sin temor que te calunien por el mal ni te premien por el bien\n",
      "que dijeres della.\n"
     ]
    }
   ],
   "source": [
    "# examina el archivo de entrada\n",
    "with open(data_dir + \"input/don_quijote_esp.txt\", \"r\") as file:\n",
    "    print(file.read())"
   ]
  },
  {
   "cell_type": "markdown",
   "metadata": {},
   "source": [
    "Dado que el texto de entrada está en español, usarás uno de los modelos no-predeterminados del módulo [`translate` (traducción)](../../modulos/modulos_ia/modulo_translate_traduccion.md) para traducirlo a inglés: [`opus-mt-es-en`](https://huggingface.co/Helsinki-NLP/opus-mt-es-en).\n",
    "\n",
    "<u>Sí</u> usarás los modelos predeterminados para el resto de los módulos de este *pipeline*, así que no hace falta especificarlos en el argumento [`modules`](../../sistema/parametros_y_procesar_archivos_a_traves_de_pipelines/metodo_process_procesar.md#seleccion-de-modelo-por-medio-del-argumento-modules) del método [`process`](../../sistema/parametros_y_procesar_archivos_a_traves_de_pipelines/metodo_process_procesar.md)."
   ]
  },
  {
   "cell_type": "code",
   "execution_count": 7,
   "metadata": {},
   "outputs": [],
   "source": [
    "# procesa el archivo a través del pipeline según lo arriba descrito\n",
    "process_output = pipeline.process(\n",
    "    local_file_path=data_dir + \"input/don_quijote_esp.txt\",  # la ruta de archivo inicial en la que yace el archivo de entrada\n",
    "    local_save_directory=data_dir + \"output\",  # el directorio local en el que se guardará el archivo de salida\n",
    "    expire_time=60 * 30,  # data de este proceso se eliminará del sistema Krixik en 30 minutos\n",
    "    wait_for_process=True,  # espera que el proceso termine antes de devolver control del IDE al usuario\n",
    "    verbose=False,  # no mostrar actualizaciones de proceso al ejecutar el código\n",
    "    modules={\"translate\": {\"model\": \"opus-mt-es-en\"}}, # especificar un modelo no-predeterminado para el módulo de traducción\n",
    ")"
   ]
  },
  {
   "cell_type": "markdown",
   "metadata": {},
   "source": [
    "Reproduce la salida de este proceso con el siguiente código. Para aprender más sobre cada componente de la salida, estudia la documentación del método [`process`](../../sistema/parametros_y_procesar_archivos_a_traves_de_pipelines/metodo_process_procesar.md).\n",
    "\n",
    "Dado que la salida de este modelo/módulo es un archivo de base de datos [FAISS](https://github.com/facebookresearch/faiss), `process_output` se muestra como \"null\". Sin embargo, el archivo de salida se ha guardado en la ubicación indicada bajo `process_output_files`. El `file_id` del archivo procesado es el prefijo del nombre del archivo de salida en esta ubicación."
   ]
  },
  {
   "cell_type": "code",
   "execution_count": 8,
   "metadata": {},
   "outputs": [
    {
     "name": "stdout",
     "output_type": "stream",
     "text": [
      "{\n",
      "  \"status_code\": 200,\n",
      "  \"pipeline\": \"multi_semantically_searchable_translation\",\n",
      "  \"request_id\": \"68b21796-7c9a-4834-8848-d4aeb95b8a57\",\n",
      "  \"file_id\": \"d51f32f5-09d1-4656-a0d5-5da9bdb0a69c\",\n",
      "  \"message\": \"SUCCESS - output fetched for file_id d51f32f5-09d1-4656-a0d5-5da9bdb0a69c.Output saved to location(s) listed in process_output_files.\",\n",
      "  \"warnings\": [],\n",
      "  \"process_output\": null,\n",
      "  \"process_output_files\": [\n",
      "    \"../../../data/output/d51f32f5-09d1-4656-a0d5-5da9bdb0a69c.faiss\"\n",
      "  ]\n",
      "}\n"
     ]
    }
   ],
   "source": [
    "# nítidamente reproduce la salida de este proceso\n",
    "print(json.dumps(process_output, indent=2))"
   ]
  },
  {
   "cell_type": "markdown",
   "metadata": {},
   "source": [
    "### Busqueda Semantica\n",
    "\n",
    "El método [`semantic_search`](../../sistema/metodos_de_busqueda/metodo_semantic_search_busqueda_semantica.md) de Krixik habilita búsqueda semántica sobre documentos procesados a través de ciertos *pipelines*. Dado que el método [`semantic_search`](../../sistema/metodos_de_busqueda/metodo_semantic_search_busqueda_semantica.md) hace [`embedding` (encaje léxico)](../../modulos/modulos_ia/modulo_text-embedder_encaje_lexico.md) con la consulta y luego lleva a cabo la búsqueda, solo se puede usar con *pipelines* que de manera consecutiva contienen los módulos [`text-embedder` (encaje léxico)](../../modulos/modulos_ia/modulo_text-embedder_encaje_lexico.md) y [`vector-db` (base de datos vectorial)](../../modulos/modulos_de_bases_de_datos/modulo_vector-db_base_de_datos_vectorial.md).\n",
    "\n",
    "Ya que tu *pipeline* satisface esta condición tiene acceso al método [`semantic_search`](../../sistema/metodos_de_busqueda/metodo_semantic_search_busqueda_semantica.md). Úsalo de la siguiente manera para consultar el texto con lengua natural:"
   ]
  },
  {
   "cell_type": "code",
   "execution_count": 9,
   "metadata": {},
   "outputs": [
    {
     "name": "stdout",
     "output_type": "stream",
     "text": [
      "{\n",
      "  \"status_code\": 200,\n",
      "  \"request_id\": \"0442dfa7-1069-407a-9e44-0357f48fdf32\",\n",
      "  \"message\": \"Successfully queried 1 user file.\",\n",
      "  \"warnings\": [],\n",
      "  \"items\": [\n",
      "    {\n",
      "      \"file_id\": \"d51f32f5-09d1-4656-a0d5-5da9bdb0a69c\",\n",
      "      \"file_metadata\": {\n",
      "        \"file_name\": \"krixik_generated_file_name_zvwkdkrayg.txt\",\n",
      "        \"symbolic_directory_path\": \"/etc\",\n",
      "        \"file_tags\": [],\n",
      "        \"num_vectors\": 7,\n",
      "        \"created_at\": \"2024-06-05 14:57:07\",\n",
      "        \"last_updated\": \"2024-06-05 14:57:07\"\n",
      "      },\n",
      "      \"search_results\": [\n",
      "        {\n",
      "          \"snippet\": \"And so, what can breed the strill and ill-cultivated wit mo, but the story of a dry son, haphazard, craving and full of various thoughts and never imagined of any other, well as who begets in a crcel, where all discomfort has its seat and where all sad noise makes its habitation?\",\n",
      "          \"line_numbers\": [\n",
      "            3\n",
      "          ],\n",
      "          \"distance\": 0.361\n",
      "        },\n",
      "        {\n",
      "          \"snippet\": \"The quietness, the peaceful place, the abundance of the fields, the serenity of the heavens, the murmuring of the fountains, the stillness of the spirit are a great part for the most strile muses to show themselves fruitful and to give birth to the world that fills it with wonder and contentment.\",\n",
      "          \"line_numbers\": [\n",
      "            4\n",
      "          ],\n",
      "          \"distance\": 0.404\n",
      "        },\n",
      "        {\n",
      "          \"snippet\": \"It happens to have a father an ugly son with no grace at all, and the love he has puts a blindfold in his eyes so that he does not see his faults, but judges them by discretions and lindezas and tells his friends for acuity and donaires.\",\n",
      "          \"line_numbers\": [\n",
      "            5\n",
      "          ],\n",
      "          \"distance\": 0.413\n",
      "        },\n",
      "        {\n",
      "          \"snippet\": \"But I, who, though I look like a father, am Don Quixote's stepfather, do not want to go away with the current of use, nor beg you, almost with the tears in your eyes, as others do, hearty reader, to forgive or to dispel the faults that you see in this my son; and you are neither his relative nor his friend, and you have your soul in your body and your free albedro as the most painted, and you are in your house, where you are seor della, as the king of his palaces, and you know what is commonly said: that under my robe, I kill the king.\",\n",
      "          \"line_numbers\": [\n",
      "            6\n",
      "          ],\n",
      "          \"distance\": 0.422\n",
      "        },\n",
      "        {\n",
      "          \"snippet\": \"But I have not been able to contradict the order of nature; for in it every thing begets its fellowman.\",\n",
      "          \"line_numbers\": [\n",
      "            2\n",
      "          ],\n",
      "          \"distance\": 0.426\n",
      "        }\n",
      "      ]\n",
      "    }\n",
      "  ]\n",
      "}\n"
     ]
    }
   ],
   "source": [
    "# haz búsqueda semántica sobre la traducción generada por el pipeline\n",
    "semantic_output = pipeline.semantic_search(query=\"Sterile ideas bring little to man\", file_ids=[process_output[\"file_id\"]])\n",
    "\n",
    "# nítidamente reproduce la salida de esta búsqueda\n",
    "print(json.dumps(semantic_output, indent=2))"
   ]
  },
  {
   "cell_type": "code",
   "execution_count": null,
   "metadata": {
    "tags": [
     "remove_cell"
    ]
   },
   "outputs": [],
   "source": [
    "# elimina todos los datos procesados pertenecientes a este pipeline\n",
    "reset_pipeline(pipeline)"
   ]
  }
 ],
 "metadata": {
  "kernelspec": {
   "display_name": "venv",
   "language": "python",
   "name": "python3"
  },
  "language_info": {
   "codemirror_mode": {
    "name": "ipython",
    "version": 3
   },
   "file_extension": ".py",
   "mimetype": "text/x-python",
   "name": "python",
   "nbconvert_exporter": "python",
   "pygments_lexer": "ipython3",
   "version": "3.12.0"
  }
 },
 "nbformat": 4,
 "nbformat_minor": 2
}
