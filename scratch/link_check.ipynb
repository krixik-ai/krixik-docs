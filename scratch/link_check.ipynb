{
 "cells": [
  {
   "cell_type": "code",
   "execution_count": 7,
   "metadata": {},
   "outputs": [],
   "source": [
    "# import utilities\n",
    "import sys \n",
    "sys.path.append('../')\n",
    "\n",
    "from utilities.link_check import check_file_links\n",
    "from utilities.toc_file_check import list_files_recursively\n",
    "from utilities.converter import collect_mkdocks_toc\n",
    "\n",
    "toc_files = collect_mkdocks_toc()"
   ]
  },
  {
   "cell_type": "code",
   "execution_count": 23,
   "metadata": {},
   "outputs": [
    {
     "name": "stdout",
     "output_type": "stream",
     "text": [
      "----------\n",
      "testing file --> sistema/creacion_de_pipelines/creacion_de_pipelines.md\n",
      "\n",
      "\n",
      "FAILURE: dead links:\n",
      "#un-pipeline-de-modulo-unico\n",
      "#un-pipeline-multimodular\n",
      "----------\n"
     ]
    }
   ],
   "source": [
    "ind=5\n",
    "test_file = toc_files[ind]\n",
    "\n",
    "print('----------')\n",
    "print(f\"testing file --> {test_file}\")\n",
    "\n",
    "dead_links = check_file_links(test_file, toc_files) \n",
    "if len(dead_links) == 0: \n",
    "    print(\"SUCCESS\")\n",
    "else: \n",
    "    print('\\n'); \n",
    "    print(\"FAILURE: dead links:\")\n",
    "    for link in dead_links:\n",
    "        print(link)\n",
    "print('----------')\n"
   ]
  }
 ],
 "metadata": {
  "kernelspec": {
   "display_name": "docs_venv",
   "language": "python",
   "name": "python3"
  },
  "language_info": {
   "codemirror_mode": {
    "name": "ipython",
    "version": 3
   },
   "file_extension": ".py",
   "mimetype": "text/x-python",
   "name": "python",
   "nbconvert_exporter": "python",
   "pygments_lexer": "ipython3",
   "version": "3.10.13"
  }
 },
 "nbformat": 4,
 "nbformat_minor": 2
}
